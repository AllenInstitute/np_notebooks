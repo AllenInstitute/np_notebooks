{
 "cells": [
  {
   "cell_type": "code",
   "execution_count": 11,
   "metadata": {},
   "outputs": [],
   "source": [
    "import IPython.display\n",
    "import pandas\n",
    "import np_session"
   ]
  },
  {
   "cell_type": "code",
   "execution_count": 6,
   "metadata": {},
   "outputs": [],
   "source": [
    "import datetime\n",
    "import pathlib  \n",
    "import shutil\n",
    "import time\n",
    "import pprint\n",
    "from typing import Generator, Optional\n",
    "import IPython.display\n",
    "\n",
    "import np_session\n",
    "from np_session import Session, sessions as get_sessions\n",
    "\n",
    "problem_sessions = ('_20220825', '_20220927')\n",
    "non_DOC_sessions = (\n",
    "    '1172963963_604914_20220425',\n",
    "    '1173189336_604914_20220426',\n",
    "    '1173455023_604914_20220427',\n",
    "    '1173741216_604914_20220428',\n",
    "    '1182427414_607660_20220606',\n",
    "    '1182628226_607660_20220607',\n",
    "    '1182871514_607660_20220608',\n",
    "    '1183071525_607660_20220609',\n",
    "    '1177900858_608671_20220517',\n",
    "    '1178173272_608671_20220518',\n",
    "    '1178460518_608671_20220519',\n",
    "    '1178693650_608671_20220520',\n",
    "    '1174553025_608672_20220502',\n",
    "    '1174790219_608672_20220503',\n",
    "    '1175067685_608672_20220504',\n",
    "    '1175253205_608672_20220505',\n",
    "    '1185043018_608980_20220616',\n",
    "    '1185035738_608980_20220616',\n",
    "    '1176382912_611160_20220510',\n",
    "    '1176580734_611160_20220511',\n",
    "    '1176791184_611160_20220512',\n",
    "    '1176989662_611160_20220513',\n",
    "    '1189336645_611166_20220705',\n",
    "    '1189820015_611166_20220706',\n",
    "    '1190094328_611166_20220707',\n",
    "    '1190290940_611166_20220708',\n",
    "    '1179670730_612090_20220524',\n",
    "    '1179911454_612090_20220525',\n",
    "    '1180107381_612090_20220526',\n",
    "    '1180266229_612090_20220527',\n",
    "    '1181096406_614547_20220531',\n",
    "    '1181324124_614547_20220601',\n",
    "    '1181535201_614547_20220602',\n",
    "    '1181731440_614547_20220603',\n",
    "    '1187475832_614608_20220627',\n",
    "    '1187668018_614608_20220628',\n",
    "    '1187940755_614608_20220629',\n",
    "    '1188138256_614608_20220630',\n",
    "    '1190892228_615047_20220711',\n",
    "    '1191131853_615047_20220712',\n",
    "    '1191375883_615047_20220713',\n",
    "    '1191631184_615047_20220714',\n",
    ")\n",
    "def sessions(skip_already_checked=True) -> Generator[Session, None, None]:\n",
    "    for session in get_sessions('DR'):\n",
    "        if any(_ in str(session) for _ in problem_sessions):\n",
    "            continue\n",
    "        \n",
    "        yield session\n",
    "\n",
    "def get_files_created_between(\n",
    "    path: str | pathlib.Path,\n",
    "    glob: str = \"*\",\n",
    "    start: float | datetime.datetime = 0,\n",
    "    end: Optional[float | datetime.datetime] = None,\n",
    ") -> list[pathlib.Path]:\n",
    "    path = pathlib.Path(path)\n",
    "    if not path.is_dir():\n",
    "        path = path.parent\n",
    "    if not end:\n",
    "        end = time.time()\n",
    "    start = start.timestamp() if isinstance(start, datetime.datetime) else start\n",
    "    end = end.timestamp() if isinstance(end, datetime.datetime) else end\n",
    "    ctime = lambda x: x.stat().st_ctime\n",
    "    files = (file for file in path.glob(glob) if int(start) <= ctime(file) <= end)\n",
    "    return sorted(files, key=ctime)\n",
    "\n",
    "DR_sessions: Generator[Session, None, None] = sessions()"
   ]
  },
  {
   "cell_type": "code",
   "execution_count": 7,
   "metadata": {},
   "outputs": [],
   "source": [
    "session = next(DR_sessions)\n",
    "session.get_missing_files()"
   ]
  },
  {
   "cell_type": "code",
   "execution_count": 8,
   "metadata": {},
   "outputs": [
    {
     "data": {
      "text/plain": [
       "('*_surface-image4*.png',\n",
       " '*.opto.pkl',\n",
       " '*.mapping.pkl',\n",
       " '*.behavior.pkl',\n",
       " '*.areaClassifications.csv',\n",
       " '*.fiducial.png',\n",
       " '*.overlay.png',\n",
       " '*.insertionLocation.png',\n",
       " '*.ISIregistration.npz',\n",
       " '*probelocator*insertions_in_vasculature_image_space.csv',\n",
       " '*probelocator*insertions_in_rig_image_space.csv')"
      ]
     },
     "execution_count": 8,
     "metadata": {},
     "output_type": "execute_result"
    }
   ],
   "source": [
    "session.get_missing_files()"
   ]
  },
  {
   "cell_type": "markdown",
   "metadata": {},
   "source": [
    "Cleanup files before transfer"
   ]
  },
  {
   "cell_type": "code",
   "execution_count": 9,
   "metadata": {},
   "outputs": [],
   "source": [
    "if session.project.parent.name == 'DR':\n",
    "    for _ in session.npexp_path.glob('*surface-image*'):\n",
    "        for replace in ('-right', '-left'):\n",
    "            if replace in _.name:\n",
    "                _.replace(_.parent / _.name.replace(replace, ''))\n",
    "for _ in session.npexp_path.glob('*platform*.bak'):\n",
    "    _.unlink()\n",
    "for _ in session.npexp_path.glob('*platform*D0*json'):\n",
    "    _.unlink()"
   ]
  },
  {
   "cell_type": "code",
   "execution_count": 12,
   "metadata": {},
   "outputs": [
    {
     "name": "stdout",
     "output_type": "stream",
     "text": [
      "\\\\allen\\programs\\mindscope\\workgroups\\np-exp\\1167400342_599657_20220329\n"
     ]
    },
    {
     "data": {
      "text/html": [
       "<div>\n",
       "<style scoped>\n",
       "    .dataframe tbody tr th:only-of-type {\n",
       "        vertical-align: middle;\n",
       "    }\n",
       "\n",
       "    .dataframe tbody tr th {\n",
       "        vertical-align: top;\n",
       "    }\n",
       "\n",
       "    .dataframe thead th {\n",
       "        text-align: right;\n",
       "    }\n",
       "</style>\n",
       "<table border=\"1\" class=\"dataframe\">\n",
       "  <thead>\n",
       "    <tr style=\"text-align: right;\">\n",
       "      <th></th>\n",
       "      <th>glob</th>\n",
       "      <th>exists</th>\n",
       "    </tr>\n",
       "  </thead>\n",
       "  <tbody>\n",
       "    <tr>\n",
       "      <th>ephys_raw_data_probe_A</th>\n",
       "      <td>*_probeABC</td>\n",
       "      <td>1167400342_599657_20220329_probeABC</td>\n",
       "    </tr>\n",
       "    <tr>\n",
       "      <th>ephys_raw_data_probe_B</th>\n",
       "      <td>*_probeABC</td>\n",
       "      <td>1167400342_599657_20220329_probeABC</td>\n",
       "    </tr>\n",
       "    <tr>\n",
       "      <th>ephys_raw_data_probe_C</th>\n",
       "      <td>*_probeABC</td>\n",
       "      <td>1167400342_599657_20220329_probeABC</td>\n",
       "    </tr>\n",
       "    <tr>\n",
       "      <th>ephys_raw_data_probe_D</th>\n",
       "      <td>*_probeDEF</td>\n",
       "      <td>1167400342_599657_20220329_probeDEF</td>\n",
       "    </tr>\n",
       "    <tr>\n",
       "      <th>ephys_raw_data_probe_E</th>\n",
       "      <td>*_probeDEF</td>\n",
       "      <td>1167400342_599657_20220329_probeDEF</td>\n",
       "    </tr>\n",
       "    <tr>\n",
       "      <th>ephys_raw_data_probe_F</th>\n",
       "      <td>*_probeDEF</td>\n",
       "      <td>1167400342_599657_20220329_probeDEF</td>\n",
       "    </tr>\n",
       "    <tr>\n",
       "      <th>synchronization_data</th>\n",
       "      <td>*.sync</td>\n",
       "      <td>1167400342_599657_20220329.sync</td>\n",
       "    </tr>\n",
       "    <tr>\n",
       "      <th>behavior_tracking</th>\n",
       "      <td>*.behavior.mp4</td>\n",
       "      <td>1167400342_599657_20220329.behavior.mp4</td>\n",
       "    </tr>\n",
       "    <tr>\n",
       "      <th>beh_cam_json</th>\n",
       "      <td>*.behavior.json</td>\n",
       "      <td>1167400342_599657_20220329.behavior.json</td>\n",
       "    </tr>\n",
       "    <tr>\n",
       "      <th>eye_tracking</th>\n",
       "      <td>*.eye.mp4</td>\n",
       "      <td>1167400342_599657_20220329.eye.mp4</td>\n",
       "    </tr>\n",
       "    <tr>\n",
       "      <th>eye_cam_json</th>\n",
       "      <td>*.eye.json</td>\n",
       "      <td>1167400342_599657_20220329.eye.json</td>\n",
       "    </tr>\n",
       "    <tr>\n",
       "      <th>face_cam_json</th>\n",
       "      <td>*.face.json</td>\n",
       "      <td>1167400342_599657_20220329.face.json</td>\n",
       "    </tr>\n",
       "    <tr>\n",
       "      <th>face_tracking</th>\n",
       "      <td>*.face.mp4</td>\n",
       "      <td>1167400342_599657_20220329.face.mp4</td>\n",
       "    </tr>\n",
       "    <tr>\n",
       "      <th>newstep_csv</th>\n",
       "      <td>*.motor-locs.csv</td>\n",
       "      <td>1167400342_599657_20220329.motor-locs.csv</td>\n",
       "    </tr>\n",
       "    <tr>\n",
       "      <th>pre_experiment_surface_image_left</th>\n",
       "      <td>*_surface-image1*.png</td>\n",
       "      <td>1167400342_599657_20220329_surface-image1-left...</td>\n",
       "    </tr>\n",
       "    <tr>\n",
       "      <th>brain_surface_image_left</th>\n",
       "      <td>*_surface-image2*.png</td>\n",
       "      <td>1167400342_599657_20220329_surface-image2-left...</td>\n",
       "    </tr>\n",
       "    <tr>\n",
       "      <th>pre_insertion_surface_image_left</th>\n",
       "      <td>*_surface-image3*.png</td>\n",
       "      <td>1167400342_599657_20220329_surface-image3-left...</td>\n",
       "    </tr>\n",
       "    <tr>\n",
       "      <th>post_insertion_surface_image_left</th>\n",
       "      <td>*_surface-image4*.png</td>\n",
       "      <td>None</td>\n",
       "    </tr>\n",
       "    <tr>\n",
       "      <th>post_stimulus_surface_image_left</th>\n",
       "      <td>*_surface-image5*.png</td>\n",
       "      <td>1167400342_599657_20220329_surface-image5-left...</td>\n",
       "    </tr>\n",
       "    <tr>\n",
       "      <th>post_experiment_surface_image_left</th>\n",
       "      <td>*_surface-image6*.png</td>\n",
       "      <td>1167400342_599657_20220329_surface-image6-left...</td>\n",
       "    </tr>\n",
       "    <tr>\n",
       "      <th>pre_experiment_surface_image_right</th>\n",
       "      <td>*_surface-image1*.png</td>\n",
       "      <td>1167400342_599657_20220329_surface-image1-left...</td>\n",
       "    </tr>\n",
       "    <tr>\n",
       "      <th>brain_surface_image_right</th>\n",
       "      <td>*_surface-image2*.png</td>\n",
       "      <td>1167400342_599657_20220329_surface-image2-left...</td>\n",
       "    </tr>\n",
       "    <tr>\n",
       "      <th>pre_insertion_surface_image_right</th>\n",
       "      <td>*_surface-image3*.png</td>\n",
       "      <td>1167400342_599657_20220329_surface-image3-left...</td>\n",
       "    </tr>\n",
       "    <tr>\n",
       "      <th>post_insertion_surface_image_right</th>\n",
       "      <td>*_surface-image4*.png</td>\n",
       "      <td>None</td>\n",
       "    </tr>\n",
       "    <tr>\n",
       "      <th>post_stimulus_surface_image_right</th>\n",
       "      <td>*_surface-image5*.png</td>\n",
       "      <td>1167400342_599657_20220329_surface-image5-left...</td>\n",
       "    </tr>\n",
       "    <tr>\n",
       "      <th>post_experiment_surface_image_right</th>\n",
       "      <td>*_surface-image6*.png</td>\n",
       "      <td>1167400342_599657_20220329_surface-image6-left...</td>\n",
       "    </tr>\n",
       "    <tr>\n",
       "      <th>optogenetic_stimulus</th>\n",
       "      <td>*.opto.pkl</td>\n",
       "      <td>None</td>\n",
       "    </tr>\n",
       "    <tr>\n",
       "      <th>visual_stimulus</th>\n",
       "      <td>*.mapping.pkl</td>\n",
       "      <td>None</td>\n",
       "    </tr>\n",
       "    <tr>\n",
       "      <th>behavior_stimulus</th>\n",
       "      <td>*.behavior.pkl</td>\n",
       "      <td>None</td>\n",
       "    </tr>\n",
       "    <tr>\n",
       "      <th>area_classifications</th>\n",
       "      <td>*.areaClassifications.csv</td>\n",
       "      <td>None</td>\n",
       "    </tr>\n",
       "    <tr>\n",
       "      <th>fiducial_image</th>\n",
       "      <td>*.fiducial.png</td>\n",
       "      <td>None</td>\n",
       "    </tr>\n",
       "    <tr>\n",
       "      <th>overlay_image</th>\n",
       "      <td>*.overlay.png</td>\n",
       "      <td>None</td>\n",
       "    </tr>\n",
       "    <tr>\n",
       "      <th>insertion_location_image</th>\n",
       "      <td>*.insertionLocation.png</td>\n",
       "      <td>None</td>\n",
       "    </tr>\n",
       "    <tr>\n",
       "      <th>isi_registration_coordinates</th>\n",
       "      <td>*.ISIregistration.npz</td>\n",
       "      <td>None</td>\n",
       "    </tr>\n",
       "    <tr>\n",
       "      <th>isi _registration_coordinates</th>\n",
       "      <td>*.ISIregistration.npz</td>\n",
       "      <td>None</td>\n",
       "    </tr>\n",
       "    <tr>\n",
       "      <th>probelocator_insertions_in_vasculature_image_space</th>\n",
       "      <td>*probelocator*insertions_in_vasculature_image_...</td>\n",
       "      <td>None</td>\n",
       "    </tr>\n",
       "    <tr>\n",
       "      <th>probelocator_insertions_in_rig_image_space</th>\n",
       "      <td>*probelocator*insertions_in_rig_image_space.csv</td>\n",
       "      <td>None</td>\n",
       "    </tr>\n",
       "    <tr>\n",
       "      <th>ephys_raw_data_probe_A_sorted</th>\n",
       "      <td>*_probeA_sorted</td>\n",
       "      <td>1167400342_599657_20220329_probeA_sorted</td>\n",
       "    </tr>\n",
       "    <tr>\n",
       "      <th>ephys_raw_data_probe_B_sorted</th>\n",
       "      <td>*_probeB_sorted</td>\n",
       "      <td>1167400342_599657_20220329_probeB_sorted</td>\n",
       "    </tr>\n",
       "    <tr>\n",
       "      <th>ephys_raw_data_probe_C_sorted</th>\n",
       "      <td>*_probeC_sorted</td>\n",
       "      <td>1167400342_599657_20220329_probeC_sorted</td>\n",
       "    </tr>\n",
       "    <tr>\n",
       "      <th>ephys_raw_data_probe_D_sorted</th>\n",
       "      <td>*_probeD_sorted</td>\n",
       "      <td>1167400342_599657_20220329_probeD_sorted</td>\n",
       "    </tr>\n",
       "    <tr>\n",
       "      <th>ephys_raw_data_probe_E_sorted</th>\n",
       "      <td>*_probeE_sorted</td>\n",
       "      <td>1167400342_599657_20220329_probeE_sorted</td>\n",
       "    </tr>\n",
       "    <tr>\n",
       "      <th>ephys_raw_data_probe_F_sorted</th>\n",
       "      <td>*_probeF_sorted</td>\n",
       "      <td>1167400342_599657_20220329_probeF_sorted</td>\n",
       "    </tr>\n",
       "  </tbody>\n",
       "</table>\n",
       "</div>"
      ],
      "text/plain": [
       "                                                                                                 glob  \\\n",
       "ephys_raw_data_probe_A                                                                     *_probeABC   \n",
       "ephys_raw_data_probe_B                                                                     *_probeABC   \n",
       "ephys_raw_data_probe_C                                                                     *_probeABC   \n",
       "ephys_raw_data_probe_D                                                                     *_probeDEF   \n",
       "ephys_raw_data_probe_E                                                                     *_probeDEF   \n",
       "ephys_raw_data_probe_F                                                                     *_probeDEF   \n",
       "synchronization_data                                                                           *.sync   \n",
       "behavior_tracking                                                                      *.behavior.mp4   \n",
       "beh_cam_json                                                                          *.behavior.json   \n",
       "eye_tracking                                                                                *.eye.mp4   \n",
       "eye_cam_json                                                                               *.eye.json   \n",
       "face_cam_json                                                                             *.face.json   \n",
       "face_tracking                                                                              *.face.mp4   \n",
       "newstep_csv                                                                          *.motor-locs.csv   \n",
       "pre_experiment_surface_image_left                                               *_surface-image1*.png   \n",
       "brain_surface_image_left                                                        *_surface-image2*.png   \n",
       "pre_insertion_surface_image_left                                                *_surface-image3*.png   \n",
       "post_insertion_surface_image_left                                               *_surface-image4*.png   \n",
       "post_stimulus_surface_image_left                                                *_surface-image5*.png   \n",
       "post_experiment_surface_image_left                                              *_surface-image6*.png   \n",
       "pre_experiment_surface_image_right                                              *_surface-image1*.png   \n",
       "brain_surface_image_right                                                       *_surface-image2*.png   \n",
       "pre_insertion_surface_image_right                                               *_surface-image3*.png   \n",
       "post_insertion_surface_image_right                                              *_surface-image4*.png   \n",
       "post_stimulus_surface_image_right                                               *_surface-image5*.png   \n",
       "post_experiment_surface_image_right                                             *_surface-image6*.png   \n",
       "optogenetic_stimulus                                                                       *.opto.pkl   \n",
       "visual_stimulus                                                                         *.mapping.pkl   \n",
       "behavior_stimulus                                                                      *.behavior.pkl   \n",
       "area_classifications                                                        *.areaClassifications.csv   \n",
       "fiducial_image                                                                         *.fiducial.png   \n",
       "overlay_image                                                                           *.overlay.png   \n",
       "insertion_location_image                                                      *.insertionLocation.png   \n",
       "isi_registration_coordinates                                                    *.ISIregistration.npz   \n",
       "isi _registration_coordinates                                                   *.ISIregistration.npz   \n",
       "probelocator_insertions_in_vasculature_image_space  *probelocator*insertions_in_vasculature_image_...   \n",
       "probelocator_insertions_in_rig_image_space            *probelocator*insertions_in_rig_image_space.csv   \n",
       "ephys_raw_data_probe_A_sorted                                                         *_probeA_sorted   \n",
       "ephys_raw_data_probe_B_sorted                                                         *_probeB_sorted   \n",
       "ephys_raw_data_probe_C_sorted                                                         *_probeC_sorted   \n",
       "ephys_raw_data_probe_D_sorted                                                         *_probeD_sorted   \n",
       "ephys_raw_data_probe_E_sorted                                                         *_probeE_sorted   \n",
       "ephys_raw_data_probe_F_sorted                                                         *_probeF_sorted   \n",
       "\n",
       "                                                                                               exists  \n",
       "ephys_raw_data_probe_A                                            1167400342_599657_20220329_probeABC  \n",
       "ephys_raw_data_probe_B                                            1167400342_599657_20220329_probeABC  \n",
       "ephys_raw_data_probe_C                                            1167400342_599657_20220329_probeABC  \n",
       "ephys_raw_data_probe_D                                            1167400342_599657_20220329_probeDEF  \n",
       "ephys_raw_data_probe_E                                            1167400342_599657_20220329_probeDEF  \n",
       "ephys_raw_data_probe_F                                            1167400342_599657_20220329_probeDEF  \n",
       "synchronization_data                                                  1167400342_599657_20220329.sync  \n",
       "behavior_tracking                                             1167400342_599657_20220329.behavior.mp4  \n",
       "beh_cam_json                                                 1167400342_599657_20220329.behavior.json  \n",
       "eye_tracking                                                       1167400342_599657_20220329.eye.mp4  \n",
       "eye_cam_json                                                      1167400342_599657_20220329.eye.json  \n",
       "face_cam_json                                                    1167400342_599657_20220329.face.json  \n",
       "face_tracking                                                     1167400342_599657_20220329.face.mp4  \n",
       "newstep_csv                                                 1167400342_599657_20220329.motor-locs.csv  \n",
       "pre_experiment_surface_image_left                   1167400342_599657_20220329_surface-image1-left...  \n",
       "brain_surface_image_left                            1167400342_599657_20220329_surface-image2-left...  \n",
       "pre_insertion_surface_image_left                    1167400342_599657_20220329_surface-image3-left...  \n",
       "post_insertion_surface_image_left                                                                None  \n",
       "post_stimulus_surface_image_left                    1167400342_599657_20220329_surface-image5-left...  \n",
       "post_experiment_surface_image_left                  1167400342_599657_20220329_surface-image6-left...  \n",
       "pre_experiment_surface_image_right                  1167400342_599657_20220329_surface-image1-left...  \n",
       "brain_surface_image_right                           1167400342_599657_20220329_surface-image2-left...  \n",
       "pre_insertion_surface_image_right                   1167400342_599657_20220329_surface-image3-left...  \n",
       "post_insertion_surface_image_right                                                               None  \n",
       "post_stimulus_surface_image_right                   1167400342_599657_20220329_surface-image5-left...  \n",
       "post_experiment_surface_image_right                 1167400342_599657_20220329_surface-image6-left...  \n",
       "optogenetic_stimulus                                                                             None  \n",
       "visual_stimulus                                                                                  None  \n",
       "behavior_stimulus                                                                                None  \n",
       "area_classifications                                                                             None  \n",
       "fiducial_image                                                                                   None  \n",
       "overlay_image                                                                                    None  \n",
       "insertion_location_image                                                                         None  \n",
       "isi_registration_coordinates                                                                     None  \n",
       "isi _registration_coordinates                                                                    None  \n",
       "probelocator_insertions_in_vasculature_image_space                                               None  \n",
       "probelocator_insertions_in_rig_image_space                                                       None  \n",
       "ephys_raw_data_probe_A_sorted                                1167400342_599657_20220329_probeA_sorted  \n",
       "ephys_raw_data_probe_B_sorted                                1167400342_599657_20220329_probeB_sorted  \n",
       "ephys_raw_data_probe_C_sorted                                1167400342_599657_20220329_probeC_sorted  \n",
       "ephys_raw_data_probe_D_sorted                                1167400342_599657_20220329_probeD_sorted  \n",
       "ephys_raw_data_probe_E_sorted                                1167400342_599657_20220329_probeE_sorted  \n",
       "ephys_raw_data_probe_F_sorted                                1167400342_599657_20220329_probeF_sorted  "
      ]
     },
     "metadata": {},
     "output_type": "display_data"
    }
   ],
   "source": [
    "names = session.D1.names + session.D2.names\n",
    "globs = session.D1.globs + session.D2.globs\n",
    "paths = session.D1.paths + session.D2.paths\n",
    "types = session.D1.types + session.D2.types\n",
    "\n",
    "print(session.npexp_path)\n",
    "display(df := pandas.DataFrame(({'glob': glob, 'exists': path.name if path else None} for glob, path in zip(globs, paths)), index=names))"
   ]
  },
  {
   "cell_type": "code",
   "execution_count": 5,
   "metadata": {},
   "outputs": [
    {
     "ename": "Warning",
     "evalue": "Some files are missing - continue with upload at your own risk!",
     "output_type": "error",
     "traceback": [
      "\u001b[1;31m---------------------------------------------------------------------------\u001b[0m",
      "\u001b[1;31mWarning\u001b[0m                                   Traceback (most recent call last)",
      "Cell \u001b[1;32mIn[5], line 2\u001b[0m\n\u001b[0;32m      1\u001b[0m \u001b[38;5;28;01mif\u001b[39;00m \u001b[38;5;129;01mnot\u001b[39;00m \u001b[38;5;28mall\u001b[39m(paths) \u001b[38;5;129;01mor\u001b[39;00m \u001b[38;5;129;01mnot\u001b[39;00m \u001b[38;5;28mall\u001b[39m(df[\u001b[38;5;124m'\u001b[39m\u001b[38;5;124mexists\u001b[39m\u001b[38;5;124m'\u001b[39m]\u001b[38;5;241m.\u001b[39mvalues):\n\u001b[1;32m----> 2\u001b[0m     \u001b[38;5;28;01mraise\u001b[39;00m \u001b[38;5;167;01mWarning\u001b[39;00m(\u001b[38;5;124m'\u001b[39m\u001b[38;5;124mSome files are missing - continue with upload at your own risk!\u001b[39m\u001b[38;5;124m'\u001b[39m)\n\u001b[0;32m      3\u001b[0m \u001b[38;5;28;01melse\u001b[39;00m:\n\u001b[0;32m      4\u001b[0m     \u001b[38;5;28mprint\u001b[39m(\u001b[38;5;124m'\u001b[39m\u001b[38;5;124mAll files exist\u001b[39m\u001b[38;5;124m'\u001b[39m)\n",
      "\u001b[1;31mWarning\u001b[0m: Some files are missing - continue with upload at your own risk!"
     ]
    }
   ],
   "source": [
    "if not all(paths) or not all(df['exists'].values):\n",
    "    raise Warning('Some files are missing - continue with upload at your own risk!')\n",
    "else:\n",
    "    print('All files exist')"
   ]
  },
  {
   "cell_type": "code",
   "execution_count": 6,
   "metadata": {},
   "outputs": [
    {
     "name": "stdout",
     "output_type": "stream",
     "text": [
      "All filenames contain session id\n"
     ]
    }
   ],
   "source": [
    "for _ in paths:\n",
    "    if _ and str(session.id) not in _.name:\n",
    "        print(f'Warning! File name does not contain session id: {_.name}')\n",
    "else:\n",
    "    print('All filenames contain session id')\n"
   ]
  },
  {
   "cell_type": "markdown",
   "metadata": {},
   "source": [
    "Get D1 & D2 `files` dicts for platform json - the manifests for uploading to LIMS"
   ]
  },
  {
   "cell_type": "code",
   "execution_count": 7,
   "metadata": {},
   "outputs": [],
   "source": [
    "files = (session.D1.files | session.D2.files)"
   ]
  },
  {
   "cell_type": "markdown",
   "metadata": {},
   "source": [
    "Remove surface images that don't exist: Ryan searched for missing files\n",
    "already, so folders on np-exp now are as complete as possible"
   ]
  },
  {
   "cell_type": "code",
   "execution_count": 12,
   "metadata": {},
   "outputs": [],
   "source": [
    "for idx, name in enumerate(names):\n",
    "    if '_surface_image_' in name and paths[idx] is None:\n",
    "        del files[name]"
   ]
  },
  {
   "cell_type": "markdown",
   "metadata": {},
   "source": [
    "If a file or dir has already been uploaded to lims, the upload job can fail. \n",
    "\n",
    "Remove from the upload manifest:"
   ]
  },
  {
   "cell_type": "code",
   "execution_count": 14,
   "metadata": {},
   "outputs": [
    {
     "name": "stdout",
     "output_type": "stream",
     "text": [
      "File or dir has already been uploaded:\n",
      "\t \\\\allen\\programs\\mindscope\\production\\dynamicrouting\\prod0\\specimen_1145398775\\ecephys_session_1178693650\\1178693650_608671_20220520_probeABC \n",
      "\n",
      "File or dir has already been uploaded:\n",
      "\t \\\\allen\\programs\\mindscope\\production\\dynamicrouting\\prod0\\specimen_1145398775\\ecephys_session_1178693650\\1178693650_608671_20220520_probeABC \n",
      "\n",
      "File or dir has already been uploaded:\n",
      "\t \\\\allen\\programs\\mindscope\\production\\dynamicrouting\\prod0\\specimen_1145398775\\ecephys_session_1178693650\\1178693650_608671_20220520_probeABC \n",
      "\n",
      "File or dir has already been uploaded:\n",
      "\t \\\\allen\\programs\\mindscope\\production\\dynamicrouting\\prod0\\specimen_1145398775\\ecephys_session_1178693650\\1178693650_608671_20220520_probeDEF \n",
      "\n",
      "File or dir has already been uploaded:\n",
      "\t \\\\allen\\programs\\mindscope\\production\\dynamicrouting\\prod0\\specimen_1145398775\\ecephys_session_1178693650\\1178693650_608671_20220520_probeDEF \n",
      "\n",
      "File or dir has already been uploaded:\n",
      "\t \\\\allen\\programs\\mindscope\\production\\dynamicrouting\\prod0\\specimen_1145398775\\ecephys_session_1178693650\\1178693650_608671_20220520_probeDEF \n",
      "\n",
      "File or dir has already been uploaded:\n",
      "\t \\\\allen\\programs\\mindscope\\production\\dynamicrouting\\prod0\\specimen_1145398775\\ecephys_session_1178693650\\1178970399\\1178693650_608671_20220520.sync \n",
      "\n",
      "File or dir has already been uploaded:\n",
      "\t \\\\allen\\programs\\mindscope\\production\\dynamicrouting\\prod0\\specimen_1145398775\\ecephys_session_1178693650\\1178970399\\1178693650_608671_20220520.behavior.mp4 \n",
      "\n",
      "File or dir has already been uploaded:\n",
      "\t \\\\allen\\programs\\mindscope\\production\\dynamicrouting\\prod0\\specimen_1145398775\\ecephys_session_1178693650\\1178970399\\1178693650_608671_20220520.behavior.json \n",
      "\n",
      "File or dir has already been uploaded:\n",
      "\t \\\\allen\\programs\\mindscope\\production\\dynamicrouting\\prod0\\specimen_1145398775\\ecephys_session_1178693650\\1178970399\\1178693650_608671_20220520.eye.mp4 \n",
      "\n",
      "File or dir has already been uploaded:\n",
      "\t \\\\allen\\programs\\mindscope\\production\\dynamicrouting\\prod0\\specimen_1145398775\\ecephys_session_1178693650\\1178970399\\1178693650_608671_20220520.eye.json \n",
      "\n",
      "File or dir has already been uploaded:\n",
      "\t \\\\allen\\programs\\mindscope\\production\\dynamicrouting\\prod0\\specimen_1145398775\\ecephys_session_1178693650\\1178970399\\1178693650_608671_20220520.face.json \n",
      "\n",
      "File or dir has already been uploaded:\n",
      "\t \\\\allen\\programs\\mindscope\\production\\dynamicrouting\\prod0\\specimen_1145398775\\ecephys_session_1178693650\\1178970399\\1178693650_608671_20220520.face.mp4 \n",
      "\n",
      "File or dir has already been uploaded:\n",
      "\t \\\\allen\\programs\\mindscope\\production\\dynamicrouting\\prod0\\specimen_1145398775\\ecephys_session_1178693650\\1178970399\\1178693650_608671_20220520.motor-locs.csv \n",
      "\n",
      "File or dir has already been uploaded:\n",
      "\t \\\\allen\\programs\\mindscope\\production\\dynamicrouting\\prod0\\specimen_1145398775\\ecephys_session_1178693650\\1178970399\\1178693650_608671_20220520.opto.pkl \n",
      "\n",
      "File or dir has already been uploaded:\n",
      "\t \\\\allen\\programs\\mindscope\\production\\dynamicrouting\\prod0\\specimen_1145398775\\ecephys_session_1178693650\\1178970399\\1178693650_608671_20220520.mapping.pkl \n",
      "\n",
      "File or dir has already been uploaded:\n",
      "\t \\\\allen\\programs\\mindscope\\production\\dynamicrouting\\prod0\\specimen_1145398775\\ecephys_session_1178693650\\1178970399\\1178693650_608671_20220520.behavior.pkl \n",
      "\n"
     ]
    }
   ],
   "source": [
    "if session.lims_path:    \n",
    "    for name, path, glob in zip(names, paths, globs):\n",
    "        \n",
    "        if (\n",
    "            (path and (file_on_lims := (session.lims_path / path.name)).exists())\n",
    "            or (glob and (file_on_lims := (next(session.lims_path.rglob(glob), None))) and file_on_lims.exists())\n",
    "        ):\n",
    "            print(f'File or dir has already been uploaded:\\n\\t', file_on_lims, '\\n')\n",
    "            \n",
    "            if name in files:\n",
    "                del files[name]\n",
    "                print(f'\\tRemoved from upload manifest\\n')\n",
    "\n",
    "session.platform_json.files = files"
   ]
  },
  {
   "cell_type": "code",
   "execution_count": 14,
   "metadata": {},
   "outputs": [
    {
     "data": {
      "application/json": {
       "CartridgeLowerTime": "20220524132659",
       "DiINotes": {
        "EndTime": "20220524131249",
        "StartTime": "20220524130517",
        "dii_description": "CM-DiI dipped 5 times (or 6), dipped the first few all together and the last few one at a time",
        "times_dipped": "3"
       },
       "ExperimentCompleteTime": "20220524161033",
       "ExperimentNotes": {
        "BleedingOnInsertion": {},
        "BleedingOnRemoval": {}
       },
       "ExperimentStartTime": "20220524142601",
       "HardwareConfiguration": {
        "behavior_camera_position": {
         "center_x_mm": -214.9,
         "center_y_mm": -41.2,
         "center_z_mm": -20.8,
         "rotation_x_deg": 5.3,
         "rotation_y_deg": -10.9,
         "rotation_z_deg": 0
        },
        "behavior_led_position": {
         "center_x_mm": -229.7,
         "center_y_mm": 8.9,
         "center_z_mm": -10.3,
         "rotation_x_deg": 0,
         "rotation_y_deg": 0,
         "rotation_z_deg": 0
        },
        "eye_camera_position": {
         "center_x_mm": 102.8,
         "center_y_mm": 74.7,
         "center_z_mm": 31.6,
         "rotation_x_deg": 0,
         "rotation_y_deg": 0,
         "rotation_z_deg": 2.8
        },
        "eye_led_position": {
         "center_x_mm": 246,
         "center_y_mm": 92.3,
         "center_z_mm": 52.6,
         "rotation_x_deg": 0,
         "rotation_y_deg": 0,
         "rotation_z_deg": 0
        },
        "face_camera_position": {
         "center_x_mm": -31,
         "center_y_mm": 124.7,
         "center_z_mm": 55.5,
         "rotation_x_deg": 3.6,
         "rotation_y_deg": -3.7,
         "rotation_z_deg": 0
        },
        "face_led_position": {
         "center_x_mm": -65.1,
         "center_y_mm": 115.8,
         "center_z_mm": 54.4,
         "rotation_x_deg": 0,
         "rotation_y_deg": 0,
         "rotation_z_deg": 0
        },
        "led_position": {
         "center_x_mm": 246,
         "center_y_mm": 92.3,
         "center_z_mm": 52.6,
         "rotation_x_deg": 0,
         "rotation_y_deg": 0,
         "rotation_z_deg": 0
        },
        "newscale_controller_serial_numbers": {
         "A": 34027,
         "B": 31056,
         "C": 32141,
         "D": 32146,
         "E": 32139,
         "F": 32145
        },
        "screen_position": {
         "center_x_mm": 118.6,
         "center_y_mm": 86.2,
         "center_z_mm": 31.6,
         "rotation_x_deg": 0,
         "rotation_y_deg": 0,
         "rotation_z_deg": 0
        }
       },
       "HeadFrameEntryTime": "20220524132643",
       "HeadFrameExitTime": "20220524162834",
       "InsertionNotes": {},
       "ProbeInsertionCompleteTime": "20220524141432",
       "ProbeInsertionStartTime": "20220524141428",
       "files": {
        "area_classifications": {
         "filename": "1179670730_612090_20220524.areaClassifications.csv"
        },
        "brain_surface_image_left": {
         "filename": "1179670730_612090_20220524_surface-image2.png"
        },
        "brain_surface_image_right": {
         "filename": "1179670730_612090_20220524_surface-image2.png"
        },
        "ephys_raw_data_probe_A_sorted": {
         "directory_name": "1179670730_612090_20220524_probeA_sorted"
        },
        "ephys_raw_data_probe_B_sorted": {
         "directory_name": "1179670730_612090_20220524_probeB_sorted"
        },
        "ephys_raw_data_probe_C_sorted": {
         "directory_name": "1179670730_612090_20220524_probeC_sorted"
        },
        "ephys_raw_data_probe_D_sorted": {
         "directory_name": "1179670730_612090_20220524_probeD_sorted"
        },
        "ephys_raw_data_probe_E_sorted": {
         "directory_name": "1179670730_612090_20220524_probeE_sorted"
        },
        "ephys_raw_data_probe_F_sorted": {
         "directory_name": "1179670730_612090_20220524_probeF_sorted"
        },
        "fiducial_image": {
         "filename": "1179670730_612090_20220524.fiducial.png"
        },
        "insertion_location_image": {
         "filename": "1179670730_612090_20220524.insertionLocation.png"
        },
        "isi _registration_coordinates": {
         "filename": "1179670730_612090_20220524.ISIregistration.npz"
        },
        "isi_registration_coordinates": {
         "filename": "1179670730_612090_20220524.ISIregistration.npz"
        },
        "overlay_image": {
         "filename": "1179670730_612090_20220524.overlay.png"
        },
        "post_experiment_surface_image_left": {
         "filename": "1179670730_612090_20220524_surface-image6.png"
        },
        "post_experiment_surface_image_right": {
         "filename": "1179670730_612090_20220524_surface-image6.png"
        },
        "post_insertion_surface_image_left": {
         "filename": "1179670730_612090_20220524_surface-image4.png"
        },
        "post_insertion_surface_image_right": {
         "filename": "1179670730_612090_20220524_surface-image4.png"
        },
        "post_stimulus_surface_image_left": {
         "filename": "1179670730_612090_20220524_surface-image5.png"
        },
        "post_stimulus_surface_image_right": {
         "filename": "1179670730_612090_20220524_surface-image5.png"
        },
        "pre_experiment_surface_image_left": {
         "filename": "1179670730_612090_20220524_surface-image1.png"
        },
        "pre_experiment_surface_image_right": {
         "filename": "1179670730_612090_20220524_surface-image1.png"
        },
        "pre_insertion_surface_image_left": {
         "filename": "1179670730_612090_20220524_surface-image3.png"
        },
        "pre_insertion_surface_image_right": {
         "filename": "1179670730_612090_20220524_surface-image3.png"
        },
        "probelocator_insertions_in_rig_image_space": {
         "filename": "probelocator_1179670730_612090_20220524_insertions_in_rig_image_space.csv"
        },
        "probelocator_insertions_in_vasculature_image_space": {
         "filename": "probelocator_1179670730_612090_20220524_insertions_in_vasculature_image_space.csv"
        }
       },
       "foraging_id": "3fb9da761fcc479bb781a866340a3aa4",
       "foraging_id_list": [
        "f5d24452-ac54-45cf-bbb6-cb016577aa87",
        "3fb9da761fcc479bb781a866340a3aa4"
       ],
       "hab": false,
       "manifest_creation_time": "20220524163348",
       "manipulator_coordinates": {},
       "mouseID": "612090",
       "mouse_weight_post": "21.9",
       "mouse_weight_pre": "0",
       "mouse_weight_pre_float": 0,
       "operatorID": "taminar",
       "platform_json_creation_time": "",
       "platform_json_save_time": "20230319200713",
       "probe_A_DiI_depth": "6000",
       "probe_B_DiI_depth": "6000",
       "probe_C_DiI_depth": "6000",
       "probe_D_DiI_depth": "6000",
       "probe_E_DiI_depth": "6000",
       "probe_F_DiI_depth": "6000",
       "project": "DynamicRoutingSurgicalDevelopment",
       "rig_id": "NP.1",
       "script_name": "\\\\W10DT713942\\C\\ProgramData\\AIBS_MPE\\camstim\\logs\\220524142622\\EPHYS_1_220524142622.py",
       "sessionID": "1179670730",
       "stimulus_name": "EPHYS_1",
       "water_calibration_heights": [
        0
       ],
       "water_calibration_volumes": [
        0
       ],
       "water_supplement": 1.64,
       "wfl_version": 1,
       "wheel_height": "7.3",
       "workflow": "neuropixel.neuropixel_workflow",
       "workflow_complete_time": "20220524202313",
       "workflow_start_time": "20220524124304"
      },
      "text/plain": [
       "<IPython.core.display.JSON object>"
      ]
     },
     "execution_count": 14,
     "metadata": {
      "application/json": {
       "expanded": false,
       "root": "root"
      }
     },
     "output_type": "execute_result"
    }
   ],
   "source": [
    "IPython.display.JSON(session.platform_json.path)"
   ]
  },
  {
   "cell_type": "markdown",
   "metadata": {},
   "source": [
    "Set up files required for transfer in scratch space"
   ]
  },
  {
   "cell_type": "code",
   "execution_count": 15,
   "metadata": {},
   "outputs": [],
   "source": [
    "import datetime\n",
    "import pathlib\n",
    "\n",
    "scratch = pathlib.Path('//allen/scratch/aibstemp/svc_neuropix/lims_uploads')\n",
    "scratch.mkdir(parents=True, exist_ok=True)\n",
    "\n",
    "file_manifest = scratch / f'{session.id}_{datetime.datetime.now():%Y-%m-%d_%H%M}.txt'\n",
    "file_manifest.touch(exist_ok=True)\n",
    "\n",
    "log = file_manifest.with_suffix('.log')\n",
    "log.touch(exist_ok=True)\n",
    "\n",
    "shell_script = file_manifest.with_suffix('.sh')\n",
    "shell_script.touch(exist_ok=True)"
   ]
  },
  {
   "cell_type": "markdown",
   "metadata": {},
   "source": [
    "Write manifest of relative file paths, including specific sorted data files (not just\n",
    "sorted probe folders)"
   ]
  },
  {
   "cell_type": "code",
   "execution_count": 16,
   "metadata": {},
   "outputs": [
    {
     "name": "stderr",
     "output_type": "stream",
     "text": [
      "No files found for glob: \\\\allen\\programs\\mindscope\\workgroups\\np-exp\\1179670730_612090_20220524\\*_probeA*_sorted\\continuous\\Neuropix-PXI-???.1\\continuous.dat\n",
      "No files found for glob: \\\\allen\\programs\\mindscope\\workgroups\\np-exp\\1179670730_612090_20220524\\*_probeB*_sorted\\continuous\\Neuropix-PXI-???.1\\continuous.dat\n",
      "No files found for glob: \\\\allen\\programs\\mindscope\\workgroups\\np-exp\\1179670730_612090_20220524\\*_probeC*_sorted\\continuous\\Neuropix-PXI-???.1\\continuous.dat\n",
      "No files found for glob: \\\\allen\\programs\\mindscope\\workgroups\\np-exp\\1179670730_612090_20220524\\*_probeD*_sorted\\continuous\\Neuropix-PXI-???.1\\continuous.dat\n",
      "No files found for glob: \\\\allen\\programs\\mindscope\\workgroups\\np-exp\\1179670730_612090_20220524\\*_probeE*_sorted\\continuous\\Neuropix-PXI-???.1\\continuous.dat\n",
      "No files found for glob: \\\\allen\\programs\\mindscope\\workgroups\\np-exp\\1179670730_612090_20220524\\*_probeF*_sorted\\continuous\\Neuropix-PXI-???.1\\continuous.dat\n"
     ]
    },
    {
     "ename": "AttributeError",
     "evalue": "'NoneType' object has no attribute 'parents'",
     "output_type": "error",
     "traceback": [
      "\u001b[1;31m---------------------------------------------------------------------------\u001b[0m",
      "\u001b[1;31mAttributeError\u001b[0m                            Traceback (most recent call last)",
      "Cell \u001b[1;32mIn[16], line 12\u001b[0m\n\u001b[0;32m      9\u001b[0m \u001b[38;5;28;01mif\u001b[39;00m name \u001b[38;5;129;01min\u001b[39;00m \u001b[38;5;28mtuple\u001b[39m(\u001b[38;5;124mf\u001b[39m\u001b[38;5;124m'\u001b[39m\u001b[38;5;124mephys_raw_data_probe_\u001b[39m\u001b[38;5;132;01m{\u001b[39;00m_\u001b[38;5;132;01m}\u001b[39;00m\u001b[38;5;124m_sorted\u001b[39m\u001b[38;5;124m'\u001b[39m \u001b[38;5;28;01mfor\u001b[39;00m _ \u001b[38;5;129;01min\u001b[39;00m \u001b[38;5;124m'\u001b[39m\u001b[38;5;124mABCDEF\u001b[39m\u001b[38;5;124m'\u001b[39m):\n\u001b[0;32m     10\u001b[0m     sorted_files \u001b[38;5;241m=\u001b[39m session\u001b[38;5;241m.\u001b[39mD2\u001b[38;5;241m.\u001b[39mpaths_sorted_data \u001b[38;5;28;01mif\u001b[39;00m sorted_files \u001b[38;5;241m==\u001b[39m [] \u001b[38;5;28;01melse\u001b[39;00m sorted_files\n\u001b[1;32m---> 12\u001b[0m     src_file_list\u001b[38;5;241m.\u001b[39mextend(_ \u001b[38;5;28;01mfor\u001b[39;00m _ \u001b[38;5;129;01min\u001b[39;00m sorted_files \u001b[38;5;28;01mif\u001b[39;00m path \u001b[38;5;129;01min\u001b[39;00m _\u001b[38;5;241m.\u001b[39mparents) \u001b[38;5;66;03m#if path is None this should raise \u001b[39;00m\n\u001b[0;32m     13\u001b[0m     \u001b[38;5;28;01mcontinue\u001b[39;00m\n\u001b[0;32m     15\u001b[0m src_file_list\u001b[38;5;241m.\u001b[39mappend(path)\n",
      "Cell \u001b[1;32mIn[16], line 12\u001b[0m, in \u001b[0;36m<genexpr>\u001b[1;34m(.0)\u001b[0m\n\u001b[0;32m      9\u001b[0m \u001b[38;5;28;01mif\u001b[39;00m name \u001b[38;5;129;01min\u001b[39;00m \u001b[38;5;28mtuple\u001b[39m(\u001b[38;5;124mf\u001b[39m\u001b[38;5;124m'\u001b[39m\u001b[38;5;124mephys_raw_data_probe_\u001b[39m\u001b[38;5;132;01m{\u001b[39;00m_\u001b[38;5;132;01m}\u001b[39;00m\u001b[38;5;124m_sorted\u001b[39m\u001b[38;5;124m'\u001b[39m \u001b[38;5;28;01mfor\u001b[39;00m _ \u001b[38;5;129;01min\u001b[39;00m \u001b[38;5;124m'\u001b[39m\u001b[38;5;124mABCDEF\u001b[39m\u001b[38;5;124m'\u001b[39m):\n\u001b[0;32m     10\u001b[0m     sorted_files \u001b[38;5;241m=\u001b[39m session\u001b[38;5;241m.\u001b[39mD2\u001b[38;5;241m.\u001b[39mpaths_sorted_data \u001b[38;5;28;01mif\u001b[39;00m sorted_files \u001b[38;5;241m==\u001b[39m [] \u001b[38;5;28;01melse\u001b[39;00m sorted_files\n\u001b[1;32m---> 12\u001b[0m     src_file_list\u001b[38;5;241m.\u001b[39mextend(_ \u001b[38;5;28;01mfor\u001b[39;00m _ \u001b[38;5;129;01min\u001b[39;00m sorted_files \u001b[38;5;28;01mif\u001b[39;00m path \u001b[38;5;129;01min\u001b[39;00m \u001b[43m_\u001b[49m\u001b[38;5;241;43m.\u001b[39;49m\u001b[43mparents\u001b[49m) \u001b[38;5;66;03m#if path is None this should raise \u001b[39;00m\n\u001b[0;32m     13\u001b[0m     \u001b[38;5;28;01mcontinue\u001b[39;00m\n\u001b[0;32m     15\u001b[0m src_file_list\u001b[38;5;241m.\u001b[39mappend(path)\n",
      "\u001b[1;31mAttributeError\u001b[0m: 'NoneType' object has no attribute 'parents'"
     ]
    }
   ],
   "source": [
    "src_file_list = []\n",
    "sorted_files = []\n",
    "for name, path in zip(names, paths):\n",
    "    \n",
    "    if path is None or name not in session.platform_json.files:\n",
    "        continue    \n",
    "    \n",
    "    # specify selection of sorted data files to transfer (excl. AP continuous.dat)\n",
    "    if name in tuple(f'ephys_raw_data_probe_{_}_sorted' for _ in 'ABCDEF'):\n",
    "        sorted_files = session.D2.paths_sorted_data if sorted_files == [] else sorted_files\n",
    "        \n",
    "        #TODO LFP continuous.dat might be deleted - write symlinks to raw copy on npexp/lims\n",
    "        src_file_list.extend(_ for _ in sorted_files if path in _.parents) #if path is None this should raise \n",
    "        continue\n",
    "    \n",
    "    src_file_list.append(path)\n",
    "    \n",
    "# add platform json last as a sentinel for successful transfer \n",
    "src_file_list.append(session.platform_json.path)\n",
    "\n",
    "if any(missing := tuple(_ for _ in src_file_list if not _.exists())):\n",
    "    raise FileNotFoundError('Some files do not exist: ', missing)\n",
    "\n",
    "file_manifest.write_text(\n",
    "    '\\n'.join(_.relative_to(session.npexp_path).as_posix() for _ in src_file_list),\n",
    "    newline='\\n'\n",
    "    )\n",
    "print(file_manifest.read_text())"
   ]
  },
  {
   "cell_type": "code",
   "execution_count": 36,
   "metadata": {},
   "outputs": [
    {
     "data": {
      "text/plain": [
       "'rsync -arv --log-file=//allen/scratch/aibstemp/svc_neuropix/lims_uploads/1226010097_2023-03-18_2253.log --files-from=//allen/scratch/aibstemp/svc_neuropix/lims_uploads/1226010097_2023-03-18_2253.txt //allen/programs/mindscope/workgroups/np-exp/1226010097_636740_20221114 //allen/programs/braintv/production/incoming/neuralcoding'"
      ]
     },
     "execution_count": 36,
     "metadata": {},
     "output_type": "execute_result"
    }
   ],
   "source": [
    "rsync_cmd = f'rsync -Larv --log-file={file_manifest.with_suffix(\".log\").as_posix()} --files-from={file_manifest.as_posix()} {session.npexp_path.as_posix()} {np_session.INCOMING_ROOT.as_posix()}'\n",
    "# -a archive mode\n",
    "# -r recursive (for dirs)\n",
    "# -v verbose\n",
    "# -L copy the data that symlinks point to\n",
    "rsync_cmd"
   ]
  },
  {
   "cell_type": "markdown",
   "metadata": {},
   "source": [
    "Write shell script for the transfer"
   ]
  },
  {
   "cell_type": "code",
   "execution_count": 37,
   "metadata": {},
   "outputs": [
    {
     "data": {
      "text/plain": [
       "1241"
      ]
     },
     "execution_count": 37,
     "metadata": {},
     "output_type": "execute_result"
    }
   ],
   "source": [
    "shell_script_cmd = f\"\"\"#!/bin/bash\n",
    "#SBATCH --job-name=npexp_to_incoming                        # Job name\n",
    "#SBATCH --mail-type=END,FAIL                                # Mail events (NONE, BEGIN, END, FAIL, ALL)\n",
    "#SBATCH --mail-user=ben.hardcaslt@alleninstitute.org        # Where to send mail  \n",
    "#SBATCH --ntasks=1                                          # Run on a single CPU\n",
    "#SBATCH --mem=4gb                                           # Job memory request (per node)\n",
    "#SBATCH --time=02:00:00                                     # Time limit hrs:min:sec\n",
    "#SBATCH --output=npexp_to_incoming_%j.log                   # Standard output and error log\n",
    "#SBATCH --partition braintv                                 # Partition used for processing\n",
    "#SBATCH --tmp=100M                                          # Request the amount of space your jobs needs on /scratch/fast\n",
    " \n",
    "pwd; hostname; date\n",
    " \n",
    "echo 'Running rsync job on a single thread'\n",
    "\n",
    "{rsync_cmd}\n",
    " \n",
    "date\n",
    "\"\"\"\n",
    "\n",
    "shell_script.write_text(shell_script_cmd, newline='\\n') \n",
    "# if writing on Windows, newline=\\r\\n by default, which isn't compatible with bash on linux"
   ]
  },
  {
   "cell_type": "code",
   "execution_count": 38,
   "metadata": {},
   "outputs": [
    {
     "name": "stdout",
     "output_type": "stream",
     "text": [
      "Submitted batch job 8389951\n"
     ]
    }
   ],
   "source": [
    "import fabric\n",
    "import np_config\n",
    "\n",
    "login = np_config.fetch('/logins')['svc_neuropix']\n",
    "with fabric.Connection(\n",
    "        host='svc_neuropix@hpc-login',\n",
    "        connect_kwargs={'password': login['password']},\n",
    "    ) as ssh:\n",
    "    ssh.run(f'sbatch {shell_script.as_posix()}')"
   ]
  },
  {
   "cell_type": "code",
   "execution_count": 39,
   "metadata": {},
   "outputs": [
    {
     "name": "stdout",
     "output_type": "stream",
     "text": [
      "Waiting for transfer to complete...\n",
      "Transfer complete\n"
     ]
    }
   ],
   "source": [
    "import time\n",
    "\n",
    "destination_file_list = [np_session.INCOMING_ROOT / _.relative_to(session.npexp_path) for _ in src_file_list]\n",
    "\n",
    "while not all(_.exists() for _ in destination_file_list):\n",
    "    print('Waiting for transfer to complete...\\r', end='', flush=True)\n",
    "    time.sleep(10)\n",
    "    \n",
    "print('\\nTransfer complete')"
   ]
  },
  {
   "cell_type": "markdown",
   "metadata": {},
   "source": [
    "Check platform json for upload"
   ]
  },
  {
   "cell_type": "code",
   "execution_count": 40,
   "metadata": {},
   "outputs": [
    {
     "data": {
      "application/json": {
       "CartridgeLowerTime": "20221114124643",
       "DiINotes": {
        "EndTime": "20221114122435",
        "StartTime": "20221114121105",
        "dii_description": "CM-DiI 100%",
        "times_dipped": "7"
       },
       "ExperimentCompleteTime": "20221114151146",
       "ExperimentNotes": {
        "BleedingOnInsertion": {},
        "BleedingOnRemoval": {}
       },
       "ExperimentStartTime": "20221114132925",
       "HardwareConfiguration": {
        "behavior_camera_position": {
         "center_x_mm": -214.9,
         "center_y_mm": -41.2,
         "center_z_mm": -20.8,
         "rotation_x_deg": 5.3,
         "rotation_y_deg": -10.9,
         "rotation_z_deg": 0
        },
        "behavior_led_position": {
         "center_x_mm": -229.7,
         "center_y_mm": 8.9,
         "center_z_mm": -10.3,
         "rotation_x_deg": 0,
         "rotation_y_deg": 0,
         "rotation_z_deg": 0
        },
        "eye_camera_position": {
         "center_x_mm": 102.8,
         "center_y_mm": 74.7,
         "center_z_mm": 31.6,
         "rotation_x_deg": 0,
         "rotation_y_deg": 0,
         "rotation_z_deg": 2.8
        },
        "eye_led_position": {
         "center_x_mm": 246,
         "center_y_mm": 92.3,
         "center_z_mm": 52.6,
         "rotation_x_deg": 0,
         "rotation_y_deg": 0,
         "rotation_z_deg": 0
        },
        "face_camera_position": {
         "center_x_mm": -31,
         "center_y_mm": 124.7,
         "center_z_mm": 55.5,
         "rotation_x_deg": 3.6,
         "rotation_y_deg": -3.7,
         "rotation_z_deg": 0
        },
        "face_led_position": {
         "center_x_mm": -65.1,
         "center_y_mm": 115.8,
         "center_z_mm": 54.4,
         "rotation_x_deg": 0,
         "rotation_y_deg": 0,
         "rotation_z_deg": 0
        },
        "led_position": {
         "center_x_mm": 246,
         "center_y_mm": 92.3,
         "center_z_mm": 52.6,
         "rotation_x_deg": 0,
         "rotation_y_deg": 0,
         "rotation_z_deg": 0
        },
        "newscale_controller_serial_numbers": {
         "A": 34027,
         "B": 31056,
         "C": 32141,
         "D": 32146,
         "E": 32139,
         "F": 32145
        },
        "screen_position": {
         "center_x_mm": 118.6,
         "center_y_mm": 86.2,
         "center_z_mm": 31.6,
         "rotation_x_deg": 0,
         "rotation_y_deg": 0,
         "rotation_z_deg": 0
        }
       },
       "HeadFrameEntryTime": "20221114124504",
       "HeadFrameExitTime": "20221114152258",
       "InsertionNotes": {},
       "ProbeInsertionCompleteTime": "20221114131817",
       "ProbeInsertionStartTime": "20221114130151",
       "files": {
        "area_classifications": {
         "filename": "1226010097_636740_20221114.areaClassifications.csv"
        },
        "beh_cam_json": {
         "filename": "1226010097_636740_20221114.behavior.json"
        },
        "behavior_stimulus": {
         "filename": "1226010097_636740_20221114.behavior.pkl"
        },
        "behavior_tracking": {
         "filename": "1226010097_636740_20221114.behavior.mp4"
        },
        "brain_surface_image_left": {
         "filename": "1226010097_636740_20221114_surface-image2.png"
        },
        "brain_surface_image_right": {
         "filename": "1226010097_636740_20221114_surface-image2.png"
        },
        "ephys_raw_data_probe_A_sorted": {
         "directory_name": "1226010097_636740_20221114_probeA_sorted"
        },
        "ephys_raw_data_probe_B_sorted": {
         "directory_name": "1226010097_636740_20221114_probeB_sorted"
        },
        "ephys_raw_data_probe_C_sorted": {
         "directory_name": "1226010097_636740_20221114_probeC_sorted"
        },
        "ephys_raw_data_probe_D_sorted": {
         "directory_name": "1226010097_636740_20221114_probeD_sorted"
        },
        "ephys_raw_data_probe_E_sorted": {
         "directory_name": "1226010097_636740_20221114_probeE_sorted"
        },
        "ephys_raw_data_probe_F_sorted": {
         "directory_name": "1226010097_636740_20221114_probeF_sorted"
        },
        "eye_cam_json": {
         "filename": "1226010097_636740_20221114.eye.json"
        },
        "eye_tracking": {
         "filename": "1226010097_636740_20221114.eye.mp4"
        },
        "face_cam_json": {
         "filename": "1226010097_636740_20221114.face.json"
        },
        "face_tracking": {
         "filename": "1226010097_636740_20221114.face.mp4"
        },
        "fiducial_image": {
         "filename": "1226010097_636740_20221114.fiducial.png"
        },
        "insertion_location_image": {
         "filename": "1226010097_636740_20221114.insertionLocation.png"
        },
        "isi _registration_coordinates": {
         "filename": "1226010097_636740_20221114.ISIregistration.npz"
        },
        "isi_registration_coordinates": {
         "filename": "1226010097_636740_20221114.ISIregistration.npz"
        },
        "newstep_csv": {
         "filename": "1226010097_636740_20221114.motor-locs.csv"
        },
        "optogenetic_stimulus": {
         "filename": "1226010097_636740_20221114.opto.pkl"
        },
        "overlay_image": {
         "filename": "1226010097_636740_20221114.overlay.png"
        },
        "post_experiment_surface_image_left": {
         "filename": "1226010097_636740_20221114_surface-image6.png"
        },
        "post_experiment_surface_image_right": {
         "filename": "1226010097_636740_20221114_surface-image6.png"
        },
        "post_insertion_surface_image_left": {
         "filename": "1226010097_636740_20221114_surface-image4.png"
        },
        "post_insertion_surface_image_right": {
         "filename": "1226010097_636740_20221114_surface-image4.png"
        },
        "post_stimulus_surface_image_left": {
         "filename": "1226010097_636740_20221114_surface-image5.png"
        },
        "post_stimulus_surface_image_right": {
         "filename": "1226010097_636740_20221114_surface-image5.png"
        },
        "pre_experiment_surface_image_left": {
         "filename": "1226010097_636740_20221114_surface-image1.png"
        },
        "pre_experiment_surface_image_right": {
         "filename": "1226010097_636740_20221114_surface-image1.png"
        },
        "pre_insertion_surface_image_left": {
         "filename": "1226010097_636740_20221114_surface-image3.png"
        },
        "pre_insertion_surface_image_right": {
         "filename": "1226010097_636740_20221114_surface-image3.png"
        },
        "probelocator_insertions_in_rig_image_space": {
         "filename": "probelocator_1226010097_636740_20221114_insertions_in_rig_image_space.csv"
        },
        "probelocator_insertions_in_vasculature_image_space": {
         "filename": "probelocator_1226010097_636740_20221114_insertions_in_vasculature_image_space.csv"
        },
        "synchronization_data": {
         "filename": "1226010097_636740_20221114.sync"
        },
        "visual_stimulus": {
         "filename": "1226010097_636740_20221114.mapping.pkl"
        }
       },
       "foraging_id": "025fb153-35dd-4f63-ada2-44c238bd9ed4",
       "foraging_id_list": [
        "0973905b-b697-4b5c-8388-5af115e37176"
       ],
       "hab": false,
       "manifest_creation_time": "20221114153401",
       "manipulator_coordinates": {},
       "mouseID": "636740",
       "mouse_weight_post": "20.2",
       "mouse_weight_pre": "0",
       "mouse_weight_pre_float": 0,
       "operatorID": "henry.loeffler",
       "platform_json_creation_time": "",
       "platform_json_save_time": "20230318225347",
       "probe_A_DiI_depth": "6000",
       "probe_B_DiI_depth": "6000",
       "probe_C_DiI_depth": "6000",
       "probe_D_DiI_depth": "6000",
       "probe_E_DiI_depth": "6000",
       "probe_F_DiI_depth": "6000",
       "project": "DynamicRoutingTask1Production",
       "rig_id": "NP.1",
       "script_name": "\\\\W10DT713942\\C\\ProgramData\\AIBS_MPE\\camstim\\logs\\221114132944\\EPHYS_1_221114132944.py",
       "sessionID": "1226010097",
       "stimulus_name": "EPHYS_1",
       "water_calibration_heights": [
        50
       ],
       "water_calibration_volumes": [
        0.03
       ],
       "water_supplement": 0.94,
       "wfl_version": 1,
       "wheel_height": "0",
       "workflow": "np.workflows.behavior.neuropixel_workflow_remaster",
       "workflow_complete_time": "20221114153856",
       "workflow_start_time": "20221114120225"
      },
      "text/plain": [
       "<IPython.core.display.JSON object>"
      ]
     },
     "execution_count": 40,
     "metadata": {
      "application/json": {
       "expanded": false,
       "root": "root"
      }
     },
     "output_type": "execute_result"
    }
   ],
   "source": [
    "import shutil\n",
    "dest_platform_json = np_session.INCOMING_ROOT / session.platform_json.path.name\n",
    "shutil.copy2(session.platform_json.path, dest_platform_json)\n",
    "IPython.display.JSON(np_session.INCOMING_ROOT / session.platform_json.path.name)"
   ]
  },
  {
   "cell_type": "code",
   "execution_count": 25,
   "metadata": {},
   "outputs": [
    {
     "name": "stderr",
     "output_type": "stream",
     "text": [
      "No platform json found for 1226010097 in incoming dir - lims upload job will fail when triggered: \\\\allen\\programs\\braintv\\production\\incoming\\neuralcoding\n"
     ]
    },
    {
     "name": "stdout",
     "output_type": "stream",
     "text": [
      "Trigger file written\n"
     ]
    }
   ],
   "source": [
    "np_session.write_trigger_file(session)\n",
    "print('Trigger file written')"
   ]
  },
  {
   "cell_type": "code",
   "execution_count": 26,
   "metadata": {},
   "outputs": [
    {
     "data": {
      "text/plain": [
       "{'es_id': '1179670730',\n",
       " 'es': '20220524124446_704511589',\n",
       " 'storage_directory': WindowsPath('//allen/programs/mindscope/production/dynamicrouting/prod0/specimen_1154273215/ecephys_session_1179670730'),\n",
       " 'workflow_state': 'created',\n",
       " 'date_of_acquisition': datetime.datetime(2022, 5, 24, 14, 26, 31, 876000),\n",
       " 'stimulus_name': 'EPHYS_1',\n",
       " 'foraging_id': '3fb9da761fcc479bb781a866340a3aa4',\n",
       " 'external_specimen_name': '612090',\n",
       " 'isi_experiment_id': 1158852793,\n",
       " 'rig': 'NP.1',\n",
       " 'operator': 'taminar',\n",
       " 'project': 'DynamicRoutingSurgicalDevelopment',\n",
       " 'behavior_dir': WindowsPath('//allen/programs/mindscope/production/dynamicrouting/prod0/specimen_1154273215/behavior_session_1179717742'),\n",
       " 'SideDlcOutputFile': WindowsPath('//allen/programs/mindscope/production/dynamicrouting/prod0/specimen_1154273215/ecephys_session_1179670730/side_tracking/1179670730_612090_20220524.behaviorDeepCut_resnetNone_np3_side_camMar31shuffle1_1030000.h5'),\n",
       " 'FaceDlcOutputFile': WindowsPath('//allen/programs/mindscope/production/dynamicrouting/prod0/specimen_1154273215/ecephys_session_1179670730/face_tracking/1179670730_612090_20220524.faceDeepCut_resnetNone_np3_face_camMar30shuffle1_1030000.h5'),\n",
       " 'EyeTracking Ellipses': WindowsPath('//allen/programs/mindscope/production/dynamicrouting/prod0/specimen_1154273215/ecephys_session_1179670730/eye_tracking/1179670730_ellipse.h5'),\n",
       " 'EyeDlcOutputFile': WindowsPath('//allen/programs/mindscope/production/dynamicrouting/prod0/specimen_1154273215/ecephys_session_1179670730/eye_tracking/1179670730_612090_20220524.eyeDeepCut_resnet50_universal_eye_trackingJul10shuffle1_1030000.h5'),\n",
       " 'EcephysPlatformFile': WindowsPath('//allen/programs/mindscope/production/dynamicrouting/prod0/specimen_1154273215/ecephys_session_1179670730/1179785937/1179670730_612090_20220524_platformD1.json'),\n",
       " 'MappingPickle': WindowsPath('//allen/programs/mindscope/production/dynamicrouting/prod0/specimen_1154273215/ecephys_session_1179670730/1179785937/1179670730_612090_20220524.mapping.pkl'),\n",
       " 'EcephysRigSync': WindowsPath('//allen/programs/mindscope/production/dynamicrouting/prod0/specimen_1154273215/ecephys_session_1179670730/1179785937/1179670730_612090_20220524.sync'),\n",
       " 'EcephysSurgeryNotes': WindowsPath('//allen/programs/mindscope/production/dynamicrouting/prod0/specimen_1154273215/ecephys_session_1179670730/1179785937/1179670730_612090_20220524_surgeryNotes.json'),\n",
       " 'OptoPickle': WindowsPath('//allen/programs/mindscope/production/dynamicrouting/prod0/specimen_1154273215/ecephys_session_1179670730/1179785937/1179670730_612090_20220524.opto.pkl'),\n",
       " 'NewstepConfiguration': WindowsPath('//allen/programs/mindscope/production/dynamicrouting/prod0/specimen_1154273215/ecephys_session_1179670730/1179785937/1179670730_612090_20220524.motor-locs.csv'),\n",
       " 'RawFaceTrackingVideo': WindowsPath('//allen/programs/mindscope/production/dynamicrouting/prod0/specimen_1154273215/ecephys_session_1179670730/1179785937/1179670730_612090_20220524.face.mp4'),\n",
       " 'RawFaceTrackingVideoMetadata': WindowsPath('//allen/programs/mindscope/production/dynamicrouting/prod0/specimen_1154273215/ecephys_session_1179670730/1179785937/1179670730_612090_20220524.face.json'),\n",
       " 'RawEyeTrackingVideo': WindowsPath('//allen/programs/mindscope/production/dynamicrouting/prod0/specimen_1154273215/ecephys_session_1179670730/1179785937/1179670730_612090_20220524.eye.mp4'),\n",
       " 'RawEyeTrackingVideoMetadata': WindowsPath('//allen/programs/mindscope/production/dynamicrouting/prod0/specimen_1154273215/ecephys_session_1179670730/1179785937/1179670730_612090_20220524.eye.json'),\n",
       " 'RawBehaviorTrackingVideo': WindowsPath('//allen/programs/mindscope/production/dynamicrouting/prod0/specimen_1154273215/ecephys_session_1179670730/1179785937/1179670730_612090_20220524.behavior.mp4'),\n",
       " 'StimulusPickle': WindowsPath('//allen/programs/mindscope/production/dynamicrouting/prod0/specimen_1154273215/ecephys_session_1179670730/1179785937/1179670730_612090_20220524.behavior.pkl'),\n",
       " 'RawBehaviorTrackingVideoMetadata': WindowsPath('//allen/programs/mindscope/production/dynamicrouting/prod0/specimen_1154273215/ecephys_session_1179670730/1179785937/1179670730_612090_20220524.behavior.json'),\n",
       " 'mapping_pkl': WindowsPath('//allen/programs/mindscope/production/dynamicrouting/prod0/specimen_1154273215/ecephys_session_1179670730/1179785937/1179670730_612090_20220524.mapping.pkl'),\n",
       " 'sync_file': WindowsPath('//allen/programs/mindscope/production/dynamicrouting/prod0/specimen_1154273215/ecephys_session_1179670730/1179785937/1179670730_612090_20220524.sync'),\n",
       " 'opto_pkl': WindowsPath('//allen/programs/mindscope/production/dynamicrouting/prod0/specimen_1154273215/ecephys_session_1179670730/1179785937/1179670730_612090_20220524.opto.pkl'),\n",
       " 'behavior_pkl': WindowsPath('//allen/programs/mindscope/production/dynamicrouting/prod0/specimen_1154273215/behavior_session_1179717742/behavior-3fb9da761fcc479bb781a866340a3aa4-1653427584.pkl'),\n",
       " 'datestring': '20220524',\n",
       " 'data_probes': ['A', 'B', 'C', 'D', 'E', 'F'],\n",
       " 'probeA': WindowsPath('//allen/programs/mindscope/production/dynamicrouting/prod0/specimen_1154273215/ecephys_session_1179670730/1182513673/1179785938_probeA'),\n",
       " 'lfpA': WindowsPath('//allen/programs/mindscope/production/dynamicrouting/prod0/specimen_1154273215/ecephys_session_1179670730/1182513673/1179785938_probeA'),\n",
       " 'probeA_info': WindowsPath('//allen/programs/mindscope/production/dynamicrouting/prod0/specimen_1154273215/ecephys_session_1179670730/1182513673/1179785938_probeA/probe_info.json'),\n",
       " 'probeB': WindowsPath('//allen/programs/mindscope/production/dynamicrouting/prod0/specimen_1154273215/ecephys_session_1179670730/1182513673/1179785940_probeB'),\n",
       " 'lfpB': WindowsPath('//allen/programs/mindscope/production/dynamicrouting/prod0/specimen_1154273215/ecephys_session_1179670730/1182513673/1179785940_probeB'),\n",
       " 'probeB_info': WindowsPath('//allen/programs/mindscope/production/dynamicrouting/prod0/specimen_1154273215/ecephys_session_1179670730/1182513673/1179785940_probeB/probe_info.json'),\n",
       " 'probeC': WindowsPath('//allen/programs/mindscope/production/dynamicrouting/prod0/specimen_1154273215/ecephys_session_1179670730/1182513673/1179785941_probeC'),\n",
       " 'lfpC': WindowsPath('//allen/programs/mindscope/production/dynamicrouting/prod0/specimen_1154273215/ecephys_session_1179670730/1182513673/1179785941_probeC'),\n",
       " 'probeC_info': WindowsPath('//allen/programs/mindscope/production/dynamicrouting/prod0/specimen_1154273215/ecephys_session_1179670730/1182513673/1179785941_probeC/probe_info.json'),\n",
       " 'probeD': WindowsPath('//allen/programs/mindscope/production/dynamicrouting/prod0/specimen_1154273215/ecephys_session_1179670730/1182513673/1179785942_probeD'),\n",
       " 'lfpD': WindowsPath('//allen/programs/mindscope/production/dynamicrouting/prod0/specimen_1154273215/ecephys_session_1179670730/1182513673/1179785942_probeD'),\n",
       " 'probeD_info': WindowsPath('//allen/programs/mindscope/production/dynamicrouting/prod0/specimen_1154273215/ecephys_session_1179670730/1182513673/1179785942_probeD/probe_info.json'),\n",
       " 'probeE': WindowsPath('//allen/programs/mindscope/production/dynamicrouting/prod0/specimen_1154273215/ecephys_session_1179670730/1182513673/1179785943_probeE'),\n",
       " 'lfpE': WindowsPath('//allen/programs/mindscope/production/dynamicrouting/prod0/specimen_1154273215/ecephys_session_1179670730/1182513673/1179785943_probeE'),\n",
       " 'probeE_info': WindowsPath('//allen/programs/mindscope/production/dynamicrouting/prod0/specimen_1154273215/ecephys_session_1179670730/1182513673/1179785943_probeE/probe_info.json'),\n",
       " 'probeF': WindowsPath('//allen/programs/mindscope/production/dynamicrouting/prod0/specimen_1154273215/ecephys_session_1179670730/1182513673/1179785944_probeF'),\n",
       " 'lfpF': WindowsPath('//allen/programs/mindscope/production/dynamicrouting/prod0/specimen_1154273215/ecephys_session_1179670730/1182513673/1179785944_probeF'),\n",
       " 'probeF_info': WindowsPath('//allen/programs/mindscope/production/dynamicrouting/prod0/specimen_1154273215/ecephys_session_1179670730/1182513673/1179785944_probeF/probe_info.json'),\n",
       " 'EcephysProbeRawDataABC_settings': WindowsPath('//allen/programs/mindscope/production/dynamicrouting/prod0/specimen_1154273215/ecephys_session_1179670730/1179670730_612090_20220524_probeABC/settings.xml'),\n",
       " 'EcephysProbeRawDataABC': WindowsPath('//allen/programs/mindscope/production/dynamicrouting/prod0/specimen_1154273215/ecephys_session_1179670730/1179670730_612090_20220524_probeABC/recording_slot2_3.npx2'),\n",
       " 'EcephysProbeRawDataDEF_settings': WindowsPath('//allen/programs/mindscope/production/dynamicrouting/prod0/specimen_1154273215/ecephys_session_1179670730/1179670730_612090_20220524_probeDEF/settings.xml'),\n",
       " 'EcephysProbeRawDataDEF': WindowsPath('//allen/programs/mindscope/production/dynamicrouting/prod0/specimen_1154273215/ecephys_session_1179670730/1179670730_612090_20220524_probeDEF/recording_slot3_3.npx2')}"
      ]
     },
     "execution_count": 26,
     "metadata": {},
     "output_type": "execute_result"
    }
   ],
   "source": [
    "np_session.Session(1179670730).data_dict"
   ]
  }
 ],
 "metadata": {
  "kernelspec": {
   "display_name": "Python 3.11.1 ('.venv': poetry)",
   "language": "python",
   "name": "python3"
  },
  "language_info": {
   "codemirror_mode": {
    "name": "ipython",
    "version": 3
   },
   "file_extension": ".py",
   "mimetype": "text/x-python",
   "name": "python",
   "nbconvert_exporter": "python",
   "pygments_lexer": "ipython3",
   "version": "3.11.3"
  },
  "orig_nbformat": 4,
  "vscode": {
   "interpreter": {
    "hash": "75a294dbf81199b26941ed5b32867c59e8bcc1170a51aebad9d5a69e8ca694a9"
   }
  }
 },
 "nbformat": 4,
 "nbformat_minor": 2
}
