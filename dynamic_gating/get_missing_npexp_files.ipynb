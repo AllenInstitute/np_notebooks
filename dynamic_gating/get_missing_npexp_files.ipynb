{
 "cells": [
  {
   "cell_type": "code",
   "execution_count": 1,
   "metadata": {},
   "outputs": [],
   "source": [
    "import IPython.display\n",
    "import pandas\n",
    "import np_session"
   ]
  },
  {
   "cell_type": "code",
   "execution_count": 8,
   "metadata": {},
   "outputs": [],
   "source": [
    "def summary_df(session):\n",
    "    names = session.D1.names + session.D2.names\n",
    "    globs = session.D1.globs + session.D2.globs\n",
    "    paths = session.D1.paths + session.D2.paths\n",
    "    types = session.D1.types + session.D2.types\n",
    "\n",
    "    print(session.npexp_path)\n",
    "    return pandas.DataFrame(({'glob': glob, 'exists': path.name if path else None} for glob, path in zip(globs, paths)), index=names)"
   ]
  },
  {
   "cell_type": "code",
   "execution_count": 19,
   "metadata": {},
   "outputs": [
    {
     "ename": "KeyboardInterrupt",
     "evalue": "",
     "output_type": "error",
     "traceback": [
      "\u001b[1;31m---------------------------------------------------------------------------\u001b[0m",
      "\u001b[1;31mKeyboardInterrupt\u001b[0m                         Traceback (most recent call last)",
      "Cell \u001b[1;32mIn[19], line 9\u001b[0m\n\u001b[0;32m      3\u001b[0m missing: \u001b[38;5;28mdict\u001b[39m[\u001b[38;5;28mstr\u001b[39m, \u001b[38;5;28mtuple\u001b[39m[\u001b[38;5;28mstr\u001b[39m, \u001b[38;5;241m.\u001b[39m\u001b[38;5;241m.\u001b[39m\u001b[38;5;241m.\u001b[39m]] \u001b[38;5;241m=\u001b[39m \u001b[38;5;28mdict\u001b[39m()\n\u001b[0;32m      5\u001b[0m \u001b[38;5;28;01mfor\u001b[39;00m session \u001b[38;5;129;01min\u001b[39;00m np_session\u001b[38;5;241m.\u001b[39msessions(\u001b[38;5;124m'\u001b[39m\u001b[38;5;124mDR\u001b[39m\u001b[38;5;124m'\u001b[39m):\n\u001b[0;32m      6\u001b[0m     \u001b[38;5;66;03m# df = summary_df(session)\u001b[39;00m\n\u001b[0;32m      7\u001b[0m     \u001b[38;5;66;03m# all_exists[session.folder] = all(df['exists'].values)\u001b[39;00m\n\u001b[0;32m      8\u001b[0m     \u001b[38;5;66;03m# all_dfs[session.folder] = df\u001b[39;00m\n\u001b[1;32m----> 9\u001b[0m     missing[session\u001b[38;5;241m.\u001b[39mfolder] \u001b[38;5;241m=\u001b[39m \u001b[43msession\u001b[49m\u001b[38;5;241;43m.\u001b[39;49m\u001b[43mget_missing_files\u001b[49m\u001b[43m(\u001b[49m\u001b[43m)\u001b[49m\n",
      "File \u001b[1;32mc:\\Users\\ben.hardcastle\\github\\np_workflows\\.venv\\Lib\\site-packages\\np_session\\session.py:421\u001b[0m, in \u001b[0;36mSession.get_missing_files\u001b[1;34m(self)\u001b[0m\n\u001b[0;32m    419\u001b[0m missing_globs \u001b[39m=\u001b[39m [\u001b[39mself\u001b[39m\u001b[39m.\u001b[39mD1\u001b[39m.\u001b[39mglobs[\u001b[39mself\u001b[39m\u001b[39m.\u001b[39mD1\u001b[39m.\u001b[39mnames\u001b[39m.\u001b[39mindex(_)] \u001b[39mfor\u001b[39;00m _ \u001b[39min\u001b[39;00m \u001b[39mself\u001b[39m\u001b[39m.\u001b[39mD1\u001b[39m.\u001b[39mmissing]\n\u001b[0;32m    420\u001b[0m missing_globs\u001b[39m.\u001b[39mextend(\u001b[39mself\u001b[39m\u001b[39m.\u001b[39mD2\u001b[39m.\u001b[39mglobs[\u001b[39mself\u001b[39m\u001b[39m.\u001b[39mD2\u001b[39m.\u001b[39mnames\u001b[39m.\u001b[39mindex(_)] \u001b[39mfor\u001b[39;00m _ \u001b[39min\u001b[39;00m \u001b[39mself\u001b[39m\u001b[39m.\u001b[39mD2\u001b[39m.\u001b[39mmissing)\n\u001b[1;32m--> 421\u001b[0m missing_globs\u001b[39m.\u001b[39mextend(\u001b[39mself\u001b[39m\u001b[39m.\u001b[39mD2\u001b[39m.\u001b[39mglobs_sorted_data[\u001b[39mself\u001b[39m\u001b[39m.\u001b[39mD2\u001b[39m.\u001b[39mnames_sorted_data\u001b[39m.\u001b[39mindex(_)] \u001b[39mfor\u001b[39;00m _ \u001b[39min\u001b[39;00m \u001b[39mself\u001b[39;49m\u001b[39m.\u001b[39;49mD2\u001b[39m.\u001b[39;49mmissing_sorted_data\n\u001b[0;32m    422\u001b[0m                      \u001b[39mif\u001b[39;00m \u001b[39mnot\u001b[39;00m \u001b[39many\u001b[39m(\u001b[39mf\u001b[39m\u001b[39m'\u001b[39m\u001b[39mprobe_\u001b[39m\u001b[39m{\u001b[39;00m_[\u001b[39m-\u001b[39m\u001b[39m1\u001b[39m]\u001b[39m}\u001b[39;00m\u001b[39m'\u001b[39m \u001b[39min\u001b[39;00m __ \u001b[39mfor\u001b[39;00m __ \u001b[39min\u001b[39;00m \u001b[39mself\u001b[39m\u001b[39m.\u001b[39mD2\u001b[39m.\u001b[39mmissing)\n\u001b[0;32m    423\u001b[0m                      ) \u001b[39m# don't add each individual missing sorted file if we already added their parent probeX_sorted folder\u001b[39;00m\n\u001b[0;32m    424\u001b[0m \u001b[39mreturn\u001b[39;00m \u001b[39mtuple\u001b[39m(\u001b[39mdict\u001b[39m\u001b[39m.\u001b[39mfromkeys(missing_globs))\n",
      "File \u001b[1;32mc:\\Users\\ben.hardcastle\\github\\np_workflows\\.venv\\Lib\\site-packages\\np_session\\components\\lims_manifests.py:138\u001b[0m, in \u001b[0;36mManifest.missing_sorted_data\u001b[1;34m(self)\u001b[0m\n\u001b[0;32m    136\u001b[0m \u001b[39m@property\u001b[39m\n\u001b[0;32m    137\u001b[0m \u001b[39mdef\u001b[39;00m \u001b[39mmissing_sorted_data\u001b[39m(\u001b[39mself\u001b[39m) \u001b[39m-\u001b[39m\u001b[39m>\u001b[39m \u001b[39mtuple\u001b[39m[\u001b[39mstr\u001b[39m]:\n\u001b[1;32m--> 138\u001b[0m     \u001b[39mreturn\u001b[39;00m \u001b[39mtuple\u001b[39m(n \u001b[39mfor\u001b[39;00m n, p \u001b[39min\u001b[39;00m \u001b[39mzip\u001b[39m(\u001b[39mself\u001b[39;49m\u001b[39m.\u001b[39;49mnames_sorted_data, \u001b[39mself\u001b[39m\u001b[39m.\u001b[39mpaths_sorted_data) \u001b[39mif\u001b[39;00m p \u001b[39mis\u001b[39;00m \u001b[39mNone\u001b[39;00m)\n",
      "File \u001b[1;32mc:\\Users\\ben.hardcastle\\github\\np_workflows\\.venv\\Lib\\site-packages\\np_session\\components\\lims_manifests.py:119\u001b[0m, in \u001b[0;36mManifest.names_sorted_data\u001b[1;34m(self)\u001b[0m\n\u001b[0;32m    117\u001b[0m \u001b[39mwith\u001b[39;00m contextlib\u001b[39m.\u001b[39msuppress(\u001b[39mAttributeError\u001b[39;00m):\n\u001b[0;32m    118\u001b[0m     \u001b[39mreturn\u001b[39;00m \u001b[39mtuple\u001b[39m(\u001b[39mself\u001b[39m\u001b[39m.\u001b[39m_names_sorted_data)\n\u001b[1;32m--> 119\u001b[0m \u001b[39mself\u001b[39;49m\u001b[39m.\u001b[39;49mget_sorted_data()\n\u001b[0;32m    120\u001b[0m \u001b[39mreturn\u001b[39;00m \u001b[39mself\u001b[39m\u001b[39m.\u001b[39mnames_sorted_data\n",
      "File \u001b[1;32mc:\\Users\\ben.hardcastle\\github\\np_workflows\\.venv\\Lib\\site-packages\\np_session\\components\\lims_manifests.py:108\u001b[0m, in \u001b[0;36mManifest.get_sorted_data\u001b[1;34m(self)\u001b[0m\n\u001b[0;32m    106\u001b[0m \u001b[39mself\u001b[39m\u001b[39m.\u001b[39m_globs_sorted_data\u001b[39m.\u001b[39mappend(probe_glob)\n\u001b[0;32m    107\u001b[0m \u001b[39mself\u001b[39m\u001b[39m.\u001b[39m_names_sorted_data\u001b[39m.\u001b[39mappend(\u001b[39mf\u001b[39m\u001b[39m'\u001b[39m\u001b[39m{\u001b[39;00mname\u001b[39m}\u001b[39;00m\u001b[39m_probe\u001b[39m\u001b[39m{\u001b[39;00mprobe\u001b[39m}\u001b[39;00m\u001b[39m'\u001b[39m)\n\u001b[1;32m--> 108\u001b[0m hits \u001b[39m=\u001b[39m \u001b[39mtuple\u001b[39m(\u001b[39mself\u001b[39m\u001b[39m.\u001b[39msession\u001b[39m.\u001b[39mnpexp_path\u001b[39m.\u001b[39mglob(probe_glob))\n\u001b[0;32m    109\u001b[0m \u001b[39mif\u001b[39;00m \u001b[39mlen\u001b[39m(hits) \u001b[39m==\u001b[39m \u001b[39m0\u001b[39m:\n\u001b[0;32m    110\u001b[0m     logger\u001b[39m.\u001b[39mdebug(\u001b[39mf\u001b[39m\u001b[39m'\u001b[39m\u001b[39mNo files found for glob: \u001b[39m\u001b[39m{\u001b[39;00m\u001b[39mself\u001b[39m\u001b[39m.\u001b[39msession\u001b[39m.\u001b[39mnpexp_path\u001b[39m \u001b[39m\u001b[39m/\u001b[39m\u001b[39m \u001b[39mprobe_glob\u001b[39m}\u001b[39;00m\u001b[39m'\u001b[39m)\n",
      "File \u001b[1;32m~\\AppData\\Local\\Programs\\Python\\Python311\\Lib\\pathlib.py:953\u001b[0m, in \u001b[0;36mPath.glob\u001b[1;34m(self, pattern)\u001b[0m\n\u001b[0;32m    951\u001b[0m     pattern_parts\u001b[39m.\u001b[39mappend(\u001b[39m'\u001b[39m\u001b[39m'\u001b[39m)\n\u001b[0;32m    952\u001b[0m selector \u001b[39m=\u001b[39m _make_selector(\u001b[39mtuple\u001b[39m(pattern_parts), \u001b[39mself\u001b[39m\u001b[39m.\u001b[39m_flavour)\n\u001b[1;32m--> 953\u001b[0m \u001b[39mfor\u001b[39;00m p \u001b[39min\u001b[39;00m selector\u001b[39m.\u001b[39mselect_from(\u001b[39mself\u001b[39m):\n\u001b[0;32m    954\u001b[0m     \u001b[39myield\u001b[39;00m p\n",
      "File \u001b[1;32m~\\AppData\\Local\\Programs\\Python\\Python311\\Lib\\pathlib.py:372\u001b[0m, in \u001b[0;36m_WildcardSelector._select_from\u001b[1;34m(self, parent_path, is_dir, exists, scandir)\u001b[0m\n\u001b[0;32m    370\u001b[0m         \u001b[39mif\u001b[39;00m \u001b[39mself\u001b[39m\u001b[39m.\u001b[39mmatch(name):\n\u001b[0;32m    371\u001b[0m             path \u001b[39m=\u001b[39m parent_path\u001b[39m.\u001b[39m_make_child_relpath(name)\n\u001b[1;32m--> 372\u001b[0m             \u001b[39mfor\u001b[39;00m p \u001b[39min\u001b[39;00m \u001b[39mself\u001b[39m\u001b[39m.\u001b[39msuccessor\u001b[39m.\u001b[39m_select_from(path, is_dir, exists, scandir):\n\u001b[0;32m    373\u001b[0m                 \u001b[39myield\u001b[39;00m p\n\u001b[0;32m    374\u001b[0m \u001b[39mexcept\u001b[39;00m \u001b[39mPermissionError\u001b[39;00m:\n",
      "File \u001b[1;32m~\\AppData\\Local\\Programs\\Python\\Python311\\Lib\\pathlib.py:341\u001b[0m, in \u001b[0;36m_PreciseSelector._select_from\u001b[1;34m(self, parent_path, is_dir, exists, scandir)\u001b[0m\n\u001b[0;32m    339\u001b[0m     path \u001b[39m=\u001b[39m parent_path\u001b[39m.\u001b[39m_make_child_relpath(\u001b[39mself\u001b[39m\u001b[39m.\u001b[39mname)\n\u001b[0;32m    340\u001b[0m     \u001b[39mif\u001b[39;00m (is_dir \u001b[39mif\u001b[39;00m \u001b[39mself\u001b[39m\u001b[39m.\u001b[39mdironly \u001b[39melse\u001b[39;00m exists)(path):\n\u001b[1;32m--> 341\u001b[0m         \u001b[39mfor\u001b[39;00m p \u001b[39min\u001b[39;00m \u001b[39mself\u001b[39m\u001b[39m.\u001b[39msuccessor\u001b[39m.\u001b[39m_select_from(path, is_dir, exists, scandir):\n\u001b[0;32m    342\u001b[0m             \u001b[39myield\u001b[39;00m p\n\u001b[0;32m    343\u001b[0m \u001b[39mexcept\u001b[39;00m \u001b[39mPermissionError\u001b[39;00m:\n",
      "File \u001b[1;32m~\\AppData\\Local\\Programs\\Python\\Python311\\Lib\\pathlib.py:372\u001b[0m, in \u001b[0;36m_WildcardSelector._select_from\u001b[1;34m(self, parent_path, is_dir, exists, scandir)\u001b[0m\n\u001b[0;32m    370\u001b[0m         \u001b[39mif\u001b[39;00m \u001b[39mself\u001b[39m\u001b[39m.\u001b[39mmatch(name):\n\u001b[0;32m    371\u001b[0m             path \u001b[39m=\u001b[39m parent_path\u001b[39m.\u001b[39m_make_child_relpath(name)\n\u001b[1;32m--> 372\u001b[0m             \u001b[39mfor\u001b[39;00m p \u001b[39min\u001b[39;00m \u001b[39mself\u001b[39m\u001b[39m.\u001b[39msuccessor\u001b[39m.\u001b[39m_select_from(path, is_dir, exists, scandir):\n\u001b[0;32m    373\u001b[0m                 \u001b[39myield\u001b[39;00m p\n\u001b[0;32m    374\u001b[0m \u001b[39mexcept\u001b[39;00m \u001b[39mPermissionError\u001b[39;00m:\n",
      "File \u001b[1;32m~\\AppData\\Local\\Programs\\Python\\Python311\\Lib\\pathlib.py:340\u001b[0m, in \u001b[0;36m_PreciseSelector._select_from\u001b[1;34m(self, parent_path, is_dir, exists, scandir)\u001b[0m\n\u001b[0;32m    338\u001b[0m \u001b[39mtry\u001b[39;00m:\n\u001b[0;32m    339\u001b[0m     path \u001b[39m=\u001b[39m parent_path\u001b[39m.\u001b[39m_make_child_relpath(\u001b[39mself\u001b[39m\u001b[39m.\u001b[39mname)\n\u001b[1;32m--> 340\u001b[0m     \u001b[39mif\u001b[39;00m (is_dir \u001b[39mif\u001b[39;49;00m \u001b[39mself\u001b[39;49m\u001b[39m.\u001b[39;49mdironly \u001b[39melse\u001b[39;49;00m exists)(path):\n\u001b[0;32m    341\u001b[0m         \u001b[39mfor\u001b[39;00m p \u001b[39min\u001b[39;00m \u001b[39mself\u001b[39m\u001b[39m.\u001b[39msuccessor\u001b[39m.\u001b[39m_select_from(path, is_dir, exists, scandir):\n\u001b[0;32m    342\u001b[0m             \u001b[39myield\u001b[39;00m p\n",
      "File \u001b[1;32m~\\AppData\\Local\\Programs\\Python\\Python311\\Lib\\pathlib.py:1235\u001b[0m, in \u001b[0;36mPath.exists\u001b[1;34m(self)\u001b[0m\n\u001b[0;32m   1231\u001b[0m \u001b[39m\u001b[39m\u001b[39m\"\"\"\u001b[39;00m\n\u001b[0;32m   1232\u001b[0m \u001b[39mWhether this path exists.\u001b[39;00m\n\u001b[0;32m   1233\u001b[0m \u001b[39m\"\"\"\u001b[39;00m\n\u001b[0;32m   1234\u001b[0m \u001b[39mtry\u001b[39;00m:\n\u001b[1;32m-> 1235\u001b[0m     \u001b[39mself\u001b[39;49m\u001b[39m.\u001b[39;49mstat()\n\u001b[0;32m   1236\u001b[0m \u001b[39mexcept\u001b[39;00m \u001b[39mOSError\u001b[39;00m \u001b[39mas\u001b[39;00m e:\n\u001b[0;32m   1237\u001b[0m     \u001b[39mif\u001b[39;00m \u001b[39mnot\u001b[39;00m _ignore_error(e):\n",
      "File \u001b[1;32m~\\AppData\\Local\\Programs\\Python\\Python311\\Lib\\pathlib.py:1013\u001b[0m, in \u001b[0;36mPath.stat\u001b[1;34m(self, follow_symlinks)\u001b[0m\n\u001b[0;32m   1008\u001b[0m \u001b[39mdef\u001b[39;00m \u001b[39mstat\u001b[39m(\u001b[39mself\u001b[39m, \u001b[39m*\u001b[39m, follow_symlinks\u001b[39m=\u001b[39m\u001b[39mTrue\u001b[39;00m):\n\u001b[0;32m   1009\u001b[0m \u001b[39m    \u001b[39m\u001b[39m\"\"\"\u001b[39;00m\n\u001b[0;32m   1010\u001b[0m \u001b[39m    Return the result of the stat() system call on this path, like\u001b[39;00m\n\u001b[0;32m   1011\u001b[0m \u001b[39m    os.stat() does.\u001b[39;00m\n\u001b[0;32m   1012\u001b[0m \u001b[39m    \"\"\"\u001b[39;00m\n\u001b[1;32m-> 1013\u001b[0m     \u001b[39mreturn\u001b[39;00m os\u001b[39m.\u001b[39mstat(\u001b[39mself\u001b[39m, follow_symlinks\u001b[39m=\u001b[39mfollow_symlinks)\n",
      "\u001b[1;31mKeyboardInterrupt\u001b[0m: "
     ]
    }
   ],
   "source": [
    "all_exists: dict[str, bool] = dict()\n",
    "all_dfs: dict[str, pandas.DataFrame] = dict()\n",
    "missing: dict[str, tuple[str, ...]] = dict()\n",
    "\n",
    "for session in np_session.sessions('DR'):\n",
    "    df = summary_df(session)\n",
    "    all_exists[session.folder] = all(df['exists'].values)\n",
    "    all_dfs[session.folder] = df\n",
    "    # missing[session.folder] = session.get_missing_files()"
   ]
  },
  {
   "cell_type": "code",
   "execution_count": 18,
   "metadata": {},
   "outputs": [
    {
     "data": {
      "text/plain": [
       "False"
      ]
     },
     "execution_count": 18,
     "metadata": {},
     "output_type": "execute_result"
    }
   ],
   "source": [
    "all_exists[np_session.Session('1178693650_608671_20220520')]"
   ]
  },
  {
   "cell_type": "code",
   "execution_count": 16,
   "metadata": {},
   "outputs": [
    {
     "data": {
      "text/plain": [
       "124"
      ]
     },
     "execution_count": 16,
     "metadata": {},
     "output_type": "execute_result"
    }
   ],
   "source": [
    "len([_ for _ in all_exists.values() if _ == True])\n",
    "len(all_exists.values())"
   ]
  }
 ],
 "metadata": {
  "kernelspec": {
   "display_name": "Python 3.11.1 ('.venv': poetry)",
   "language": "python",
   "name": "python3"
  },
  "language_info": {
   "codemirror_mode": {
    "name": "ipython",
    "version": 3
   },
   "file_extension": ".py",
   "mimetype": "text/x-python",
   "name": "python",
   "nbconvert_exporter": "python",
   "pygments_lexer": "ipython3",
   "version": "3.11.1"
  },
  "orig_nbformat": 4,
  "vscode": {
   "interpreter": {
    "hash": "75a294dbf81199b26941ed5b32867c59e8bcc1170a51aebad9d5a69e8ca694a9"
   }
  }
 },
 "nbformat": 4,
 "nbformat_minor": 2
}
