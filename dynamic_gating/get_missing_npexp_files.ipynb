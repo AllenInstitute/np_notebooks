{
 "cells": [
  {
   "cell_type": "markdown",
   "metadata": {},
   "source": [
    "# DR missing files\n",
    "- check sessions one-by-one\n",
    "- mark each session as checked when finished\n",
    "\n",
    "\n",
    "Problem sessions:\n",
    "- `_20220927` (timestamps file needs recovering)\n",
    "- `_20220825` (half-recording)"
   ]
  },
  {
   "cell_type": "code",
   "execution_count": 1,
   "metadata": {},
   "outputs": [],
   "source": [
    "import datetime\n",
    "import pathlib\n",
    "import shutil\n",
    "import time\n",
    "import pprint\n",
    "from typing import Generator, Optional\n",
    "import IPython.display\n",
    "\n",
    "from np_session import Session, sessions as get_sessions\n",
    "\n",
    "while not (USERNAME := input('Enter username:')):\n",
    "    continue\n",
    "\n",
    "problem_sessions = ('_20220825', '_20220927')\n",
    "\n",
    "def sessions(skip_already_checked=True) -> Generator[Session, None, None]:\n",
    "    for session in get_sessions('DR'):\n",
    "        if any(_ in str(session) for _ in problem_sessions):\n",
    "            continue\n",
    "        if skip_already_checked and session.state.get('checked'):\n",
    "            continue\n",
    "        yield session\n",
    "\n",
    "def get_files_created_between(\n",
    "    path: str | pathlib.Path,\n",
    "    glob: str = \"*\",\n",
    "    start: float | datetime.datetime = 0,\n",
    "    end: Optional[float | datetime.datetime] = None,\n",
    ") -> list[pathlib.Path]:\n",
    "    path = pathlib.Path(path)\n",
    "    if not path.is_dir():\n",
    "        path = path.parent\n",
    "    if not end:\n",
    "        end = time.time()\n",
    "    start = start.timestamp() if isinstance(start, datetime.datetime) else start\n",
    "    end = end.timestamp() if isinstance(end, datetime.datetime) else end\n",
    "    ctime = lambda x: x.stat().st_ctime\n",
    "    files = (file for file in path.glob(glob) if int(start) <= ctime(file) <= end)\n",
    "    return sorted(files, key=ctime)\n",
    "\n",
    "DR_sessions: Generator[Session, None, None] = sessions()"
   ]
  },
  {
   "cell_type": "markdown",
   "metadata": {},
   "source": [
    "# Get next DR session:"
   ]
  },
  {
   "cell_type": "code",
   "execution_count": 2,
   "metadata": {},
   "outputs": [],
   "source": [
    "session = next(DR_sessions)"
   ]
  },
  {
   "cell_type": "markdown",
   "metadata": {},
   "source": [
    "# Display files missing on np-exp:\n",
    "can be re-run if files have changed "
   ]
  },
  {
   "cell_type": "code",
   "execution_count": 3,
   "metadata": {},
   "outputs": [
    {
     "name": "stdout",
     "output_type": "stream",
     "text": [
      "('*_probeABC',\n",
      " '*_probeDEF',\n",
      " '*_probeA*_sorted/continuous/Neuropix-PXI-???.1/continuous.dat',\n",
      " '*_probeB*_sorted/continuous/Neuropix-PXI-???.1/continuous.dat',\n",
      " '*_probeC*_sorted/continuous/Neuropix-PXI-???.1/continuous.dat',\n",
      " '*_probeD*_sorted/continuous/Neuropix-PXI-???.1/continuous.dat',\n",
      " '*_probeE*_sorted/continuous/Neuropix-PXI-???.1/continuous.dat',\n",
      " '*_probeF*_sorted/continuous/Neuropix-PXI-???.1/continuous.dat')\n"
     ]
    }
   ],
   "source": [
    "pprint.pprint(missing := session.get_missing_files())"
   ]
  },
  {
   "cell_type": "markdown",
   "metadata": {},
   "source": [
    "# Platform json:"
   ]
  },
  {
   "cell_type": "code",
   "execution_count": 3,
   "metadata": {},
   "outputs": [
    {
     "name": "stderr",
     "output_type": "stream",
     "text": [
      "c:\\Users\\ben.hardcastle\\github\\np_workflows\\.venv\\Lib\\site-packages\\IPython\\core\\display.py:618: UserWarning: JSON expects JSONable dict or list, not JSON strings\n",
      "  warnings.warn(\"JSON expects JSONable dict or list, not JSON strings\")\n"
     ]
    },
    {
     "data": {
      "application/json": {
       "CartridgeLowerTime": "20220524132659",
       "DiINotes": {
        "EndTime": "20220524131249",
        "StartTime": "20220524130517",
        "dii_description": "CM-DiI dipped 5 times (or 6), dipped the first few all together and the last few one at a time",
        "times_dipped": "3"
       },
       "ExperimentCompleteTime": "20220524161033",
       "ExperimentNotes": {
        "BleedingOnInsertion": {},
        "BleedingOnRemoval": {}
       },
       "ExperimentStartTime": "20220524142601",
       "HardwareConfiguration": {
        "behavior_camera_position": {
         "center_x_mm": -214.9,
         "center_y_mm": -41.2,
         "center_z_mm": -20.8,
         "rotation_x_deg": 5.3,
         "rotation_y_deg": -10.9,
         "rotation_z_deg": 0
        },
        "behavior_led_position": {
         "center_x_mm": -229.7,
         "center_y_mm": 8.9,
         "center_z_mm": -10.3,
         "rotation_x_deg": 0,
         "rotation_y_deg": 0,
         "rotation_z_deg": 0
        },
        "eye_camera_position": {
         "center_x_mm": 102.8,
         "center_y_mm": 74.7,
         "center_z_mm": 31.6,
         "rotation_x_deg": 0,
         "rotation_y_deg": 0,
         "rotation_z_deg": 2.8
        },
        "eye_led_position": {
         "center_x_mm": 246,
         "center_y_mm": 92.3,
         "center_z_mm": 52.6,
         "rotation_x_deg": 0,
         "rotation_y_deg": 0,
         "rotation_z_deg": 0
        },
        "face_camera_position": {
         "center_x_mm": -31,
         "center_y_mm": 124.7,
         "center_z_mm": 55.5,
         "rotation_x_deg": 3.6,
         "rotation_y_deg": -3.7,
         "rotation_z_deg": 0
        },
        "face_led_position": {
         "center_x_mm": -65.1,
         "center_y_mm": 115.8,
         "center_z_mm": 54.4,
         "rotation_x_deg": 0,
         "rotation_y_deg": 0,
         "rotation_z_deg": 0
        },
        "led_position": {
         "center_x_mm": 246,
         "center_y_mm": 92.3,
         "center_z_mm": 52.6,
         "rotation_x_deg": 0,
         "rotation_y_deg": 0,
         "rotation_z_deg": 0
        },
        "newscale_controller_serial_numbers": {
         "A": 34027,
         "B": 31056,
         "C": 32141,
         "D": 32146,
         "E": 32139,
         "F": 32145
        },
        "screen_position": {
         "center_x_mm": 118.6,
         "center_y_mm": 86.2,
         "center_z_mm": 31.6,
         "rotation_x_deg": 0,
         "rotation_y_deg": 0,
         "rotation_z_deg": 0
        }
       },
       "HeadFrameEntryTime": "20220524132643",
       "HeadFrameExitTime": "20220524162834",
       "InsertionNotes": {},
       "ProbeInsertionCompleteTime": "20220524141432",
       "ProbeInsertionStartTime": "20220524141428",
       "files": {
        "area_classifications": {
         "filename": "1179670730_612090_20220524.areaClassifications.csv"
        },
        "brain_surface_image_left": {
         "filename": "1179670730_612090_20220524_surface-image2.png"
        },
        "brain_surface_image_right": {
         "filename": "1179670730_612090_20220524_surface-image2.png"
        },
        "ephys_raw_data_probe_A_sorted": {
         "directory_name": "1179670730_612090_20220524_probeA_sorted"
        },
        "ephys_raw_data_probe_B_sorted": {
         "directory_name": "1179670730_612090_20220524_probeB_sorted"
        },
        "ephys_raw_data_probe_C_sorted": {
         "directory_name": "1179670730_612090_20220524_probeC_sorted"
        },
        "ephys_raw_data_probe_D_sorted": {
         "directory_name": "1179670730_612090_20220524_probeD_sorted"
        },
        "ephys_raw_data_probe_E_sorted": {
         "directory_name": "1179670730_612090_20220524_probeE_sorted"
        },
        "ephys_raw_data_probe_F_sorted": {
         "directory_name": "1179670730_612090_20220524_probeF_sorted"
        },
        "fiducial_image": {
         "filename": "1179670730_612090_20220524.fiducial.png"
        },
        "insertion_location_image": {
         "filename": "1179670730_612090_20220524.insertionLocation.png"
        },
        "isi _registration_coordinates": {
         "filename": "1179670730_612090_20220524.ISIregistration.npz"
        },
        "isi_registration_coordinates": {
         "filename": "1179670730_612090_20220524.ISIregistration.npz"
        },
        "overlay_image": {
         "filename": "1179670730_612090_20220524.overlay.png"
        },
        "post_experiment_surface_image_left": {
         "filename": "1179670730_612090_20220524_surface-image6.png"
        },
        "post_experiment_surface_image_right": {
         "filename": "1179670730_612090_20220524_surface-image6.png"
        },
        "post_insertion_surface_image_left": {
         "filename": "1179670730_612090_20220524_surface-image4.png"
        },
        "post_insertion_surface_image_right": {
         "filename": "1179670730_612090_20220524_surface-image4.png"
        },
        "post_stimulus_surface_image_left": {
         "filename": "1179670730_612090_20220524_surface-image5.png"
        },
        "post_stimulus_surface_image_right": {
         "filename": "1179670730_612090_20220524_surface-image5.png"
        },
        "pre_experiment_surface_image_left": {
         "filename": "1179670730_612090_20220524_surface-image1.png"
        },
        "pre_experiment_surface_image_right": {
         "filename": "1179670730_612090_20220524_surface-image1.png"
        },
        "pre_insertion_surface_image_left": {
         "filename": "1179670730_612090_20220524_surface-image3.png"
        },
        "pre_insertion_surface_image_right": {
         "filename": "1179670730_612090_20220524_surface-image3.png"
        },
        "probelocator_insertions_in_rig_image_space": {
         "filename": "probelocator_1179670730_612090_20220524_insertions_in_rig_image_space.csv"
        },
        "probelocator_insertions_in_vasculature_image_space": {
         "filename": "probelocator_1179670730_612090_20220524_insertions_in_vasculature_image_space.csv"
        }
       },
       "foraging_id": "3fb9da761fcc479bb781a866340a3aa4",
       "foraging_id_list": [
        "f5d24452-ac54-45cf-bbb6-cb016577aa87",
        "3fb9da761fcc479bb781a866340a3aa4"
       ],
       "hab": false,
       "manifest_creation_time": "20220524163348",
       "manipulator_coordinates": {},
       "mouseID": "612090",
       "mouse_weight_post": "21.9",
       "mouse_weight_pre": "0",
       "mouse_weight_pre_float": 0,
       "operatorID": "taminar",
       "platform_json_creation_time": "",
       "platform_json_save_time": "20230420122542",
       "probe_A_DiI_depth": "6000",
       "probe_B_DiI_depth": "6000",
       "probe_C_DiI_depth": "6000",
       "probe_D_DiI_depth": "6000",
       "probe_E_DiI_depth": "6000",
       "probe_F_DiI_depth": "6000",
       "project": "DynamicRoutingSurgicalDevelopment",
       "rig_id": "NP.1",
       "script_name": "\\W10DTSM118294\\W10DT713942\\C\\ProgramData\\AIBS_MPE\\camstim\\logs\\220524142622\\EPHYS_1_220524142622.py",
       "sessionID": "1179670730",
       "stimulus_name": "EPHYS_1",
       "water_calibration_heights": [
        0
       ],
       "water_calibration_volumes": [
        0
       ],
       "water_supplement": 1.64,
       "wfl_version": 1,
       "wheel_height": "7.3",
       "workflow": "neuropixel.neuropixel_workflow",
       "workflow_complete_time": "20220524202313",
       "workflow_start_time": "20220524124304"
      },
      "text/plain": [
       "<IPython.core.display.JSON object>"
      ]
     },
     "execution_count": 3,
     "metadata": {
      "application/json": {
       "expanded": false,
       "root": "root"
      }
     },
     "output_type": "execute_result"
    }
   ],
   "source": [
    "IPython.display.JSON(session.platform_json.json())"
   ]
  },
  {
   "cell_type": "markdown",
   "metadata": {},
   "source": [
    "# Original files on rig:"
   ]
  },
  {
   "cell_type": "code",
   "execution_count": 11,
   "metadata": {},
   "outputs": [
    {
     "name": "stdout",
     "output_type": "stream",
     "text": [
      "{'Camstim': [WindowsPath('//W10DTSM118294/c$/ProgramData/AIBS_MPE/camstim/data/behavior-params-1653427584.json'),\n",
      "             WindowsPath('//W10DTSM118294/c$/ProgramData/AIBS_MPE/camstim/data/behavior-init-1653427584.bat'),\n",
      "             WindowsPath('//W10DTSM118294/c$/ProgramData/AIBS_MPE/camstim/data/mapping-params-1653427584.json'),\n",
      "             WindowsPath('//W10DTSM118294/c$/ProgramData/AIBS_MPE/camstim/data/opto-params-1653427584.json'),\n",
      "             WindowsPath('//W10DTSM118294/c$/ProgramData/AIBS_MPE/camstim/data/behavior-3fb9da761fcc479bb781a866340a3aa4-1653427584.pkl'),\n",
      "             WindowsPath('//W10DTSM118294/c$/ProgramData/AIBS_MPE/camstim/data/220524153159.pkl'),\n",
      "             WindowsPath('//W10DTSM118294/c$/ProgramData/AIBS_MPE/camstim/data/mapping-init-1653431541.bat'),\n",
      "             WindowsPath('//W10DTSM118294/c$/ProgramData/AIBS_MPE/camstim/data/220524155752-mapping_script_v2.pkl'),\n",
      "             WindowsPath('//W10DTSM118294/c$/ProgramData/AIBS_MPE/camstim/data/opto-init-1653433073.bat'),\n",
      "             WindowsPath('//W10DTSM118294/c$/ProgramData/AIBS_MPE/camstim/data/220524155756_612090.opto.pkl')],\n",
      " 'ImageMVR': [WindowsPath('//W10DTSM18278/c$/ProgramData/AIBS_MPE/mvr/data/USB!_20220524T161111.jpg'),\n",
      "              WindowsPath('//W10DTSM18278/c$/ProgramData/AIBS_MPE/mvr/data/USB!_20220524T161910.jpg')],\n",
      " 'NewScaleCoordinateRecorder': [],\n",
      " 'SessionCamstim': [WindowsPath('//W10DTSM118294/c$/ProgramData/AIBS_MPE/camstim/data/behavior-params-1653427584.json'),\n",
      "                    WindowsPath('//W10DTSM118294/c$/ProgramData/AIBS_MPE/camstim/data/behavior-init-1653427584.bat'),\n",
      "                    WindowsPath('//W10DTSM118294/c$/ProgramData/AIBS_MPE/camstim/data/mapping-params-1653427584.json'),\n",
      "                    WindowsPath('//W10DTSM118294/c$/ProgramData/AIBS_MPE/camstim/data/opto-params-1653427584.json'),\n",
      "                    WindowsPath('//W10DTSM118294/c$/ProgramData/AIBS_MPE/camstim/data/behavior-3fb9da761fcc479bb781a866340a3aa4-1653427584.pkl'),\n",
      "                    WindowsPath('//W10DTSM118294/c$/ProgramData/AIBS_MPE/camstim/data/220524153159.pkl'),\n",
      "                    WindowsPath('//W10DTSM118294/c$/ProgramData/AIBS_MPE/camstim/data/mapping-init-1653431541.bat'),\n",
      "                    WindowsPath('//W10DTSM118294/c$/ProgramData/AIBS_MPE/camstim/data/220524155752-mapping_script_v2.pkl'),\n",
      "                    WindowsPath('//W10DTSM118294/c$/ProgramData/AIBS_MPE/camstim/data/opto-init-1653433073.bat'),\n",
      "                    WindowsPath('//W10DTSM118294/c$/ProgramData/AIBS_MPE/camstim/data/220524155756_612090.opto.pkl')],\n",
      " 'Sync': [WindowsPath('//W10DTSM18306/c$/ProgramData/AIBS_MPE/sync/data/20220524T142604.sync'),\n",
      "          WindowsPath('//W10DTSM18306/c$/ProgramData/AIBS_MPE/sync/data/20220524T142604_timestamps.txt')],\n",
      " 'VideoMVR': [WindowsPath('//W10DTSM18278/c$/ProgramData/AIBS_MPE/mvr/data/USB!_20220524T161111.jpg'),\n",
      "              WindowsPath('//W10DTSM18278/c$/ProgramData/AIBS_MPE/mvr/data/USB!_20220524T161910.jpg')]}\n"
     ]
    }
   ],
   "source": [
    "print(session.rig)\n",
    "rig_paths = session.rig.paths\n",
    "rig_paths.pop('ScriptCamstim', None)\n",
    "rig_paths.pop('Cam3d', None)\n",
    "rig_paths.pop('MVR', None)\n",
    "original_files = dict.fromkeys(rig_paths.keys(), [])\n",
    "globs = {'VideoMVR': '**/*'}\n",
    "for program, data_path in rig_paths.items():\n",
    "    original_files[program] = get_files_created_between(\n",
    "        path=data_path,\n",
    "        glob=globs.get(program, '*'), \n",
    "        start=session.experiment_start,\n",
    "        end=session.experiment_end,\n",
    "        )\n",
    "pprint.pprint(original_files)"
   ]
  },
  {
   "cell_type": "markdown",
   "metadata": {},
   "source": [
    "---\n",
    "---\n",
    "# Mark session as checked when np-exp folder is as complete as possible:\n",
    "\n",
    "Acceptable missing files:\n",
    "- raw data already in lims:\n",
    "    - `*_probeABC`\n",
    "    - `*_probeDEF` \n",
    "- large sorted files already deleted:\n",
    "    - `*_sorted/ ... /continuous.dat`\n",
    "- surface images"
   ]
  },
  {
   "cell_type": "code",
   "execution_count": null,
   "metadata": {},
   "outputs": [],
   "source": [
    "session.state['missing'] = missing\n",
    "session.state['checked'] = time.time()\n",
    "session.state['checked_by'] = USERNAME "
   ]
  }
 ],
 "metadata": {
  "kernelspec": {
   "display_name": "Python 3.11.1 ('.venv': poetry)",
   "language": "python",
   "name": "python3"
  },
  "language_info": {
   "codemirror_mode": {
    "name": "ipython",
    "version": 3
   },
   "file_extension": ".py",
   "mimetype": "text/x-python",
   "name": "python",
   "nbconvert_exporter": "python",
   "pygments_lexer": "ipython3",
   "version": "3.11.1"
  },
  "orig_nbformat": 4,
  "vscode": {
   "interpreter": {
    "hash": "75a294dbf81199b26941ed5b32867c59e8bcc1170a51aebad9d5a69e8ca694a9"
   }
  }
 },
 "nbformat": 4,
 "nbformat_minor": 2
}
