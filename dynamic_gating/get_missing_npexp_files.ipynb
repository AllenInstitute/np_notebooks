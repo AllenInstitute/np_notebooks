{
 "cells": [
  {
   "cell_type": "markdown",
   "metadata": {},
   "source": [
    "# DR missing files\n",
    "- check sessions one-by-one\n",
    "- mark each session as checked when finished\n",
    "\n",
    "\n",
    "Problem sessions:\n",
    "- `_20220927` (timestamps file needs recovering)\n",
    "- `_20220825` (half-recording)"
   ]
  },
  {
   "cell_type": "code",
   "execution_count": null,
   "metadata": {},
   "outputs": [],
   "source": [
    "import time\n",
    "import pprint\n",
    "from typing import Generator\n",
    "\n",
    "from np_session import Session, sessions as get_sessions\n",
    "\n",
    "while not (USERNAME := input('Enter username:')):\n",
    "    continue\n",
    "\n",
    "problem_sessions = ('_20220825', '_20220927')\n",
    "\n",
    "def sessions(skip_already_checked=True) -> Generator[Session, None, None]:\n",
    "    for session in get_sessions():\n",
    "        if any(_ in str(session) for _ in problem_sessions):\n",
    "            continue\n",
    "        if skip_already_checked and session.state.get('checked'):\n",
    "            continue\n",
    "        yield session\n",
    "\n",
    "DR_sessions: Generator[Session, None, None] = sessions()"
   ]
  },
  {
   "cell_type": "markdown",
   "metadata": {},
   "source": [
    "# Get next DR session:"
   ]
  },
  {
   "cell_type": "code",
   "execution_count": null,
   "metadata": {},
   "outputs": [],
   "source": [
    "session = next(DR_sessions)"
   ]
  },
  {
   "cell_type": "markdown",
   "metadata": {},
   "source": [
    "# Display files missing on np-exp:\n",
    "can be re-run if files have changed "
   ]
  },
  {
   "cell_type": "code",
   "execution_count": null,
   "metadata": {},
   "outputs": [],
   "source": [
    "pprint.pprint(missing := session.get_missing_files())"
   ]
  },
  {
   "cell_type": "markdown",
   "metadata": {},
   "source": [
    "---\n",
    "---\n",
    "# Mark session as checked when all files are present\n",
    "\n",
    "Acceptable missing files:\n",
    "- raw data already in lims:\n",
    "    - `*_probeABC`\n",
    "    - `*_probeDEF` \n",
    "- large sorted files already deleted:\n",
    "    - `*_sorted/ ... /continuous.dat`\n",
    "- surface images "
   ]
  },
  {
   "cell_type": "code",
   "execution_count": null,
   "metadata": {},
   "outputs": [],
   "source": [
    "session.state['checked'] = time.time()\n",
    "session.state['checked_by'] = USERNAME "
   ]
  }
 ],
 "metadata": {
  "kernelspec": {
   "display_name": "Python 3.11.1 ('.venv': poetry)",
   "language": "python",
   "name": "python3"
  },
  "language_info": {
   "codemirror_mode": {
    "name": "ipython",
    "version": 3
   },
   "file_extension": ".py",
   "mimetype": "text/x-python",
   "name": "python",
   "nbconvert_exporter": "python",
   "pygments_lexer": "ipython3",
   "version": "3.11.1"
  },
  "orig_nbformat": 4,
  "vscode": {
   "interpreter": {
    "hash": "75a294dbf81199b26941ed5b32867c59e8bcc1170a51aebad9d5a69e8ca694a9"
   }
  }
 },
 "nbformat": 4,
 "nbformat_minor": 2
}
