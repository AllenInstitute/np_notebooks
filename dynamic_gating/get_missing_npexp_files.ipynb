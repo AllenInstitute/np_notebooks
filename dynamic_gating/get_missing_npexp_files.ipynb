{
 "cells": [
  {
   "cell_type": "markdown",
   "metadata": {},
   "source": [
    "# DR missing files\n",
    "- check sessions one-by-one\n",
    "- mark each session as checked when finished\n",
    "\n",
    "\n",
    "Problem sessions:\n",
    "- `_20220927` (timestamps file needs recovering)\n",
    "- `_20220825` (half-recording)"
   ]
  },
  {
   "cell_type": "code",
   "execution_count": 1,
   "metadata": {},
   "outputs": [],
   "source": [
    "import datetime\n",
    "import pathlib\n",
    "import shutil\n",
    "import time\n",
    "import pprint\n",
    "from typing import Generator, Optional\n",
    "import IPython.display\n",
    "\n",
    "from np_session import Session, sessions as get_sessions\n",
    "\n",
    "while not (USERNAME := input('Enter username:')):\n",
    "    continue\n",
    "\n",
    "problem_sessions = ('_20220825', '_20220927')\n",
    "\n",
    "def sessions(skip_already_checked=True) -> Generator[Session, None, None]:\n",
    "    for session in get_sessions('DR'):\n",
    "        if any(_ in str(session) for _ in problem_sessions):\n",
    "            continue\n",
    "        if skip_already_checked and session.state.get('checked'):\n",
    "            continue\n",
    "        yield session\n",
    "\n",
    "def get_files_created_between(\n",
    "    path: str | pathlib.Path,\n",
    "    glob: str = \"*\",\n",
    "    start: float | datetime.datetime = 0,\n",
    "    end: Optional[float | datetime.datetime] = None,\n",
    ") -> list[pathlib.Path]:\n",
    "    path = pathlib.Path(path)\n",
    "    if not path.is_dir():\n",
    "        path = path.parent\n",
    "    if not end:\n",
    "        end = time.time()\n",
    "    start = start.timestamp() if isinstance(start, datetime.datetime) else start\n",
    "    end = end.timestamp() if isinstance(end, datetime.datetime) else end\n",
    "    ctime = lambda x: x.stat().st_ctime\n",
    "    files = (file for file in path.glob(glob) if int(start) <= ctime(file) <= end)\n",
    "    return sorted(files, key=ctime)\n",
    "\n",
    "DR_sessions: Generator[Session, None, None] = sessions()"
   ]
  },
  {
   "cell_type": "markdown",
   "metadata": {},
   "source": [
    "# Get next DR session:"
   ]
  },
  {
   "cell_type": "code",
   "execution_count": 29,
   "metadata": {},
   "outputs": [],
   "source": [
    "# session = next(DR_sessions)\n",
    "session = Session('1207306350')"
   ]
  },
  {
   "cell_type": "markdown",
   "metadata": {},
   "source": [
    "# Display files missing on np-exp:\n",
    "can be re-run if files have changed "
   ]
  },
  {
   "cell_type": "code",
   "execution_count": 28,
   "metadata": {},
   "outputs": [
    {
     "name": "stdout",
     "output_type": "stream",
     "text": [
      "('*_probeABC',\n",
      " '*_probeDEF',\n",
      " '*.sync',\n",
      " '*.behavior.mp4',\n",
      " '*.behavior.json',\n",
      " '*.eye.mp4',\n",
      " '*.eye.json',\n",
      " '*.face.json',\n",
      " '*.face.mp4',\n",
      " '*.motor-locs.csv',\n",
      " '*_surface-image1*.png',\n",
      " '*_surface-image2*.png',\n",
      " '*_surface-image3*.png',\n",
      " '*_surface-image4*.png',\n",
      " '*_surface-image5*.png',\n",
      " '*_surface-image6*.png',\n",
      " '*.opto.pkl',\n",
      " '*.mapping.pkl',\n",
      " '*.behavior.pkl',\n",
      " '*.areaClassifications.csv',\n",
      " '*.fiducial.png',\n",
      " '*.overlay.png',\n",
      " '*.insertionLocation.png',\n",
      " '*.ISIregistration.npz',\n",
      " '*probelocator*insertions_in_vasculature_image_space.csv',\n",
      " '*probelocator*insertions_in_rig_image_space.csv',\n",
      " '*_probeA_sorted',\n",
      " '*_probeB_sorted',\n",
      " '*_probeC_sorted',\n",
      " '*_probeD_sorted',\n",
      " '*_probeE_sorted',\n",
      " '*_probeF_sorted')\n"
     ]
    }
   ],
   "source": [
    "pprint.pprint(missing := session.get_missing_files())"
   ]
  },
  {
   "cell_type": "markdown",
   "metadata": {},
   "source": [
    "# Platform json:"
   ]
  },
  {
   "cell_type": "code",
   "execution_count": 20,
   "metadata": {},
   "outputs": [
    {
     "name": "stderr",
     "output_type": "stream",
     "text": [
      "c:\\Users\\ben.hardcastle\\github\\np_workflows\\.venv\\Lib\\site-packages\\IPython\\core\\display.py:618: UserWarning: JSON expects JSONable dict or list, not JSON strings\n",
      "  warnings.warn(\"JSON expects JSONable dict or list, not JSON strings\")\n"
     ]
    },
    {
     "data": {
      "application/json": {
       "CartridgeLowerTime": "20220510134427",
       "DiINotes": {
        "EndTime": "20220510125440",
        "StartTime": "20220510125404",
        "dii_description": "CM-DiI 100%",
        "times_dipped": "8"
       },
       "ExperimentCompleteTime": "20220510160829",
       "ExperimentNotes": {
        "BleedingOnInsertion": {},
        "BleedingOnRemoval": {}
       },
       "ExperimentStartTime": "20220510151249",
       "HardwareConfiguration": {
        "behavior_camera_position": {
         "center_x_mm": -214.9,
         "center_y_mm": -41.2,
         "center_z_mm": -20.8,
         "rotation_x_deg": 5.3,
         "rotation_y_deg": -10.9,
         "rotation_z_deg": 0
        },
        "behavior_led_position": {
         "center_x_mm": -229.7,
         "center_y_mm": 8.9,
         "center_z_mm": -10.3,
         "rotation_x_deg": 0,
         "rotation_y_deg": 0,
         "rotation_z_deg": 0
        },
        "eye_camera_position": {
         "center_x_mm": 102.8,
         "center_y_mm": 74.7,
         "center_z_mm": 31.6,
         "rotation_x_deg": 0,
         "rotation_y_deg": 0,
         "rotation_z_deg": 2.8
        },
        "eye_led_position": {
         "center_x_mm": 246,
         "center_y_mm": 92.3,
         "center_z_mm": 52.6,
         "rotation_x_deg": 0,
         "rotation_y_deg": 0,
         "rotation_z_deg": 0
        },
        "face_camera_position": {
         "center_x_mm": -31,
         "center_y_mm": 124.7,
         "center_z_mm": 55.5,
         "rotation_x_deg": 3.6,
         "rotation_y_deg": -3.7,
         "rotation_z_deg": 0
        },
        "face_led_position": {
         "center_x_mm": -65.1,
         "center_y_mm": 115.8,
         "center_z_mm": 54.4,
         "rotation_x_deg": 0,
         "rotation_y_deg": 0,
         "rotation_z_deg": 0
        },
        "led_position": {
         "center_x_mm": 246,
         "center_y_mm": 92.3,
         "center_z_mm": 52.6,
         "rotation_x_deg": 0,
         "rotation_y_deg": 0,
         "rotation_z_deg": 0
        },
        "newscale_controller_serial_numbers": {
         "A": 34027,
         "B": 31056,
         "C": 32141,
         "D": 32146,
         "E": 32139,
         "F": 32145
        },
        "screen_position": {
         "center_x_mm": 118.6,
         "center_y_mm": 86.2,
         "center_z_mm": 31.6,
         "rotation_x_deg": 0,
         "rotation_y_deg": 0,
         "rotation_z_deg": 0
        }
       },
       "HeadFrameEntryTime": "20220510134400",
       "HeadFrameExitTime": "20220510155509",
       "InsertionNotes": {
        "ProbeA": {
         "FailedToInsert": "membrane",
         "InsertionTimes": "20220510145108",
         "NumAgarInsertions": 1,
         "ProbeBendingElsewhere": 0,
         "ProbeBendingOnSurface": 0,
         "ProbeLocationChanged": null
        },
        "ProbeB": {
         "FailedToInsert": 0,
         "InsertionTimes": "20220510145108",
         "NumAgarInsertions": 1,
         "ProbeBendingElsewhere": 0,
         "ProbeBendingOnSurface": 0,
         "ProbeLocationChanged": null
        },
        "ProbeC": {
         "FailedToInsert": 0,
         "InsertionTimes": "20220510145108",
         "NumAgarInsertions": 1,
         "ProbeBendingElsewhere": 0,
         "ProbeBendingOnSurface": 0,
         "ProbeLocationChanged": null
        },
        "ProbeD": {
         "FailedToInsert": "Membrane",
         "InsertionTimes": "20220510145108",
         "NumAgarInsertions": 1,
         "ProbeBendingElsewhere": 0,
         "ProbeBendingOnSurface": 0,
         "ProbeLocationChanged": null
        },
        "ProbeE": {
         "FailedToInsert": 0,
         "InsertionTimes": "20220510145108",
         "NumAgarInsertions": 1,
         "ProbeBendingElsewhere": 0,
         "ProbeBendingOnSurface": 0,
         "ProbeLocationChanged": null
        },
        "ProbeF": {
         "FailedToInsert": 0,
         "InsertionTimes": "20220510145108",
         "NumAgarInsertions": 1,
         "ProbeBendingElsewhere": 0,
         "ProbeBendingOnSurface": 0,
         "ProbeLocationChanged": null
        }
       },
       "ProbeInsertionCompleteTime": "20220510150812",
       "ProbeInsertionStartTime": "20220510145637",
       "files": {
        "ephys_raw_data_probe_A": {
         "directory_name": "1176382912_611160_20220510_2022-05-10_15-09-28"
        },
        "ephys_raw_data_probe_B": {
         "directory_name": "1176382912_611160_20220510_2022-05-10_15-09-28"
        },
        "ephys_raw_data_probe_C": {
         "directory_name": "1176382912_611160_20220510_2022-05-10_15-09-28"
        },
        "ephys_raw_data_probe_D": {
         "directory_name": "1176382912_611160_20220510_2022-05-10_15-09-28"
        },
        "ephys_raw_data_probe_E": {
         "directory_name": "1176382912_611160_20220510_2022-05-10_15-09-28"
        },
        "ephys_raw_data_probe_F": {
         "directory_name": "1176382912_611160_20220510_2022-05-10_15-09-28"
        },
        "newstep_csv": {
         "filename": "1176382912_611160_20220510.motor-locs.csv"
        },
        "surgery_notes": {
         "filename": "1176382912_611160_20220510_surgeryNotes.json"
        },
        "synchronization_data": {
         "filename": "1176382912_611160_20220510.sync"
        }
       },
       "foraging_id": "",
       "foraging_id_list": [
        "fca77a2b-34f4-49ba-b17b-dff5dad4636a"
       ],
       "hab": false,
       "manifest_creation_time": "",
       "manipulator_coordinates": {},
       "mouseID": "611160",
       "mouse_weight_post": "22.1",
       "mouse_weight_pre": "0",
       "mouse_weight_pre_float": 0,
       "operatorID": "henry.loeffler",
       "platform_json_creation_time": "",
       "platform_json_save_time": "20230420140817",
       "probe_A_DiI_depth": "6000",
       "probe_B_DiI_depth": "6000",
       "probe_C_DiI_depth": "6000",
       "probe_D_DiI_depth": "6000",
       "probe_E_DiI_depth": "6000",
       "probe_F_DiI_depth": "6000",
       "project": "DynamicRoutingSurgicalDevelopment",
       "rig_id": "NP.1",
       "script_name": "C:\\ProgramData\\AIBS_MPE\\camstim\\logs\\220510151309\\EPHYS_1_220510151309.py",
       "sessionID": "1176382912",
       "stimulus_name": "EPHYS_1",
       "water_calibration_heights": [
        0
       ],
       "water_calibration_volumes": [
        0
       ],
       "water_supplement": 1.02,
       "wfl_version": 1,
       "wheel_height": "0",
       "workflow": "neuropixel.neuropixel_workflow",
       "workflow_complete_time": "20220510160836",
       "workflow_start_time": "20220510123806"
      },
      "text/plain": [
       "<IPython.core.display.JSON object>"
      ]
     },
     "execution_count": 20,
     "metadata": {
      "application/json": {
       "expanded": false,
       "root": "root"
      }
     },
     "output_type": "execute_result"
    }
   ],
   "source": [
    "IPython.display.JSON(session.platform_json.json())"
   ]
  },
  {
   "cell_type": "markdown",
   "metadata": {},
   "source": [
    "# Files on lims:"
   ]
  },
  {
   "cell_type": "code",
   "execution_count": 32,
   "metadata": {},
   "outputs": [
    {
     "ename": "TypeError",
     "evalue": "'NoneType' object is not iterable",
     "output_type": "error",
     "traceback": [
      "\u001b[1;31m---------------------------------------------------------------------------\u001b[0m",
      "\u001b[1;31mTypeError\u001b[0m                                 Traceback (most recent call last)",
      "Cell \u001b[1;32mIn[32], line 1\u001b[0m\n\u001b[1;32m----> 1\u001b[0m \u001b[38;5;28mprint\u001b[39m(\u001b[38;5;28;43mtuple\u001b[39;49m\u001b[43m(\u001b[49m\u001b[43msession\u001b[49m\u001b[38;5;241;43m.\u001b[39;49m\u001b[43mlims_path\u001b[49m\u001b[43m)\u001b[49m)\n\u001b[0;32m      2\u001b[0m \u001b[38;5;28mprint\u001b[39m(\u001b[38;5;28mtuple\u001b[39m(session\u001b[38;5;241m.\u001b[39mlims_path\u001b[38;5;241m.\u001b[39miterdir()))\n",
      "\u001b[1;31mTypeError\u001b[0m: 'NoneType' object is not iterable"
     ]
    }
   ],
   "source": [
    "print(tuple(session.lims_path.iterdir()))"
   ]
  },
  {
   "cell_type": "code",
   "execution_count": 21,
   "metadata": {},
   "outputs": [
    {
     "ename": "AttributeError",
     "evalue": "'NoneType' object has no attribute 'iterdir'",
     "output_type": "error",
     "traceback": [
      "\u001b[1;31m---------------------------------------------------------------------------\u001b[0m",
      "\u001b[1;31mAttributeError\u001b[0m                            Traceback (most recent call last)",
      "Cell \u001b[1;32mIn[21], line 1\u001b[0m\n\u001b[1;32m----> 1\u001b[0m pprint\u001b[38;5;241m.\u001b[39mpprint((\u001b[43msession\u001b[49m\u001b[38;5;241;43m.\u001b[39;49m\u001b[43mlims_path\u001b[49m\u001b[38;5;241;43m.\u001b[39;49m\u001b[43miterdir\u001b[49m()))\n",
      "\u001b[1;31mAttributeError\u001b[0m: 'NoneType' object has no attribute 'iterdir'"
     ]
    }
   ],
   "source": [
    "pprint.pprint((session.lims_path.iterdir()))"
   ]
  },
  {
   "cell_type": "markdown",
   "metadata": {},
   "source": [
    "# Original files on rig:"
   ]
  },
  {
   "cell_type": "code",
   "execution_count": 19,
   "metadata": {},
   "outputs": [
    {
     "name": "stdout",
     "output_type": "stream",
     "text": [
      "NP.1\n",
      "{'Camstim': [WindowsPath('//W10DTSM118294/c$/ProgramData/AIBS_MPE/camstim/data/behavior-params-1652220792.json'),\n",
      "             WindowsPath('//W10DTSM118294/c$/ProgramData/AIBS_MPE/camstim/data/behavior-init-1652220792.bat'),\n",
      "             WindowsPath('//W10DTSM118294/c$/ProgramData/AIBS_MPE/camstim/data/mapping-params-1652220792.json'),\n",
      "             WindowsPath('//W10DTSM118294/c$/ProgramData/AIBS_MPE/camstim/data/opto-params-1652220792.json')],\n",
      " 'ImageMVR': [],\n",
      " 'NewScaleCoordinateRecorder': [],\n",
      " 'SessionCamstim': [WindowsPath('//W10DTSM118294/c$/ProgramData/AIBS_MPE/camstim/data/behavior-params-1652220792.json'),\n",
      "                    WindowsPath('//W10DTSM118294/c$/ProgramData/AIBS_MPE/camstim/data/behavior-init-1652220792.bat'),\n",
      "                    WindowsPath('//W10DTSM118294/c$/ProgramData/AIBS_MPE/camstim/data/mapping-params-1652220792.json'),\n",
      "                    WindowsPath('//W10DTSM118294/c$/ProgramData/AIBS_MPE/camstim/data/opto-params-1652220792.json')],\n",
      " 'Sync': [WindowsPath('//W10DTSM18306/c$/ProgramData/AIBS_MPE/sync/data/20220510T151252.sync'),\n",
      "          WindowsPath('//W10DTSM18306/c$/ProgramData/AIBS_MPE/sync/data/20220510T151252_timestamps.txt')],\n",
      " 'VideoMVR': []}\n"
     ]
    }
   ],
   "source": [
    "print(session.rig)\n",
    "rig_paths = session.rig.paths\n",
    "rig_paths.pop('ScriptCamstim', None)\n",
    "rig_paths.pop('Cam3d', None)\n",
    "rig_paths.pop('MVR', None)\n",
    "original_files = dict.fromkeys(rig_paths.keys(), [])\n",
    "globs = {'VideoMVR': '**/*'}\n",
    "for program, data_path in rig_paths.items():\n",
    "    original_files[program] = get_files_created_between(\n",
    "        path=data_path,\n",
    "        glob=globs.get(program, '*'), \n",
    "        start=session.experiment_start,\n",
    "        end=session.experiment_end,\n",
    "        )\n",
    "pprint.pprint(original_files)"
   ]
  },
  {
   "cell_type": "markdown",
   "metadata": {},
   "source": [
    "---\n",
    "---\n",
    "# Mark session as checked when np-exp folder is as complete as possible:\n",
    "\n",
    "Acceptable missing files:\n",
    "- raw data already in lims:\n",
    "    - `*_probeABC`\n",
    "    - `*_probeDEF` \n",
    "- large sorted files already deleted:\n",
    "    - `*_sorted/ ... /continuous.dat`\n",
    "- surface images"
   ]
  },
  {
   "cell_type": "code",
   "execution_count": null,
   "metadata": {},
   "outputs": [],
   "source": [
    "session.state['missing'] = missing\n",
    "session.state['checked'] = time.time()\n",
    "session.state['checked_by'] = USERNAME "
   ]
  }
 ],
 "metadata": {
  "kernelspec": {
   "display_name": "Python 3.11.1 ('.venv': poetry)",
   "language": "python",
   "name": "python3"
  },
  "language_info": {
   "codemirror_mode": {
    "name": "ipython",
    "version": 3
   },
   "file_extension": ".py",
   "mimetype": "text/x-python",
   "name": "python",
   "nbconvert_exporter": "python",
   "pygments_lexer": "ipython3",
   "version": "3.11.3"
  },
  "orig_nbformat": 4,
  "vscode": {
   "interpreter": {
    "hash": "75a294dbf81199b26941ed5b32867c59e8bcc1170a51aebad9d5a69e8ca694a9"
   }
  }
 },
 "nbformat": 4,
 "nbformat_minor": 2
}
