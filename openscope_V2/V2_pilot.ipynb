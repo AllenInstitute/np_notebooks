{
 "cells": [
  {
   "cell_type": "markdown",
   "metadata": {},
   "source": [
    "# *OpenScope: V2*\n",
    "<img src=\"https://static.trademarkia.com/images/73449053\" width=\"380\" />"
   ]
  },
  {
   "cell_type": "markdown",
   "metadata": {},
   "source": [
    "## Run the update/reset shortcut on the desktop before each experiment\n",
    "***\n",
    "***\n",
    "# **Without mouse on stage**"
   ]
  },
  {
   "cell_type": "code",
   "execution_count": 2,
   "metadata": {
    "tags": []
   },
   "outputs": [
    {
     "data": {
      "application/vnd.jupyter.widget-view+json": {
       "model_id": "a56221b9ecf440f7bfc131af560b015e",
       "version_major": 2,
       "version_minor": 0
      },
      "text/plain": [
       "VBox(children=(Label(value='Elapsed time: 00h 00m 00s'), Label(value='Remember to restart JupyterLab and run u…"
      ]
     },
     "metadata": {},
     "output_type": "display_data"
    }
   ],
   "source": [
    "import contextlib\n",
    "import time\n",
    "\n",
    "import np_config\n",
    "import np_jobs\n",
    "import np_logging\n",
    "import np_services\n",
    "import np_session\n",
    "import np_workflows\n",
    "from np_workflows import npxc\n",
    "import np_workflows.experiments.openscope_V2 as V2\n",
    "\n",
    "from np_services.resources.zro import ZroError \n",
    "import contextlib\n",
    "\n",
    "np_logging.getLogger()\n",
    "\n",
    "np_workflows.elapsed_time_widget()"
   ]
  },
  {
   "cell_type": "markdown",
   "metadata": {},
   "source": [
    "***\n",
    "## Quiet mode\n",
    "**on**  [*default*]\n",
    "- error details are hidden\n",
    "- regular messages displayed (log level = INFO)\n",
    "\n",
    "**off**\n",
    "- full error details (with traceback)\n",
    "- extra messages displayed (log level = DEBUG)"
   ]
  },
  {
   "cell_type": "code",
   "execution_count": 3,
   "metadata": {
    "tags": []
   },
   "outputs": [
    {
     "data": {
      "application/vnd.jupyter.widget-view+json": {
       "model_id": "1098fc386b5c4fd6b1e1a2a185ca343d",
       "version_major": 2,
       "version_minor": 0
      },
      "text/plain": [
       "ToggleButton(value=True, button_style='info', description='Quiet mode is on', icon='check', tooltip='Quiet mod…"
      ]
     },
     "metadata": {},
     "output_type": "display_data"
    }
   ],
   "source": [
    "np_workflows.quiet_mode_widget()"
   ]
  },
  {
   "cell_type": "markdown",
   "metadata": {},
   "source": [
    "***\n",
    "## Launch apps via RSC\n",
    "[optional]"
   ]
  },
  {
   "cell_type": "code",
   "execution_count": 3,
   "metadata": {
    "tags": []
   },
   "outputs": [],
   "source": [
    "with contextlib.suppress(Exception):\n",
    "    np_services.start_rsc_apps()"
   ]
  },
  {
   "cell_type": "markdown",
   "metadata": {},
   "source": [
    "***\n",
    "## Select mouse and user"
   ]
  },
  {
   "cell_type": "code",
   "execution_count": 4,
   "metadata": {
    "tags": []
   },
   "outputs": [
    {
     "data": {
      "application/vnd.jupyter.widget-view+json": {
       "model_id": "bc729cc1c44548fe8a593266e3678bff",
       "version_major": 2,
       "version_minor": 0
      },
      "text/plain": [
       "VBox(children=(Select(description='User:', options=('mikayla.carlson', 'ryan.gillis', 'severined'), value='mik…"
      ]
     },
     "metadata": {},
     "output_type": "display_data"
    }
   ],
   "source": [
    "user, mouse = np_workflows.user_and_mouse_widget()"
   ]
  },
  {
   "cell_type": "markdown",
   "metadata": {},
   "source": [
    "***\n",
    "## Check MTrain and select workflow\n",
    "Re-run cell this cell if mouse ID is changed"
   ]
  },
  {
   "cell_type": "code",
   "execution_count": 5,
   "metadata": {
    "tags": []
   },
   "outputs": [
    {
     "data": {
      "application/vnd.jupyter.widget-view+json": {
       "model_id": "3e1beb6897df4f67b14b9e1c32896427",
       "version_major": 2,
       "version_minor": 0
      },
      "text/plain": [
       "VBox(children=(GridspecLayout(children=(Label(value='Mouse: 366122', layout=Layout(grid_area='widget001')), La…"
      ]
     },
     "metadata": {},
     "output_type": "display_data"
    }
   ],
   "source": [
    "np_workflows.mtrain_widget(mouse)"
   ]
  },
  {
   "cell_type": "markdown",
   "metadata": {},
   "source": [
    "Select type of workflow to run"
   ]
  },
  {
   "cell_type": "code",
   "execution_count": 6,
   "metadata": {},
   "outputs": [
    {
     "data": {
      "application/vnd.jupyter.widget-view+json": {
       "model_id": "181da3593f084713a0de953b738cf004",
       "version_major": 2,
       "version_minor": 0
      },
      "text/plain": [
       "VBox(children=(Select(description='Session', options=('pretest', 'hab', 'ephys'), value='pretest'), Output()))"
      ]
     },
     "metadata": {},
     "output_type": "display_data"
    }
   ],
   "source": [
    "selected_workflow = V2.V2_workflow_widget(mouse)"
   ]
  },
  {
   "cell_type": "markdown",
   "metadata": {},
   "source": [
    "***\n",
    "## Generate new session\n",
    "Check mouse ID and session are correct: this cell will lock them in!"
   ]
  },
  {
   "cell_type": "code",
   "execution_count": 7,
   "metadata": {
    "tags": []
   },
   "outputs": [
    {
     "name": "stdout",
     "output_type": "stream",
     "text": [
      "12:38 | web | INFO | Ephys(1445658787_366122_20250630) created\n"
     ]
    }
   ],
   "source": [
    "V2.validate_selected_workflow(selected_workflow.session, mouse)\n",
    "\n",
    "experiment: V2.Ephys | V2.Hab = V2.new_experiment(mouse, user, selected_workflow.session)\n",
    "session: np_session.PipelineSession = experiment.session\n",
    "platform_json: np_session.PlatformJson = experiment.session.platform_json\n",
    "\n",
    "platform_json.workflow_start_time = npxc.now()\n",
    "hab: bool = isinstance(experiment, V2.Hab)"
   ]
  },
  {
   "cell_type": "markdown",
   "metadata": {},
   "source": [
    "***\n",
    "## Checks before starting"
   ]
  },
  {
   "cell_type": "markdown",
   "metadata": {},
   "source": [
    "### **Ephys day 2?** \n",
    "Don't forget to adjust probe targeting!"
   ]
  },
  {
   "cell_type": "code",
   "execution_count": 8,
   "metadata": {
    "tags": []
   },
   "outputs": [
    {
     "data": {
      "application/vnd.jupyter.widget-view+json": {
       "model_id": "8f634451c8dc442aa8c005cfdc3a4ef8",
       "version_major": 2,
       "version_minor": 0
      },
      "text/plain": [
       "VBox(children=(Label(value='Stage checks:', layout=Layout(min_width='600px')), Checkbox(value=False, descripti…"
      ]
     },
     "metadata": {},
     "output_type": "display_data"
    }
   ],
   "source": [
    "np_workflows.check_hardware_widget()"
   ]
  },
  {
   "cell_type": "code",
   "execution_count": 9,
   "metadata": {
    "tags": []
   },
   "outputs": [
    {
     "data": {
      "application/vnd.jupyter.widget-view+json": {
       "model_id": "35c71444ac30413caef5ad4129098dfa",
       "version_major": 2,
       "version_minor": 0
      },
      "text/plain": [
       "VBox(children=(Label(value='OpenEphys checks:', layout=Layout(min_width='600px')), Checkbox(value=False, descr…"
      ]
     },
     "metadata": {},
     "output_type": "display_data"
    }
   ],
   "source": [
    "if not hab:\n",
    "    np_workflows.check_openephys_widget()"
   ]
  },
  {
   "cell_type": "markdown",
   "metadata": {
    "tags": []
   },
   "source": [
    "***\n",
    "## Setup, test, reset all components\n",
    "*This cell must not be skipped!*"
   ]
  },
  {
   "cell_type": "code",
   "execution_count": 8,
   "metadata": {},
   "outputs": [
    {
     "name": "stdout",
     "output_type": "stream",
     "text": [
      "12:39 | np_services.utils | INFO | mouse_director is running on DT900490\n",
      "12:39 | np_services.proxies | INFO | Proxy(MouseDirector) initialized: ready for use\n",
      "12:39 | np_services.utils | INFO | sync_device is running on W10DT26AD0025\n",
      "12:39 | np_services.proxies | INFO | Proxy(Sync) initialized: ready for use\n",
      "12:39 | np_services.proxies | INFO | VideoMVR initialized: ready for use\n",
      "12:39 | np_services.proxies | INFO | ImageMVR initialized: ready for use\n",
      "12:39 | np_services.proxies | INFO | NewScaleCoordinateRecorder | Test passed\n",
      "12:39 | np_services.proxies | INFO | NewScaleCoordinateRecorder | Test passed\n",
      "12:39 | np_services.utils | INFO | camstim_agent is running on W10DT713942\n",
      "12:39 | np_services.utils | INFO | phidget_server is running on W10DT713942\n",
      "12:39 | np_services.proxies | INFO | Proxy(SessionCamstim) initialized: ready for use\n",
      "12:39 | np_services.open_ephys | INFO | OpenEphys | Initializing\n",
      "12:39 | np_services.open_ephys | INFO | OpenEphys | Testing\n",
      "12:39 | np_services.open_ephys | INFO | OpenEphys free disk space on \\\\W10DT713843\\A: 1335.3 GB\n",
      "12:39 | np_services.open_ephys | INFO | OpenEphys free disk space on \\\\W10DT713843\\B: 1354.3 GB\n",
      "12:39 | np_services.open_ephys | INFO | OpenEphys | Starting recording\n",
      "12:39 | np_services.open_ephys | INFO | OpenEphys | Stopping recording\n"
     ]
    }
   ],
   "source": [
    "with contextlib.suppress(ZroError):\n",
    "    experiment.initialize_and_test_services()"
   ]
  },
  {
   "cell_type": "markdown",
   "metadata": {},
   "source": [
    "***\n",
    "## Dip probes"
   ]
  },
  {
   "cell_type": "code",
   "execution_count": null,
   "metadata": {
    "tags": []
   },
   "outputs": [],
   "source": [
    "if not hab:\n",
    "    print(np_workflows.dye_info_widget.__doc__)\n",
    "    np_workflows.dye_info_widget(session)"
   ]
  },
  {
   "cell_type": "markdown",
   "metadata": {},
   "source": [
    "## Photodoc of probes in dye"
   ]
  },
  {
   "cell_type": "code",
   "execution_count": null,
   "metadata": {},
   "outputs": [],
   "source": [
    "if not hab:\n",
    "    if platform_json.rig_id == 'NP.1':\n",
    "        print(str(session) + '_surface-image1-left.png')\n",
    "    else:\n",
    "        np_workflows.photodoc_widget('pre_experiment_surface_image')"
   ]
  },
  {
   "cell_type": "markdown",
   "metadata": {},
   "source": [
    "## Probe depths in dye"
   ]
  },
  {
   "cell_type": "code",
   "execution_count": null,
   "metadata": {},
   "outputs": [],
   "source": [
    "if not hab:\n",
    "    np_workflows.probe_depth_widget(session)"
   ]
  },
  {
   "cell_type": "markdown",
   "metadata": {},
   "source": [
    "***\n",
    "***\n",
    "# **With mouse on stage**\n",
    "## Before lowering cartridge"
   ]
  },
  {
   "cell_type": "code",
   "execution_count": null,
   "metadata": {
    "tags": []
   },
   "outputs": [],
   "source": [
    "platform_json.HeadFrameEntryTime = npxc.now()\n",
    "np_workflows.wheel_height_widget(session)\n",
    "np_workflows.check_mouse_widget()"
   ]
  },
  {
   "cell_type": "markdown",
   "metadata": {},
   "source": [
    "***\n",
    "## When cartridge is lowered\n",
    "\n",
    "### Set zoom to 4.0 for photodocs of brain\n",
    "- focus on the brain surface\n",
    "\n",
    "## Photodoc of brain (tap probes if hab Day1 or Day2)"
   ]
  },
  {
   "cell_type": "code",
   "execution_count": null,
   "metadata": {
    "tags": []
   },
   "outputs": [],
   "source": [
    "platform_json.CartridgeLowerTime = npxc.now()\n",
    "if platform_json.rig_id == 'NP.1':\n",
    "    print(str(session) + '_surface-image2-left.png')\n",
    "else:    \n",
    "    np_workflows.photodoc_widget('brain_surface_image')"
   ]
  },
  {
   "cell_type": "markdown",
   "metadata": {},
   "source": [
    "***\n",
    "## ISI map"
   ]
  },
  {
   "cell_type": "code",
   "execution_count": null,
   "metadata": {},
   "outputs": [],
   "source": [
    "np_workflows.isi_widget(mouse.lims)"
   ]
  },
  {
   "cell_type": "markdown",
   "metadata": {},
   "source": [
    "***\n",
    "## Probe insertion"
   ]
  },
  {
   "cell_type": "code",
   "execution_count": null,
   "metadata": {
    "tags": []
   },
   "outputs": [],
   "source": [
    "if not hab:\n",
    "    platform_json.ProbeInsertionStartTime = npxc.now()"
   ]
  },
  {
   "cell_type": "markdown",
   "metadata": {},
   "source": [
    "***\n",
    "## Photodoc before advancing probes"
   ]
  },
  {
   "cell_type": "code",
   "execution_count": null,
   "metadata": {
    "tags": []
   },
   "outputs": [],
   "source": [
    "if not hab:\n",
    "    if platform_json.rig_id == 'NP.1':\n",
    "        print(str(session) + '_surface-image3-left.png')\n",
    "    else:\n",
    "        np_workflows.photodoc_widget('pre_insertion_surface_image')"
   ]
  },
  {
   "cell_type": "markdown",
   "metadata": {},
   "source": [
    "***\n",
    "## Settle timer & insertion notes\n",
    "\n",
    "- run both cells now: settle timer will start\n",
    "\n",
    "- fill out probe notes while waiting\n",
    "\n",
    "- press Save once\n",
    "\n",
    "- notes are saved when the timer finishes (button will turn green to confirm)"
   ]
  },
  {
   "cell_type": "code",
   "execution_count": null,
   "metadata": {},
   "outputs": [],
   "source": [
    "if not hab:\n",
    "    np_workflows.insertion_notes_widget(session)"
   ]
  },
  {
   "cell_type": "code",
   "execution_count": null,
   "metadata": {
    "tags": []
   },
   "outputs": [],
   "source": [
    "if not hab:\n",
    "    np_workflows.print_countdown_timer(minutes=.1 if experiment.workflow.value == 'pretest' else 10)"
   ]
  },
  {
   "cell_type": "markdown",
   "metadata": {},
   "source": [
    "***\n",
    "## Photodoc after probes settled, before experiment"
   ]
  },
  {
   "cell_type": "code",
   "execution_count": null,
   "metadata": {
    "tags": []
   },
   "outputs": [],
   "source": [
    "if not hab:\n",
    "    if platform_json.rig_id == 'NP.1':\n",
    "        print(str(session) + '_surface-image4-left.png')\n",
    "    else:\n",
    "        np_workflows.photodoc_widget('post_insertion_surface_image')"
   ]
  },
  {
   "cell_type": "code",
   "execution_count": null,
   "metadata": {},
   "outputs": [],
   "source": [
    "np_workflows.pre_stim_check_widget()"
   ]
  },
  {
   "cell_type": "markdown",
   "metadata": {},
   "source": [
    "***\n",
    "## Start devices recording"
   ]
  },
  {
   "cell_type": "code",
   "execution_count": 9,
   "metadata": {
    "tags": []
   },
   "outputs": [
    {
     "name": "stdout",
     "output_type": "stream",
     "text": [
      "12:42 | root | INFO | Waiting for recorders to finish processing\n",
      "12:42 | root | INFO | Recorders ready\n",
      "12:42 | np_services.proxies | INFO | Sync | Starting recording\n",
      "12:42 | np_services.proxies | INFO | Sync | Verified: file on disk is increasing in size\n",
      "12:42 | np_services.proxies | INFO | VideoMVR | Starting recording\n",
      "12:42 | np_services.proxies | INFO | VideoMVR | Verified: 3 cameras recording to disk\n",
      "12:42 | np_services.open_ephys | INFO | OpenEphys | Starting recording\n",
      "12:42 | np_services.open_ephys | INFO | OpenEphys | Verified files are increasing in size for all Record Nodes\n"
     ]
    }
   ],
   "source": [
    "last_exception = Exception()\n",
    "attempts = 3\n",
    "while attempts:\n",
    "    np_logging.getLogger().info('Waiting for recorders to finish processing') \n",
    "    while not all(r.is_ready_to_start() for r in experiment.recorders):\n",
    "        time.sleep(1)\n",
    "    np_logging.getLogger().info('Recorders ready')     \n",
    "    try:\n",
    "        experiment.start_recording()\n",
    "    except AssertionError as exc:\n",
    "        np_logging.getLogger().info('`experiment.start_recording` failed: trying again')\n",
    "        attempts -= 1\n",
    "        last_exception = exc              # exc only exists within the try block\n",
    "    \n",
    "    else:\n",
    "        break\n",
    "else:\n",
    "    np_logging.getLogger().error(f'`experiment.start_recording` failed after multiple attempts', exc_info=last_exception)\n",
    "    raise last_exception"
   ]
  },
  {
   "cell_type": "markdown",
   "metadata": {},
   "source": [
    "***\n",
    "## Start stimulus\n",
    "mapping | active | injection | active | mapping | opto\n",
    "\n",
    "\n",
    "Script and params determined by MTrain stage"
   ]
  },
  {
   "cell_type": "code",
   "execution_count": 12,
   "metadata": {
    "tags": []
   },
   "outputs": [
    {
     "name": "stdout",
     "output_type": "stream",
     "text": [
      "12:43 | web | INFO | Started session TEST_V2\n",
      "12:43 | np_services.proxies | INFO | Finalizing SessionCamstim\n",
      "12:43 | np_services.proxies | INFO | SessionCamstim added new data: []\n",
      "12:43 | web | INFO | Finished session TEST_V2\n"
     ]
    }
   ],
   "source": [
    "with contextlib.suppress(ZroError):\n",
    "    experiment.run_stim()"
   ]
  },
  {
   "cell_type": "markdown",
   "metadata": {},
   "source": [
    "## Inject drug or vehicle at 45 minute mark\n",
    "Record injection time and amount in experiment notes"
   ]
  },
  {
   "cell_type": "markdown",
   "metadata": {},
   "source": [
    "***\n",
    "## Stop recording"
   ]
  },
  {
   "cell_type": "code",
   "execution_count": 13,
   "metadata": {
    "tags": []
   },
   "outputs": [
    {
     "name": "stdout",
     "output_type": "stream",
     "text": [
      "12:43 | np_services.open_ephys | INFO | OpenEphys | Stopping recording\n",
      "12:43 | np_services.proxies | INFO | VideoMVR | Stopped recording\n",
      "12:43 | np_workflows.shared.base_experiments | WARNING | Waiting additional 4 s for MVR to finish writing...\n",
      "12:43 | np_services.proxies | INFO | Sync | Stopped recording\n"
     ]
    }
   ],
   "source": [
    "with contextlib.suppress(ZroError):\n",
    "    experiment.stop_recording_after_stim_finished()"
   ]
  },
  {
   "cell_type": "markdown",
   "metadata": {},
   "source": [
    "***\n",
    "## Before removing probes"
   ]
  },
  {
   "cell_type": "code",
   "execution_count": null,
   "metadata": {
    "tags": []
   },
   "outputs": [],
   "source": [
    "if not hab:\n",
    "    if platform_json.rig_id == 'NP.1':\n",
    "        print(str(session) + '_surface-image5-left.png')\n",
    "    else:\n",
    "        np_workflows.photodoc_widget('post_stimulus_surface_image')"
   ]
  },
  {
   "cell_type": "markdown",
   "metadata": {},
   "source": [
    "***\n",
    "## After fully retracting probes"
   ]
  },
  {
   "cell_type": "code",
   "execution_count": null,
   "metadata": {
    "tags": []
   },
   "outputs": [],
   "source": [
    "if not hab:\n",
    "    if platform_json.rig_id == 'NP.1':\n",
    "        print(str(session) + '_surface-image6-left.png')\n",
    "    else:\n",
    "        np_workflows.photodoc_widget('post_experiment_surface_image')"
   ]
  },
  {
   "cell_type": "markdown",
   "metadata": {},
   "source": [
    "***\n",
    "## After raising cartridge"
   ]
  },
  {
   "cell_type": "code",
   "execution_count": null,
   "metadata": {
    "notebookRunGroups": {
     "groupValue": "1"
    },
    "tags": []
   },
   "outputs": [],
   "source": [
    "platform_json.HeadFrameExitTime = npxc.now()\n",
    "\n",
    "np_workflows.finishing_checks_widget()"
   ]
  },
  {
   "cell_type": "markdown",
   "metadata": {},
   "source": [
    "## Finalize"
   ]
  },
  {
   "cell_type": "code",
   "execution_count": 14,
   "metadata": {},
   "outputs": [
    {
     "name": "stdout",
     "output_type": "stream",
     "text": [
      "12:44 | np_services.open_ephys | INFO | OpenEphys | Finalizing\n",
      "12:44 | np_services.open_ephys | INFO | OpenEphys | Starting recording\n",
      "12:44 | np_services.open_ephys | INFO | OpenEphys | Stopping recording\n",
      "12:44 | np_services.proxies | INFO | Finalizing SessionCamstim\n",
      "12:44 | np_services.proxies | INFO | SessionCamstim added new data: []\n",
      "12:44 | npc_sync.sync | INFO | **********************************************************************\n",
      "12:44 | npc_sync.sync | INFO | No events on line: vsync_stim\n",
      "12:44 | npc_sync.sync | INFO | **********************************************************************\n"
     ]
    },
    {
     "ename": "AssertionError",
     "evalue": "Sync file has no events on line vsync_stim",
     "output_type": "error",
     "traceback": [
      "\u001b[1;31mAssertionError\u001b[0m\u001b[1;31m:\u001b[0m Sync file has no events on line vsync_stim\n"
     ]
    }
   ],
   "source": [
    "platform_json.workflow_complete_time = npxc.now()\n",
    "\n",
    "experiment.finalize_services(*experiment.recorders, *experiment.stims)\n",
    "experiment.validate_services(*experiment.recorders, *experiment.stims)"
   ]
  },
  {
   "cell_type": "markdown",
   "metadata": {},
   "source": [
    "## Copy data"
   ]
  },
  {
   "cell_type": "code",
   "execution_count": 15,
   "metadata": {},
   "outputs": [
    {
     "name": "stdout",
     "output_type": "stream",
     "text": [
      "12:44 | np_workflows.shared.base_experiments | INFO | Sync | Copying files {WindowsPath('//W10DT26AD0025/c$/ProgramData/AIBS_MPE/sync/data/20250630T124223.h5')}\n",
      "12:44 | np_workflows.shared.base_experiments | INFO | VideoMVR | Copying files {WindowsPath('//DT900490/c$/ProgramData/AIBS_MPE/mvr/data/Face_20250630T124237.json'), WindowsPath('//DT900490/c$/ProgramData/AIBS_MPE/mvr/data/Eye_20250630T124237.mp4'), WindowsPath('//DT900490/c$/ProgramData/AIBS_MPE/mvr/data/Face_20250630T124237.mp4'), WindowsPath('//DT900490/c$/ProgramData/AIBS_MPE/mvr/data/Behavior_20250630T124237.mp4'), WindowsPath('//DT900490/c$/ProgramData/AIBS_MPE/mvr/data/Eye_20250630T124237.json'), WindowsPath('//DT900490/c$/ProgramData/AIBS_MPE/mvr/data/Behavior_20250630T124237.json')}\n",
      "12:44 | np_workflows.experiments.openscope_V2.main_V2_pilot | WARNING | Did not find stim file on npexp matching the format `YYYYMMDDSSSS_mouseID_foragingID.pkl`\n",
      "12:44 | np_workflows.shared.base_experiments | INFO | Renamed split ephys folders [WindowsPath('//W10DT713843/A/1445658787_366122_20250630'), WindowsPath('//W10DT713843/B/1445658787_366122_20250630')]\n",
      "12:44 | paramiko.transport | INFO | Connected (version 2.0, client OpenSSH_for_Windows_7.9)\n",
      "12:44 | paramiko.transport | INFO | Authentication (password) successful!\n",
      "\n",
      "-------------------------------------------------------------------------------\n",
      "   ROBOCOPY     ::     Robust File Copy for Windows                              \n",
      "-------------------------------------------------------------------------------\n",
      "\n",
      "  Started : Monday, June 30, 2025 12:44:40 PM\n",
      "   Source : \\\\W10DT713843\\A\\1445658787_366122_20250630_probeABC\\\n",
      "     Dest : \\\\allen\\programs\\mindscope\\workgroups\\np-exp\\1445658787_366122_20250630\\1445658787_366122_20250630_probeABC\\\n",
      "\n",
      "    Files : *.*\n",
      "\t    \n",
      "  Options : *.* /S /DCOPY:DA /COPY:DAT /J /XO /R:1000000 /W:30 \n",
      "\n",
      "------------------------------------------------------------------------------\n",
      "\n",
      "\t  New Dir          0\t\\\\W10DT713843\\A\\1445658787_366122_20250630_probeABC\\\n",
      "\t  New Dir          1\t\\\\W10DT713843\\A\\1445658787_366122_20250630_probeABC\\Record Node 101\\\n",
      "100%  ew File  \t\t  137696\tsettings.xml\n",
      "\t  New Dir          0\t\\\\W10DT713843\\A\\1445658787_366122_20250630_probeABC\\Record Node 101\\experiment1\\\n",
      "\t  New Dir          2\t\\\\W10DT713843\\A\\1445658787_366122_20250630_probeABC\\Record Node 101\\experiment1\\recording1\\\n",
      "100%  ew File  \t\t   1.4 m\tstructure.oebin\n",
      "100%  ew File  \t\t     875\tsync_messages.txt\n",
      "\t  New Dir          0\t\\\\W10DT713843\\A\\1445658787_366122_20250630_probeABC\\Record Node 101\\experiment1\\recording1\\continuous\\\n",
      "\t  New Dir          3\t\\\\W10DT713843\\A\\1445658787_366122_20250630_probeABC\\Record Node 101\\experiment1\\recording1\\continuous\\Neuropix-PXI-100.ProbeA-AP\\\n",
      "100%  ew File  \t\t 425.2 m\tcontinuous.dat\n",
      "100%  ew File  \t\t   4.4 m\tsample_numbers.npy\n",
      "100%  ew File  \t\t   4.4 m\ttimestamps.npy\n",
      "\t  New Dir          3\t\\\\W10DT713843\\A\\1445658787_366122_20250630_probeABC\\Record Node 101\\experiment1\\recording1\\continuous\\Neuropix-PXI-100.ProbeA-LFP\\\n",
      "100%  ew File  \t\t  35.4 m\tcontinuous.dat\n",
      "100%  ew File  \t\t  387192\tsample_numbers.npy\n",
      "100%  ew File  \t\t  387192\ttimestamps.npy\n",
      "\t  New Dir          3\t\\\\W10DT713843\\A\\1445658787_366122_20250630_probeABC\\Record Node 101\\experiment1\\recording1\\continuous\\Neuropix-PXI-100.ProbeB-AP\\\n",
      "100%  ew File  \t\t 425.1 m\tcontinuous.dat\n",
      "100%  ew File  \t\t   4.4 m\tsample_numbers.npy\n",
      "100%  ew File  \t\t   4.4 m\ttimestamps.npy\n",
      "\t  New Dir          3\t\\\\W10DT713843\\A\\1445658787_366122_20250630_probeABC\\Record Node 101\\experiment1\\recording1\\continuous\\Neuropix-PXI-100.ProbeB-LFP\\\n",
      "100%  ew File  \t\t  35.4 m\tcontinuous.dat\n",
      "100%  ew File  \t\t  387152\tsample_numbers.npy\n",
      "100%  ew File  \t\t  387152\ttimestamps.npy\n",
      "\t  New Dir          3\t\\\\W10DT713843\\A\\1445658787_366122_20250630_probeABC\\Record Node 101\\experiment1\\recording1\\continuous\\Neuropix-PXI-100.ProbeC-AP\\\n",
      "100%  ew File  \t\t 425.2 m\tcontinuous.dat\n",
      "100%  ew File  \t\t   4.4 m\tsample_numbers.npy\n",
      "100%  ew File  \t\t   4.4 m\ttimestamps.npy\n",
      "\t  New Dir          3\t\\\\W10DT713843\\A\\1445658787_366122_20250630_probeABC\\Record Node 101\\experiment1\\recording1\\continuous\\Neuropix-PXI-100.ProbeC-LFP\\\n",
      "100%  ew File  \t\t  35.4 m\tcontinuous.dat\n",
      "100%  ew File  \t\t  387168\tsample_numbers.npy\n",
      "100%  ew File  \t\t  387168\ttimestamps.npy\n",
      "\t  New Dir          0\t\\\\W10DT713843\\A\\1445658787_366122_20250630_probeABC\\Record Node 101\\experiment1\\recording1\\events\\\n",
      "\t  New Dir          3\t\\\\W10DT713843\\A\\1445658787_366122_20250630_probeABC\\Record Node 101\\experiment1\\recording1\\events\\MessageCenter\\\n",
      "100%  ew File  \t\t     128\tsample_numbers.npy\n",
      "100%  ew File  \t\t     128\ttext.npy\n",
      "100%  ew File  \t\t     128\ttimestamps.npy\n",
      "\t  New Dir          0\t\\\\W10DT713843\\A\\1445658787_366122_20250630_probeABC\\Record Node 101\\experiment1\\recording1\\events\\Neuropix-PXI-100.ProbeA-AP\\\n",
      "\t  New Dir          4\t\\\\W10DT713843\\A\\1445658787_366122_20250630_probeABC\\Record Node 101\\experiment1\\recording1\\events\\Neuropix-PXI-100.ProbeA-AP\\TTL\\\n",
      "100%  ew File  \t\t     272\tfull_words.npy\n",
      "100%  ew File  \t\t     272\tsample_numbers.npy\n",
      "100%  ew File  \t\t     164\tstates.npy\n",
      "100%  ew File  \t\t     272\ttimestamps.npy\n",
      "\t  New Dir          0\t\\\\W10DT713843\\A\\1445658787_366122_20250630_probeABC\\Record Node 101\\experiment1\\recording1\\events\\Neuropix-PXI-100.ProbeA-LFP\\\n",
      "\t  New Dir          4\t\\\\W10DT713843\\A\\1445658787_366122_20250630_probeABC\\Record Node 101\\experiment1\\recording1\\events\\Neuropix-PXI-100.ProbeA-LFP\\TTL\\\n",
      "100%  ew File  \t\t     272\tfull_words.npy\n",
      "100%  ew File  \t\t     272\tsample_numbers.npy\n",
      "100%  ew File  \t\t     164\tstates.npy\n",
      "100%  ew File  \t\t     272\ttimestamps.npy\n",
      "\t  New Dir          0\t\\\\W10DT713843\\A\\1445658787_366122_20250630_probeABC\\Record Node 101\\experiment1\\recording1\\events\\Neuropix-PXI-100.ProbeB-AP\\\n",
      "\t  New Dir          4\t\\\\W10DT713843\\A\\1445658787_366122_20250630_probeABC\\Record Node 101\\experiment1\\recording1\\events\\Neuropix-PXI-100.ProbeB-AP\\TTL\\\n",
      "100%  ew File  \t\t     272\tfull_words.npy\n",
      "100%  ew File  \t\t     272\tsample_numbers.npy\n",
      "100%  ew File  \t\t     164\tstates.npy\n",
      "100%  ew File  \t\t     272\ttimestamps.npy\n",
      "\t  New Dir          0\t\\\\W10DT713843\\A\\1445658787_366122_20250630_probeABC\\Record Node 101\\experiment1\\recording1\\events\\Neuropix-PXI-100.ProbeB-LFP\\\n",
      "\t  New Dir          4\t\\\\W10DT713843\\A\\1445658787_366122_20250630_probeABC\\Record Node 101\\experiment1\\recording1\\events\\Neuropix-PXI-100.ProbeB-LFP\\TTL\\\n",
      "100%  ew File  \t\t     272\tfull_words.npy\n",
      "100%  ew File  \t\t     272\tsample_numbers.npy\n",
      "100%  ew File  \t\t     164\tstates.npy\n",
      "100%  ew File  \t\t     272\ttimestamps.npy\n",
      "\t  New Dir          0\t\\\\W10DT713843\\A\\1445658787_366122_20250630_probeABC\\Record Node 101\\experiment1\\recording1\\events\\Neuropix-PXI-100.ProbeC-AP\\\n",
      "\t  New Dir          4\t\\\\W10DT713843\\A\\1445658787_366122_20250630_probeABC\\Record Node 101\\experiment1\\recording1\\events\\Neuropix-PXI-100.ProbeC-AP\\TTL\\\n",
      "100%  ew File  \t\t     272\tfull_words.npy\n",
      "100%  ew File  \t\t     272\tsample_numbers.npy\n",
      "100%  ew File  \t\t     164\tstates.npy\n",
      "100%  ew File  \t\t     272\ttimestamps.npy\n",
      "\t  New Dir          0\t\\\\W10DT713843\\A\\1445658787_366122_20250630_probeABC\\Record Node 101\\experiment1\\recording1\\events\\Neuropix-PXI-100.ProbeC-LFP\\\n",
      "\t  New Dir          4\t\\\\W10DT713843\\A\\1445658787_366122_20250630_probeABC\\Record Node 101\\experiment1\\recording1\\events\\Neuropix-PXI-100.ProbeC-LFP\\TTL\\\n",
      "100%  ew File  \t\t     272\tfull_words.npy\n",
      "100%  ew File  \t\t     272\tsample_numbers.npy\n",
      "100%  ew File  \t\t     164\tstates.npy\n",
      "100%  ew File  \t\t     272\ttimestamps.npy\n",
      "\t  New Dir          0\t\\\\W10DT713843\\A\\1445658787_366122_20250630_probeABC\\Record Node 101\\experiment1\\recording1\\events\\Neuropix-PXI-100.ProbeD-AP\\\n",
      "\t  New Dir          4\t\\\\W10DT713843\\A\\1445658787_366122_20250630_probeABC\\Record Node 101\\experiment1\\recording1\\events\\Neuropix-PXI-100.ProbeD-AP\\TTL\\\n",
      "100%  ew File  \t\t     272\tfull_words.npy\n",
      "100%  ew File  \t\t     272\tsample_numbers.npy\n",
      "100%  ew File  \t\t     164\tstates.npy\n",
      "100%  ew File  \t\t     272\ttimestamps.npy\n",
      "\t  New Dir          0\t\\\\W10DT713843\\A\\1445658787_366122_20250630_probeABC\\Record Node 101\\experiment1\\recording1\\events\\Neuropix-PXI-100.ProbeD-LFP\\\n",
      "\t  New Dir          4\t\\\\W10DT713843\\A\\1445658787_366122_20250630_probeABC\\Record Node 101\\experiment1\\recording1\\events\\Neuropix-PXI-100.ProbeD-LFP\\TTL\\\n",
      "100%  ew File  \t\t     272\tfull_words.npy\n",
      "100%  ew File  \t\t     272\tsample_numbers.npy\n",
      "100%  ew File  \t\t     164\tstates.npy\n",
      "100%  ew File  \t\t     272\ttimestamps.npy\n",
      "\t  New Dir          0\t\\\\W10DT713843\\A\\1445658787_366122_20250630_probeABC\\Record Node 101\\experiment1\\recording1\\events\\Neuropix-PXI-100.ProbeE-AP\\\n",
      "\t  New Dir          4\t\\\\W10DT713843\\A\\1445658787_366122_20250630_probeABC\\Record Node 101\\experiment1\\recording1\\events\\Neuropix-PXI-100.ProbeE-AP\\TTL\\\n",
      "100%  ew File  \t\t     272\tfull_words.npy\n",
      "100%  ew File  \t\t     272\tsample_numbers.npy\n",
      "100%  ew File  \t\t     164\tstates.npy\n",
      "100%  ew File  \t\t     272\ttimestamps.npy\n",
      "\t  New Dir          0\t\\\\W10DT713843\\A\\1445658787_366122_20250630_probeABC\\Record Node 101\\experiment1\\recording1\\events\\Neuropix-PXI-100.ProbeE-LFP\\\n",
      "\t  New Dir          4\t\\\\W10DT713843\\A\\1445658787_366122_20250630_probeABC\\Record Node 101\\experiment1\\recording1\\events\\Neuropix-PXI-100.ProbeE-LFP\\TTL\\\n",
      "100%  ew File  \t\t     272\tfull_words.npy\n",
      "100%  ew File  \t\t     272\tsample_numbers.npy\n",
      "100%  ew File  \t\t     164\tstates.npy\n",
      "100%  ew File  \t\t     272\ttimestamps.npy\n",
      "\t  New Dir          0\t\\\\W10DT713843\\A\\1445658787_366122_20250630_probeABC\\Record Node 101\\experiment1\\recording1\\events\\Neuropix-PXI-100.ProbeF-AP\\\n",
      "\t  New Dir          4\t\\\\W10DT713843\\A\\1445658787_366122_20250630_probeABC\\Record Node 101\\experiment1\\recording1\\events\\Neuropix-PXI-100.ProbeF-AP\\TTL\\\n",
      "100%  ew File  \t\t     272\tfull_words.npy\n",
      "100%  ew File  \t\t     272\tsample_numbers.npy\n",
      "100%  ew File  \t\t     164\tstates.npy\n",
      "100%  ew File  \t\t     272\ttimestamps.npy\n",
      "\t  New Dir          0\t\\\\W10DT713843\\A\\1445658787_366122_20250630_probeABC\\Record Node 101\\experiment1\\recording1\\events\\Neuropix-PXI-100.ProbeF-LFP\\\n",
      "\t  New Dir          4\t\\\\W10DT713843\\A\\1445658787_366122_20250630_probeABC\\Record Node 101\\experiment1\\recording1\\events\\Neuropix-PXI-100.ProbeF-LFP\\TTL\\\n",
      "100%  ew File  \t\t     272\tfull_words.npy\n",
      "100%  ew File  \t\t     272\tsample_numbers.npy\n",
      "100%  ew File  \t\t     164\tstates.npy\n",
      "100%  ew File  \t\t     272\ttimestamps.npy\n",
      "\n",
      "------------------------------------------------------------------------------\n",
      "\n",
      "               Total    Copied   Skipped  Mismatch    FAILED    Extras\n",
      "    Dirs :        37        37         0         0         0         0\n",
      "   Files :        72        72         0         0         0         0\n",
      "   Bytes :   1.379 g   1.379 g         0         0         0         0\n",
      "   Times :   0:00:27   0:00:16                       0:00:00   0:00:10\n",
      "\n",
      "\n",
      "   Speed :            87655547 Bytes/sec.\n",
      "   Speed :            5015.690 MegaBytes/min.\n",
      "   Ended : Monday, June 30, 2025 12:45:08 PM\n",
      "\n",
      "12:45 | paramiko.transport | INFO | Connected (version 2.0, client OpenSSH_for_Windows_7.9)\n",
      "12:45 | paramiko.transport | INFO | Authentication (password) successful!\n",
      "\n",
      "-------------------------------------------------------------------------------\n",
      "   ROBOCOPY     ::     Robust File Copy for Windows                              \n",
      "-------------------------------------------------------------------------------\n",
      "\n",
      "  Started : Monday, June 30, 2025 12:45:08 PM\n",
      "   Source : \\\\W10DT713843\\B\\1445658787_366122_20250630_probeDEF\\\n",
      "     Dest : \\\\allen\\programs\\mindscope\\workgroups\\np-exp\\1445658787_366122_20250630\\1445658787_366122_20250630_probeDEF\\\n",
      "\n",
      "    Files : *.*\n",
      "\t    \n",
      "  Options : *.* /S /DCOPY:DA /COPY:DAT /J /XO /R:1000000 /W:30 \n",
      "\n",
      "------------------------------------------------------------------------------\n",
      "\n",
      "\t  New Dir          0\t\\\\W10DT713843\\B\\1445658787_366122_20250630_probeDEF\\\n",
      "\t  New Dir          1\t\\\\W10DT713843\\B\\1445658787_366122_20250630_probeDEF\\Record Node 103\\\n",
      "100%  ew File  \t\t  137696\tsettings.xml\n",
      "\t  New Dir          0\t\\\\W10DT713843\\B\\1445658787_366122_20250630_probeDEF\\Record Node 103\\experiment1\\\n",
      "\t  New Dir          2\t\\\\W10DT713843\\B\\1445658787_366122_20250630_probeDEF\\Record Node 103\\experiment1\\recording1\\\n",
      "100%  ew File  \t\t   1.5 m\tstructure.oebin\n",
      "100%  ew File  \t\t     875\tsync_messages.txt\n",
      "\t  New Dir          0\t\\\\W10DT713843\\B\\1445658787_366122_20250630_probeDEF\\Record Node 103\\experiment1\\recording1\\continuous\\\n",
      "\t  New Dir          3\t\\\\W10DT713843\\B\\1445658787_366122_20250630_probeDEF\\Record Node 103\\experiment1\\recording1\\continuous\\Neuropix-PXI-100.ProbeD-AP\\\n",
      "100%  ew File  \t\t 424.9 m\tcontinuous.dat\n",
      "100%  ew File  \t\t   4.4 m\tsample_numbers.npy\n",
      "100%  ew File  \t\t   4.4 m\ttimestamps.npy\n",
      "\t  New Dir          3\t\\\\W10DT713843\\B\\1445658787_366122_20250630_probeDEF\\Record Node 103\\experiment1\\recording1\\continuous\\Neuropix-PXI-100.ProbeD-LFP\\\n",
      "100%  ew File  \t\t  35.4 m\tcontinuous.dat\n",
      "100%  ew File  \t\t  387096\tsample_numbers.npy\n",
      "100%  ew File  \t\t  387096\ttimestamps.npy\n",
      "\t  New Dir          3\t\\\\W10DT713843\\B\\1445658787_366122_20250630_probeDEF\\Record Node 103\\experiment1\\recording1\\continuous\\Neuropix-PXI-100.ProbeE-AP\\\n",
      "100%  ew File  \t\t 425.0 m\tcontinuous.dat\n",
      "100%  ew File  \t\t   4.4 m\tsample_numbers.npy\n",
      "100%  ew File  \t\t   4.4 m\ttimestamps.npy\n",
      "\t  New Dir          3\t\\\\W10DT713843\\B\\1445658787_366122_20250630_probeDEF\\Record Node 103\\experiment1\\recording1\\continuous\\Neuropix-PXI-100.ProbeE-LFP\\\n",
      "100%  ew File  \t\t  35.4 m\tcontinuous.dat\n",
      "100%  ew File  \t\t  387024\tsample_numbers.npy\n",
      "100%  ew File  \t\t  387024\ttimestamps.npy\n",
      "\t  New Dir          3\t\\\\W10DT713843\\B\\1445658787_366122_20250630_probeDEF\\Record Node 103\\experiment1\\recording1\\continuous\\Neuropix-PXI-100.ProbeF-AP\\\n",
      "100%  ew File  \t\t 425.0 m\tcontinuous.dat\n",
      "100%  ew File  \t\t   4.4 m\tsample_numbers.npy\n",
      "100%  ew File  \t\t   4.4 m\ttimestamps.npy\n",
      "\t  New Dir          3\t\\\\W10DT713843\\B\\1445658787_366122_20250630_probeDEF\\Record Node 103\\experiment1\\recording1\\continuous\\Neuropix-PXI-100.ProbeF-LFP\\\n",
      "100%  ew File  \t\t  35.4 m\tcontinuous.dat\n",
      "100%  ew File  \t\t  387168\tsample_numbers.npy\n",
      "100%  ew File  \t\t  387168\ttimestamps.npy\n",
      "\t  New Dir          0\t\\\\W10DT713843\\B\\1445658787_366122_20250630_probeDEF\\Record Node 103\\experiment1\\recording1\\events\\\n",
      "\t  New Dir          3\t\\\\W10DT713843\\B\\1445658787_366122_20250630_probeDEF\\Record Node 103\\experiment1\\recording1\\events\\MessageCenter\\\n",
      "100%  ew File  \t\t     128\tsample_numbers.npy\n",
      "100%  ew File  \t\t     128\ttext.npy\n",
      "100%  ew File  \t\t     128\ttimestamps.npy\n",
      "\t  New Dir          0\t\\\\W10DT713843\\B\\1445658787_366122_20250630_probeDEF\\Record Node 103\\experiment1\\recording1\\events\\Neuropix-PXI-100.ProbeA-AP\\\n",
      "\t  New Dir          4\t\\\\W10DT713843\\B\\1445658787_366122_20250630_probeDEF\\Record Node 103\\experiment1\\recording1\\events\\Neuropix-PXI-100.ProbeA-AP\\TTL\\\n",
      "100%  ew File  \t\t     272\tfull_words.npy\n",
      "100%  ew File  \t\t     272\tsample_numbers.npy\n",
      "100%  ew File  \t\t     164\tstates.npy\n",
      "100%  ew File  \t\t     272\ttimestamps.npy\n",
      "\t  New Dir          0\t\\\\W10DT713843\\B\\1445658787_366122_20250630_probeDEF\\Record Node 103\\experiment1\\recording1\\events\\Neuropix-PXI-100.ProbeA-LFP\\\n",
      "\t  New Dir          4\t\\\\W10DT713843\\B\\1445658787_366122_20250630_probeDEF\\Record Node 103\\experiment1\\recording1\\events\\Neuropix-PXI-100.ProbeA-LFP\\TTL\\\n",
      "100%  ew File  \t\t     272\tfull_words.npy\n",
      "100%  ew File  \t\t     272\tsample_numbers.npy\n",
      "100%  ew File  \t\t     164\tstates.npy\n",
      "100%  ew File  \t\t     272\ttimestamps.npy\n",
      "\t  New Dir          0\t\\\\W10DT713843\\B\\1445658787_366122_20250630_probeDEF\\Record Node 103\\experiment1\\recording1\\events\\Neuropix-PXI-100.ProbeB-AP\\\n",
      "\t  New Dir          4\t\\\\W10DT713843\\B\\1445658787_366122_20250630_probeDEF\\Record Node 103\\experiment1\\recording1\\events\\Neuropix-PXI-100.ProbeB-AP\\TTL\\\n",
      "100%  ew File  \t\t     272\tfull_words.npy\n",
      "100%  ew File  \t\t     272\tsample_numbers.npy\n",
      "100%  ew File  \t\t     164\tstates.npy\n",
      "100%  ew File  \t\t     272\ttimestamps.npy\n",
      "\t  New Dir          0\t\\\\W10DT713843\\B\\1445658787_366122_20250630_probeDEF\\Record Node 103\\experiment1\\recording1\\events\\Neuropix-PXI-100.ProbeB-LFP\\\n",
      "\t  New Dir          4\t\\\\W10DT713843\\B\\1445658787_366122_20250630_probeDEF\\Record Node 103\\experiment1\\recording1\\events\\Neuropix-PXI-100.ProbeB-LFP\\TTL\\\n",
      "100%  ew File  \t\t     272\tfull_words.npy\n",
      "100%  ew File  \t\t     272\tsample_numbers.npy\n",
      "100%  ew File  \t\t     164\tstates.npy\n",
      "100%  ew File  \t\t     272\ttimestamps.npy\n",
      "\t  New Dir          0\t\\\\W10DT713843\\B\\1445658787_366122_20250630_probeDEF\\Record Node 103\\experiment1\\recording1\\events\\Neuropix-PXI-100.ProbeC-AP\\\n",
      "\t  New Dir          4\t\\\\W10DT713843\\B\\1445658787_366122_20250630_probeDEF\\Record Node 103\\experiment1\\recording1\\events\\Neuropix-PXI-100.ProbeC-AP\\TTL\\\n",
      "100%  ew File  \t\t     272\tfull_words.npy\n",
      "100%  ew File  \t\t     272\tsample_numbers.npy\n",
      "100%  ew File  \t\t     164\tstates.npy\n",
      "100%  ew File  \t\t     272\ttimestamps.npy\n",
      "\t  New Dir          0\t\\\\W10DT713843\\B\\1445658787_366122_20250630_probeDEF\\Record Node 103\\experiment1\\recording1\\events\\Neuropix-PXI-100.ProbeC-LFP\\\n",
      "\t  New Dir          4\t\\\\W10DT713843\\B\\1445658787_366122_20250630_probeDEF\\Record Node 103\\experiment1\\recording1\\events\\Neuropix-PXI-100.ProbeC-LFP\\TTL\\\n",
      "100%  ew File  \t\t     272\tfull_words.npy\n",
      "100%  ew File  \t\t     272\tsample_numbers.npy\n",
      "100%  ew File  \t\t     164\tstates.npy\n",
      "100%  ew File  \t\t     272\ttimestamps.npy\n",
      "\t  New Dir          0\t\\\\W10DT713843\\B\\1445658787_366122_20250630_probeDEF\\Record Node 103\\experiment1\\recording1\\events\\Neuropix-PXI-100.ProbeD-AP\\\n",
      "\t  New Dir          4\t\\\\W10DT713843\\B\\1445658787_366122_20250630_probeDEF\\Record Node 103\\experiment1\\recording1\\events\\Neuropix-PXI-100.ProbeD-AP\\TTL\\\n",
      "100%  ew File  \t\t     272\tfull_words.npy\n",
      "100%  ew File  \t\t     272\tsample_numbers.npy\n",
      "100%  ew File  \t\t     164\tstates.npy\n",
      "100%  ew File  \t\t     272\ttimestamps.npy\n",
      "\t  New Dir          0\t\\\\W10DT713843\\B\\1445658787_366122_20250630_probeDEF\\Record Node 103\\experiment1\\recording1\\events\\Neuropix-PXI-100.ProbeD-LFP\\\n",
      "\t  New Dir          4\t\\\\W10DT713843\\B\\1445658787_366122_20250630_probeDEF\\Record Node 103\\experiment1\\recording1\\events\\Neuropix-PXI-100.ProbeD-LFP\\TTL\\\n",
      "100%  ew File  \t\t     272\tfull_words.npy\n",
      "100%  ew File  \t\t     272\tsample_numbers.npy\n",
      "100%  ew File  \t\t     164\tstates.npy\n",
      "100%  ew File  \t\t     272\ttimestamps.npy\n",
      "\t  New Dir          0\t\\\\W10DT713843\\B\\1445658787_366122_20250630_probeDEF\\Record Node 103\\experiment1\\recording1\\events\\Neuropix-PXI-100.ProbeE-AP\\\n",
      "\t  New Dir          4\t\\\\W10DT713843\\B\\1445658787_366122_20250630_probeDEF\\Record Node 103\\experiment1\\recording1\\events\\Neuropix-PXI-100.ProbeE-AP\\TTL\\\n",
      "100%  ew File  \t\t     272\tfull_words.npy\n",
      "100%  ew File  \t\t     272\tsample_numbers.npy\n",
      "100%  ew File  \t\t     164\tstates.npy\n",
      "100%  ew File  \t\t     272\ttimestamps.npy\n",
      "\t  New Dir          0\t\\\\W10DT713843\\B\\1445658787_366122_20250630_probeDEF\\Record Node 103\\experiment1\\recording1\\events\\Neuropix-PXI-100.ProbeE-LFP\\\n",
      "\t  New Dir          4\t\\\\W10DT713843\\B\\1445658787_366122_20250630_probeDEF\\Record Node 103\\experiment1\\recording1\\events\\Neuropix-PXI-100.ProbeE-LFP\\TTL\\\n",
      "100%  ew File  \t\t     272\tfull_words.npy\n",
      "100%  ew File  \t\t     272\tsample_numbers.npy\n",
      "100%  ew File  \t\t     164\tstates.npy\n",
      "100%  ew File  \t\t     272\ttimestamps.npy\n",
      "\t  New Dir          0\t\\\\W10DT713843\\B\\1445658787_366122_20250630_probeDEF\\Record Node 103\\experiment1\\recording1\\events\\Neuropix-PXI-100.ProbeF-AP\\\n",
      "\t  New Dir          4\t\\\\W10DT713843\\B\\1445658787_366122_20250630_probeDEF\\Record Node 103\\experiment1\\recording1\\events\\Neuropix-PXI-100.ProbeF-AP\\TTL\\\n",
      "100%  ew File  \t\t     272\tfull_words.npy\n",
      "100%  ew File  \t\t     272\tsample_numbers.npy\n",
      "100%  ew File  \t\t     164\tstates.npy\n",
      "100%  ew File  \t\t     272\ttimestamps.npy\n",
      "\t  New Dir          0\t\\\\W10DT713843\\B\\1445658787_366122_20250630_probeDEF\\Record Node 103\\experiment1\\recording1\\events\\Neuropix-PXI-100.ProbeF-LFP\\\n",
      "\t  New Dir          4\t\\\\W10DT713843\\B\\1445658787_366122_20250630_probeDEF\\Record Node 103\\experiment1\\recording1\\events\\Neuropix-PXI-100.ProbeF-LFP\\TTL\\\n",
      "100%  ew File  \t\t     272\tfull_words.npy\n",
      "100%  ew File  \t\t     272\tsample_numbers.npy\n",
      "100%  ew File  \t\t     164\tstates.npy\n",
      "100%  ew File  \t\t     272\ttimestamps.npy\n",
      "\n",
      "------------------------------------------------------------------------------\n",
      "\n",
      "               Total    Copied   Skipped  Mismatch    FAILED    Extras\n",
      "    Dirs :        37        37         0         0         0         0\n",
      "   Files :        72        72         0         0         0         0\n",
      "   Bytes :   1.378 g   1.378 g         0         0         0         0\n",
      "   Times :   0:00:26   0:00:15                       0:00:00   0:00:10\n",
      "\n",
      "\n",
      "   Speed :            92782887 Bytes/sec.\n",
      "   Speed :            5309.079 MegaBytes/min.\n",
      "   Ended : Monday, June 30, 2025 12:45:35 PM\n",
      "\n"
     ]
    }
   ],
   "source": [
    "experiment.copy_files()"
   ]
  },
  {
   "cell_type": "code",
   "execution_count": 17,
   "metadata": {},
   "outputs": [
    {
     "data": {
      "text/plain": [
       "Project('NeuropixelPlatformDevelopment')"
      ]
     },
     "execution_count": 17,
     "metadata": {},
     "output_type": "execute_result"
    }
   ],
   "source": [
    "session.project"
   ]
  },
  {
   "cell_type": "markdown",
   "metadata": {},
   "source": [
    "# Add to post-experiment pipeline\n",
    "\n",
    "**hab**\n",
    "- add session to QC queue\n",
    "\n",
    "**ephys**\n",
    "- add session to np-exp upload queue, specifying this rig's Acq as `hostname`\n",
    "    - ensures checksum-validated copy of ephys data on np-exp\n",
    "    - then adds session to spike-sorting queue\n",
    "    - then adds session to QC queue"
   ]
  },
  {
   "cell_type": "code",
   "execution_count": 16,
   "metadata": {},
   "outputs": [],
   "source": [
    "if hab:\n",
    "    np_jobs.PipelineQCQueue().add_or_update(session, priority=99)\n",
    "else:\n",
    "    np_jobs.PipelineNpexpUploadQueue().add_or_update(session, hostname=np_config.Rig().Acq, priority=99)"
   ]
  },
  {
   "cell_type": "code",
   "execution_count": null,
   "metadata": {},
   "outputs": [],
   "source": []
  }
 ],
 "metadata": {
  "kernelspec": {
   "display_name": "Python 3 (ipykernel)",
   "language": "python",
   "name": "python3"
  },
  "language_info": {
   "codemirror_mode": {
    "name": "ipython",
    "version": 3
   },
   "file_extension": ".py",
   "mimetype": "text/x-python",
   "name": "python",
   "nbconvert_exporter": "python",
   "pygments_lexer": "ipython3",
   "version": "3.11.0"
  },
  "toc-autonumbering": true,
  "vscode": {
   "interpreter": {
    "hash": "75a294dbf81199b26941ed5b32867c59e8bcc1170a51aebad9d5a69e8ca694a9"
   }
  }
 },
 "nbformat": 4,
 "nbformat_minor": 4
}
