{
 "cells": [
  {
   "cell_type": "code",
   "execution_count": null,
   "metadata": {},
   "outputs": [],
   "source": [
    "%pip install --extra-index-url https://pypi.org/simple --upgrade --quiet np_workflows\n",
    "%load_ext autoreload\n",
    "%autoreload 2\n",
    "\n",
    "from __future__ import annotations\n",
    "\n",
    "import datetime\n",
    "import logging\n",
    "import os\n",
    "import pathlib\n",
    "import time\n",
    "\n",
    "import IPython\n",
    "import ipywidgets as widgets\n",
    "\n",
    "import np_logging\n",
    "logger = np_logging.getLogger()\n",
    "logger.setLevel(logging.INFO)\n",
    "logger.handlers[2].setLevel(20)\n",
    "\n",
    "import np_workflows.workflows.shared.npxc as npxc\n",
    "import np_session\n",
    "import np_config\n",
    "\n",
    "\n",
    "from np_workflows.services import utils\n",
    "from np_workflows.services import open_ephys as OpenEphys\n",
    "from np_workflows.services.proxies import (\n",
    "    Sync, VideoMVR, ImageMVR, NoCamstim, ScriptCamstim, NewScaleCoordinateRecorder,\n",
    ")\n",
    "from np_workflows.services.protocols import (\n",
    "    Pretestable, Initializable, Startable, Testable, Stoppable, Finalizable, Pretestable, Verifiable, Validatable,\n",
    "    TestFailure,\n",
    "    )\n",
    "\n",
    "workflow_start_time = time.time() if 'workflow_start_time' not in globals().keys() | locals().keys() else workflow_start_time\n",
    "npxc.start_rsc_apps()"
   ]
  },
  {
   "cell_type": "code",
   "execution_count": null,
   "metadata": {},
   "outputs": [],
   "source": [
    "def elapsed_time_widget(start_time: int | float | datetime.datetime) -> widgets.Text:\n",
    "    import threading\n",
    "    start_time_widget = widgets.Text(value='', description='Since restart', disabled=True)\n",
    "    if isinstance(start_time, datetime.datetime):\n",
    "        start_time = start_time.timestamp()\n",
    "    def update_timer():\n",
    "        while True:\n",
    "            elapsed_sec = time.time() - start_time\n",
    "            hours, remainder = divmod(elapsed_sec, 3600)\n",
    "            minutes, seconds = divmod(remainder, 60)\n",
    "            start_time_widget.value = '{:02}h:{:02}m:{:02}s'.format(int(hours), int(minutes), int(seconds))\n",
    "            time.sleep(0.2)\n",
    "    thread = threading.Thread(target=update_timer, args=())\n",
    "    thread.start()\n",
    "    return start_time_widget\n",
    "\n",
    "display(elapsed_time_widget(start_time=workflow_start_time))"
   ]
  },
  {
   "cell_type": "markdown",
   "metadata": {},
   "source": [
    "**Remember to restart kernel before each experiment**"
   ]
  },
  {
   "cell_type": "code",
   "execution_count": null,
   "metadata": {},
   "outputs": [],
   "source": [
    "mouse = np_session.lims.MouseInfo(644864)\n",
    "user = np_session.lims.UserInfo('samg')\n",
    "\n",
    "task_name = 'stage 5 AMN ori moving'"
   ]
  },
  {
   "cell_type": "code",
   "execution_count": null,
   "metadata": {},
   "outputs": [],
   "source": [
    "# session = np_session.lims.generate_ecephys_session(mouse, user)\n",
    "\n",
    "data_root = pathlib.Path('//allen/programs/mindscope/workgroups/dynamicrouting/PilotEphys/Task 2 pilot')\n",
    "\n",
    "session_folder = data_root / f'{datetime.datetime.now():%Y-%m-%d_%H-%M-%S}_{mouse}'\n",
    "session_folder.mkdir(parents=True, exist_ok=True)\n",
    "\n",
    "services = (Sync, VideoMVR, ImageMVR, OpenEphys, NewScaleCoordinateRecorder, ScriptCamstim)"
   ]
  },
  {
   "cell_type": "markdown",
   "metadata": {},
   "source": [
    "# *Pretest*"
   ]
  },
  {
   "cell_type": "code",
   "execution_count": null,
   "metadata": {},
   "outputs": [],
   "source": [
    "OpenEphys.pretest()"
   ]
  },
  {
   "cell_type": "code",
   "execution_count": null,
   "metadata": {},
   "outputs": [],
   "source": [
    "ImageMVR.pretest()"
   ]
  },
  {
   "cell_type": "code",
   "execution_count": null,
   "metadata": {},
   "outputs": [],
   "source": [
    "VideoMVR.pretest()"
   ]
  },
  {
   "cell_type": "code",
   "execution_count": null,
   "metadata": {},
   "outputs": [],
   "source": [
    "NewScaleCoordinateRecorder.pretest()"
   ]
  },
  {
   "cell_type": "code",
   "execution_count": null,
   "metadata": {},
   "outputs": [],
   "source": [
    "Sync.pretest()"
   ]
  },
  {
   "cell_type": "code",
   "execution_count": null,
   "metadata": {},
   "outputs": [],
   "source": [
    "ScriptCamstim.pretest() #! runs biscript_pretest_v2, which fails *ran without showing error message (not sure if worked) 2/2/23"
   ]
  },
  {
   "cell_type": "markdown",
   "metadata": {},
   "source": [
    "# *Experiment*"
   ]
  },
  {
   "cell_type": "markdown",
   "metadata": {},
   "source": [
    "#  **Before putting mouse on stage**\n",
    "\n",
    "**Open Ephys**\n",
    "* Record Nodes set to A:/B: (or E:/G: on NP.3)\n",
    "* Disk space on each Record Node (single long vertical bar)\n",
    "* 50/50 channels on each Record Node (shorter vertical bars) #!\n",
    "* Tip-reference on all probes\n",
    "* Barcodes displaying\n",
    "\n",
    "**Stage**\n",
    "* Probes fully retracted, cartridge raised\n",
    "* Water lines flushed"
   ]
  },
  {
   "cell_type": "code",
   "execution_count": null,
   "metadata": {},
   "outputs": [],
   "source": [
    "ScriptCamstim.script = '//allen/programs/mindscope/workgroups/dynamicrouting/DynamicRoutingTask/runTask.py'\n",
    "\n",
    "task_params = dict(\n",
    "    rigName = 'NP3',\n",
    "    subjectName = str(mouse),\n",
    "    taskScript = '//allen/programs/mindscope/workgroups/dynamicrouting/DynamicRoutingTask/DynamicRouting1.py',\n",
    "    taskVersion = task_name,\n",
    ")\n",
    "\n",
    "mapping_params = dict(\n",
    "    rigName = 'NP3',\n",
    "    subjectName = str(mouse),\n",
    "    taskScript = '//allen/programs/mindscope/workgroups/dynamicrouting/DynamicRoutingTask/RFMapping.py'\n",
    ")\n",
    "\n",
    "sound_test_params = dict(\n",
    "    rigName = 'NP3',\n",
    "    subjectName = 'sound',\n",
    "    taskScript = '//allen/programs/mindscope/workgroups/dynamicrouting/DynamicRoutingTask/TaskControl.py',\n",
    "    taskVersion = 'sound test',\n",
    ")\n",
    "\n",
    "ScriptCamstim.data_root = pathlib.Path('//allen/programs/mindscope/workgroups/dynamicrouting/DynamicRoutingTask/Data') / str(mouse)\n",
    "\n",
    "OpenEphys.folder = session_folder.name\n",
    "\n",
    "NewScaleCoordinateRecorder.log_root = session_folder"
   ]
  },
  {
   "cell_type": "markdown",
   "metadata": {},
   "source": [
    "## **Initialize & test services**"
   ]
  },
  {
   "cell_type": "code",
   "execution_count": null,
   "metadata": {},
   "outputs": [],
   "source": [
    "for service in services:\n",
    "    if isinstance(service, Initializable):\n",
    "        service.initialize()\n",
    "    if isinstance(service, Testable):\n",
    "        service.test()"
   ]
  },
  {
   "cell_type": "markdown",
   "metadata": {},
   "source": [
    "## **Run sound test**"
   ]
  },
  {
   "cell_type": "code",
   "execution_count": null,
   "metadata": {
    "tags": []
   },
   "outputs": [],
   "source": [
    "ScriptCamstim.params = sound_test_params\n",
    "ScriptCamstim.start()\n",
    "\n",
    "while not ScriptCamstim.is_ready_to_start():\n",
    "    time.sleep(1)\n",
    "\n",
    "# re-initialize in case sound test produces pkl files that we don't want:\n",
    "ScriptCamstim.initialize()"
   ]
  },
  {
   "cell_type": "markdown",
   "metadata": {},
   "source": [
    "# **Dip probes**"
   ]
  },
  {
   "cell_type": "markdown",
   "metadata": {},
   "source": [
    "## **Photodoc of probes in dye**"
   ]
  },
  {
   "cell_type": "code",
   "execution_count": null,
   "metadata": {},
   "outputs": [],
   "source": [
    "def photodoc(label: str | None) -> pathlib.Path:\n",
    "    ImageMVR.label = label\n",
    "    ImageMVR.start()\n",
    "    ImageMVR.finalize()\n",
    "    NewScaleCoordinateRecorder.start()\n",
    "    return ImageMVR.data_files[-1]\n",
    "\n",
    "IPython.display.Image(photodoc('pre_experiment_surface_image'))"
   ]
  },
  {
   "cell_type": "markdown",
   "metadata": {},
   "source": [
    "# **Load mouse onto stage**\n",
    "\n",
    "Before lowering cartridge, check:\n",
    "* Stabilization screw\n",
    "* quickcast, agarose/silicon oil\n",
    "* Tail cone down\n",
    "* Continuity check\n"
   ]
  },
  {
   "cell_type": "markdown",
   "metadata": {},
   "source": [
    "# **Lower cartridge**"
   ]
  },
  {
   "cell_type": "markdown",
   "metadata": {},
   "source": [
    "## **Photodoc of brain surface**\n",
    "\n",
    "Turn on light and focus on brain surface"
   ]
  },
  {
   "cell_type": "code",
   "execution_count": null,
   "metadata": {},
   "outputs": [],
   "source": [
    " IPython.display.Image(photodoc('brain_surface_image'))"
   ]
  },
  {
   "cell_type": "markdown",
   "metadata": {},
   "source": [
    "# **Insert probes**"
   ]
  },
  {
   "cell_type": "markdown",
   "metadata": {},
   "source": [
    "## **Photodoc before advancing probes**\n",
    "\n",
    "Turn on light and focus on brain surface"
   ]
  },
  {
   "cell_type": "code",
   "execution_count": null,
   "metadata": {},
   "outputs": [],
   "source": [
    "IPython.display.Image(photodoc('pre_insertion_surface_image'))"
   ]
  },
  {
   "cell_type": "markdown",
   "metadata": {},
   "source": [
    "## **Record probe locations and notes**"
   ]
  },
  {
   "cell_type": "code",
   "execution_count": null,
   "metadata": {},
   "outputs": [],
   "source": [
    "from np_probe_targets.implant_drawing import ProbeInsertionsTS5, ProbeTargetInsertionRecordWidget\n",
    "ProbeInsertionsTS5.save_dir = session_folder\n",
    "targets = ProbeInsertionsTS5([None] * 6)\n",
    "IPython.display.display(ProbeTargetInsertionRecordWidget(targets))"
   ]
  },
  {
   "cell_type": "markdown",
   "metadata": {},
   "source": [
    "## **Photodoc after probes reach target depth**\n",
    "\n",
    "Turn on light and focus on brain surface"
   ]
  },
  {
   "cell_type": "code",
   "execution_count": null,
   "metadata": {},
   "outputs": [],
   "source": [
    "IPython.display.Image(photodoc('post_insertion_surface_image'))"
   ]
  },
  {
   "cell_type": "markdown",
   "metadata": {},
   "source": [
    "## **Start settle timer**"
   ]
  },
  {
   "cell_type": "code",
   "execution_count": null,
   "metadata": {},
   "outputs": [],
   "source": [
    "wait_minutes = 20\n",
    "\n",
    "wait_sec = wait_minutes * 60\n",
    "time_0 = time.time()\n",
    "time_remaining = lambda: datetime.timedelta(seconds = wait_sec - (time.time() - time_0))\n",
    "while time_remaining().total_seconds() > 0:\n",
    "    print(f'{time_remaining()}', end='\\r', flush=True)\n",
    "    time.sleep(.1)"
   ]
  },
  {
   "cell_type": "markdown",
   "metadata": {},
   "source": [
    "# **Start recording**"
   ]
  },
  {
   "cell_type": "code",
   "execution_count": null,
   "metadata": {},
   "outputs": [],
   "source": [
    "Sync.get_state()"
   ]
  },
  {
   "cell_type": "code",
   "execution_count": null,
   "metadata": {},
   "outputs": [],
   "source": [
    "for service in (Sync, VideoMVR, OpenEphys):\n",
    "    service.start()\n",
    "    if isinstance(service, Verifiable):\n",
    "        time.sleep(1)\n",
    "        service.verify()"
   ]
  },
  {
   "cell_type": "markdown",
   "metadata": {},
   "source": [
    "# **Start mapping**"
   ]
  },
  {
   "cell_type": "code",
   "execution_count": null,
   "metadata": {},
   "outputs": [],
   "source": [
    "ScriptCamstim.params = mapping_params \n",
    "\n",
    "logger.info('Starting mapping')\n",
    "\n",
    "ScriptCamstim.start()\n",
    "\n",
    "# time.sleep(10)\n",
    "# ScriptCamstim.verify() # needs updating to not check filesize\n",
    "\n",
    "while not ScriptCamstim.is_ready_to_start():\n",
    "    time.sleep(10)\n",
    "\n",
    "if isinstance(ScriptCamstim, Finalizable):\n",
    "    ScriptCamstim.finalize()\n",
    "\n",
    "logger.info('Mapping complete')"
   ]
  },
  {
   "cell_type": "markdown",
   "metadata": {},
   "source": [
    "Give mousey a reward to test water delivery\n",
    "\n",
    "# **Start task**"
   ]
  },
  {
   "cell_type": "code",
   "execution_count": null,
   "metadata": {},
   "outputs": [],
   "source": [
    "ScriptCamstim.params = task_params\n",
    "\n",
    "logger.info('Starting task')\n",
    "\n",
    "ScriptCamstim.start()\n",
    "\n",
    "while not ScriptCamstim.is_ready_to_start():\n",
    "    time.sleep(10)\n",
    "\n",
    "if isinstance(ScriptCamstim, Finalizable):\n",
    "    ScriptCamstim.finalize()"
   ]
  },
  {
   "cell_type": "markdown",
   "metadata": {},
   "source": [
    "## **Stop recording**"
   ]
  },
  {
   "cell_type": "code",
   "execution_count": null,
   "metadata": {},
   "outputs": [],
   "source": [
    "while not ScriptCamstim.is_ready_to_start():\n",
    "    time.sleep(10)\n",
    "\n",
    "for service in (_ for _ in (Sync, VideoMVR, OpenEphys) if isinstance(_, Stoppable)):\n",
    "    service.stop()\n",
    "\n",
    "for service in (_ for _ in (VideoMVR, OpenEphys, ScriptCamstim) if isinstance(_, Finalizable)): # Sync will be finalized later to avoid waiting on processing\n",
    "    service.finalize()\n",
    "\n",
    "for service in (_ for _ in (VideoMVR, OpenEphys, ScriptCamstim) if isinstance(_, Validatable)):\n",
    "    service.validate()"
   ]
  },
  {
   "cell_type": "markdown",
   "metadata": {},
   "source": [
    "## **Photodoc post-experiment, before removing probes**\n",
    "\n",
    "Turn on light and focus on brain surface"
   ]
  },
  {
   "cell_type": "code",
   "execution_count": null,
   "metadata": {},
   "outputs": [],
   "source": [
    "IPython.display.Image(photodoc('post_stimulus_surface_image'))"
   ]
  },
  {
   "cell_type": "markdown",
   "metadata": {},
   "source": [
    "## **Fully retract probes**"
   ]
  },
  {
   "cell_type": "markdown",
   "metadata": {},
   "source": [
    "## **Final photodoc of brain surface without probes**\n",
    "\n",
    "Turn on light and focus on brain surface"
   ]
  },
  {
   "cell_type": "code",
   "execution_count": null,
   "metadata": {},
   "outputs": [],
   "source": [
    "IPython.display.Image(photodoc('post_experiment_surface_image'))"
   ]
  },
  {
   "cell_type": "markdown",
   "metadata": {},
   "source": [
    "## **Finish up**\n",
    "\n",
    "* raise cartridge\n",
    "* add quickcast\n",
    "* remove and water mouse"
   ]
  },
  {
   "cell_type": "markdown",
   "metadata": {},
   "source": [
    "## **Copy files**"
   ]
  },
  {
   "cell_type": "code",
   "execution_count": null,
   "metadata": {},
   "outputs": [],
   "source": [
    "import shutil\n",
    "import contextlib\n",
    "Sync.finalize() # moved from earlier to avoid waiting on Sync finishing processing\n",
    "for service in (Sync, VideoMVR, ImageMVR, ScriptCamstim):\n",
    "    with contextlib.suppress(AttributeError):\n",
    "        files = (service.data_files or service.get_latest_data('*'))\n",
    "        for file in files:\n",
    "            shutil.copy2(file, session_folder)\n",
    "        print(files)"
   ]
  },
  {
   "cell_type": "markdown",
   "metadata": {},
   "source": [
    "### **Copy ephys data**"
   ]
  },
  {
   "cell_type": "code",
   "execution_count": null,
   "metadata": {},
   "outputs": [],
   "source": [
    "import fabric\n",
    "password = input(f'Enter password for svc_neuropix:')\n",
    "for ephys_folder in OpenEphys.data_files:\n",
    "    fabric.Connection(host=OpenEphys.host, user='svc_neuropix', connect_kwargs=dict(password=password)).run(\n",
    "        f'robocopy \"{ephys_folder}\" \"{session_folder}\" /j /s /xo' # /j unbuffered, /s incl non-empty subdirs, /xo exclude src files older than dest\n",
    "    )"
   ]
  }
 ],
 "metadata": {
  "kernelspec": {
   "display_name": "Python 3 (ipykernel)",
   "language": "python",
   "name": "python3"
  },
  "language_info": {
   "codemirror_mode": {
    "name": "ipython",
    "version": 3
   },
   "file_extension": ".py",
   "mimetype": "text/x-python",
   "name": "python",
   "nbconvert_exporter": "python",
   "pygments_lexer": "ipython3",
   "version": "3.10.9"
  },
  "toc-autonumbering": true,
  "vscode": {
   "interpreter": {
    "hash": "23aa06469d48bd4a12b451f9a55e124a8d599210527ab2451a1538b3e3ec0a68"
   }
  }
 },
 "nbformat": 4,
 "nbformat_minor": 4
}
