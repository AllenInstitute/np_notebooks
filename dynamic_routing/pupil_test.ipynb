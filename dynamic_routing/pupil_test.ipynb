{
 "cells": [
  {
   "attachments": {},
   "cell_type": "markdown",
   "metadata": {},
   "source": [
    "# *Dynamic Routing*\n",
    "<img src=\"https://www.kvc.org/wp-content/uploads/2015/08/brain-600px-600x372.jpg\" width=\"320\" />"
   ]
  },
  {
   "cell_type": "markdown",
   "metadata": {},
   "source": [
    "## Run the update/reset shortcut on the desktop before each experiment\n",
    "***\n",
    "***\n",
    "# **Without mouse on stage**"
   ]
  },
  {
   "cell_type": "code",
   "execution_count": 2,
   "metadata": {},
   "outputs": [
    {
     "name": "stderr",
     "output_type": "stream",
     "text": [
      "Failed to enable remote-to-remote symlink creation: try running as admin\n"
     ]
    },
    {
     "data": {
      "application/vnd.jupyter.widget-view+json": {
       "model_id": "3972063505b04032a15b78fac03a2bdd",
       "version_major": 2,
       "version_minor": 0
      },
      "text/plain": [
       "VBox(children=(Label(value='Elapsed time: 00h 00m 00s'), Label(value='Remember to restart JupyterLab and run u…"
      ]
     },
     "metadata": {},
     "output_type": "display_data"
    }
   ],
   "source": [
    "import pathlib\n",
    "\n",
    "import IPython\n",
    "import ipywidgets as widgets\n",
    "\n",
    "import np_logging\n",
    "import np_session\n",
    "import np_services\n",
    "import np_workflows\n",
    "from np_workflows import npxc\n",
    "import np_workflows.experiments.dynamic_routing as DR\n",
    "import npc_shields\n",
    "\n",
    "from np_services.resources.zro import ZroError \n",
    "import contextlib\n",
    "\n",
    "np_logging.getLogger()\n",
    "\n",
    "np_workflows.elapsed_time_widget()"
   ]
  },
  {
   "attachments": {},
   "cell_type": "markdown",
   "metadata": {},
   "source": [
    "***\n",
    "## Quiet mode\n",
    "on  \n",
    "*default*\n",
    "- exception details are hidden\n",
    "- regular messages displayed (log level = INFO)\n",
    "\n",
    "off\n",
    "- full exception details with traceback\n",
    "- extra messages displayed (log level = DEBUG)"
   ]
  },
  {
   "cell_type": "code",
   "execution_count": 3,
   "metadata": {},
   "outputs": [
    {
     "data": {
      "application/vnd.jupyter.widget-view+json": {
       "model_id": "a0b2e7ea418648179648dddebd83200c",
       "version_major": 2,
       "version_minor": 0
      },
      "text/plain": [
       "ToggleButton(value=True, button_style='info', description='Quiet mode is on', icon='check', tooltip='Quiet mod…"
      ]
     },
     "metadata": {},
     "output_type": "display_data"
    }
   ],
   "source": [
    "np_workflows.quiet_mode_widget()"
   ]
  },
  {
   "cell_type": "markdown",
   "metadata": {},
   "source": [
    "***\n",
    "## Launch apps via RSC\n",
    "[optional]"
   ]
  },
  {
   "cell_type": "code",
   "execution_count": 4,
   "metadata": {},
   "outputs": [],
   "source": [
    "import contextlib\n",
    "with contextlib.suppress(Exception):\n",
    "    np_services.start_rsc_apps()"
   ]
  },
  {
   "cell_type": "markdown",
   "metadata": {},
   "source": [
    "***\n",
    "## Select mouse and user"
   ]
  },
  {
   "cell_type": "code",
   "execution_count": 5,
   "metadata": {},
   "outputs": [
    {
     "data": {
      "application/vnd.jupyter.widget-view+json": {
       "model_id": "7bab73d4469547e2ad6e599342904adf",
       "version_major": 2,
       "version_minor": 0
      },
      "text/plain": [
       "VBox(children=(Select(description='User:', options=('corbettb', 'ethan.mcbride', 'hannah.cabasco', 'jackie.kuy…"
      ]
     },
     "metadata": {},
     "output_type": "display_data"
    }
   ],
   "source": [
    "user, mouse = np_workflows.user_and_mouse_widget()"
   ]
  },
  {
   "cell_type": "markdown",
   "metadata": {},
   "source": [
    "***\n",
    "## Select HAB"
   ]
  },
  {
   "cell_type": "code",
   "execution_count": 6,
   "metadata": {
    "tags": []
   },
   "outputs": [
    {
     "data": {
      "application/vnd.jupyter.widget-view+json": {
       "model_id": "2dd464634d55424fb1607ed7557fb2b4",
       "version_major": 2,
       "version_minor": 0
      },
      "text/plain": [
       "VBox(children=(HBox(children=(Select(description='Workflow', options=('PRETEST', 'HAB', 'EPHYS', 'OPTO'), valu…"
      ]
     },
     "metadata": {},
     "output_type": "display_data"
    }
   ],
   "source": [
    "selection = DR.workflow_select_widget(mouse)"
   ]
  },
  {
   "cell_type": "markdown",
   "metadata": {},
   "source": [
    "***\n",
    "## Generate new session\n",
    "Re-run this cell if workflow is changed above.\n",
    "\n",
    "Check mouse ID and session are correct: this cell will lock them in!"
   ]
  },
  {
   "cell_type": "code",
   "execution_count": 7,
   "metadata": {
    "tags": []
   },
   "outputs": [
    {
     "name": "stdout",
     "output_type": "stream",
     "text": [
      "13:53 | np_workflows.shared.base_experiments | INFO | Hab(DRpilot_366122_20240322) created\n",
      "13:53 | web | INFO | Hab(DRpilot_366122_20240322) created\n"
     ]
    }
   ],
   "source": [
    "experiment: np_workflows.DynamicRoutingExperiment = DR.new_experiment(mouse, user, selection.workflow)\n",
    "session: np_session.Session = experiment.session"
   ]
  },
  {
   "cell_type": "markdown",
   "metadata": {},
   "source": [
    "***\n",
    "## Set task\n",
    "- select a preset task variant\n",
    "- modify in the text box as needed (right) - hit enter to apply"
   ]
  },
  {
   "cell_type": "markdown",
   "metadata": {},
   "source": [
    "Double-check task until we have confidence in the new widget!"
   ]
  },
  {
   "cell_type": "code",
   "execution_count": 14,
   "metadata": {},
   "outputs": [
    {
     "name": "stdout",
     "output_type": "stream",
     "text": [
      "task_name = '' doesn't correspond to a preset value, but the attribute is updated anyway!\n"
     ]
    }
   ],
   "source": [
    "experiment.use_github = False\n",
    "experiment.task_name = \"pupil te\""
   ]
  },
  {
   "cell_type": "code",
   "execution_count": 13,
   "metadata": {},
   "outputs": [],
   "source": [
    "import functools\n",
    "run_pupil_test = functools.partial(experiment.run_script, \"pupil test\")\n",
    "experiment.pupil_test_params = {'taskScript': 'TaskControl.py', 'subjectName': '366122', 'rigName': 'NP3', 'taskVersion':'pupil test'}"
   ]
  },
  {
   "cell_type": "code",
   "execution_count": 10,
   "metadata": {},
   "outputs": [],
   "source": [
    "hab: bool = False\n",
    "opto: bool = False     # 'opto' in task name: opto stim will run during task trials\n",
    "pretest: bool = False\n",
    "ephys: bool = False  # probes will be inserted: (ephys and opto) is possible\n",
    "optotagging: bool = False"
   ]
  },
  {
   "cell_type": "markdown",
   "metadata": {},
   "source": [
    "***\n",
    "## Pretest\n",
    "Checks before running"
   ]
  },
  {
   "cell_type": "code",
   "execution_count": 19,
   "metadata": {},
   "outputs": [
    {
     "data": {
      "application/vnd.jupyter.widget-view+json": {
       "model_id": "e6535e97673447d4a18c291539186cc9",
       "version_major": 2,
       "version_minor": 0
      },
      "text/plain": [
       "VBox(children=(Label(value='Stage checks:', layout=Layout(min_width='600px')), Checkbox(value=False, descripti…"
      ]
     },
     "metadata": {},
     "output_type": "display_data"
    }
   ],
   "source": [
    "np_workflows.check_hardware_widget()"
   ]
  },
  {
   "cell_type": "code",
   "execution_count": 20,
   "metadata": {
    "tags": []
   },
   "outputs": [
    {
     "data": {
      "application/vnd.jupyter.widget-view+json": {
       "model_id": "0e951fad2a8a4a28bde58cadf1071227",
       "version_major": 2,
       "version_minor": 0
      },
      "text/plain": [
       "VBox(children=(Label(value='OpenEphys checks:', layout=Layout(min_width='600px')), Checkbox(value=False, descr…"
      ]
     },
     "metadata": {},
     "output_type": "display_data"
    }
   ],
   "source": [
    "if ephys:\n",
    "    np_workflows.check_openephys_widget()"
   ]
  },
  {
   "cell_type": "markdown",
   "metadata": {
    "tags": []
   },
   "source": [
    "***\n",
    "## Setup, test, reset all components\n",
    "*This cell must not be skipped!*"
   ]
  },
  {
   "cell_type": "code",
   "execution_count": 11,
   "metadata": {},
   "outputs": [
    {
     "ename": "AssertionError",
     "evalue": "task name has not been set - assign manually in cell above",
     "output_type": "error",
     "traceback": [
      "\u001b[1;31mAssertionError\u001b[0m\u001b[1;31m:\u001b[0m task name has not been set - assign manually in cell above\n"
     ]
    }
   ],
   "source": [
    "assert experiment.task_name, \"task name has not been set - assign manually in cell above\"\n",
    "experiment.initialize_and_test_services()"
   ]
  },
  {
   "cell_type": "markdown",
   "metadata": {},
   "source": [
    "***\n",
    "## Start devices recording"
   ]
  },
  {
   "cell_type": "code",
   "execution_count": 1,
   "metadata": {
    "tags": []
   },
   "outputs": [
    {
     "ename": "NameError",
     "evalue": "name 'experiment' is not defined",
     "output_type": "error",
     "traceback": [
      "\u001b[1;31m---------------------------------------------------------------------------\u001b[0m",
      "\u001b[1;31mNameError\u001b[0m                                 Traceback (most recent call last)",
      "Cell \u001b[1;32mIn[1], line 1\u001b[0m\n\u001b[1;32m----> 1\u001b[0m \u001b[43mexperiment\u001b[49m\u001b[38;5;241m.\u001b[39mstart_recording()\n",
      "\u001b[1;31mNameError\u001b[0m: name 'experiment' is not defined"
     ]
    }
   ],
   "source": [
    "experiment.start_recording()"
   ]
  },
  {
   "cell_type": "code",
   "execution_count": null,
   "metadata": {},
   "outputs": [],
   "source": [
    "run_pupil_test()"
   ]
  },
  {
   "cell_type": "markdown",
   "metadata": {},
   "source": [
    "***\n",
    "## Stop recording"
   ]
  },
  {
   "cell_type": "code",
   "execution_count": null,
   "metadata": {},
   "outputs": [],
   "source": [
    "experiment.stop_recording_after_stim_finished()"
   ]
  },
  {
   "cell_type": "markdown",
   "metadata": {},
   "source": [
    "***"
   ]
  },
  {
   "cell_type": "markdown",
   "metadata": {},
   "source": [
    "## Finalize"
   ]
  },
  {
   "cell_type": "code",
   "execution_count": null,
   "metadata": {},
   "outputs": [],
   "source": [
    "experiment.finalize_services(*experiment.recorders, *experiment.stims)\n",
    "experiment.validate_services(*experiment.recorders, *experiment.stims)"
   ]
  },
  {
   "cell_type": "markdown",
   "metadata": {},
   "source": [
    "## Copy data"
   ]
  },
  {
   "cell_type": "markdown",
   "metadata": {},
   "source": [
    "### copy all raw dataexcept ephys to /allen "
   ]
  },
  {
   "cell_type": "code",
   "execution_count": null,
   "metadata": {},
   "outputs": [],
   "source": [
    "experiment.copy_data_files()"
   ]
  },
  {
   "cell_type": "markdown",
   "metadata": {},
   "source": [
    "### run and save QC notebook in current working directory "
   ]
  },
  {
   "cell_type": "code",
   "execution_count": null,
   "metadata": {},
   "outputs": [],
   "source": [
    "with contextlib.suppress(Exception):\n",
    "    import npc_sessions\n",
    "    npc_sessions.write_qc_notebook(\n",
    "        session_path_or_id=experiment.session.npexp_path.as_posix(),\n",
    "        save_path=pathlib.Path.cwd(),\n",
    "        ephys_record_node_dirs=tuple(\n",
    "            next(path.glob('Record Node*')).as_posix()\n",
    "            for path in np_services.OpenEphys.data_files\n",
    "            if experiment.session.folder in path.name\n",
    "            and 'surface' not in path.name\n",
    "        ),\n",
    "    )"
   ]
  },
  {
   "cell_type": "code",
   "execution_count": null,
   "metadata": {},
   "outputs": [],
   "source": [
    "import np_jobs\n",
    "experiment.copy_workflow_files()\n",
    "# np_jobs.PipelineQCQueue().add_or_update(session, priority=99)\n",
    "# experiment.copy_ephys()"
   ]
  },
  {
   "cell_type": "markdown",
   "metadata": {},
   "source": [
    "## Manually move ephys data to workgroups folder (with checksum verification)\n",
    "\n",
    "### Drag and drop with right-click, and choose `TeraMove here`\n",
    "\n",
    "For folders in A: and B: drives:\n",
    "\n",
    "- main ephys recording into session folder:    \n",
    "    `A:\\<sessionID>` -> `\\\\allen\\programs\\mindscope\\workgroups\\dynamicrouting\\PilotEphys\\Task 2 pilot\\<sessionID>`\n",
    "    \n",
    "- surface channels recording into the folder above:\n",
    "    `A:\\<sessionID>_surface_channels` -> `\\\\allen\\programs\\mindscope\\workgroups\\dynamicrouting\\PilotEphys\\Task 2 pilot`\n",
    "    \n",
    "Ensure `verify` is checked"
   ]
  }
 ],
 "metadata": {
  "kernelspec": {
   "display_name": "Python 3 (ipykernel)",
   "language": "python",
   "name": "python3"
  },
  "language_info": {
   "codemirror_mode": {
    "name": "ipython",
    "version": 3
   },
   "file_extension": ".py",
   "mimetype": "text/x-python",
   "name": "python",
   "nbconvert_exporter": "python",
   "pygments_lexer": "ipython3",
   "version": "3.11.2"
  },
  "toc-autonumbering": true,
  "vscode": {
   "interpreter": {
    "hash": "75a294dbf81199b26941ed5b32867c59e8bcc1170a51aebad9d5a69e8ca694a9"
   }
  },
  "widgets": {
   "application/vnd.jupyter.widget-state+json": {
    "state": {
     "052ac5270f0b46a699d1d82a0248762d": {
      "model_module": "@jupyter-widgets/output",
      "model_module_version": "1.0.0",
      "model_name": "OutputModel",
      "state": {
       "layout": "IPY_MODEL_132f24ce71ca46e3bdeee3b6ff0412c5",
       "outputs": [
        {
         "name": "stdout",
         "output_type": "stream",
         "text": "366122 last workflow: HAB\nSelected: PRETEST\nSelected: Workflow.HAB\n"
        }
       ]
      }
     },
     "0c353257224340bdaed58adb87f1f737": {
      "model_module": "@jupyter-widgets/base",
      "model_module_version": "2.0.0",
      "model_name": "LayoutModel",
      "state": {}
     },
     "0e1ceee219fa44f59e5134ea4a077aea": {
      "model_module": "@jupyter-widgets/base",
      "model_module_version": "2.0.0",
      "model_name": "LayoutModel",
      "state": {}
     },
     "132f24ce71ca46e3bdeee3b6ff0412c5": {
      "model_module": "@jupyter-widgets/base",
      "model_module_version": "2.0.0",
      "model_name": "LayoutModel",
      "state": {}
     },
     "1cba0c026b7846539391fed448b5354f": {
      "model_module": "@jupyter-widgets/base",
      "model_module_version": "2.0.0",
      "model_name": "LayoutModel",
      "state": {}
     },
     "22e19944db874ea19dadbec304eeab4c": {
      "model_module": "@jupyter-widgets/controls",
      "model_module_version": "2.0.0",
      "model_name": "SelectModel",
      "state": {
       "_options_labels": [
        "PRETEST",
        "HAB",
        "EPHYS",
        "OPTO"
       ],
       "description": "Workflow",
       "index": 1,
       "layout": "IPY_MODEL_1cba0c026b7846539391fed448b5354f",
       "style": "IPY_MODEL_39119e92b4874e2b9d260bb30aaed4c2"
      }
     },
     "2dd464634d55424fb1607ed7557fb2b4": {
      "model_module": "@jupyter-widgets/controls",
      "model_module_version": "2.0.0",
      "model_name": "VBoxModel",
      "state": {
       "children": [
        "IPY_MODEL_c92caa3130e24e96b62f7fd7c9a72c13",
        "IPY_MODEL_052ac5270f0b46a699d1d82a0248762d"
       ],
       "layout": "IPY_MODEL_0e1ceee219fa44f59e5134ea4a077aea"
      }
     },
     "38c7107241094a1a9eb413fc21a33e1f": {
      "model_module": "@jupyter-widgets/base",
      "model_module_version": "2.0.0",
      "model_name": "LayoutModel",
      "state": {}
     },
     "39119e92b4874e2b9d260bb30aaed4c2": {
      "model_module": "@jupyter-widgets/controls",
      "model_module_version": "2.0.0",
      "model_name": "DescriptionStyleModel",
      "state": {
       "description_width": ""
      }
     },
     "3972063505b04032a15b78fac03a2bdd": {
      "model_module": "@jupyter-widgets/controls",
      "model_module_version": "2.0.0",
      "model_name": "VBoxModel",
      "state": {
       "children": [
        "IPY_MODEL_81a8f74e464e4a43ab5e9b3b669ce79d",
        "IPY_MODEL_aa417ace7668471799f3f1fbb6b1ab54"
       ],
       "layout": "IPY_MODEL_0c353257224340bdaed58adb87f1f737"
      }
     },
     "3c8bd628dad6487ca721f508a19b3a10": {
      "model_module": "@jupyter-widgets/base",
      "model_module_version": "2.0.0",
      "model_name": "LayoutModel",
      "state": {}
     },
     "43282690c8d04f4980c1aa614788e107": {
      "model_module": "@jupyter-widgets/base",
      "model_module_version": "2.0.0",
      "model_name": "LayoutModel",
      "state": {}
     },
     "438d7361fbc248f48ac11edc03a46322": {
      "model_module": "@jupyter-widgets/base",
      "model_module_version": "2.0.0",
      "model_name": "LayoutModel",
      "state": {}
     },
     "5ac9392003b543079cfcb3ece2b4082a": {
      "model_module": "@jupyter-widgets/base",
      "model_module_version": "2.0.0",
      "model_name": "LayoutModel",
      "state": {}
     },
     "603585c1ffbf46949b3a96497318e716": {
      "model_module": "@jupyter-widgets/controls",
      "model_module_version": "2.0.0",
      "model_name": "SelectModel",
      "state": {
       "_options_labels": [
        "test EPHYS",
        "EPHYS minus probes",
        "opto in task optional",
        "opto in task, no ephys"
       ],
       "disabled": true,
       "index": null,
       "layout": "IPY_MODEL_773aa9a27d484c8499e11b6eb6a90d2a",
       "style": "IPY_MODEL_d4b44ad7c0cb4d76a249419cfd890ea0"
      }
     },
     "6c4838f66cc345948fdf1e49410b826a": {
      "model_module": "@jupyter-widgets/controls",
      "model_module_version": "2.0.0",
      "model_name": "TextStyleModel",
      "state": {
       "description_width": "",
       "font_size": null,
       "text_color": null
      }
     },
     "76f3e3003e90420493f8d3eb169caf9c": {
      "model_module": "@jupyter-widgets/controls",
      "model_module_version": "2.0.0",
      "model_name": "LabelStyleModel",
      "state": {
       "description_width": "",
       "font_family": null,
       "font_size": null,
       "font_style": null,
       "font_variant": null,
       "font_weight": null,
       "text_color": null,
       "text_decoration": null
      }
     },
     "773aa9a27d484c8499e11b6eb6a90d2a": {
      "model_module": "@jupyter-widgets/base",
      "model_module_version": "2.0.0",
      "model_name": "LayoutModel",
      "state": {}
     },
     "7a03a7f3c28d45d2a90f9b72902d902d": {
      "model_module": "@jupyter-widgets/controls",
      "model_module_version": "2.0.0",
      "model_name": "ToggleButtonStyleModel",
      "state": {
       "description_width": "",
       "font_family": null,
       "font_size": null,
       "font_style": null,
       "font_variant": null,
       "font_weight": null,
       "text_color": null,
       "text_decoration": null
      }
     },
     "7bab73d4469547e2ad6e599342904adf": {
      "model_module": "@jupyter-widgets/controls",
      "model_module_version": "2.0.0",
      "model_name": "VBoxModel",
      "state": {
       "children": [
        "IPY_MODEL_f8e1a7c3294149f9b1865ea3e3612e24",
        "IPY_MODEL_cca99de063814fa883ae8090f08b0aa1",
        "IPY_MODEL_fdc7fc931065428eb1ba658c65617281"
       ],
       "layout": "IPY_MODEL_5ac9392003b543079cfcb3ece2b4082a"
      }
     },
     "8125707b97af4c44949643f345859f71": {
      "model_module": "@jupyter-widgets/controls",
      "model_module_version": "2.0.0",
      "model_name": "DescriptionStyleModel",
      "state": {
       "description_width": ""
      }
     },
     "81a8f74e464e4a43ab5e9b3b669ce79d": {
      "model_module": "@jupyter-widgets/controls",
      "model_module_version": "2.0.0",
      "model_name": "LabelModel",
      "state": {
       "layout": "IPY_MODEL_38c7107241094a1a9eb413fc21a33e1f",
       "style": "IPY_MODEL_f92e68e51c9e469b9f41d04b74a5f2e7",
       "value": "Elapsed time: 00h 00m 57s"
      }
     },
     "a0b2e7ea418648179648dddebd83200c": {
      "model_module": "@jupyter-widgets/controls",
      "model_module_version": "2.0.0",
      "model_name": "ToggleButtonModel",
      "state": {
       "button_style": "info",
       "description": "Quiet mode is on",
       "icon": "check",
       "layout": "IPY_MODEL_c9b8cf15c6514e38b1e929a82e4973a7",
       "style": "IPY_MODEL_7a03a7f3c28d45d2a90f9b72902d902d",
       "tooltip": "Quiet mode: tracebacks hidden, logging level set to INFO.",
       "value": true
      }
     },
     "aa417ace7668471799f3f1fbb6b1ab54": {
      "model_module": "@jupyter-widgets/controls",
      "model_module_version": "2.0.0",
      "model_name": "LabelModel",
      "state": {
       "layout": "IPY_MODEL_3c8bd628dad6487ca721f508a19b3a10",
       "style": "IPY_MODEL_76f3e3003e90420493f8d3eb169caf9c",
       "value": "Remember to restart JupyterLab and run update.bat before every experiment!"
      }
     },
     "c92caa3130e24e96b62f7fd7c9a72c13": {
      "model_module": "@jupyter-widgets/controls",
      "model_module_version": "2.0.0",
      "model_name": "HBoxModel",
      "state": {
       "children": [
        "IPY_MODEL_22e19944db874ea19dadbec304eeab4c",
        "IPY_MODEL_603585c1ffbf46949b3a96497318e716"
       ],
       "layout": "IPY_MODEL_ed5422b0881f47c4863017632bd15383"
      }
     },
     "c9b8cf15c6514e38b1e929a82e4973a7": {
      "model_module": "@jupyter-widgets/base",
      "model_module_version": "2.0.0",
      "model_name": "LayoutModel",
      "state": {}
     },
     "cca99de063814fa883ae8090f08b0aa1": {
      "model_module": "@jupyter-widgets/controls",
      "model_module_version": "2.0.0",
      "model_name": "TextModel",
      "state": {
       "description": "Mouse:",
       "layout": "IPY_MODEL_f089359f907249809dee725b0a1e2bb6",
       "style": "IPY_MODEL_6c4838f66cc345948fdf1e49410b826a",
       "value": "366122"
      }
     },
     "d4b44ad7c0cb4d76a249419cfd890ea0": {
      "model_module": "@jupyter-widgets/controls",
      "model_module_version": "2.0.0",
      "model_name": "DescriptionStyleModel",
      "state": {
       "description_width": ""
      }
     },
     "ed5422b0881f47c4863017632bd15383": {
      "model_module": "@jupyter-widgets/base",
      "model_module_version": "2.0.0",
      "model_name": "LayoutModel",
      "state": {}
     },
     "f089359f907249809dee725b0a1e2bb6": {
      "model_module": "@jupyter-widgets/base",
      "model_module_version": "2.0.0",
      "model_name": "LayoutModel",
      "state": {}
     },
     "f8e1a7c3294149f9b1865ea3e3612e24": {
      "model_module": "@jupyter-widgets/controls",
      "model_module_version": "2.0.0",
      "model_name": "SelectModel",
      "state": {
       "_options_labels": [
        "corbettb",
        "ethan.mcbride",
        "hannah.cabasco",
        "jackie.kuyat",
        "samg",
        "vayle.lafehr"
       ],
       "description": "User:",
       "index": 0,
       "layout": "IPY_MODEL_438d7361fbc248f48ac11edc03a46322",
       "style": "IPY_MODEL_8125707b97af4c44949643f345859f71"
      }
     },
     "f92e68e51c9e469b9f41d04b74a5f2e7": {
      "model_module": "@jupyter-widgets/controls",
      "model_module_version": "2.0.0",
      "model_name": "LabelStyleModel",
      "state": {
       "description_width": "",
       "font_family": null,
       "font_size": null,
       "font_style": null,
       "font_variant": null,
       "font_weight": null,
       "text_color": null,
       "text_decoration": null
      }
     },
     "fdc7fc931065428eb1ba658c65617281": {
      "model_module": "@jupyter-widgets/output",
      "model_module_version": "1.0.0",
      "model_name": "OutputModel",
      "state": {
       "layout": "IPY_MODEL_43282690c8d04f4980c1aa614788e107"
      }
     }
    },
    "version_major": 2,
    "version_minor": 0
   }
  }
 },
 "nbformat": 4,
 "nbformat_minor": 4
}
