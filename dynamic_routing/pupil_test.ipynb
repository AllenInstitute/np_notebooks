{
 "cells": [
  {
   "attachments": {},
   "cell_type": "markdown",
   "metadata": {},
   "source": [
    "# *Dynamic Routing*\n",
    "<img src=\"https://www.kvc.org/wp-content/uploads/2015/08/brain-600px-600x372.jpg\" width=\"320\" />"
   ]
  },
  {
   "cell_type": "markdown",
   "metadata": {},
   "source": [
    "## Run the update/reset shortcut on the desktop before each experiment\n",
    "***\n",
    "***\n",
    "# **Without mouse on stage**"
   ]
  },
  {
   "cell_type": "code",
   "execution_count": 1,
   "metadata": {},
   "outputs": [
    {
     "name": "stderr",
     "output_type": "stream",
     "text": [
      "Failed to enable remote-to-remote symlink creation: try running as admin\n"
     ]
    },
    {
     "data": {
      "application/vnd.jupyter.widget-view+json": {
       "model_id": "a92702491abf41dea2b9504d4780e1d6",
       "version_major": 2,
       "version_minor": 0
      },
      "text/plain": [
       "VBox(children=(Label(value='Elapsed time: 00h 00m 00s'), Label(value='Remember to restart JupyterLab and run u…"
      ]
     },
     "metadata": {},
     "output_type": "display_data"
    }
   ],
   "source": [
    "import pathlib\n",
    "\n",
    "import IPython\n",
    "import ipywidgets as widgets\n",
    "\n",
    "import np_logging\n",
    "import np_session\n",
    "import np_services\n",
    "import np_workflows\n",
    "from np_workflows import npxc\n",
    "import np_workflows.experiments.dynamic_routing as DR\n",
    "import npc_shields\n",
    "\n",
    "from np_services.resources.zro import ZroError \n",
    "import contextlib\n",
    "\n",
    "np_logging.getLogger()\n",
    "\n",
    "np_workflows.elapsed_time_widget()"
   ]
  },
  {
   "attachments": {},
   "cell_type": "markdown",
   "metadata": {},
   "source": [
    "***\n",
    "## Quiet mode\n",
    "on  \n",
    "*default*\n",
    "- exception details are hidden\n",
    "- regular messages displayed (log level = INFO)\n",
    "\n",
    "off\n",
    "- full exception details with traceback\n",
    "- extra messages displayed (log level = DEBUG)"
   ]
  },
  {
   "cell_type": "code",
   "execution_count": 2,
   "metadata": {},
   "outputs": [
    {
     "data": {
      "application/vnd.jupyter.widget-view+json": {
       "model_id": "3d78524a27a842e8a7c3b1ea980ae87e",
       "version_major": 2,
       "version_minor": 0
      },
      "text/plain": [
       "ToggleButton(value=True, button_style='info', description='Quiet mode is on', icon='check', tooltip='Quiet mod…"
      ]
     },
     "metadata": {},
     "output_type": "display_data"
    }
   ],
   "source": [
    "np_workflows.quiet_mode_widget()"
   ]
  },
  {
   "cell_type": "markdown",
   "metadata": {},
   "source": [
    "***\n",
    "## Launch apps via RSC\n",
    "[optional]"
   ]
  },
  {
   "cell_type": "code",
   "execution_count": 3,
   "metadata": {},
   "outputs": [],
   "source": [
    "import contextlib\n",
    "with contextlib.suppress(Exception):\n",
    "    np_services.start_rsc_apps()"
   ]
  },
  {
   "cell_type": "markdown",
   "metadata": {},
   "source": [
    "***\n",
    "## Select mouse and user"
   ]
  },
  {
   "cell_type": "code",
   "execution_count": 4,
   "metadata": {},
   "outputs": [
    {
     "data": {
      "application/vnd.jupyter.widget-view+json": {
       "model_id": "24b3d54155874911835f51e925198358",
       "version_major": 2,
       "version_minor": 0
      },
      "text/plain": [
       "VBox(children=(Select(description='User:', options=('corbettb', 'ethan.mcbride', 'hannah.cabasco', 'jackie.kuy…"
      ]
     },
     "metadata": {},
     "output_type": "display_data"
    }
   ],
   "source": [
    "user, mouse = np_workflows.user_and_mouse_widget()"
   ]
  },
  {
   "cell_type": "markdown",
   "metadata": {},
   "source": [
    "***\n",
    "## Select HAB"
   ]
  },
  {
   "cell_type": "code",
   "execution_count": 23,
   "metadata": {
    "tags": []
   },
   "outputs": [
    {
     "data": {
      "application/vnd.jupyter.widget-view+json": {
       "model_id": "7aded767fa4b4d4ba92ca12a0a7049ae",
       "version_major": 2,
       "version_minor": 0
      },
      "text/plain": [
       "VBox(children=(HBox(children=(Select(description='Workflow', options=('PRETEST', 'HAB', 'EPHYS', 'OPTO'), valu…"
      ]
     },
     "metadata": {},
     "output_type": "display_data"
    }
   ],
   "source": [
    "selection = DR.workflow_select_widget(mouse)"
   ]
  },
  {
   "cell_type": "markdown",
   "metadata": {},
   "source": [
    "***\n",
    "## Generate new session\n",
    "Re-run this cell if workflow is changed above.\n",
    "\n",
    "Check mouse ID and session are correct: this cell will lock them in!"
   ]
  },
  {
   "cell_type": "code",
   "execution_count": 25,
   "metadata": {
    "tags": []
   },
   "outputs": [
    {
     "name": "stdout",
     "output_type": "stream",
     "text": [
      "13:23 | np_workflows.shared.base_experiments | INFO | Hab(DRpilot_366122_20240322) created\n",
      "13:23 | web | INFO | Hab(DRpilot_366122_20240322) created\n"
     ]
    }
   ],
   "source": [
    "experiment: np_workflows.DynamicRoutingExperiment = DR.new_experiment(mouse, user, selection.workflow)\n",
    "session: np_session.Session = experiment.session"
   ]
  },
  {
   "cell_type": "markdown",
   "metadata": {},
   "source": [
    "***\n",
    "## Set task\n",
    "- select a preset task variant\n",
    "- modify in the text box as needed (right) - hit enter to apply"
   ]
  },
  {
   "cell_type": "markdown",
   "metadata": {},
   "source": [
    "Double-check task until we have confidence in the new widget!"
   ]
  },
  {
   "cell_type": "code",
   "execution_count": 26,
   "metadata": {},
   "outputs": [],
   "source": [
    "experiment.use_github = False"
   ]
  },
  {
   "cell_type": "code",
   "execution_count": 39,
   "metadata": {},
   "outputs": [],
   "source": [
    "import functools\n",
    "run_pupil_test = functools.partial(experiment.run_script, \"pupil test\")\n",
    "experiment.pupil_test_params = {'taskScript': 'TaskControl.py', 'subjectName': '366122', 'rigName': 'NP3', 'taskVersion':'pupil test'}"
   ]
  },
  {
   "cell_type": "code",
   "execution_count": 35,
   "metadata": {},
   "outputs": [],
   "source": [
    "hab: bool = False\n",
    "opto: bool = False     # 'opto' in task name: opto stim will run during task trials\n",
    "pretest: bool = False\n",
    "ephys: bool = False  # probes will be inserted: (ephys and opto) is possible\n",
    "optotagging: bool = False"
   ]
  },
  {
   "cell_type": "markdown",
   "metadata": {},
   "source": [
    "***\n",
    "## Pretest\n",
    "Checks before running"
   ]
  },
  {
   "cell_type": "code",
   "execution_count": 19,
   "metadata": {},
   "outputs": [
    {
     "data": {
      "application/vnd.jupyter.widget-view+json": {
       "model_id": "e6535e97673447d4a18c291539186cc9",
       "version_major": 2,
       "version_minor": 0
      },
      "text/plain": [
       "VBox(children=(Label(value='Stage checks:', layout=Layout(min_width='600px')), Checkbox(value=False, descripti…"
      ]
     },
     "metadata": {},
     "output_type": "display_data"
    }
   ],
   "source": [
    "np_workflows.check_hardware_widget()"
   ]
  },
  {
   "cell_type": "code",
   "execution_count": 20,
   "metadata": {
    "tags": []
   },
   "outputs": [
    {
     "data": {
      "application/vnd.jupyter.widget-view+json": {
       "model_id": "0e951fad2a8a4a28bde58cadf1071227",
       "version_major": 2,
       "version_minor": 0
      },
      "text/plain": [
       "VBox(children=(Label(value='OpenEphys checks:', layout=Layout(min_width='600px')), Checkbox(value=False, descr…"
      ]
     },
     "metadata": {},
     "output_type": "display_data"
    }
   ],
   "source": [
    "if ephys:\n",
    "    np_workflows.check_openephys_widget()"
   ]
  },
  {
   "cell_type": "markdown",
   "metadata": {
    "tags": []
   },
   "source": [
    "***\n",
    "## Setup, test, reset all components\n",
    "*This cell must not be skipped!*"
   ]
  },
  {
   "cell_type": "code",
   "execution_count": 21,
   "metadata": {},
   "outputs": [
    {
     "name": "stdout",
     "output_type": "stream",
     "text": [
      "13:19 | np_services.utils | INFO | mousedirector is running on W10DTM714204\n",
      "13:19 | np_services.proxies | INFO | Proxy(MouseDirector) initialized: ready for use\n",
      "13:19 | np_services.utils | INFO | sync_device is running on W10DTSM118309\n",
      "13:19 | np_services.proxies | INFO | Proxy(Sync) initialized: ready for use\n",
      "13:19 | np_services.proxies | INFO | VideoMVR initialized: ready for use\n",
      "13:19 | np_services.proxies | INFO | ImageMVR initialized: ready for use\n",
      "13:19 | np_services.proxies | INFO | NewScaleCoordinateRecorder | Test passed\n",
      "13:19 | np_services.proxies | INFO | NewScaleCoordinateRecorder | Test passed\n",
      "13:19 | np_services.utils | INFO | camstim_agent is running on W10DT713941\n",
      "13:19 | np_services.utils | INFO | phidget_server is running on W10DT713941\n",
      "13:19 | np_services.proxies | INFO | Proxy(ScriptCamstim) initialized: ready for use\n",
      "13:19 | np_services.open_ephys | INFO | OpenEphys | Initializing\n",
      "13:19 | np_services.open_ephys | INFO | OpenEphys | Testing\n",
      "13:19 | np_services.open_ephys | INFO | OpenEphys free disk space on \\\\W10DTM714205\\A: 1487.6 GB\n",
      "13:19 | np_services.open_ephys | INFO | OpenEphys free disk space on \\\\W10DTM714205\\B: 1524.4 GB\n",
      "13:20 | np_services.open_ephys | INFO | OpenEphys | Starting recording\n",
      "13:20 | np_services.open_ephys | INFO | OpenEphys | Stopping recording\n"
     ]
    }
   ],
   "source": [
    "assert experiment.task_name, \"task name has not been set - assign manually in cell above\"\n",
    "experiment.initialize_and_test_services()"
   ]
  },
  {
   "cell_type": "markdown",
   "metadata": {},
   "source": [
    "***\n",
    "## Start devices recording"
   ]
  },
  {
   "cell_type": "code",
   "execution_count": null,
   "metadata": {
    "tags": []
   },
   "outputs": [],
   "source": [
    "experiment.start_recording()"
   ]
  },
  {
   "cell_type": "code",
   "execution_count": null,
   "metadata": {},
   "outputs": [],
   "source": [
    "run_pupil_test()"
   ]
  },
  {
   "cell_type": "markdown",
   "metadata": {},
   "source": [
    "***\n",
    "## Stop recording"
   ]
  },
  {
   "cell_type": "code",
   "execution_count": null,
   "metadata": {},
   "outputs": [],
   "source": [
    "experiment.stop_recording_after_stim_finished()"
   ]
  },
  {
   "cell_type": "markdown",
   "metadata": {},
   "source": [
    "***"
   ]
  },
  {
   "cell_type": "markdown",
   "metadata": {},
   "source": [
    "## Finalize"
   ]
  },
  {
   "cell_type": "code",
   "execution_count": null,
   "metadata": {},
   "outputs": [],
   "source": [
    "experiment.finalize_services(*experiment.recorders, *experiment.stims)\n",
    "experiment.validate_services(*experiment.recorders, *experiment.stims)"
   ]
  },
  {
   "cell_type": "markdown",
   "metadata": {},
   "source": [
    "## Copy data"
   ]
  },
  {
   "cell_type": "markdown",
   "metadata": {},
   "source": [
    "### copy all raw dataexcept ephys to /allen "
   ]
  },
  {
   "cell_type": "code",
   "execution_count": null,
   "metadata": {},
   "outputs": [],
   "source": [
    "experiment.copy_data_files()"
   ]
  },
  {
   "cell_type": "markdown",
   "metadata": {},
   "source": [
    "### run and save QC notebook in current working directory "
   ]
  },
  {
   "cell_type": "code",
   "execution_count": null,
   "metadata": {},
   "outputs": [],
   "source": [
    "with contextlib.suppress(Exception):\n",
    "    import npc_sessions\n",
    "    npc_sessions.write_qc_notebook(\n",
    "        session_path_or_id=experiment.session.npexp_path.as_posix(),\n",
    "        save_path=pathlib.Path.cwd(),\n",
    "        ephys_record_node_dirs=tuple(\n",
    "            next(path.glob('Record Node*')).as_posix()\n",
    "            for path in np_services.OpenEphys.data_files\n",
    "            if experiment.session.folder in path.name\n",
    "            and 'surface' not in path.name\n",
    "        ),\n",
    "    )"
   ]
  },
  {
   "cell_type": "code",
   "execution_count": null,
   "metadata": {},
   "outputs": [],
   "source": [
    "import np_jobs\n",
    "experiment.copy_workflow_files()\n",
    "# np_jobs.PipelineQCQueue().add_or_update(session, priority=99)\n",
    "# experiment.copy_ephys()"
   ]
  },
  {
   "cell_type": "markdown",
   "metadata": {},
   "source": [
    "## Manually move ephys data to workgroups folder (with checksum verification)\n",
    "\n",
    "### Drag and drop with right-click, and choose `TeraMove here`\n",
    "\n",
    "For folders in A: and B: drives:\n",
    "\n",
    "- main ephys recording into session folder:    \n",
    "    `A:\\<sessionID>` -> `\\\\allen\\programs\\mindscope\\workgroups\\dynamicrouting\\PilotEphys\\Task 2 pilot\\<sessionID>`\n",
    "    \n",
    "- surface channels recording into the folder above:\n",
    "    `A:\\<sessionID>_surface_channels` -> `\\\\allen\\programs\\mindscope\\workgroups\\dynamicrouting\\PilotEphys\\Task 2 pilot`\n",
    "    \n",
    "Ensure `verify` is checked"
   ]
  }
 ],
 "metadata": {
  "kernelspec": {
   "display_name": "Python 3 (ipykernel)",
   "language": "python",
   "name": "python3"
  },
  "language_info": {
   "codemirror_mode": {
    "name": "ipython",
    "version": 3
   },
   "file_extension": ".py",
   "mimetype": "text/x-python",
   "name": "python",
   "nbconvert_exporter": "python",
   "pygments_lexer": "ipython3",
   "version": "3.11.2"
  },
  "toc-autonumbering": true,
  "vscode": {
   "interpreter": {
    "hash": "75a294dbf81199b26941ed5b32867c59e8bcc1170a51aebad9d5a69e8ca694a9"
   }
  },
  "widgets": {
   "application/vnd.jupyter.widget-state+json": {
    "state": {
     "0319f250ebcd4355b747d579cf2f255d": {
      "model_module": "@jupyter-widgets/controls",
      "model_module_version": "2.0.0",
      "model_name": "DescriptionStyleModel",
      "state": {
       "description_width": ""
      }
     },
     "0471a8a914974bff83b0f30e8576ed12": {
      "model_module": "@jupyter-widgets/output",
      "model_module_version": "1.0.0",
      "model_name": "OutputModel",
      "state": {
       "layout": "IPY_MODEL_cfb5745667a34118a7140fc5e29e3563",
       "outputs": [
        {
         "name": "stdout",
         "output_type": "stream",
         "text": "366122 last workflow: PRETEST\nSelected: PRETEST\n"
        }
       ]
      }
     },
     "07d0ad5695314f9392c1eb58198f986a": {
      "model_module": "@jupyter-widgets/base",
      "model_module_version": "2.0.0",
      "model_name": "LayoutModel",
      "state": {}
     },
     "0bc4308949cb48f182abd959eaa53658": {
      "model_module": "@jupyter-widgets/base",
      "model_module_version": "2.0.0",
      "model_name": "LayoutModel",
      "state": {
       "grid_area": "widget004"
      }
     },
     "0d3a4a933676491c84116eac0f4e8ae5": {
      "model_module": "@jupyter-widgets/base",
      "model_module_version": "2.0.0",
      "model_name": "LayoutModel",
      "state": {}
     },
     "0d9609ee8ea044459ad6e61f552c9eed": {
      "model_module": "@jupyter-widgets/base",
      "model_module_version": "2.0.0",
      "model_name": "LayoutModel",
      "state": {}
     },
     "0e951fad2a8a4a28bde58cadf1071227": {
      "model_module": "@jupyter-widgets/controls",
      "model_module_version": "2.0.0",
      "model_name": "VBoxModel",
      "state": {
       "children": [
        "IPY_MODEL_45ef91ad71814eb1832ee01aa6032e24",
        "IPY_MODEL_699e6a8d3e6c4f1e92dca42512474175",
        "IPY_MODEL_2eb33f58da434b6d92641f998f63f12e",
        "IPY_MODEL_b93aa78b5cbe48f9bc91ade52fffbe89",
        "IPY_MODEL_5588b427ba3746eea887ad16dadea022"
       ],
       "layout": "IPY_MODEL_1f99575476f64110b48b325ecbd5b123"
      }
     },
     "0f8f093dd07e46758a023e3a2762a35e": {
      "model_module": "@jupyter-widgets/base",
      "model_module_version": "2.0.0",
      "model_name": "LayoutModel",
      "state": {}
     },
     "0fdff74f556444b6890c292274ecd31b": {
      "model_module": "@jupyter-widgets/controls",
      "model_module_version": "2.0.0",
      "model_name": "ButtonStyleModel",
      "state": {
       "font_family": null,
       "font_size": null,
       "font_style": null,
       "font_variant": null,
       "font_weight": null,
       "text_color": null,
       "text_decoration": null
      }
     },
     "12a300809e4945baae415aa77663ce24": {
      "model_module": "@jupyter-widgets/base",
      "model_module_version": "2.0.0",
      "model_name": "LayoutModel",
      "state": {
       "grid_area": "widget005"
      }
     },
     "19901b1040d44f349b5476a8628230f1": {
      "model_module": "@jupyter-widgets/controls",
      "model_module_version": "2.0.0",
      "model_name": "LabelModel",
      "state": {
       "layout": "IPY_MODEL_7bea6e2d631f4d76bcbb1d796b1a62c0",
       "style": "IPY_MODEL_6a6e9103de8b4de6a0cbede2f24960cc",
       "value": "Elapsed time: 00h 34m 00s"
      }
     },
     "1a3ecf2d8b6d4ac1b95a6c2586abb93f": {
      "model_module": "@jupyter-widgets/controls",
      "model_module_version": "2.0.0",
      "model_name": "DropdownModel",
      "state": {
       "_options_labels": [
        "STAGE_0",
        "STAGE_1",
        "STAGE_2",
        "STAGE_3_AMN_ORI",
        "STAGE_3_ORI_AMN",
        "STAGE_4_AMN_ORI",
        "STAGE_4_ORI_AMN",
        "STAGE_5_AMN_ORI",
        "STAGE_5_ORI_AMN"
       ],
       "index": 5,
       "layout": "IPY_MODEL_73f73fa1a8b54549bdb77c7ba1a583fc",
       "style": "IPY_MODEL_f6df6d3b7931465bb35ec9b05ec85834"
      }
     },
     "1aee804ba54a4a0e8127a48482065a7d": {
      "model_module": "@jupyter-widgets/controls",
      "model_module_version": "2.0.0",
      "model_name": "HBoxModel",
      "state": {
       "children": [
        "IPY_MODEL_89ae8c4776ae4637bb5bce860652b2a2",
        "IPY_MODEL_31fbabe635a14b4c9fe9c668c7c432fc"
       ],
       "layout": "IPY_MODEL_0d9609ee8ea044459ad6e61f552c9eed"
      }
     },
     "1baa34bff4ec4e32a5bf81d1741520d6": {
      "model_module": "@jupyter-widgets/base",
      "model_module_version": "2.0.0",
      "model_name": "LayoutModel",
      "state": {
       "grid_area": "widget002"
      }
     },
     "1d0f4b3823154464967bc5e0dfdad59d": {
      "model_module": "@jupyter-widgets/base",
      "model_module_version": "2.0.0",
      "model_name": "LayoutModel",
      "state": {
       "grid_area": "widget001"
      }
     },
     "1e57ef3550b84afea0392afa678542cf": {
      "model_module": "@jupyter-widgets/controls",
      "model_module_version": "2.0.0",
      "model_name": "DropdownModel",
      "state": {
       "_options_labels": [
        "AssociativeLearning_Static_dev2",
        "AssociativeLearning_Static_dev3",
        "AssociativeLearning_Static_v0.0.1",
        "AssociativeLearning_Static_v0.0.2",
        "AssociativeLearning_Static_v0.0.3",
        "AssociativeLearning_Static_v0.0.4",
        "AssociativeLearning_dummy2",
        "AssociativeLearning_v0.0.1",
        "AssociativeLearning_v0.0.2",
        "AssociativeLearning_v0.0.3",
        "AssociativeLearning_v0.0.4",
        "AssociativeLearning_v0.0.5",
        "AssociativeLearning_v0.0.6",
        "AssociativeLearning_v0.0.7",
        "AssociativeLearning_v0.0.8",
        "AssociativeLearning_v0.0.9",
        "AssociativeLearning_v0.2.0",
        "AssociativeLearning_v0.2.1",
        "DynamicRoutingAlternating_0_v0.0.0",
        "DynamicRoutingAlternating_1_v0.0.0",
        "DynamicRoutingDev2_v0.0.11",
        "DynamicRoutingDev2_v0.0.12",
        "DynamicRoutingDev2_v0.0.3",
        "DynamicRoutingDev3_v0.0.2",
        "DynamicRoutingDev3_v0.0.3",
        "DynamicRoutingDev4_v0.0.1",
        "DynamicRoutingDev4_v0.0.3",
        "DynamicRoutingDev5_v0.0.1",
        "DynamicRoutingDev5_v0.0.2",
        "DynamicRoutingDev5_v0.0.3",
        "DynamicRoutingDev5_v0.0.4",
        "DynamicRoutingDev5_v0.0.5",
        "DynamicRoutingDev5_v0.0.6",
        "DynamicRoutingDev_v0.0.1",
        "DynamicRoutingDev_v0.0.25",
        "DynamicRoutingDev_v0.0.26",
        "DynamicRoutingDev_v0.0.27",
        "DynamicRoutingDev_v0.0.3",
        "DynamicRoutingDev_v0.0.5",
        "DynamicRoutingDev_v0.0.7",
        "DynamicRoutingDev_v0.0.8",
        "DynamicRoutingDev_v0.0.9",
        "DynamicRoutingTest_v0.0.1",
        "DynamicRouting_Task1_GH_v0.0.6",
        "DynamicRouting_Task1_GH_v0.0.7",
        "DynamicRouting_Task1_GH_v0.0.8",
        "DynamicRouting_Task1_builtin_v0.0.10",
        "DynamicRouting_Task1_builtin_v0.0.11",
        "DynamicRouting_Task1_builtin_v0.0.3",
        "DynamicRouting_Task1_builtin_v0.0.4",
        "DynamicRouting_Task1_builtin_v0.0.5",
        "DynamicRouting_Task1_builtin_v0.0.6",
        "DynamicRouting_Task1_builtin_v0.0.7",
        "DynamicRouting_Task1_builtin_v0.0.8",
        "DynamicRouting_Task1_builtin_v0.0.9",
        "DynamicRouting_Task1_v0.0.12",
        "DynamicRouting_Task1_v0.0.13",
        "DynamicRouting_Task1_v0.0.14",
        "DynamicRouting_Task1_v0.0.15",
        "DynamicRouting_Task1_v0.0.3",
        "DynamicRouting_Task1_v0.0.4",
        "DynamicRouting_Task1_v0.0.5",
        "DynamicRouting_Task1_v0.0.6",
        "DynamicRouting_Task1_v0.0.8",
        "DynamicRouting_noAR_v0.0.1",
        "DynamicRouting_noAR_v0.0.2",
        "DynamicRouting_nogo_v0.0.1",
        "DynamicRouting_nogo_v0.0.2",
        "DynamicRouting_repeats_v0.0.1",
        "DynamicRouting_repeats_v0.0.2",
        "DynamicRouting_repeats_v0.0.3",
        "DynamicRouting_repeats_v0.0.4",
        "DynamicRouting_repeats_v0.0.5",
        "DynamicRouting_rewardOnly_v0.0.1",
        "DynamicRouting_rewardOnly_v0.0.2",
        "DynamicRouting_v0.0.0",
        "DynamicRouting_v0.0.1",
        "DynamicRouting_v0.0.10",
        "DynamicRouting_v0.0.11",
        "DynamicRouting_v0.0.2",
        "DynamicRouting_v0.0.3",
        "DynamicRouting_v0.0.4",
        "DynamicRouting_v0.0.5",
        "DynamicRouting_v0.0.6",
        "DynamicRouting_v0.0.7",
        "DynamicRouting_v0.0.8",
        "DynamicRouting_v0.0.9",
        "Openscope_Barcoding_Drift_v13",
        "Openscope_Barcoding_Static_v13",
        "Openscope_Barcoding_v10",
        "Openscope_Barcoding_v11",
        "Openscope_Barcoding_v14",
        "Openscope_Barcoding_v15",
        "Openscope_Barcoding_v3",
        "Openscope_Barcoding_v4",
        "Openscope_Barcoding_v6",
        "Openscope_Barcoding_v7",
        "Openscope_Barcoding_v9",
        "Openscope_DendriticCoupling_dummy",
        "Openscope_DendriticCoupling_dummy_huge",
        "Openscope_DendriticCoupling_dummy_huge_v5",
        "Openscope_DendriticCoupling_dummy_huge_v6",
        "Openscope_DendriticCoupling_dummy_huge_v7",
        "Openscope_DendriticCoupling_dummy_huge_v8",
        "Openscope_DendriticCoupling_dummy_huge_v9",
        "Openscope_DendriticCoupling_dummy_v2",
        "Openscope_DendriticCoupling_dummy_v3",
        "Openscope_DendriticCoupling_dummy_v4",
        "Openscope_DendriticCoupling_v1",
        "Openscope_DendriticCoupling_v10",
        "Openscope_DendriticCoupling_v11",
        "Openscope_DendriticCoupling_v12",
        "Openscope_DendriticCoupling_v13",
        "Openscope_DendriticCoupling_v14",
        "Openscope_DendriticCoupling_v15",
        "Openscope_DendriticCoupling_v16",
        "Openscope_DendriticCoupling_v17",
        "Openscope_DendriticCoupling_v19",
        "Openscope_DendriticCoupling_v2",
        "Openscope_DendriticCoupling_v20",
        "Openscope_DendriticCoupling_v21",
        "Openscope_DendriticCoupling_v22",
        "Openscope_DendriticCoupling_v3",
        "Openscope_DendriticCoupling_v4",
        "Openscope_DendriticCoupling_v5",
        "Openscope_DendriticCoupling_v6",
        "Openscope_DendriticCoupling_v8",
        "Openscope_DendriticCoupling_v9",
        "Openscope_GlobalLocalOdd_Cohort1_short_test",
        "Openscope_GlobalLocalOdd_Cohort1_short_test_v4",
        "Openscope_GlobalLocalOdd_Cohort1_short_test_v5",
        "Openscope_GlobalLocalOdd_Cohort1_v1",
        "Openscope_GlobalLocalOdd_Cohort1_v1.0.5",
        "Openscope_GlobalLocalOdd_Cohort1_v10",
        "Openscope_GlobalLocalOdd_Cohort1_v2",
        "Openscope_GlobalLocalOdd_Cohort1_v3",
        "Openscope_GlobalLocalOdd_Cohort1_v4",
        "Openscope_GlobalLocalOdd_Cohort1_v5",
        "Openscope_GlobalLocalOdd_Cohort1_v7",
        "Openscope_GlobalLocalOdd_Cohort1_v8",
        "Openscope_GlobalLocalOdd_Cohort2_v1",
        "Openscope_GlobalLocalOdd_Cohort2_v10",
        "Openscope_GlobalLocalOdd_Cohort2_v2",
        "Openscope_GlobalLocalOdd_Cohort2_v3",
        "Openscope_GlobalLocalOdd_Cohort2_v4",
        "Openscope_GlobalLocalOdd_Cohort2_v5",
        "Openscope_GlobalLocalOdd_Cohort2_v7",
        "Openscope_GlobalLocalOdd_Cohort2_v8",
        "Openscope_Illusion_v11",
        "Openscope_Illusion_v12",
        "Openscope_Illusion_v13",
        "Openscope_Illusion_v14",
        "Openscope_Illusion_v15",
        "Openscope_Illusion_v3",
        "Openscope_Illusion_v4",
        "Openscope_Illusion_v5",
        "Openscope_Illusion_v6",
        "Openscope_Illusion_v7",
        "Openscope_Illusion_v8",
        "Openscope_Illusion_v9",
        "Openscope_SequenceLearning_v2",
        "Openscope_SequenceLearning_v3",
        "Openscope_Vippo_v10",
        "Openscope_Vippo_v11",
        "Openscope_Vippo_v12",
        "Openscope_Vippo_v14",
        "Openscope_Vippo_v15",
        "Openscope_Vippo_v2",
        "Openscope_Vippo_v3",
        "Openscope_Vippo_v4",
        "Openscope_Vippo_v5",
        "Openscope_Vippo_v6",
        "Openscope_Vippo_v7",
        "Openscope_Vippo_v8",
        "Openscope_Vippo_v9",
        "Openscope_test_rig_Vippo_v2",
        "Openscope_test_rig_Vippo_v3",
        "Openscope_test_rig_Vippo_v6",
        "Openscope_test_screen",
        "Passive_VisualCoding_v1.0.0",
        "Pretest_v0.1.2",
        "Pretest_v0.1.3",
        "Pretest_v0.1.4",
        "TestRegimen_v0.0.1",
        "Test_Script_7_v0.0.3",
        "V1omFISH_gamma_v1.0.0",
        "V1omFISH_gamma_v1.1.0",
        "VisualBehaviorEPHYS_Task1A_v0.0.2",
        "VisualBehaviorEPHYS_Task1A_v0.0.3",
        "VisualBehaviorEPHYS_Task1A_v0.0.5",
        "VisualBehaviorEPHYS_Task1A_v0.0.6",
        "VisualBehaviorEPHYS_Task1A_v0.0.7",
        "VisualBehaviorEPHYS_Task1A_v0.0.8",
        "VisualBehaviorEPHYS_Task1A_v0.0.9",
        "VisualBehaviorEPHYS_Task1A_v0.1.0",
        "VisualBehaviorEPHYS_Task1A_v0.1.1",
        "VisualBehaviorEPHYS_Task1A_v0.1.2",
        "VisualBehaviorEPHYS_Task1A_v0.1.4",
        "VisualBehaviorEPHYS_Task1A_v0.1.5",
        "VisualBehaviorEPHYS_Task1A_v0.1.6",
        "VisualBehaviorEPHYS_Task1A_v0.1.8",
        "VisualBehaviorEPHYS_Task1A_v0.1.9",
        "VisualBehaviorEPHYS_Task1A_v0.2.2",
        "VisualBehaviorEPHYS_Task1A_v0.2.3",
        "VisualBehaviorEPHYS_Task1A_v0.2.5",
        "VisualBehaviorEPHYS_Task1G_v0.0.1",
        "VisualBehaviorEPHYS_Task1G_v0.0.10",
        "VisualBehaviorEPHYS_Task1G_v0.0.2",
        "VisualBehaviorEPHYS_Task1G_v0.0.3",
        "VisualBehaviorEPHYS_Task1G_v0.0.5",
        "VisualBehaviorEPHYS_Task1G_v0.0.6",
        "VisualBehaviorEPHYS_Task1G_v0.0.8",
        "VisualBehaviorEPHYS_Task1G_v0.0.9",
        "VisualBehaviorEPHYS_Task1G_v0.1.0",
        "VisualBehaviorEPHYS_Task1G_v0.1.1",
        "VisualBehaviorEPHYS_Task1G_v0.1.2",
        "VisualBehaviorEPHYS_Task1H_v0.0.1",
        "VisualBehaviorEPHYS_Task1H_v0.0.3",
        "VisualBehaviorEPHYS_Task2A_v0.0.1",
        "VisualBehavior_Task1A_v0.2.0",
        "VisualBehavior_Task1A_v0.2.1",
        "VisualBehavior_Task1A_v0.2.2",
        "VisualBehavior_Task1A_v0.2.3",
        "VisualBehavior_Task1A_v0.2.4",
        "VisualBehavior_Task1A_v0.3.0",
        "VisualBehavior_Task1A_v0.3.1",
        "VisualBehavior_Task1A_v1.0.0",
        "VisualBehavior_Task1A_v1.0.1",
        "VisualBehavior_Task1A_v1.0.2",
        "VisualBehavior_Task1A_v1.0.3",
        "VisualBehavior_Task1A_v1.1.0",
        "VisualBehavior_Task1A_v1.1.1",
        "VisualBehavior_Task1B_v1.0.2",
        "VisualBehavior_Task1E_v1.0.0",
        "VisualBehavior_Task1E_v1.0.1",
        "VisualBehavior_Task1G_nonLum_v1.0.3",
        "VisualBehavior_Task1G_v1.0.1",
        "VisualBehavior_Task1G_v1.0.2",
        "VisualBehavior_Task1G_v1.0.5",
        "VisualBehavior_Task1G_v1.0.6",
        "VisualCoding_Snr_v1.0.1",
        "VisualCoding_Snr_v1.0.2",
        "VisualCoding_Snr_v1.0.4",
        "VisualCoding_Snr_v1.0.5",
        "VisualCoding_Snr_v1.0.7",
        "VisualCoding_Snr_v1.0.8",
        "VisualCoding_VipSsn_v1.0.4",
        "VisualCoding_VipSsn_v1.0.6",
        "VisualCoding_VipSsn_v1.0.8",
        "VisualCoding_VipSsn_v1.0.9",
        "VisualCoding_VipSsn_v1.1.0",
        "consciousness_circle_v4",
        "mtrain-dprime-tester:0.0.1",
        "mtrain-dprime-tester:0.0.2",
        "mtrain-dprime-tester:0.0.3",
        "mtrain-dprime-tester:0.0.4",
        "mtrain-dprime-tester:0.0.5",
        "omFISH_Ophys_test_v0.0.1",
        "omFISH_Ophys_test_v0.0.2",
        "phase4_1_v0.0.0",
        "phase4_1_v0.0.1",
        "v0.1.1",
        "v0.1.2",
        "v0.1.3"
       ],
       "index": 78,
       "layout": "IPY_MODEL_0bc4308949cb48f182abd959eaa53658",
       "style": "IPY_MODEL_a1240e8fcf4f4a3988f23cfb51af73ed"
      }
     },
     "1f99575476f64110b48b325ecbd5b123": {
      "model_module": "@jupyter-widgets/base",
      "model_module_version": "2.0.0",
      "model_name": "LayoutModel",
      "state": {}
     },
     "210e7a7aa9414e95b8b945e25ce06649": {
      "model_module": "@jupyter-widgets/base",
      "model_module_version": "2.0.0",
      "model_name": "LayoutModel",
      "state": {}
     },
     "23b75e53b85b46e0bf0d6f7dd69a3ab8": {
      "model_module": "@jupyter-widgets/controls",
      "model_module_version": "2.0.0",
      "model_name": "ButtonModel",
      "state": {
       "description": "Update",
       "disabled": true,
       "layout": "IPY_MODEL_8dd83d62bb454a23b3866cb195cbf607",
       "style": "IPY_MODEL_de9fe3e60e724551a16e947f3b0ee43d",
       "tooltip": null
      }
     },
     "24b3d54155874911835f51e925198358": {
      "model_module": "@jupyter-widgets/controls",
      "model_module_version": "2.0.0",
      "model_name": "VBoxModel",
      "state": {
       "children": [
        "IPY_MODEL_32ddd2917b6e4226b88b33a358593bf7",
        "IPY_MODEL_a0ce2ad2d4b14f34a3f3af4d694549f5",
        "IPY_MODEL_4f42266283274df9841eeefacae23cc7"
       ],
       "layout": "IPY_MODEL_210e7a7aa9414e95b8b945e25ce06649"
      }
     },
     "2b293bb25c704225aba8921fb2bef519": {
      "model_module": "@jupyter-widgets/base",
      "model_module_version": "2.0.0",
      "model_name": "LayoutModel",
      "state": {}
     },
     "2b96cea3593c4ca4945cb69e1ab2b366": {
      "model_module": "@jupyter-widgets/base",
      "model_module_version": "2.0.0",
      "model_name": "LayoutModel",
      "state": {
       "grid_area": "widget004"
      }
     },
     "2c61e66c113044168ac58e44f4c05f2e": {
      "model_module": "@jupyter-widgets/output",
      "model_module_version": "1.0.0",
      "model_name": "OutputModel",
      "state": {
       "layout": "IPY_MODEL_0f8f093dd07e46758a023e3a2762a35e",
       "outputs": [
        {
         "name": "stdout",
         "output_type": "stream",
         "text": "366122 last task: stage 5 ori AMN moving\n"
        }
       ]
      }
     },
     "2de36aaf0b8b4f34bbc4cac8b2d8df0e": {
      "model_module": "@jupyter-widgets/controls",
      "model_module_version": "2.0.0",
      "model_name": "DescriptionStyleModel",
      "state": {
       "description_width": ""
      }
     },
     "2eb33f58da434b6d92641f998f63f12e": {
      "model_module": "@jupyter-widgets/controls",
      "model_module_version": "2.0.0",
      "model_name": "CheckboxModel",
      "state": {
       "description": "Each Record Node recording only ABC or DEF probes",
       "disabled": false,
       "layout": "IPY_MODEL_340c238b7ecc4b79baab9afb2df38848",
       "style": "IPY_MODEL_4f6c036ade374fc9945e40d47aaf37cf",
       "value": false
      }
     },
     "31f2ef992112416c807be73444aa319e": {
      "model_module": "@jupyter-widgets/controls",
      "model_module_version": "2.0.0",
      "model_name": "ToggleButtonStyleModel",
      "state": {
       "description_width": "",
       "font_family": null,
       "font_size": null,
       "font_style": null,
       "font_variant": null,
       "font_weight": null,
       "text_color": null,
       "text_decoration": null
      }
     },
     "31fbabe635a14b4c9fe9c668c7c432fc": {
      "model_module": "@jupyter-widgets/controls",
      "model_module_version": "2.0.0",
      "model_name": "TextModel",
      "state": {
       "continuous_update": false,
       "layout": "IPY_MODEL_75cafe6da653453c88bbe53e66b8c277",
       "style": "IPY_MODEL_47df33ecb4a644c0a4975ff70b13b60e",
       "value": "stage 5 ori AMN moving"
      }
     },
     "32ddd2917b6e4226b88b33a358593bf7": {
      "model_module": "@jupyter-widgets/controls",
      "model_module_version": "2.0.0",
      "model_name": "SelectModel",
      "state": {
       "_options_labels": [
        "corbettb",
        "ethan.mcbride",
        "hannah.cabasco",
        "jackie.kuyat",
        "samg",
        "vayle.lafehr"
       ],
       "description": "User:",
       "index": 0,
       "layout": "IPY_MODEL_683fd2bcb7db4317b6b17329ae3704dd",
       "style": "IPY_MODEL_aba5d0c9ce54428db2c2faf53891208a"
      }
     },
     "340c238b7ecc4b79baab9afb2df38848": {
      "model_module": "@jupyter-widgets/base",
      "model_module_version": "2.0.0",
      "model_name": "LayoutModel",
      "state": {
       "min_width": "600px"
      }
     },
     "34e0daa81c474f119f3548a782ceddd3": {
      "model_module": "@jupyter-widgets/controls",
      "model_module_version": "2.0.0",
      "model_name": "GridBoxModel",
      "state": {
       "children": [
        "IPY_MODEL_574115cb79614bf7b1086a9f74a501fa",
        "IPY_MODEL_7d0129c1d2a840e0bc1ab3b37f7d74ff",
        "IPY_MODEL_6a17bcc341c0479a92b8f2d143385dca",
        "IPY_MODEL_1e57ef3550b84afea0392afa678542cf",
        "IPY_MODEL_edcb8db96ade4eef9bf03e6c19204a6e",
        "IPY_MODEL_23b75e53b85b46e0bf0d6f7dd69a3ab8"
       ],
       "layout": "IPY_MODEL_ea6bb6500091418ba580fe025e6f9092"
      }
     },
     "39c99fe2e9bb47d3884b37a920d0ea1a": {
      "model_module": "@jupyter-widgets/controls",
      "model_module_version": "2.0.0",
      "model_name": "LabelStyleModel",
      "state": {
       "description_width": "",
       "font_family": null,
       "font_size": null,
       "font_style": null,
       "font_variant": null,
       "font_weight": null,
       "text_color": null,
       "text_decoration": null
      }
     },
     "3a9d2715abd341909f3bc279fa3ce903": {
      "model_module": "@jupyter-widgets/controls",
      "model_module_version": "2.0.0",
      "model_name": "VBoxModel",
      "state": {
       "children": [
        "IPY_MODEL_1aee804ba54a4a0e8127a48482065a7d",
        "IPY_MODEL_2c61e66c113044168ac58e44f4c05f2e"
       ],
       "layout": "IPY_MODEL_ea192c55bb3f46c5a7107c4600e5ce19"
      }
     },
     "3d78524a27a842e8a7c3b1ea980ae87e": {
      "model_module": "@jupyter-widgets/controls",
      "model_module_version": "2.0.0",
      "model_name": "ToggleButtonModel",
      "state": {
       "button_style": "info",
       "description": "Quiet mode is on",
       "icon": "check",
       "layout": "IPY_MODEL_3fb62aadf96a42818251a7068bcd67f0",
       "style": "IPY_MODEL_31f2ef992112416c807be73444aa319e",
       "tooltip": "Quiet mode: tracebacks hidden, logging level set to INFO.",
       "value": true
      }
     },
     "3fb62aadf96a42818251a7068bcd67f0": {
      "model_module": "@jupyter-widgets/base",
      "model_module_version": "2.0.0",
      "model_name": "LayoutModel",
      "state": {}
     },
     "4195de81a366427388858de4a9b07011": {
      "model_module": "@jupyter-widgets/controls",
      "model_module_version": "2.0.0",
      "model_name": "DescriptionStyleModel",
      "state": {
       "description_width": ""
      }
     },
     "4295742a177e421d8ba6c97ef5802dad": {
      "model_module": "@jupyter-widgets/controls",
      "model_module_version": "2.0.0",
      "model_name": "LabelStyleModel",
      "state": {
       "description_width": "",
       "font_family": null,
       "font_size": null,
       "font_style": null,
       "font_variant": null,
       "font_weight": null,
       "text_color": null,
       "text_decoration": null
      }
     },
     "45a9d8ccb3a34ec6a01019fd1c4353c4": {
      "model_module": "@jupyter-widgets/controls",
      "model_module_version": "2.0.0",
      "model_name": "CheckboxStyleModel",
      "state": {
       "description_width": ""
      }
     },
     "45ef91ad71814eb1832ee01aa6032e24": {
      "model_module": "@jupyter-widgets/controls",
      "model_module_version": "2.0.0",
      "model_name": "LabelModel",
      "state": {
       "layout": "IPY_MODEL_340c238b7ecc4b79baab9afb2df38848",
       "style": "IPY_MODEL_fae37d2548b34461b2ab6f1083592c34",
       "value": "OpenEphys checks:"
      }
     },
     "47df33ecb4a644c0a4975ff70b13b60e": {
      "model_module": "@jupyter-widgets/controls",
      "model_module_version": "2.0.0",
      "model_name": "TextStyleModel",
      "state": {
       "description_width": "",
       "font_size": null,
       "text_color": null
      }
     },
     "4d304b54a2284e88a172bd7997b149ab": {
      "model_module": "@jupyter-widgets/controls",
      "model_module_version": "2.0.0",
      "model_name": "CheckboxStyleModel",
      "state": {
       "description_width": ""
      }
     },
     "4d5cdc848fcc4ac481e5f1c58a65c0be": {
      "model_module": "@jupyter-widgets/base",
      "model_module_version": "2.0.0",
      "model_name": "LayoutModel",
      "state": {}
     },
     "4f42266283274df9841eeefacae23cc7": {
      "model_module": "@jupyter-widgets/output",
      "model_module_version": "1.0.0",
      "model_name": "OutputModel",
      "state": {
       "layout": "IPY_MODEL_8a062e28e2154a6d9e0d0be1f09f0e55"
      }
     },
     "4f6c036ade374fc9945e40d47aaf37cf": {
      "model_module": "@jupyter-widgets/controls",
      "model_module_version": "2.0.0",
      "model_name": "CheckboxStyleModel",
      "state": {
       "description_width": ""
      }
     },
     "4fb9720bedf346bd8b864353983db3bf": {
      "model_module": "@jupyter-widgets/controls",
      "model_module_version": "2.0.0",
      "model_name": "CheckboxStyleModel",
      "state": {
       "description_width": ""
      }
     },
     "5588b427ba3746eea887ad16dadea022": {
      "model_module": "@jupyter-widgets/controls",
      "model_module_version": "2.0.0",
      "model_name": "CheckboxModel",
      "state": {
       "description": "Barcodes visible",
       "disabled": false,
       "layout": "IPY_MODEL_340c238b7ecc4b79baab9afb2df38848",
       "style": "IPY_MODEL_cbe5d5896adf488f882871213f8c7f58",
       "value": false
      }
     },
     "574115cb79614bf7b1086a9f74a501fa": {
      "model_module": "@jupyter-widgets/controls",
      "model_module_version": "2.0.0",
      "model_name": "LabelModel",
      "state": {
       "layout": "IPY_MODEL_a91d9b889b21498daec64730e386ff33",
       "style": "IPY_MODEL_cf3c447064ec44d5ac1036837020a6c4",
       "value": "Mouse: 366122"
      }
     },
     "5b88fba5a7b247d1b1ec6b76e2586ad3": {
      "model_module": "@jupyter-widgets/controls",
      "model_module_version": "2.0.0",
      "model_name": "DescriptionStyleModel",
      "state": {
       "description_width": ""
      }
     },
     "5d4458dd7b3f4d648998d9a8f5746723": {
      "model_module": "@jupyter-widgets/base",
      "model_module_version": "2.0.0",
      "model_name": "LayoutModel",
      "state": {
       "min_width": "600px"
      }
     },
     "5dd4f654a16b4571b4ce554edb9f115a": {
      "model_module": "@jupyter-widgets/controls",
      "model_module_version": "2.0.0",
      "model_name": "HBoxModel",
      "state": {
       "children": [
        "IPY_MODEL_d0a019e6a76c42229345c36c33ef663e",
        "IPY_MODEL_b2d0fbbb3cb74d3d99e6b7a99a224da4"
       ],
       "layout": "IPY_MODEL_2b293bb25c704225aba8921fb2bef519"
      }
     },
     "60d3feb0bb094db19955d92018836a9a": {
      "model_module": "@jupyter-widgets/base",
      "model_module_version": "2.0.0",
      "model_name": "LayoutModel",
      "state": {
       "grid_template_areas": "\"widget001 .\"\n\"widget002 widget004\"\n\"widget003 widget005\"\n\". widget006\"",
       "grid_template_columns": "repeat(2, 1fr)",
       "grid_template_rows": "repeat(4, 1fr)"
      }
     },
     "60f658cb453a42a88a080f79b799f4ab": {
      "model_module": "@jupyter-widgets/base",
      "model_module_version": "2.0.0",
      "model_name": "LayoutModel",
      "state": {}
     },
     "6489abbab3d64e76916ff0a03531b6bf": {
      "model_module": "@jupyter-widgets/base",
      "model_module_version": "2.0.0",
      "model_name": "LayoutModel",
      "state": {}
     },
     "6563011a66aa49e9bfeb6db8e522a9a1": {
      "model_module": "@jupyter-widgets/controls",
      "model_module_version": "2.0.0",
      "model_name": "LabelModel",
      "state": {
       "layout": "IPY_MODEL_1d0f4b3823154464967bc5e0dfdad59d",
       "style": "IPY_MODEL_66a65f08d5bd42f5ba470d8ade061c5a",
       "value": "Mouse: 366122"
      }
     },
     "66a65f08d5bd42f5ba470d8ade061c5a": {
      "model_module": "@jupyter-widgets/controls",
      "model_module_version": "2.0.0",
      "model_name": "LabelStyleModel",
      "state": {
       "description_width": "",
       "font_family": null,
       "font_size": null,
       "font_style": null,
       "font_variant": null,
       "font_weight": null,
       "text_color": null,
       "text_decoration": null
      }
     },
     "6817f8e9060b42ffa7f9729658341587": {
      "model_module": "@jupyter-widgets/base",
      "model_module_version": "2.0.0",
      "model_name": "LayoutModel",
      "state": {}
     },
     "6831f774f8ac4e319d95412775716abf": {
      "model_module": "@jupyter-widgets/controls",
      "model_module_version": "2.0.0",
      "model_name": "LabelModel",
      "state": {
       "layout": "IPY_MODEL_5d4458dd7b3f4d648998d9a8f5746723",
       "style": "IPY_MODEL_4295742a177e421d8ba6c97ef5802dad",
       "value": "Stage checks:"
      }
     },
     "683fd2bcb7db4317b6b17329ae3704dd": {
      "model_module": "@jupyter-widgets/base",
      "model_module_version": "2.0.0",
      "model_name": "LayoutModel",
      "state": {}
     },
     "699e6a8d3e6c4f1e92dca42512474175": {
      "model_module": "@jupyter-widgets/controls",
      "model_module_version": "2.0.0",
      "model_name": "CheckboxModel",
      "state": {
       "description": "Record Node paths are set to two different drives (A: & B: or E: & G:)",
       "disabled": false,
       "layout": "IPY_MODEL_340c238b7ecc4b79baab9afb2df38848",
       "style": "IPY_MODEL_9827fb6ae1c64264a1558044f4caa614",
       "value": false
      }
     },
     "6a17bcc341c0479a92b8f2d143385dca": {
      "model_module": "@jupyter-widgets/controls",
      "model_module_version": "2.0.0",
      "model_name": "LabelModel",
      "state": {
       "layout": "IPY_MODEL_ec340ee95e734c7cb535a15d3b00c6ff",
       "style": "IPY_MODEL_a273daa0ee894e418d055572b4ddcab8",
       "value": "Stage: STAGE_4_AMN_ORI"
      }
     },
     "6a6e9103de8b4de6a0cbede2f24960cc": {
      "model_module": "@jupyter-widgets/controls",
      "model_module_version": "2.0.0",
      "model_name": "LabelStyleModel",
      "state": {
       "description_width": "",
       "font_family": null,
       "font_size": null,
       "font_style": null,
       "font_variant": null,
       "font_weight": null,
       "text_color": null,
       "text_decoration": null
      }
     },
     "6ff898ba4e444421a3be9a76b280b33b": {
      "model_module": "@jupyter-widgets/base",
      "model_module_version": "2.0.0",
      "model_name": "LayoutModel",
      "state": {}
     },
     "73f73fa1a8b54549bdb77c7ba1a583fc": {
      "model_module": "@jupyter-widgets/base",
      "model_module_version": "2.0.0",
      "model_name": "LayoutModel",
      "state": {
       "grid_area": "widget005"
      }
     },
     "75ba4b436c9a4f7eaa01b77eb87dfbb9": {
      "model_module": "@jupyter-widgets/base",
      "model_module_version": "2.0.0",
      "model_name": "LayoutModel",
      "state": {}
     },
     "75cafe6da653453c88bbe53e66b8c277": {
      "model_module": "@jupyter-widgets/base",
      "model_module_version": "2.0.0",
      "model_name": "LayoutModel",
      "state": {}
     },
     "7aded767fa4b4d4ba92ca12a0a7049ae": {
      "model_module": "@jupyter-widgets/controls",
      "model_module_version": "2.0.0",
      "model_name": "VBoxModel",
      "state": {
       "children": [
        "IPY_MODEL_969199e6b07a4076a925f436150fa0fd",
        "IPY_MODEL_bca993721a1c4cb2a86c4396b563fbcb"
       ],
       "layout": "IPY_MODEL_6489abbab3d64e76916ff0a03531b6bf"
      }
     },
     "7bea6e2d631f4d76bcbb1d796b1a62c0": {
      "model_module": "@jupyter-widgets/base",
      "model_module_version": "2.0.0",
      "model_name": "LayoutModel",
      "state": {}
     },
     "7d0129c1d2a840e0bc1ab3b37f7d74ff": {
      "model_module": "@jupyter-widgets/controls",
      "model_module_version": "2.0.0",
      "model_name": "LabelModel",
      "state": {
       "layout": "IPY_MODEL_1baa34bff4ec4e32a5bf81d1741520d6",
       "style": "IPY_MODEL_9139154253434537ac7c005661406d50",
       "value": "Regimen: DynamicRouting_v0.0.11"
      }
     },
     "7d2dd8aca8534a96a5d6348c36d35bf7": {
      "model_module": "@jupyter-widgets/base",
      "model_module_version": "2.0.0",
      "model_name": "LayoutModel",
      "state": {
       "grid_area": "widget006"
      }
     },
     "814b602fc20d4d12a7207067a9054ff1": {
      "model_module": "@jupyter-widgets/base",
      "model_module_version": "2.0.0",
      "model_name": "LayoutModel",
      "state": {}
     },
     "823b65493f7c493ea99a0d2968b8c83a": {
      "model_module": "@jupyter-widgets/controls",
      "model_module_version": "2.0.0",
      "model_name": "LabelModel",
      "state": {
       "layout": "IPY_MODEL_b2dba13195d3489bb86b302c93a9e4ce",
       "style": "IPY_MODEL_39c99fe2e9bb47d3884b37a920d0ea1a",
       "value": "Regimen: DynamicRouting_v0.0.11"
      }
     },
     "83eb843a26c24b44a5ad9eb5d76bc9d2": {
      "model_module": "@jupyter-widgets/controls",
      "model_module_version": "2.0.0",
      "model_name": "VBoxModel",
      "state": {
       "children": [
        "IPY_MODEL_34e0daa81c474f119f3548a782ceddd3",
        "IPY_MODEL_8f3c68350c3849bb961f8e82d480c1fc"
       ],
       "layout": "IPY_MODEL_07d0ad5695314f9392c1eb58198f986a"
      }
     },
     "853a4e1ee49e4409b8ae1973fc524737": {
      "model_module": "@jupyter-widgets/controls",
      "model_module_version": "2.0.0",
      "model_name": "LabelStyleModel",
      "state": {
       "description_width": "",
       "font_family": null,
       "font_size": null,
       "font_style": null,
       "font_variant": null,
       "font_weight": null,
       "text_color": null,
       "text_decoration": null
      }
     },
     "8634ff016b894668aae9a0dd0f238915": {
      "model_module": "@jupyter-widgets/controls",
      "model_module_version": "2.0.0",
      "model_name": "VBoxModel",
      "state": {
       "children": [
        "IPY_MODEL_5dd4f654a16b4571b4ce554edb9f115a",
        "IPY_MODEL_0471a8a914974bff83b0f30e8576ed12"
       ],
       "layout": "IPY_MODEL_6ff898ba4e444421a3be9a76b280b33b"
      }
     },
     "87b6157104134f59bff2d703b785ec64": {
      "model_module": "@jupyter-widgets/controls",
      "model_module_version": "2.0.0",
      "model_name": "VBoxModel",
      "state": {
       "children": [
        "IPY_MODEL_aca725492368429aacf854a1ada38ac0",
        "IPY_MODEL_dec1f072a06942e0baa28781ee9272ed"
       ],
       "layout": "IPY_MODEL_75ba4b436c9a4f7eaa01b77eb87dfbb9"
      }
     },
     "87f3ad90bef048ff8937f6a361703e97": {
      "model_module": "@jupyter-widgets/controls",
      "model_module_version": "2.0.0",
      "model_name": "DescriptionStyleModel",
      "state": {
       "description_width": ""
      }
     },
     "88d26f6561c8457487684b29441101fa": {
      "model_module": "@jupyter-widgets/base",
      "model_module_version": "2.0.0",
      "model_name": "LayoutModel",
      "state": {}
     },
     "89ae8c4776ae4637bb5bce860652b2a2": {
      "model_module": "@jupyter-widgets/controls",
      "model_module_version": "2.0.0",
      "model_name": "SelectModel",
      "state": {
       "_options_labels": [
        "stage 5 ori AMN moving",
        "stage 5 AMN ori moving",
        "opto stim ori AMN moving",
        "opto stim AMN ori moving",
        "templeton hab stage 2 aud",
        "templeton hab stage 2 vis",
        "templeton ephys stage 2 aud opto stim",
        "templeton ephys stage 2 vis opto stim"
       ],
       "description": "Presets",
       "index": 0,
       "layout": "IPY_MODEL_e07a21d227594420ae77ebd5f33fbcc1",
       "style": "IPY_MODEL_0319f250ebcd4355b747d579cf2f255d"
      }
     },
     "8a062e28e2154a6d9e0d0be1f09f0e55": {
      "model_module": "@jupyter-widgets/base",
      "model_module_version": "2.0.0",
      "model_name": "LayoutModel",
      "state": {}
     },
     "8a6b566449914da1b219b9c09a24e13b": {
      "model_module": "@jupyter-widgets/controls",
      "model_module_version": "2.0.0",
      "model_name": "LabelStyleModel",
      "state": {
       "description_width": "",
       "font_family": null,
       "font_size": null,
       "font_style": null,
       "font_variant": null,
       "font_weight": null,
       "text_color": null,
       "text_decoration": null
      }
     },
     "8d2bb6a5c73745b6af93543b16e46740": {
      "model_module": "@jupyter-widgets/controls",
      "model_module_version": "2.0.0",
      "model_name": "LabelModel",
      "state": {
       "layout": "IPY_MODEL_fd0909f1b5aa4bdb84abb6ccbf0b0587",
       "style": "IPY_MODEL_8a6b566449914da1b219b9c09a24e13b",
       "value": "Stage: STAGE_4_AMN_ORI"
      }
     },
     "8dd83d62bb454a23b3866cb195cbf607": {
      "model_module": "@jupyter-widgets/base",
      "model_module_version": "2.0.0",
      "model_name": "LayoutModel",
      "state": {
       "grid_area": "widget006"
      }
     },
     "8f3c68350c3849bb961f8e82d480c1fc": {
      "model_module": "@jupyter-widgets/output",
      "model_module_version": "1.0.0",
      "model_name": "OutputModel",
      "state": {
       "layout": "IPY_MODEL_eda2783caee342d9b7a55c7c8e480136"
      }
     },
     "9139154253434537ac7c005661406d50": {
      "model_module": "@jupyter-widgets/controls",
      "model_module_version": "2.0.0",
      "model_name": "LabelStyleModel",
      "state": {
       "description_width": "",
       "font_family": null,
       "font_size": null,
       "font_style": null,
       "font_variant": null,
       "font_weight": null,
       "text_color": null,
       "text_decoration": null
      }
     },
     "944c7acec7d24ab0b05b1269ea6a5336": {
      "model_module": "@jupyter-widgets/controls",
      "model_module_version": "2.0.0",
      "model_name": "DropdownModel",
      "state": {
       "_options_labels": [
        "AssociativeLearning_Static_dev2",
        "AssociativeLearning_Static_dev3",
        "AssociativeLearning_Static_v0.0.1",
        "AssociativeLearning_Static_v0.0.2",
        "AssociativeLearning_Static_v0.0.3",
        "AssociativeLearning_Static_v0.0.4",
        "AssociativeLearning_dummy2",
        "AssociativeLearning_v0.0.1",
        "AssociativeLearning_v0.0.2",
        "AssociativeLearning_v0.0.3",
        "AssociativeLearning_v0.0.4",
        "AssociativeLearning_v0.0.5",
        "AssociativeLearning_v0.0.6",
        "AssociativeLearning_v0.0.7",
        "AssociativeLearning_v0.0.8",
        "AssociativeLearning_v0.0.9",
        "AssociativeLearning_v0.2.0",
        "AssociativeLearning_v0.2.1",
        "DynamicRoutingAlternating_0_v0.0.0",
        "DynamicRoutingAlternating_1_v0.0.0",
        "DynamicRoutingDev2_v0.0.11",
        "DynamicRoutingDev2_v0.0.12",
        "DynamicRoutingDev2_v0.0.3",
        "DynamicRoutingDev3_v0.0.2",
        "DynamicRoutingDev3_v0.0.3",
        "DynamicRoutingDev4_v0.0.1",
        "DynamicRoutingDev4_v0.0.3",
        "DynamicRoutingDev5_v0.0.1",
        "DynamicRoutingDev5_v0.0.2",
        "DynamicRoutingDev5_v0.0.3",
        "DynamicRoutingDev5_v0.0.4",
        "DynamicRoutingDev5_v0.0.5",
        "DynamicRoutingDev5_v0.0.6",
        "DynamicRoutingDev_v0.0.1",
        "DynamicRoutingDev_v0.0.25",
        "DynamicRoutingDev_v0.0.26",
        "DynamicRoutingDev_v0.0.27",
        "DynamicRoutingDev_v0.0.3",
        "DynamicRoutingDev_v0.0.5",
        "DynamicRoutingDev_v0.0.7",
        "DynamicRoutingDev_v0.0.8",
        "DynamicRoutingDev_v0.0.9",
        "DynamicRoutingTest_v0.0.1",
        "DynamicRouting_Task1_GH_v0.0.6",
        "DynamicRouting_Task1_GH_v0.0.7",
        "DynamicRouting_Task1_GH_v0.0.8",
        "DynamicRouting_Task1_builtin_v0.0.10",
        "DynamicRouting_Task1_builtin_v0.0.11",
        "DynamicRouting_Task1_builtin_v0.0.3",
        "DynamicRouting_Task1_builtin_v0.0.4",
        "DynamicRouting_Task1_builtin_v0.0.5",
        "DynamicRouting_Task1_builtin_v0.0.6",
        "DynamicRouting_Task1_builtin_v0.0.7",
        "DynamicRouting_Task1_builtin_v0.0.8",
        "DynamicRouting_Task1_builtin_v0.0.9",
        "DynamicRouting_Task1_v0.0.12",
        "DynamicRouting_Task1_v0.0.13",
        "DynamicRouting_Task1_v0.0.14",
        "DynamicRouting_Task1_v0.0.15",
        "DynamicRouting_Task1_v0.0.3",
        "DynamicRouting_Task1_v0.0.4",
        "DynamicRouting_Task1_v0.0.5",
        "DynamicRouting_Task1_v0.0.6",
        "DynamicRouting_Task1_v0.0.8",
        "DynamicRouting_noAR_v0.0.1",
        "DynamicRouting_noAR_v0.0.2",
        "DynamicRouting_nogo_v0.0.1",
        "DynamicRouting_nogo_v0.0.2",
        "DynamicRouting_repeats_v0.0.1",
        "DynamicRouting_repeats_v0.0.2",
        "DynamicRouting_repeats_v0.0.3",
        "DynamicRouting_repeats_v0.0.4",
        "DynamicRouting_repeats_v0.0.5",
        "DynamicRouting_rewardOnly_v0.0.1",
        "DynamicRouting_rewardOnly_v0.0.2",
        "DynamicRouting_v0.0.0",
        "DynamicRouting_v0.0.1",
        "DynamicRouting_v0.0.10",
        "DynamicRouting_v0.0.11",
        "DynamicRouting_v0.0.2",
        "DynamicRouting_v0.0.3",
        "DynamicRouting_v0.0.4",
        "DynamicRouting_v0.0.5",
        "DynamicRouting_v0.0.6",
        "DynamicRouting_v0.0.7",
        "DynamicRouting_v0.0.8",
        "DynamicRouting_v0.0.9",
        "Openscope_Barcoding_Drift_v13",
        "Openscope_Barcoding_Static_v13",
        "Openscope_Barcoding_v10",
        "Openscope_Barcoding_v11",
        "Openscope_Barcoding_v14",
        "Openscope_Barcoding_v15",
        "Openscope_Barcoding_v3",
        "Openscope_Barcoding_v4",
        "Openscope_Barcoding_v6",
        "Openscope_Barcoding_v7",
        "Openscope_Barcoding_v9",
        "Openscope_DendriticCoupling_dummy",
        "Openscope_DendriticCoupling_dummy_huge",
        "Openscope_DendriticCoupling_dummy_huge_v5",
        "Openscope_DendriticCoupling_dummy_huge_v6",
        "Openscope_DendriticCoupling_dummy_huge_v7",
        "Openscope_DendriticCoupling_dummy_huge_v8",
        "Openscope_DendriticCoupling_dummy_huge_v9",
        "Openscope_DendriticCoupling_dummy_v2",
        "Openscope_DendriticCoupling_dummy_v3",
        "Openscope_DendriticCoupling_dummy_v4",
        "Openscope_DendriticCoupling_v1",
        "Openscope_DendriticCoupling_v10",
        "Openscope_DendriticCoupling_v11",
        "Openscope_DendriticCoupling_v12",
        "Openscope_DendriticCoupling_v13",
        "Openscope_DendriticCoupling_v14",
        "Openscope_DendriticCoupling_v15",
        "Openscope_DendriticCoupling_v16",
        "Openscope_DendriticCoupling_v17",
        "Openscope_DendriticCoupling_v19",
        "Openscope_DendriticCoupling_v2",
        "Openscope_DendriticCoupling_v20",
        "Openscope_DendriticCoupling_v21",
        "Openscope_DendriticCoupling_v22",
        "Openscope_DendriticCoupling_v3",
        "Openscope_DendriticCoupling_v4",
        "Openscope_DendriticCoupling_v5",
        "Openscope_DendriticCoupling_v6",
        "Openscope_DendriticCoupling_v8",
        "Openscope_DendriticCoupling_v9",
        "Openscope_GlobalLocalOdd_Cohort1_short_test",
        "Openscope_GlobalLocalOdd_Cohort1_short_test_v4",
        "Openscope_GlobalLocalOdd_Cohort1_short_test_v5",
        "Openscope_GlobalLocalOdd_Cohort1_v1",
        "Openscope_GlobalLocalOdd_Cohort1_v1.0.5",
        "Openscope_GlobalLocalOdd_Cohort1_v10",
        "Openscope_GlobalLocalOdd_Cohort1_v2",
        "Openscope_GlobalLocalOdd_Cohort1_v3",
        "Openscope_GlobalLocalOdd_Cohort1_v4",
        "Openscope_GlobalLocalOdd_Cohort1_v5",
        "Openscope_GlobalLocalOdd_Cohort1_v7",
        "Openscope_GlobalLocalOdd_Cohort1_v8",
        "Openscope_GlobalLocalOdd_Cohort2_v1",
        "Openscope_GlobalLocalOdd_Cohort2_v10",
        "Openscope_GlobalLocalOdd_Cohort2_v2",
        "Openscope_GlobalLocalOdd_Cohort2_v3",
        "Openscope_GlobalLocalOdd_Cohort2_v4",
        "Openscope_GlobalLocalOdd_Cohort2_v5",
        "Openscope_GlobalLocalOdd_Cohort2_v7",
        "Openscope_GlobalLocalOdd_Cohort2_v8",
        "Openscope_Illusion_v11",
        "Openscope_Illusion_v12",
        "Openscope_Illusion_v13",
        "Openscope_Illusion_v14",
        "Openscope_Illusion_v15",
        "Openscope_Illusion_v3",
        "Openscope_Illusion_v4",
        "Openscope_Illusion_v5",
        "Openscope_Illusion_v6",
        "Openscope_Illusion_v7",
        "Openscope_Illusion_v8",
        "Openscope_Illusion_v9",
        "Openscope_SequenceLearning_v2",
        "Openscope_SequenceLearning_v3",
        "Openscope_Vippo_v10",
        "Openscope_Vippo_v11",
        "Openscope_Vippo_v12",
        "Openscope_Vippo_v14",
        "Openscope_Vippo_v15",
        "Openscope_Vippo_v2",
        "Openscope_Vippo_v3",
        "Openscope_Vippo_v4",
        "Openscope_Vippo_v5",
        "Openscope_Vippo_v6",
        "Openscope_Vippo_v7",
        "Openscope_Vippo_v8",
        "Openscope_Vippo_v9",
        "Openscope_test_rig_Vippo_v2",
        "Openscope_test_rig_Vippo_v3",
        "Openscope_test_rig_Vippo_v6",
        "Openscope_test_screen",
        "Passive_VisualCoding_v1.0.0",
        "Pretest_v0.1.2",
        "Pretest_v0.1.3",
        "Pretest_v0.1.4",
        "TestRegimen_v0.0.1",
        "Test_Script_7_v0.0.3",
        "V1omFISH_gamma_v1.0.0",
        "V1omFISH_gamma_v1.1.0",
        "VisualBehaviorEPHYS_Task1A_v0.0.2",
        "VisualBehaviorEPHYS_Task1A_v0.0.3",
        "VisualBehaviorEPHYS_Task1A_v0.0.5",
        "VisualBehaviorEPHYS_Task1A_v0.0.6",
        "VisualBehaviorEPHYS_Task1A_v0.0.7",
        "VisualBehaviorEPHYS_Task1A_v0.0.8",
        "VisualBehaviorEPHYS_Task1A_v0.0.9",
        "VisualBehaviorEPHYS_Task1A_v0.1.0",
        "VisualBehaviorEPHYS_Task1A_v0.1.1",
        "VisualBehaviorEPHYS_Task1A_v0.1.2",
        "VisualBehaviorEPHYS_Task1A_v0.1.4",
        "VisualBehaviorEPHYS_Task1A_v0.1.5",
        "VisualBehaviorEPHYS_Task1A_v0.1.6",
        "VisualBehaviorEPHYS_Task1A_v0.1.8",
        "VisualBehaviorEPHYS_Task1A_v0.1.9",
        "VisualBehaviorEPHYS_Task1A_v0.2.2",
        "VisualBehaviorEPHYS_Task1A_v0.2.3",
        "VisualBehaviorEPHYS_Task1A_v0.2.5",
        "VisualBehaviorEPHYS_Task1G_v0.0.1",
        "VisualBehaviorEPHYS_Task1G_v0.0.10",
        "VisualBehaviorEPHYS_Task1G_v0.0.2",
        "VisualBehaviorEPHYS_Task1G_v0.0.3",
        "VisualBehaviorEPHYS_Task1G_v0.0.5",
        "VisualBehaviorEPHYS_Task1G_v0.0.6",
        "VisualBehaviorEPHYS_Task1G_v0.0.8",
        "VisualBehaviorEPHYS_Task1G_v0.0.9",
        "VisualBehaviorEPHYS_Task1G_v0.1.0",
        "VisualBehaviorEPHYS_Task1G_v0.1.1",
        "VisualBehaviorEPHYS_Task1G_v0.1.2",
        "VisualBehaviorEPHYS_Task1H_v0.0.1",
        "VisualBehaviorEPHYS_Task1H_v0.0.3",
        "VisualBehaviorEPHYS_Task2A_v0.0.1",
        "VisualBehavior_Task1A_v0.2.0",
        "VisualBehavior_Task1A_v0.2.1",
        "VisualBehavior_Task1A_v0.2.2",
        "VisualBehavior_Task1A_v0.2.3",
        "VisualBehavior_Task1A_v0.2.4",
        "VisualBehavior_Task1A_v0.3.0",
        "VisualBehavior_Task1A_v0.3.1",
        "VisualBehavior_Task1A_v1.0.0",
        "VisualBehavior_Task1A_v1.0.1",
        "VisualBehavior_Task1A_v1.0.2",
        "VisualBehavior_Task1A_v1.0.3",
        "VisualBehavior_Task1A_v1.1.0",
        "VisualBehavior_Task1A_v1.1.1",
        "VisualBehavior_Task1B_v1.0.2",
        "VisualBehavior_Task1E_v1.0.0",
        "VisualBehavior_Task1E_v1.0.1",
        "VisualBehavior_Task1G_nonLum_v1.0.3",
        "VisualBehavior_Task1G_v1.0.1",
        "VisualBehavior_Task1G_v1.0.2",
        "VisualBehavior_Task1G_v1.0.5",
        "VisualBehavior_Task1G_v1.0.6",
        "VisualCoding_Snr_v1.0.1",
        "VisualCoding_Snr_v1.0.2",
        "VisualCoding_Snr_v1.0.4",
        "VisualCoding_Snr_v1.0.5",
        "VisualCoding_Snr_v1.0.7",
        "VisualCoding_Snr_v1.0.8",
        "VisualCoding_VipSsn_v1.0.4",
        "VisualCoding_VipSsn_v1.0.6",
        "VisualCoding_VipSsn_v1.0.8",
        "VisualCoding_VipSsn_v1.0.9",
        "VisualCoding_VipSsn_v1.1.0",
        "consciousness_circle_v4",
        "mtrain-dprime-tester:0.0.1",
        "mtrain-dprime-tester:0.0.2",
        "mtrain-dprime-tester:0.0.3",
        "mtrain-dprime-tester:0.0.4",
        "mtrain-dprime-tester:0.0.5",
        "omFISH_Ophys_test_v0.0.1",
        "omFISH_Ophys_test_v0.0.2",
        "phase4_1_v0.0.0",
        "phase4_1_v0.0.1",
        "v0.1.1",
        "v0.1.2",
        "v0.1.3"
       ],
       "index": 78,
       "layout": "IPY_MODEL_2b96cea3593c4ca4945cb69e1ab2b366",
       "style": "IPY_MODEL_4195de81a366427388858de4a9b07011"
      }
     },
     "969199e6b07a4076a925f436150fa0fd": {
      "model_module": "@jupyter-widgets/controls",
      "model_module_version": "2.0.0",
      "model_name": "HBoxModel",
      "state": {
       "children": [
        "IPY_MODEL_e0fe044b91f64c2ebbf5cdc3bc03a568",
        "IPY_MODEL_b0d751b6f0974682a3a7a3477c4b4cea"
       ],
       "layout": "IPY_MODEL_a94c121f41004b95a7e0fdcebc3fff47"
      }
     },
     "9827fb6ae1c64264a1558044f4caa614": {
      "model_module": "@jupyter-widgets/controls",
      "model_module_version": "2.0.0",
      "model_name": "CheckboxStyleModel",
      "state": {
       "description_width": ""
      }
     },
     "9ac523ee90e443fb97a51c0a8677eee2": {
      "model_module": "@jupyter-widgets/base",
      "model_module_version": "2.0.0",
      "model_name": "LayoutModel",
      "state": {}
     },
     "9b61d38ea8c64685b9e1cdee1978495a": {
      "model_module": "@jupyter-widgets/controls",
      "model_module_version": "2.0.0",
      "model_name": "DescriptionStyleModel",
      "state": {
       "description_width": ""
      }
     },
     "a0ce2ad2d4b14f34a3f3af4d694549f5": {
      "model_module": "@jupyter-widgets/controls",
      "model_module_version": "2.0.0",
      "model_name": "TextModel",
      "state": {
       "description": "Mouse:",
       "layout": "IPY_MODEL_ef9f9b6acca741e89de9086e3c1f79eb",
       "style": "IPY_MODEL_b2320bae3291491caf7e09585d22c596",
       "value": "366122"
      }
     },
     "a1240e8fcf4f4a3988f23cfb51af73ed": {
      "model_module": "@jupyter-widgets/controls",
      "model_module_version": "2.0.0",
      "model_name": "DescriptionStyleModel",
      "state": {
       "description_width": ""
      }
     },
     "a209056241964a0091829c008f68eb23": {
      "model_module": "@jupyter-widgets/base",
      "model_module_version": "2.0.0",
      "model_name": "LayoutModel",
      "state": {}
     },
     "a273daa0ee894e418d055572b4ddcab8": {
      "model_module": "@jupyter-widgets/controls",
      "model_module_version": "2.0.0",
      "model_name": "LabelStyleModel",
      "state": {
       "description_width": "",
       "font_family": null,
       "font_size": null,
       "font_style": null,
       "font_variant": null,
       "font_weight": null,
       "text_color": null,
       "text_decoration": null
      }
     },
     "a91d9b889b21498daec64730e386ff33": {
      "model_module": "@jupyter-widgets/base",
      "model_module_version": "2.0.0",
      "model_name": "LayoutModel",
      "state": {
       "grid_area": "widget001"
      }
     },
     "a92702491abf41dea2b9504d4780e1d6": {
      "model_module": "@jupyter-widgets/controls",
      "model_module_version": "2.0.0",
      "model_name": "VBoxModel",
      "state": {
       "children": [
        "IPY_MODEL_19901b1040d44f349b5476a8628230f1",
        "IPY_MODEL_c23c2b1c3e034bbbba081219018a0cfd"
       ],
       "layout": "IPY_MODEL_0d3a4a933676491c84116eac0f4e8ae5"
      }
     },
     "a94c121f41004b95a7e0fdcebc3fff47": {
      "model_module": "@jupyter-widgets/base",
      "model_module_version": "2.0.0",
      "model_name": "LayoutModel",
      "state": {}
     },
     "aba5d0c9ce54428db2c2faf53891208a": {
      "model_module": "@jupyter-widgets/controls",
      "model_module_version": "2.0.0",
      "model_name": "DescriptionStyleModel",
      "state": {
       "description_width": ""
      }
     },
     "aca725492368429aacf854a1ada38ac0": {
      "model_module": "@jupyter-widgets/controls",
      "model_module_version": "2.0.0",
      "model_name": "GridBoxModel",
      "state": {
       "children": [
        "IPY_MODEL_6563011a66aa49e9bfeb6db8e522a9a1",
        "IPY_MODEL_823b65493f7c493ea99a0d2968b8c83a",
        "IPY_MODEL_8d2bb6a5c73745b6af93543b16e46740",
        "IPY_MODEL_944c7acec7d24ab0b05b1269ea6a5336",
        "IPY_MODEL_1a3ecf2d8b6d4ac1b95a6c2586abb93f",
        "IPY_MODEL_efd50e543fe847f8905c1d0ed6ac6341"
       ],
       "layout": "IPY_MODEL_60d3feb0bb094db19955d92018836a9a"
      }
     },
     "ad31cd34e4404ec3ac47030d34bd90fe": {
      "model_module": "@jupyter-widgets/controls",
      "model_module_version": "2.0.0",
      "model_name": "DescriptionStyleModel",
      "state": {
       "description_width": ""
      }
     },
     "b0d751b6f0974682a3a7a3477c4b4cea": {
      "model_module": "@jupyter-widgets/controls",
      "model_module_version": "2.0.0",
      "model_name": "SelectModel",
      "state": {
       "_options_labels": [
        "test EPHYS",
        "EPHYS minus probes",
        "opto in task optional",
        "opto in task, no ephys"
       ],
       "disabled": true,
       "index": null,
       "layout": "IPY_MODEL_a209056241964a0091829c008f68eb23",
       "style": "IPY_MODEL_5b88fba5a7b247d1b1ec6b76e2586ad3"
      }
     },
     "b0fb6ea50832454ea6553b60cde1a086": {
      "model_module": "@jupyter-widgets/controls",
      "model_module_version": "2.0.0",
      "model_name": "CheckboxModel",
      "state": {
       "description": "Water lines flushed if lick-spout required",
       "disabled": false,
       "layout": "IPY_MODEL_5d4458dd7b3f4d648998d9a8f5746723",
       "style": "IPY_MODEL_45a9d8ccb3a34ec6a01019fd1c4353c4",
       "value": false
      }
     },
     "b2320bae3291491caf7e09585d22c596": {
      "model_module": "@jupyter-widgets/controls",
      "model_module_version": "2.0.0",
      "model_name": "TextStyleModel",
      "state": {
       "description_width": "",
       "font_size": null,
       "text_color": null
      }
     },
     "b2d0fbbb3cb74d3d99e6b7a99a224da4": {
      "model_module": "@jupyter-widgets/controls",
      "model_module_version": "2.0.0",
      "model_name": "SelectModel",
      "state": {
       "_options_labels": [
        "test EPHYS",
        "EPHYS minus probes",
        "opto in task optional",
        "opto in task, no ephys"
       ],
       "disabled": true,
       "index": null,
       "layout": "IPY_MODEL_cdc2d9ae79bf47628d01b870ff0c3c8d",
       "style": "IPY_MODEL_9b61d38ea8c64685b9e1cdee1978495a"
      }
     },
     "b2dba13195d3489bb86b302c93a9e4ce": {
      "model_module": "@jupyter-widgets/base",
      "model_module_version": "2.0.0",
      "model_name": "LayoutModel",
      "state": {
       "grid_area": "widget002"
      }
     },
     "b93aa78b5cbe48f9bc91ade52fffbe89": {
      "model_module": "@jupyter-widgets/controls",
      "model_module_version": "2.0.0",
      "model_name": "CheckboxModel",
      "state": {
       "description": "Tip-reference on all probes",
       "disabled": false,
       "layout": "IPY_MODEL_340c238b7ecc4b79baab9afb2df38848",
       "style": "IPY_MODEL_e54d98f0b4d94d7e812f2767748a6865",
       "value": false
      }
     },
     "bca993721a1c4cb2a86c4396b563fbcb": {
      "model_module": "@jupyter-widgets/output",
      "model_module_version": "1.0.0",
      "model_name": "OutputModel",
      "state": {
       "layout": "IPY_MODEL_6817f8e9060b42ffa7f9729658341587",
       "outputs": [
        {
         "name": "stdout",
         "output_type": "stream",
         "text": "366122 last workflow: PRETEST\nSelected: PRETEST\nSelected: Workflow.EPHYS\nSelected: Workflow.HAB\n"
        }
       ]
      }
     },
     "c23c2b1c3e034bbbba081219018a0cfd": {
      "model_module": "@jupyter-widgets/controls",
      "model_module_version": "2.0.0",
      "model_name": "LabelModel",
      "state": {
       "layout": "IPY_MODEL_814b602fc20d4d12a7207067a9054ff1",
       "style": "IPY_MODEL_853a4e1ee49e4409b8ae1973fc524737",
       "value": "Remember to restart JupyterLab and run update.bat before every experiment!"
      }
     },
     "cb9d8561e4e047c7b625a4f2ee16781a": {
      "model_module": "@jupyter-widgets/controls",
      "model_module_version": "2.0.0",
      "model_name": "CheckboxModel",
      "state": {
       "description": "Tail-cone is not loose",
       "disabled": false,
       "layout": "IPY_MODEL_5d4458dd7b3f4d648998d9a8f5746723",
       "style": "IPY_MODEL_d9d89c72eb2241a1b6f60f6ae35d2a04",
       "value": false
      }
     },
     "cbe5d5896adf488f882871213f8c7f58": {
      "model_module": "@jupyter-widgets/controls",
      "model_module_version": "2.0.0",
      "model_name": "CheckboxStyleModel",
      "state": {
       "description_width": ""
      }
     },
     "cdc2d9ae79bf47628d01b870ff0c3c8d": {
      "model_module": "@jupyter-widgets/base",
      "model_module_version": "2.0.0",
      "model_name": "LayoutModel",
      "state": {}
     },
     "cf3c447064ec44d5ac1036837020a6c4": {
      "model_module": "@jupyter-widgets/controls",
      "model_module_version": "2.0.0",
      "model_name": "LabelStyleModel",
      "state": {
       "description_width": "",
       "font_family": null,
       "font_size": null,
       "font_style": null,
       "font_variant": null,
       "font_weight": null,
       "text_color": null,
       "text_decoration": null
      }
     },
     "cfb5745667a34118a7140fc5e29e3563": {
      "model_module": "@jupyter-widgets/base",
      "model_module_version": "2.0.0",
      "model_name": "LayoutModel",
      "state": {}
     },
     "d0a019e6a76c42229345c36c33ef663e": {
      "model_module": "@jupyter-widgets/controls",
      "model_module_version": "2.0.0",
      "model_name": "SelectModel",
      "state": {
       "_options_labels": [
        "PRETEST",
        "HAB",
        "EPHYS",
        "OPTO"
       ],
       "description": "Workflow",
       "index": 0,
       "layout": "IPY_MODEL_88d26f6561c8457487684b29441101fa",
       "style": "IPY_MODEL_2de36aaf0b8b4f34bbc4cac8b2d8df0e"
      }
     },
     "d9d89c72eb2241a1b6f60f6ae35d2a04": {
      "model_module": "@jupyter-widgets/controls",
      "model_module_version": "2.0.0",
      "model_name": "CheckboxStyleModel",
      "state": {
       "description_width": ""
      }
     },
     "de9fe3e60e724551a16e947f3b0ee43d": {
      "model_module": "@jupyter-widgets/controls",
      "model_module_version": "2.0.0",
      "model_name": "ButtonStyleModel",
      "state": {
       "font_family": null,
       "font_size": null,
       "font_style": null,
       "font_variant": null,
       "font_weight": null,
       "text_color": null,
       "text_decoration": null
      }
     },
     "dec1f072a06942e0baa28781ee9272ed": {
      "model_module": "@jupyter-widgets/output",
      "model_module_version": "1.0.0",
      "model_name": "OutputModel",
      "state": {
       "layout": "IPY_MODEL_60f658cb453a42a88a080f79b799f4ab"
      }
     },
     "e07a21d227594420ae77ebd5f33fbcc1": {
      "model_module": "@jupyter-widgets/base",
      "model_module_version": "2.0.0",
      "model_name": "LayoutModel",
      "state": {
       "max_height": "400px",
       "min_width": "500px"
      }
     },
     "e0fe044b91f64c2ebbf5cdc3bc03a568": {
      "model_module": "@jupyter-widgets/controls",
      "model_module_version": "2.0.0",
      "model_name": "SelectModel",
      "state": {
       "_options_labels": [
        "PRETEST",
        "HAB",
        "EPHYS",
        "OPTO"
       ],
       "description": "Workflow",
       "index": 1,
       "layout": "IPY_MODEL_9ac523ee90e443fb97a51c0a8677eee2",
       "style": "IPY_MODEL_ad31cd34e4404ec3ac47030d34bd90fe"
      }
     },
     "e54d98f0b4d94d7e812f2767748a6865": {
      "model_module": "@jupyter-widgets/controls",
      "model_module_version": "2.0.0",
      "model_name": "CheckboxStyleModel",
      "state": {
       "description_width": ""
      }
     },
     "e648733898934c4b9079629b9623a31e": {
      "model_module": "@jupyter-widgets/controls",
      "model_module_version": "2.0.0",
      "model_name": "CheckboxModel",
      "state": {
       "description": "Eye-tracking mirror is clean",
       "disabled": false,
       "layout": "IPY_MODEL_5d4458dd7b3f4d648998d9a8f5746723",
       "style": "IPY_MODEL_4d304b54a2284e88a172bd7997b149ab",
       "value": false
      }
     },
     "e6535e97673447d4a18c291539186cc9": {
      "model_module": "@jupyter-widgets/controls",
      "model_module_version": "2.0.0",
      "model_name": "VBoxModel",
      "state": {
       "children": [
        "IPY_MODEL_6831f774f8ac4e319d95412775716abf",
        "IPY_MODEL_fd3b20d4f5c94b2480dfe679c2c95847",
        "IPY_MODEL_b0fb6ea50832454ea6553b60cde1a086",
        "IPY_MODEL_e648733898934c4b9079629b9623a31e",
        "IPY_MODEL_cb9d8561e4e047c7b625a4f2ee16781a"
       ],
       "layout": "IPY_MODEL_4d5cdc848fcc4ac481e5f1c58a65c0be"
      }
     },
     "ea192c55bb3f46c5a7107c4600e5ce19": {
      "model_module": "@jupyter-widgets/base",
      "model_module_version": "2.0.0",
      "model_name": "LayoutModel",
      "state": {}
     },
     "ea6bb6500091418ba580fe025e6f9092": {
      "model_module": "@jupyter-widgets/base",
      "model_module_version": "2.0.0",
      "model_name": "LayoutModel",
      "state": {
       "grid_template_areas": "\"widget001 .\"\n\"widget002 widget004\"\n\"widget003 widget005\"\n\". widget006\"",
       "grid_template_columns": "repeat(2, 1fr)",
       "grid_template_rows": "repeat(4, 1fr)"
      }
     },
     "ec340ee95e734c7cb535a15d3b00c6ff": {
      "model_module": "@jupyter-widgets/base",
      "model_module_version": "2.0.0",
      "model_name": "LayoutModel",
      "state": {
       "grid_area": "widget003"
      }
     },
     "eda2783caee342d9b7a55c7c8e480136": {
      "model_module": "@jupyter-widgets/base",
      "model_module_version": "2.0.0",
      "model_name": "LayoutModel",
      "state": {}
     },
     "edcb8db96ade4eef9bf03e6c19204a6e": {
      "model_module": "@jupyter-widgets/controls",
      "model_module_version": "2.0.0",
      "model_name": "DropdownModel",
      "state": {
       "_options_labels": [
        "STAGE_0",
        "STAGE_1",
        "STAGE_2",
        "STAGE_3_AMN_ORI",
        "STAGE_3_ORI_AMN",
        "STAGE_4_AMN_ORI",
        "STAGE_4_ORI_AMN",
        "STAGE_5_AMN_ORI",
        "STAGE_5_ORI_AMN"
       ],
       "index": 5,
       "layout": "IPY_MODEL_12a300809e4945baae415aa77663ce24",
       "style": "IPY_MODEL_87f3ad90bef048ff8937f6a361703e97"
      }
     },
     "ef9f9b6acca741e89de9086e3c1f79eb": {
      "model_module": "@jupyter-widgets/base",
      "model_module_version": "2.0.0",
      "model_name": "LayoutModel",
      "state": {}
     },
     "efd50e543fe847f8905c1d0ed6ac6341": {
      "model_module": "@jupyter-widgets/controls",
      "model_module_version": "2.0.0",
      "model_name": "ButtonModel",
      "state": {
       "description": "Update",
       "disabled": true,
       "layout": "IPY_MODEL_7d2dd8aca8534a96a5d6348c36d35bf7",
       "style": "IPY_MODEL_0fdff74f556444b6890c292274ecd31b",
       "tooltip": null
      }
     },
     "f6df6d3b7931465bb35ec9b05ec85834": {
      "model_module": "@jupyter-widgets/controls",
      "model_module_version": "2.0.0",
      "model_name": "DescriptionStyleModel",
      "state": {
       "description_width": ""
      }
     },
     "fae37d2548b34461b2ab6f1083592c34": {
      "model_module": "@jupyter-widgets/controls",
      "model_module_version": "2.0.0",
      "model_name": "LabelStyleModel",
      "state": {
       "description_width": "",
       "font_family": null,
       "font_size": null,
       "font_style": null,
       "font_variant": null,
       "font_weight": null,
       "text_color": null,
       "text_decoration": null
      }
     },
     "fd0909f1b5aa4bdb84abb6ccbf0b0587": {
      "model_module": "@jupyter-widgets/base",
      "model_module_version": "2.0.0",
      "model_name": "LayoutModel",
      "state": {
       "grid_area": "widget003"
      }
     },
     "fd3b20d4f5c94b2480dfe679c2c95847": {
      "model_module": "@jupyter-widgets/controls",
      "model_module_version": "2.0.0",
      "model_name": "CheckboxModel",
      "state": {
       "description": "Cartridge raised (fully retract probes before raising!)",
       "disabled": false,
       "layout": "IPY_MODEL_5d4458dd7b3f4d648998d9a8f5746723",
       "style": "IPY_MODEL_4fb9720bedf346bd8b864353983db3bf",
       "value": false
      }
     }
    },
    "version_major": 2,
    "version_minor": 0
   }
  }
 },
 "nbformat": 4,
 "nbformat_minor": 4
}
