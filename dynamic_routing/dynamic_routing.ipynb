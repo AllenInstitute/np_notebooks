{
 "cells": [
  {
   "attachments": {},
   "cell_type": "markdown",
   "metadata": {},
   "source": [
    "# *Dynamic Routing*\n",
    "<img src=\"https://www.kvc.org/wp-content/uploads/2015/08/brain-600px-600x372.jpg\" width=\"320\" />"
   ]
  },
  {
   "cell_type": "markdown",
   "metadata": {},
   "source": [
    "## Run the update/reset shortcut on the desktop before each experiment\n",
    "***\n",
    "***\n",
    "# **Without mouse on stage**"
   ]
  },
  {
   "cell_type": "code",
   "execution_count": null,
   "metadata": {},
   "outputs": [],
   "source": [
    "import pathlib\n",
    "\n",
    "import IPython\n",
    "import ipywidgets as widgets\n",
    "\n",
    "import np_logging\n",
    "import np_session\n",
    "import np_services\n",
    "import np_workflows\n",
    "from np_workflows import npxc\n",
    "import np_workflows.experiments.dynamic_routing as DR\n",
    "import np_probe_targets\n",
    "\n",
    "np_logging.getLogger()\n",
    "\n",
    "np_workflows.elapsed_time_widget()"
   ]
  },
  {
   "attachments": {},
   "cell_type": "markdown",
   "metadata": {},
   "source": [
    "***\n",
    "## Quiet mode\n",
    "on  \n",
    "*default*\n",
    "- exception details are hidden\n",
    "- regular messages displayed (log level = INFO)\n",
    "\n",
    "off\n",
    "- full exception details with traceback\n",
    "- extra messages displayed (log level = DEBUG)"
   ]
  },
  {
   "cell_type": "code",
   "execution_count": null,
   "metadata": {},
   "outputs": [],
   "source": [
    "np_workflows.quiet_mode_widget()"
   ]
  },
  {
   "cell_type": "markdown",
   "metadata": {},
   "source": [
    "***\n",
    "## Launch apps via RSC\n",
    "[optional]"
   ]
  },
  {
   "cell_type": "code",
   "execution_count": null,
   "metadata": {},
   "outputs": [],
   "source": [
    "import contextlib\n",
    "with contextlib.suppress(Exception):\n",
    "    np_services.start_rsc_apps()"
   ]
  },
  {
   "cell_type": "markdown",
   "metadata": {},
   "source": [
    "***\n",
    "## Select mouse and user"
   ]
  },
  {
   "cell_type": "code",
   "execution_count": null,
   "metadata": {},
   "outputs": [],
   "source": [
    "user, mouse = np_workflows.user_and_mouse_widget()"
   ]
  },
  {
   "cell_type": "markdown",
   "metadata": {},
   "source": [
    "***\n",
    "## Select workflow\n",
    "Re-run this cell if mouse ID is changed"
   ]
  },
  {
   "cell_type": "code",
   "execution_count": null,
   "metadata": {
    "tags": []
   },
   "outputs": [],
   "source": [
    "selection = DR.workflow_select_widget(mouse)"
   ]
  },
  {
   "cell_type": "markdown",
   "metadata": {},
   "source": [
    "***\n",
    "## Check MTrain for mouse\n",
    "[optional]"
   ]
  },
  {
   "cell_type": "code",
   "execution_count": null,
   "metadata": {},
   "outputs": [],
   "source": [
    "np_workflows.mtrain_widget(mouse)"
   ]
  },
  {
   "cell_type": "markdown",
   "metadata": {},
   "source": [
    "***\n",
    "## Generate new session\n",
    "Re-run this cell if workflow is changed above.\n",
    "\n",
    "Check mouse ID and session are correct: this cell will lock them in!"
   ]
  },
  {
   "cell_type": "code",
   "execution_count": null,
   "metadata": {
    "tags": []
   },
   "outputs": [],
   "source": [
    "experiment: np_workflows.DynamicRoutingExperiment = DR.new_experiment(mouse, user, selection.workflow)\n",
    "session: np_session.Session = experiment.session"
   ]
  },
  {
   "cell_type": "markdown",
   "metadata": {},
   "source": [
    "***\n",
    "## Set task"
   ]
  },
  {
   "cell_type": "code",
   "execution_count": null,
   "metadata": {},
   "outputs": [],
   "source": [
    "np_workflows.task_select_widget(experiment)"
   ]
  },
  {
   "cell_type": "markdown",
   "metadata": {},
   "source": [
    "Double-check task until we have confidence in the new widget!"
   ]
  },
  {
   "cell_type": "code",
   "execution_count": null,
   "metadata": {},
   "outputs": [],
   "source": [
    "print(f'Task is currently set to: \\n\\n\\t{experiment.task_name}')"
   ]
  },
  {
   "cell_type": "markdown",
   "metadata": {},
   "source": [
    "## Check/modify github hash"
   ]
  },
  {
   "cell_type": "code",
   "execution_count": null,
   "metadata": {},
   "outputs": [],
   "source": [
    "experiment.commit_hash, experiment.github_url, experiment.use_github"
   ]
  },
  {
   "cell_type": "markdown",
   "metadata": {},
   "source": [
    "Verify that the required script can be found on github:"
   ]
  },
  {
   "cell_type": "code",
   "execution_count": null,
   "metadata": {},
   "outputs": [],
   "source": [
    "if experiment.use_github:\n",
    "    assert experiment.camstim_script.exists(), f\"{experiment.camstim_script = } could not be accessed - don't continue!\""
   ]
  },
  {
   "cell_type": "markdown",
   "metadata": {},
   "source": [
    "***\n",
    "## Set up some aliases for the workflow\n",
    "\n",
    "Note: overriding these bools will only affect which lines run in the notebook.\n",
    "Other experiment code may check `experiment.is_ephys` etc. behind the scenes."
   ]
  },
  {
   "cell_type": "code",
   "execution_count": null,
   "metadata": {},
   "outputs": [],
   "source": [
    "hab: bool = experiment.is_hab\n",
    "opto: bool = experiment.is_opto     # 'opto' in task name: opto stim will run during task trials\n",
    "ephys: bool = experiment.is_ephys   # probes will be inserted: (ephys and opto) is possible\n",
    "pretest: bool = experiment.is_pretest"
   ]
  },
  {
   "cell_type": "markdown",
   "metadata": {},
   "source": [
    "***\n",
    "## Pretest\n",
    "Checks before running"
   ]
  },
  {
   "cell_type": "code",
   "execution_count": null,
   "metadata": {},
   "outputs": [],
   "source": [
    "np_workflows.check_hardware_widget()"
   ]
  },
  {
   "cell_type": "code",
   "execution_count": null,
   "metadata": {
    "tags": []
   },
   "outputs": [],
   "source": [
    "if ephys:\n",
    "    np_workflows.check_openephys_widget()"
   ]
  },
  {
   "cell_type": "markdown",
   "metadata": {
    "tags": []
   },
   "source": [
    "***\n",
    "## Setup, test, reset all components\n",
    "*This cell must not be skipped!*"
   ]
  },
  {
   "cell_type": "code",
   "execution_count": null,
   "metadata": {},
   "outputs": [],
   "source": [
    "assert experiment.task_name, \"task name has not been set - assign manually in cell above\"\n",
    "experiment.initialize_and_test_services()"
   ]
  },
  {
   "cell_type": "markdown",
   "metadata": {},
   "source": [
    "***\n",
    "## Run sound test"
   ]
  },
  {
   "cell_type": "code",
   "execution_count": null,
   "metadata": {
    "tags": []
   },
   "outputs": [],
   "source": [
    "experiment.run_sound_test()"
   ]
  },
  {
   "cell_type": "markdown",
   "metadata": {},
   "source": [
    "***\n",
    "## Dip probes"
   ]
  },
  {
   "cell_type": "code",
   "execution_count": null,
   "metadata": {},
   "outputs": [],
   "source": [
    "if ephys:\n",
    "    np_workflows.dye_widget(session.npexp_path)\n",
    "    DR.photodoc_widget(session, 'pre_experiment_surface_image')"
   ]
  },
  {
   "cell_type": "markdown",
   "metadata": {},
   "source": [
    "***\n",
    "***\n",
    "# **With mouse on stage**\n",
    "## Before lowering cartridge"
   ]
  },
  {
   "cell_type": "code",
   "execution_count": null,
   "metadata": {
    "tags": []
   },
   "outputs": [],
   "source": [
    "experiment.log('Mouse on stage')\n",
    "np_workflows.check_mouse_widget()"
   ]
  },
  {
   "cell_type": "markdown",
   "metadata": {},
   "source": [
    "***\n",
    "## When cartridge is lowered"
   ]
  },
  {
   "cell_type": "code",
   "execution_count": null,
   "metadata": {
    "tags": []
   },
   "outputs": [],
   "source": [
    "DR.photodoc_widget(session, 'brain_surface_image')"
   ]
  },
  {
   "cell_type": "markdown",
   "metadata": {},
   "source": [
    "***\n",
    "## Probe insertion"
   ]
  },
  {
   "cell_type": "code",
   "execution_count": null,
   "metadata": {},
   "outputs": [],
   "source": [
    "if ephys:\n",
    "    widget = np_probe_targets.DRWeeklyTargets(1)\n",
    "\n",
    "    for targets in (_ for _ in widget.children if isinstance(_, np_probe_targets.ProbeTargetInsertionRecordWidget)):\n",
    "        targets.save_dir = session.npexp_path\n",
    "    display(widget)"
   ]
  },
  {
   "cell_type": "code",
   "execution_count": null,
   "metadata": {},
   "outputs": [],
   "source": [
    "if ephys or opto:\n",
    "    np_workflows.isi_widget(mouse.lims)"
   ]
  },
  {
   "cell_type": "markdown",
   "metadata": {},
   "source": [
    "***\n",
    "## Photodoc before advancing probes"
   ]
  },
  {
   "cell_type": "code",
   "execution_count": null,
   "metadata": {
    "tags": []
   },
   "outputs": [],
   "source": [
    "if ephys or opto:\n",
    "    DR.photodoc_widget(session, 'pre_insertion_surface_image')"
   ]
  },
  {
   "cell_type": "markdown",
   "metadata": {},
   "source": [
    "***\n",
    "## Settle timer with dark screen (screen should be closed)"
   ]
  },
  {
   "cell_type": "code",
   "execution_count": null,
   "metadata": {
    "tags": []
   },
   "outputs": [],
   "source": [
    "experiment.set_dark_desktop_on_stim()\n",
    "if ephys:\n",
    "    experiment.log('settle timer started')\n",
    "    np_workflows.print_countdown_timer(minutes=.1 if experiment.is_pretest else 20)\n",
    "    experiment.log('settle timer finished')"
   ]
  },
  {
   "cell_type": "markdown",
   "metadata": {},
   "source": [
    "***\n",
    "## Use OptoGUI on Vidmon to adjust laser and save voltages\n",
    "This next cell will confirm that the necessary params file can be found -\n",
    "*opto stimuli/tagging won't be able to run without it!*"
   ]
  },
  {
   "cell_type": "code",
   "execution_count": null,
   "metadata": {},
   "outputs": [],
   "source": [
    "if ephys:\n",
    "    display('optotagging', experiment.optotagging_params)\n",
    "if opto:\n",
    "    display('opto', experiment.opto_params)"
   ]
  },
  {
   "cell_type": "markdown",
   "metadata": {},
   "source": [
    "***\n",
    "## Photodoc after probes settled, before experiment"
   ]
  },
  {
   "cell_type": "code",
   "execution_count": null,
   "metadata": {
    "tags": []
   },
   "outputs": [],
   "source": [
    "if ephys or opto:\n",
    "    DR.photodoc_widget(session, 'post_insertion_surface_image')"
   ]
  },
  {
   "cell_type": "code",
   "execution_count": null,
   "metadata": {},
   "outputs": [],
   "source": [
    "np_workflows.pre_stim_check_widget()"
   ]
  },
  {
   "cell_type": "markdown",
   "metadata": {},
   "source": [
    "***\n",
    "## Start devices recording"
   ]
  },
  {
   "cell_type": "code",
   "execution_count": null,
   "metadata": {
    "tags": []
   },
   "outputs": [],
   "source": [
    "experiment.start_recording()"
   ]
  },
  {
   "cell_type": "markdown",
   "metadata": {},
   "source": [
    "***\n",
    "## Without lick spout\n",
    "### mapping | optotagging | spontaneous"
   ]
  },
  {
   "cell_type": "code",
   "execution_count": null,
   "metadata": {},
   "outputs": [],
   "source": [
    "np_services.MouseDirector.get_proxy().retract_lick_spout()\n",
    "\n",
    "if ephys or hab:\n",
    "    experiment.run_mapping()\n",
    "\n",
    "if ephys:\n",
    "    experiment.run_optotagging()\n",
    "    experiment.run_spontaneous()"
   ]
  },
  {
   "cell_type": "markdown",
   "metadata": {},
   "source": [
    "*** \n",
    "## With lick spout\n",
    "- set mouse offset\n",
    "- flush line, check water delivery"
   ]
  },
  {
   "cell_type": "code",
   "execution_count": null,
   "metadata": {},
   "outputs": [],
   "source": [
    "np_services.MouseDirector.get_proxy().extend_lick_spout()"
   ]
  },
  {
   "cell_type": "markdown",
   "metadata": {},
   "source": [
    "### spontaneous + rewards | task | spontaneous + rewards\n",
    "Check lickspout is extended before starting!"
   ]
  },
  {
   "cell_type": "code",
   "execution_count": null,
   "metadata": {},
   "outputs": [],
   "source": [
    "if ephys or hab:\n",
    "    experiment.run_spontaneous_rewards()\n",
    "    \n",
    "experiment.run_task()\n",
    "\n",
    "if ephys:\n",
    "    experiment.run_spontaneous_rewards()"
   ]
  },
  {
   "cell_type": "markdown",
   "metadata": {},
   "source": [
    "***\n",
    "## Without lickspout\n",
    "### optotagging"
   ]
  },
  {
   "cell_type": "code",
   "execution_count": null,
   "metadata": {},
   "outputs": [],
   "source": [
    "np_services.MouseDirector.get_proxy().retract_lick_spout()\n",
    "\n",
    "if ephys:\n",
    "    experiment.run_optotagging()"
   ]
  },
  {
   "cell_type": "markdown",
   "metadata": {},
   "source": [
    "***\n",
    "## Stop recording"
   ]
  },
  {
   "cell_type": "code",
   "execution_count": null,
   "metadata": {},
   "outputs": [],
   "source": [
    "experiment.stop_recording_after_stim_finished()\n",
    "\n",
    "np_services.MouseDirector.get_proxy().retract_lick_spout()\n",
    "experiment.reset_desktop_on_stim()"
   ]
  },
  {
   "cell_type": "markdown",
   "metadata": {},
   "source": [
    "***\n",
    "## Before removing probes"
   ]
  },
  {
   "cell_type": "code",
   "execution_count": null,
   "metadata": {},
   "outputs": [],
   "source": [
    "if ephys or opto:\n",
    "    DR.photodoc_widget(session, 'post_stimulus_surface_image')"
   ]
  },
  {
   "cell_type": "markdown",
   "metadata": {},
   "source": [
    "***\n",
    "## After fully retracting probes"
   ]
  },
  {
   "cell_type": "code",
   "execution_count": null,
   "metadata": {},
   "outputs": [],
   "source": [
    "if ephys or opto:\n",
    "    DR.photodoc_widget(session, 'post_experiment_surface_image')"
   ]
  },
  {
   "cell_type": "markdown",
   "metadata": {},
   "source": [
    "***\n",
    "## After raising cartridge"
   ]
  },
  {
   "cell_type": "code",
   "execution_count": null,
   "metadata": {},
   "outputs": [],
   "source": [
    "np_workflows.finishing_checks_widget()"
   ]
  },
  {
   "cell_type": "markdown",
   "metadata": {},
   "source": [
    "## Record mouse off stage time"
   ]
  },
  {
   "cell_type": "code",
   "execution_count": null,
   "metadata": {},
   "outputs": [],
   "source": [
    "experiment.log('Mouse off stage')"
   ]
  },
  {
   "cell_type": "markdown",
   "metadata": {},
   "source": [
    "***"
   ]
  },
  {
   "cell_type": "markdown",
   "metadata": {},
   "source": [
    "## Finalize"
   ]
  },
  {
   "cell_type": "code",
   "execution_count": null,
   "metadata": {},
   "outputs": [],
   "source": [
    "experiment.finalize_services(*experiment.recorders, *experiment.stims)\n",
    "experiment.validate_services(*experiment.recorders, *experiment.stims)"
   ]
  },
  {
   "cell_type": "markdown",
   "metadata": {},
   "source": [
    "## Copy data"
   ]
  },
  {
   "cell_type": "code",
   "execution_count": null,
   "metadata": {},
   "outputs": [],
   "source": [
    "experiment.copy_files()"
   ]
  }
 ],
 "metadata": {
  "kernelspec": {
   "display_name": "Python 3.11.1 ('.venv': poetry)",
   "language": "python",
   "name": "python3"
  },
  "language_info": {
   "codemirror_mode": {
    "name": "ipython",
    "version": 3
   },
   "file_extension": ".py",
   "mimetype": "text/x-python",
   "name": "python",
   "nbconvert_exporter": "python",
   "pygments_lexer": "ipython3",
   "version": "3.11.1"
  },
  "toc-autonumbering": true,
  "vscode": {
   "interpreter": {
    "hash": "75a294dbf81199b26941ed5b32867c59e8bcc1170a51aebad9d5a69e8ca694a9"
   }
  }
 },
 "nbformat": 4,
 "nbformat_minor": 4
}
