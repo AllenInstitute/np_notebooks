{
 "cells": [
  {
   "cell_type": "markdown",
   "metadata": {},
   "source": [
    "# Clear raw and sorted .dat files on np-exp based on filesize comparison alone\n",
    "\n",
    "Assumes that transfers to lims have been performed with checksum validation at\n",
    "every stage.\n",
    "\n",
    "Does not touch npx2 files - some of which pre-date checksum validated transfers,\n",
    "and some are known to have bad copies"
   ]
  },
  {
   "cell_type": "code",
   "execution_count": 25,
   "metadata": {},
   "outputs": [],
   "source": [
    "import contextlib\n",
    "import pathlib\n",
    "\n",
    "import np_config\n",
    "import np_session\n",
    "\n",
    "NPEXP_ROOT = pathlib.Path(\n",
    "    \"//allen/programs/mindscope/workgroups/np-exp\"\n",
    ")\n",
    "assert NPEXP_ROOT.exists()\n",
    "\n",
    "DRYRUN = True\n",
    "unlinked_paths = []\n",
    "\n",
    "def size(path: pathlib.Path) -> int:\n",
    "    return sum(\n",
    "        f.stat().st_size\n",
    "        for f in path.rglob('*')\n",
    "        if f.is_file()\n",
    "    ) if path.is_dir() else path.stat().st_size\n",
    "    \n",
    "def sizes_match(p1, p2):\n",
    "    return size(p1) == size(p2)\n",
    "\n",
    "def unlink(path):\n",
    "    if DRYRUN:\n",
    "        unlinked_paths.append(path)\n",
    "        return\n",
    "    if path.is_dir():\n",
    "        while path.exists():\n",
    "            for _ in path.iterdir():\n",
    "                with contextlib.suppress(OSError):\n",
    "                    unlink(_)\n",
    "                    unlinked_paths.append(path)\n",
    "            path.rmdir()\n",
    "    else:\n",
    "        path.unlink()\n",
    "        unlinked_paths.append(path)"
   ]
  },
  {
   "cell_type": "markdown",
   "metadata": {},
   "source": [
    "Delete raw ephys data that's already on lims (judging by file size):"
   ]
  },
  {
   "cell_type": "code",
   "execution_count": 27,
   "metadata": {},
   "outputs": [
    {
     "name": "stdout",
     "output_type": "stream",
     "text": [
      "Dryrun: Cleared 86,937 GB\r"
     ]
    }
   ],
   "source": [
    "total_bytes = 0  \n",
    "for npexp_path in NPEXP_ROOT.iterdir():\n",
    "    try:\n",
    "        session = np_session.PipelineSession(npexp_path)\n",
    "    except np_session.SessionError:\n",
    "        continue\n",
    "    \n",
    "    if not session.lims_path:\n",
    "        continue\n",
    "    \n",
    "    for npexp_file in npexp_path.rglob('*.npx2'):\n",
    "        if (\n",
    "            (lims_copy := session.lims_path / npexp_file.relative_to(npexp_path)).exists()\n",
    "            and sizes_match(npexp_file, lims_copy)\n",
    "        ):\n",
    "            total_bytes += size(npexp_file)\n",
    "            unlink(npexp_file)\n",
    "            print(f\"{'Dryrun: ' if DRYRUN else ''}Cleared {total_bytes/1024**3:,.0f} GB\\r\", end='')"
   ]
  },
  {
   "cell_type": "markdown",
   "metadata": {},
   "source": [
    "Delete sorted probe data that's already on lims (judging by file size and\n",
    "last-modified time, in case multiple probe uploads have been made):"
   ]
  },
  {
   "cell_type": "code",
   "execution_count": 10,
   "metadata": {},
   "outputs": [],
   "source": [
    "total_bytes = 0  \n",
    "for probe in 'ABCDEF':\n",
    "    for probe_folder in NPEXP_ROOT.glob(f'*probe{probe}_sorted'):\n",
    "        \n",
    "        try:\n",
    "            session = np_session.Session(probe_folder)\n",
    "        except np_session.SessionError:\n",
    "            continue\n",
    "        \n",
    "        if not session.lims_path:\n",
    "            continue\n",
    "        \n",
    "        for npexp_path in probe_folder.rglob('*'):\n",
    "            if npexp_path.is_dir():\n",
    "                continue\n",
    "            if (existing := tuple(session.lims_path.rglob(f'*/*_probe{probe}/{npexp_path.relative_to(probe_folder)}') )):\n",
    "                for lims_path in existing:\n",
    "                    if sizes_match(lims_path, npexp_path) and lims_path.stat().st_mtime == npexp_path.stat().st_mtime:\n",
    "                        total_bytes += size(npexp_path)\n",
    "                        unlink(npexp_path)\n",
    "                        print(f\"Cleared {total_bytes/1024**3:,.0f} GB\\r\", end='')\n",
    "                        break\n",
    "                        "
   ]
  },
  {
   "cell_type": "code",
   "execution_count": null,
   "metadata": {},
   "outputs": [],
   "source": []
  }
 ],
 "metadata": {
  "kernelspec": {
   "display_name": "Python 3.11.1 ('.venv': poetry)",
   "language": "python",
   "name": "python3"
  },
  "language_info": {
   "codemirror_mode": {
    "name": "ipython",
    "version": 3
   },
   "file_extension": ".py",
   "mimetype": "text/x-python",
   "name": "python",
   "nbconvert_exporter": "python",
   "pygments_lexer": "ipython3",
   "version": "3.11.3"
  },
  "orig_nbformat": 4,
  "vscode": {
   "interpreter": {
    "hash": "75a294dbf81199b26941ed5b32867c59e8bcc1170a51aebad9d5a69e8ca694a9"
   }
  }
 },
 "nbformat": 4,
 "nbformat_minor": 2
}
