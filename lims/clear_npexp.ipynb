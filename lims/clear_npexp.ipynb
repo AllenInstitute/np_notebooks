{
 "cells": [
  {
   "cell_type": "markdown",
   "metadata": {},
   "source": [
    "# Clear raw and sorted .dat files on np-exp based on filesize comparison alone\n",
    "\n",
    "Assumes that transfers to lims have been performed with checksum validation at\n",
    "every stage.\n",
    "\n",
    "Does not touch npx2 files - some of which pre-date checksum validated transfers,\n",
    "and some are known to have bad copies"
   ]
  },
  {
   "cell_type": "code",
   "execution_count": 1,
   "metadata": {},
   "outputs": [],
   "source": [
    "import contextlib\n",
    "import pathlib\n",
    "\n",
    "import np_config\n",
    "import np_session\n",
    "\n",
    "NPEXP_ROOT = pathlib.Path(\n",
    "    \"//allen/programs/mindscope/workgroups/np-exp\"\n",
    ")\n",
    "assert NPEXP_ROOT.exists()\n",
    "\n",
    "DRYRUN = False\n",
    "unlinked_paths = []\n",
    "\n",
    "def size(path: pathlib.Path) -> int:\n",
    "    return sum(\n",
    "        f.stat().st_size\n",
    "        for f in path.rglob('*')\n",
    "        if f.is_file()\n",
    "    ) if path.is_dir() else path.stat().st_size\n",
    "    \n",
    "def sizes_match(p1, p2):\n",
    "    return size(p1) == size(p2)\n",
    "\n",
    "def probe_qc_exists(session: np_session.Session) -> bool:\n",
    "    qc = session.npexp_path / 'qc'\n",
    "    if not qc.exists():\n",
    "        return False\n",
    "    return any(f for f in qc.iterdir() if f.name.startswith('probe'))\n",
    "\n",
    "def unlink(path):\n",
    "    if DRYRUN:\n",
    "        unlinked_paths.append(path)\n",
    "        return\n",
    "    if path.is_dir():\n",
    "        while path.exists():\n",
    "            for _ in path.iterdir():\n",
    "                with contextlib.suppress(OSError):\n",
    "                    unlink(_)\n",
    "                    unlinked_paths.append(path)\n",
    "            path.rmdir()\n",
    "    else:\n",
    "        path.unlink()\n",
    "        unlinked_paths.append(path)"
   ]
  },
  {
   "cell_type": "markdown",
   "metadata": {},
   "source": [
    "Delete sorted probe data that's already on lims (judging by file size and\n",
    "last-modified time, in case multiple probe uploads have been made):"
   ]
  },
  {
   "cell_type": "code",
   "execution_count": 2,
   "metadata": {},
   "outputs": [
    {
     "name": "stdout",
     "output_type": "stream",
     "text": [
      "Cleared 3,361 GB\r"
     ]
    },
    {
     "name": "stderr",
     "output_type": "stream",
     "text": [
      "Mismatch between session folder strings - file may be in the wrong folder: '\\\\\\\\allen\\\\programs\\\\mindscope\\\\workgroups\\\\np-exp\\\\1170937835_604910_20220415\\\\1170937835_366122_20220415_probeA_sorted'\n",
      "Mismatch between session folder strings - file may be in the wrong folder: '\\\\\\\\allen\\\\programs\\\\mindscope\\\\workgroups\\\\np-exp\\\\1170937835_604910_20220415\\\\1170937835_366122_20220415_probeA_sorted'\n"
     ]
    },
    {
     "name": "stdout",
     "output_type": "stream",
     "text": [
      "Cleared 6,260 GB\r"
     ]
    },
    {
     "name": "stderr",
     "output_type": "stream",
     "text": [
      "Mismatch between session folder strings - file may be in the wrong folder: '\\\\\\\\allen\\\\programs\\\\mindscope\\\\workgroups\\\\np-exp\\\\1170937835_604910_20220415\\\\1170937835_366122_20220415_probeB_sorted'\n",
      "Mismatch between session folder strings - file may be in the wrong folder: '\\\\\\\\allen\\\\programs\\\\mindscope\\\\workgroups\\\\np-exp\\\\1170937835_604910_20220415\\\\1170937835_366122_20220415_probeB_sorted'\n"
     ]
    },
    {
     "name": "stdout",
     "output_type": "stream",
     "text": [
      "Cleared 9,622 GB\r"
     ]
    },
    {
     "name": "stderr",
     "output_type": "stream",
     "text": [
      "Mismatch between session folder strings - file may be in the wrong folder: '\\\\\\\\allen\\\\programs\\\\mindscope\\\\workgroups\\\\np-exp\\\\1170937835_604910_20220415\\\\1170937835_366122_20220415_probeC_sorted'\n",
      "Mismatch between session folder strings - file may be in the wrong folder: '\\\\\\\\allen\\\\programs\\\\mindscope\\\\workgroups\\\\np-exp\\\\1170937835_604910_20220415\\\\1170937835_366122_20220415_probeC_sorted'\n"
     ]
    },
    {
     "name": "stdout",
     "output_type": "stream",
     "text": [
      "Cleared 12,983 GB\r"
     ]
    },
    {
     "name": "stderr",
     "output_type": "stream",
     "text": [
      "Mismatch between session folder strings - file may be in the wrong folder: '\\\\\\\\allen\\\\programs\\\\mindscope\\\\workgroups\\\\np-exp\\\\1170937835_604910_20220415\\\\1170937835_366122_20220415_probeD_sorted'\n",
      "Mismatch between session folder strings - file may be in the wrong folder: '\\\\\\\\allen\\\\programs\\\\mindscope\\\\workgroups\\\\np-exp\\\\1170937835_604910_20220415\\\\1170937835_366122_20220415_probeD_sorted'\n"
     ]
    },
    {
     "name": "stdout",
     "output_type": "stream",
     "text": [
      "Cleared 16,344 GB\r"
     ]
    },
    {
     "name": "stderr",
     "output_type": "stream",
     "text": [
      "Mismatch between session folder strings - file may be in the wrong folder: '\\\\\\\\allen\\\\programs\\\\mindscope\\\\workgroups\\\\np-exp\\\\1170937835_604910_20220415\\\\1170937835_366122_20220415_probeE_sorted'\n",
      "Mismatch between session folder strings - file may be in the wrong folder: '\\\\\\\\allen\\\\programs\\\\mindscope\\\\workgroups\\\\np-exp\\\\1170937835_604910_20220415\\\\1170937835_366122_20220415_probeE_sorted'\n"
     ]
    },
    {
     "name": "stdout",
     "output_type": "stream",
     "text": [
      "Cleared 18,236 GB\r"
     ]
    },
    {
     "ename": "PermissionError",
     "evalue": "[WinError 32] The process cannot access the file because it is being used by another process: '\\\\\\\\allen\\\\programs\\\\mindscope\\\\workgroups\\\\np-exp\\\\1327655771_714626_20240201\\\\1327655771_714626_20240201_probeF_sorted\\\\continuous\\\\Neuropix-PXI-100.1\\\\continuous.dat'",
     "output_type": "error",
     "traceback": [
      "\u001b[1;31m---------------------------------------------------------------------------\u001b[0m",
      "\u001b[1;31mPermissionError\u001b[0m                           Traceback (most recent call last)",
      "Cell \u001b[1;32mIn[2], line 36\u001b[0m\n\u001b[0;32m     25\u001b[0m \u001b[38;5;28;01mif\u001b[39;00m (\n\u001b[0;32m     26\u001b[0m     CHECK_LIMS\n\u001b[0;32m     27\u001b[0m     \u001b[38;5;129;01mand\u001b[39;00m \u001b[38;5;129;01mnot\u001b[39;00m npexp_path\u001b[38;5;241m.\u001b[39mis_symlink()\n\u001b[1;32m   (...)\u001b[0m\n\u001b[0;32m     33\u001b[0m     \u001b[38;5;66;03m# and probe_qc_exists(session)    \u001b[39;00m\n\u001b[0;32m     34\u001b[0m ):\n\u001b[0;32m     35\u001b[0m     total_bytes \u001b[38;5;241m+\u001b[39m\u001b[38;5;241m=\u001b[39m size(npexp_path)\n\u001b[1;32m---> 36\u001b[0m     \u001b[43munlink\u001b[49m\u001b[43m(\u001b[49m\u001b[43mnpexp_path\u001b[49m\u001b[43m)\u001b[49m\n\u001b[0;32m     37\u001b[0m     \u001b[38;5;28mprint\u001b[39m(\u001b[38;5;124mf\u001b[39m\u001b[38;5;124m\"\u001b[39m\u001b[38;5;124mCleared \u001b[39m\u001b[38;5;132;01m{\u001b[39;00mtotal_bytes\u001b[38;5;241m/\u001b[39m\u001b[38;5;241m1024\u001b[39m\u001b[38;5;241m*\u001b[39m\u001b[38;5;241m*\u001b[39m\u001b[38;5;241m3\u001b[39m\u001b[38;5;132;01m:\u001b[39;00m\u001b[38;5;124m,.0f\u001b[39m\u001b[38;5;132;01m}\u001b[39;00m\u001b[38;5;124m GB\u001b[39m\u001b[38;5;130;01m\\r\u001b[39;00m\u001b[38;5;124m\"\u001b[39m, end\u001b[38;5;241m=\u001b[39m\u001b[38;5;124m'\u001b[39m\u001b[38;5;124m'\u001b[39m)\n\u001b[0;32m     38\u001b[0m     \u001b[38;5;28;01mbreak\u001b[39;00m\n",
      "Cell \u001b[1;32mIn[1], line 43\u001b[0m, in \u001b[0;36munlink\u001b[1;34m(path)\u001b[0m\n\u001b[0;32m     41\u001b[0m         path\u001b[38;5;241m.\u001b[39mrmdir()\n\u001b[0;32m     42\u001b[0m \u001b[38;5;28;01melse\u001b[39;00m:\n\u001b[1;32m---> 43\u001b[0m     \u001b[43mpath\u001b[49m\u001b[38;5;241;43m.\u001b[39;49m\u001b[43munlink\u001b[49m\u001b[43m(\u001b[49m\u001b[43m)\u001b[49m\n\u001b[0;32m     44\u001b[0m     unlinked_paths\u001b[38;5;241m.\u001b[39mappend(path)\n",
      "File \u001b[1;32m~\\.pyenv\\pyenv-win\\versions\\3.11.3\\Lib\\pathlib.py:1147\u001b[0m, in \u001b[0;36mPath.unlink\u001b[1;34m(self, missing_ok)\u001b[0m\n\u001b[0;32m   1142\u001b[0m \u001b[38;5;250m\u001b[39m\u001b[38;5;124;03m\"\"\"\u001b[39;00m\n\u001b[0;32m   1143\u001b[0m \u001b[38;5;124;03mRemove this file or link.\u001b[39;00m\n\u001b[0;32m   1144\u001b[0m \u001b[38;5;124;03mIf the path is a directory, use rmdir() instead.\u001b[39;00m\n\u001b[0;32m   1145\u001b[0m \u001b[38;5;124;03m\"\"\"\u001b[39;00m\n\u001b[0;32m   1146\u001b[0m \u001b[38;5;28;01mtry\u001b[39;00m:\n\u001b[1;32m-> 1147\u001b[0m     os\u001b[38;5;241m.\u001b[39munlink(\u001b[38;5;28mself\u001b[39m)\n\u001b[0;32m   1148\u001b[0m \u001b[38;5;28;01mexcept\u001b[39;00m \u001b[38;5;167;01mFileNotFoundError\u001b[39;00m:\n\u001b[0;32m   1149\u001b[0m     \u001b[38;5;28;01mif\u001b[39;00m \u001b[38;5;129;01mnot\u001b[39;00m missing_ok:\n",
      "\u001b[1;31mPermissionError\u001b[0m: [WinError 32] The process cannot access the file because it is being used by another process: '\\\\\\\\allen\\\\programs\\\\mindscope\\\\workgroups\\\\np-exp\\\\1327655771_714626_20240201\\\\1327655771_714626_20240201_probeF_sorted\\\\continuous\\\\Neuropix-PXI-100.1\\\\continuous.dat'"
     ]
    }
   ],
   "source": [
    "CHECK_LIMS = False # if True, wait for sorted data to be on lims before deleting from npexp\n",
    "\n",
    "glob_pattern = '*' if CHECK_LIMS else '*.dat'\n",
    "\n",
    "total_bytes = 0  \n",
    "for probe in 'ABCDEF':\n",
    "        \n",
    "    for probe_folder in NPEXP_ROOT.rglob(f'*probe{probe}_sorted'):\n",
    "        try:\n",
    "            session = np_session.Session(probe_folder)\n",
    "        except np_session.SessionError:\n",
    "            continue\n",
    "        \n",
    "        if CHECK_LIMS and not getattr(session, \"lims_path\", None):\n",
    "            continue\n",
    "        \n",
    "        for npexp_path in probe_folder.rglob(glob_pattern):\n",
    "            if npexp_path.is_dir():\n",
    "                continue\n",
    "            \n",
    "            if CHECK_LIMS:\n",
    "                lims_paths = tuple(session.lims_path.rglob(f'*/*_probe{probe}/{npexp_path.relative_to(probe_folder)}') )\n",
    "            \n",
    "            for lims_path in (lims_paths if CHECK_LIMS else (None,)):\n",
    "                if (\n",
    "                    CHECK_LIMS\n",
    "                    and not npexp_path.is_symlink()\n",
    "                    and sizes_match(lims_path, npexp_path) \n",
    "                    and lims_path.stat().st_mtime == npexp_path.stat().st_mtime\n",
    "                    and probe_qc_exists(session)\n",
    "                ) or (\n",
    "                    not CHECK_LIMS\n",
    "                    # and probe_qc_exists(session)    \n",
    "                ):\n",
    "                    total_bytes += size(npexp_path)\n",
    "                    unlink(npexp_path)\n",
    "                    print(f\"Cleared {total_bytes/1024**3:,.0f} GB\\r\", end='')\n",
    "                    break\n",
    "                    "
   ]
  },
  {
   "cell_type": "markdown",
   "metadata": {},
   "source": [
    "Delete raw ephys data that's already on lims (judging by file size):"
   ]
  },
  {
   "cell_type": "code",
   "execution_count": 26,
   "metadata": {},
   "outputs": [
    {
     "data": {
      "text/plain": [
       "[WindowsPath('//allen/programs/mindscope/workgroups/np-exp/1333971345_717437_20240228/1333971345_717437_20240228_probeA_sorted/continuous/Neuropix-PXI-100.0/continuous.dat'),\n",
       " WindowsPath('//allen/programs/mindscope/workgroups/np-exp/1333971345_717437_20240228/1333971345_717437_20240228_probeA_sorted/continuous/Neuropix-PXI-100.0/residuals.dat'),\n",
       " WindowsPath('//allen/programs/mindscope/workgroups/np-exp/1333971345_717437_20240228/1333971345_717437_20240228_probeA_sorted/continuous/Neuropix-PXI-100.1/continuous.dat'),\n",
       " WindowsPath('//allen/programs/mindscope/workgroups/np-exp/1327374064_714624_20240131/1327374064_714624_20240131_probeA_sorted/continuous/Neuropix-PXI-100.0/continuous.dat'),\n",
       " WindowsPath('//allen/programs/mindscope/workgroups/np-exp/1327374064_714624_20240131/1327374064_714624_20240131_probeA_sorted/continuous/Neuropix-PXI-100.0/residuals.dat'),\n",
       " WindowsPath('//allen/programs/mindscope/workgroups/np-exp/1327374064_714624_20240131/1327374064_714624_20240131_probeA_sorted/continuous/Neuropix-PXI-100.1/continuous.dat'),\n",
       " WindowsPath('//allen/programs/mindscope/workgroups/np-exp/1333741475_719667_20240227/1333741475_719667_20240227_probeA_sorted/continuous/Neuropix-PXI-100.0/continuous.dat'),\n",
       " WindowsPath('//allen/programs/mindscope/workgroups/np-exp/1333741475_719667_20240227/1333741475_719667_20240227_probeA_sorted/continuous/Neuropix-PXI-100.0/residuals.dat'),\n",
       " WindowsPath('//allen/programs/mindscope/workgroups/np-exp/1333741475_719667_20240227/1333741475_719667_20240227_probeA_sorted/continuous/Neuropix-PXI-100.1/continuous.dat'),\n",
       " WindowsPath('//allen/programs/mindscope/workgroups/np-exp/1330382682_716464_20240213/1330382682_716464_20240213_probeA_sorted/continuous/Neuropix-PXI-100.0/continuous.dat'),\n",
       " WindowsPath('//allen/programs/mindscope/workgroups/np-exp/1330382682_716464_20240213/1330382682_716464_20240213_probeA_sorted/continuous/Neuropix-PXI-100.0/residuals.dat'),\n",
       " WindowsPath('//allen/programs/mindscope/workgroups/np-exp/1330382682_716464_20240213/1330382682_716464_20240213_probeA_sorted/continuous/Neuropix-PXI-100.1/continuous.dat'),\n",
       " WindowsPath('//allen/programs/mindscope/workgroups/np-exp/1312636156_699321_20231121/1312636156_699321_20231121_probeA_sorted/continuous/Neuropix-PXI-100.0/continuous.dat'),\n",
       " WindowsPath('//allen/programs/mindscope/workgroups/np-exp/1312636156_699321_20231121/1312636156_699321_20231121_probeA_sorted/continuous/Neuropix-PXI-100.0/residuals.dat'),\n",
       " WindowsPath('//allen/programs/mindscope/workgroups/np-exp/1312636156_699321_20231121/1312636156_699321_20231121_probeA_sorted/continuous/Neuropix-PXI-100.1/continuous.dat'),\n",
       " WindowsPath('//allen/programs/mindscope/workgroups/np-exp/1314695032_684042_20231201/1314695032_684042_20231201_probeA_sorted/continuous/Neuropix-PXI-100.0/continuous.dat'),\n",
       " WindowsPath('//allen/programs/mindscope/workgroups/np-exp/1314695032_684042_20231201/1314695032_684042_20231201_probeA_sorted/continuous/Neuropix-PXI-100.0/residuals.dat'),\n",
       " WindowsPath('//allen/programs/mindscope/workgroups/np-exp/1314695032_684042_20231201/1314695032_684042_20231201_probeA_sorted/continuous/Neuropix-PXI-100.1/continuous.dat'),\n",
       " WindowsPath('//allen/programs/mindscope/workgroups/np-exp/1324561527_702135_20240117/1324561527_702135_20240117_probeA_sorted/continuous/Neuropix-PXI-100.0/continuous.dat'),\n",
       " WindowsPath('//allen/programs/mindscope/workgroups/np-exp/1324561527_702135_20240117/1324561527_702135_20240117_probeA_sorted/continuous/Neuropix-PXI-100.0/residuals.dat'),\n",
       " WindowsPath('//allen/programs/mindscope/workgroups/np-exp/1324327997_598796_20240116/1324327997_598796_20240116_probeA_sorted/continuous/Neuropix-PXI-100.0/continuous.dat'),\n",
       " WindowsPath('//allen/programs/mindscope/workgroups/np-exp/1324327997_598796_20240116/1324327997_598796_20240116_probeA_sorted/continuous/Neuropix-PXI-100.0/residuals.dat'),\n",
       " WindowsPath('//allen/programs/mindscope/workgroups/np-exp/1324327997_598796_20240116/1324327997_598796_20240116_probeA_sorted/continuous/Neuropix-PXI-100.1/continuous.dat'),\n",
       " WindowsPath('//allen/programs/mindscope/workgroups/np-exp/1376478954_725107_20240628/1376478954_725107_20240628_probeA_sorted/continuous/Neuropix-PXI-100.0/continuous.dat'),\n",
       " WindowsPath('//allen/programs/mindscope/workgroups/np-exp/1376478954_725107_20240628/1376478954_725107_20240628_probeA_sorted/continuous/Neuropix-PXI-100.0/residuals.dat'),\n",
       " WindowsPath('//allen/programs/mindscope/workgroups/np-exp/1376478954_725107_20240628/1376478954_725107_20240628_probeA_sorted/continuous/Neuropix-PXI-100.1/continuous.dat'),\n",
       " WindowsPath('//allen/programs/mindscope/workgroups/np-exp/1377116597_729293_20240701/1377116597_729293_20240701_probeA_sorted/continuous/Neuropix-PXI-100.0/continuous.dat'),\n",
       " WindowsPath('//allen/programs/mindscope/workgroups/np-exp/1377116597_729293_20240701/1377116597_729293_20240701_probeA_sorted/continuous/Neuropix-PXI-100.0/residuals.dat'),\n",
       " WindowsPath('//allen/programs/mindscope/workgroups/np-exp/1377116597_729293_20240701/1377116597_729293_20240701_probeA_sorted/continuous/Neuropix-PXI-100.1/continuous.dat'),\n",
       " WindowsPath('//allen/programs/mindscope/workgroups/np-exp/1375871900_725107_20240625/1375871900_725107_20240625_probeA_sorted/continuous/Neuropix-PXI-100.0/continuous.dat'),\n",
       " WindowsPath('//allen/programs/mindscope/workgroups/np-exp/1375871900_725107_20240625/1375871900_725107_20240625_probeA_sorted/continuous/Neuropix-PXI-100.0/residuals.dat'),\n",
       " WindowsPath('//allen/programs/mindscope/workgroups/np-exp/1375871900_725107_20240625/1375871900_725107_20240625_probeA_sorted/continuous/Neuropix-PXI-100.1/continuous.dat'),\n",
       " WindowsPath('//allen/programs/mindscope/workgroups/np-exp/C Drive Backup/1127061307_569156_20210908_probeA_sorted/continuous/Neuropix-PXI-100.0/residuals.dat')]"
      ]
     },
     "execution_count": 26,
     "metadata": {},
     "output_type": "execute_result"
    }
   ],
   "source": [
    "unlinked_paths"
   ]
  },
  {
   "cell_type": "code",
   "execution_count": 12,
   "metadata": {},
   "outputs": [
    {
     "ename": "KeyboardInterrupt",
     "evalue": "",
     "output_type": "error",
     "traceback": [
      "\u001b[1;31m---------------------------------------------------------------------------\u001b[0m",
      "\u001b[1;31mKeyboardInterrupt\u001b[0m                         Traceback (most recent call last)",
      "Cell \u001b[1;32mIn[12], line 14\u001b[0m\n\u001b[0;32m     11\u001b[0m \u001b[38;5;28;01mif\u001b[39;00m \u001b[38;5;129;01mnot\u001b[39;00m \u001b[38;5;28mgetattr\u001b[39m(session, \u001b[38;5;124m\"\u001b[39m\u001b[38;5;124mlims_path\u001b[39m\u001b[38;5;124m\"\u001b[39m, \u001b[38;5;28;01mNone\u001b[39;00m):\n\u001b[0;32m     12\u001b[0m     \u001b[38;5;28;01mcontinue\u001b[39;00m\n\u001b[1;32m---> 14\u001b[0m \u001b[43m\u001b[49m\u001b[38;5;28;43;01mfor\u001b[39;49;00m\u001b[43m \u001b[49m\u001b[43mnpexp_file\u001b[49m\u001b[43m \u001b[49m\u001b[38;5;129;43;01min\u001b[39;49;00m\u001b[43m \u001b[49m\u001b[43mitertools\u001b[49m\u001b[38;5;241;43m.\u001b[39;49m\u001b[43mchain\u001b[49m\u001b[43m(\u001b[49m\u001b[43mnpexp_path\u001b[49m\u001b[38;5;241;43m.\u001b[39;49m\u001b[43mrglob\u001b[49m\u001b[43m(\u001b[49m\u001b[38;5;124;43m'\u001b[39;49m\u001b[38;5;124;43m*.npx2\u001b[39;49m\u001b[38;5;124;43m'\u001b[39;49m\u001b[43m)\u001b[49m\u001b[43m,\u001b[49m\u001b[43m \u001b[49m\u001b[43mnpexp_path\u001b[49m\u001b[38;5;241;43m.\u001b[39;49m\u001b[43mrglob\u001b[49m\u001b[43m(\u001b[49m\u001b[38;5;124;43m'\u001b[39;49m\u001b[38;5;124;43m*.dat\u001b[39;49m\u001b[38;5;124;43m'\u001b[39;49m\u001b[43m)\u001b[49m\u001b[43m)\u001b[49m\u001b[43m:\u001b[49m\n\u001b[0;32m     15\u001b[0m \u001b[43m    \u001b[49m\u001b[38;5;28;43;01mif\u001b[39;49;00m\u001b[43m \u001b[49m\u001b[43m(\u001b[49m\n\u001b[0;32m     16\u001b[0m \u001b[43m        \u001b[49m\u001b[38;5;129;43;01mnot\u001b[39;49;00m\u001b[43m \u001b[49m\u001b[43mnpexp_file\u001b[49m\u001b[38;5;241;43m.\u001b[39;49m\u001b[43mis_symlink\u001b[49m\u001b[43m(\u001b[49m\u001b[43m)\u001b[49m\n\u001b[0;32m     17\u001b[0m \u001b[43m        \u001b[49m\u001b[38;5;129;43;01mand\u001b[39;49;00m\u001b[43m \u001b[49m\u001b[43m(\u001b[49m\u001b[43mlims_copy\u001b[49m\u001b[43m \u001b[49m\u001b[38;5;241;43m:=\u001b[39;49m\u001b[43m \u001b[49m\u001b[43msession\u001b[49m\u001b[38;5;241;43m.\u001b[39;49m\u001b[43mlims_path\u001b[49m\u001b[43m \u001b[49m\u001b[38;5;241;43m/\u001b[39;49m\u001b[43m \u001b[49m\u001b[43mnpexp_file\u001b[49m\u001b[38;5;241;43m.\u001b[39;49m\u001b[43mrelative_to\u001b[49m\u001b[43m(\u001b[49m\u001b[43mnpexp_path\u001b[49m\u001b[43m)\u001b[49m\u001b[43m)\u001b[49m\u001b[38;5;241;43m.\u001b[39;49m\u001b[43mexists\u001b[49m\u001b[43m(\u001b[49m\u001b[43m)\u001b[49m\n\u001b[0;32m     18\u001b[0m \u001b[43m        \u001b[49m\u001b[38;5;129;43;01mand\u001b[39;49;00m\u001b[43m \u001b[49m\u001b[43msizes_match\u001b[49m\u001b[43m(\u001b[49m\u001b[43mnpexp_file\u001b[49m\u001b[43m,\u001b[49m\u001b[43m \u001b[49m\u001b[43mlims_copy\u001b[49m\u001b[43m)\u001b[49m\n\u001b[0;32m     19\u001b[0m \u001b[43m    \u001b[49m\u001b[43m)\u001b[49m\u001b[43m:\u001b[49m\n\u001b[0;32m     20\u001b[0m \u001b[43m        \u001b[49m\u001b[43mtotal_bytes\u001b[49m\u001b[43m \u001b[49m\u001b[38;5;241;43m+\u001b[39;49m\u001b[38;5;241;43m=\u001b[39;49m\u001b[43m \u001b[49m\u001b[43msize\u001b[49m\u001b[43m(\u001b[49m\u001b[43mnpexp_file\u001b[49m\u001b[43m)\u001b[49m\n",
      "File \u001b[1;32m~\\.pyenv\\pyenv-win\\versions\\3.11.3\\Lib\\pathlib.py:968\u001b[0m, in \u001b[0;36mPath.rglob\u001b[1;34m(self, pattern)\u001b[0m\n\u001b[0;32m    966\u001b[0m     pattern_parts\u001b[38;5;241m.\u001b[39mappend(\u001b[38;5;124m'\u001b[39m\u001b[38;5;124m'\u001b[39m)\n\u001b[0;32m    967\u001b[0m selector \u001b[38;5;241m=\u001b[39m _make_selector((\u001b[38;5;124m\"\u001b[39m\u001b[38;5;124m**\u001b[39m\u001b[38;5;124m\"\u001b[39m,) \u001b[38;5;241m+\u001b[39m \u001b[38;5;28mtuple\u001b[39m(pattern_parts), \u001b[38;5;28mself\u001b[39m\u001b[38;5;241m.\u001b[39m_flavour)\n\u001b[1;32m--> 968\u001b[0m \u001b[43m\u001b[49m\u001b[38;5;28;43;01mfor\u001b[39;49;00m\u001b[43m \u001b[49m\u001b[43mp\u001b[49m\u001b[43m \u001b[49m\u001b[38;5;129;43;01min\u001b[39;49;00m\u001b[43m \u001b[49m\u001b[43mselector\u001b[49m\u001b[38;5;241;43m.\u001b[39;49m\u001b[43mselect_from\u001b[49m\u001b[43m(\u001b[49m\u001b[38;5;28;43mself\u001b[39;49m\u001b[43m)\u001b[49m\u001b[43m:\u001b[49m\n\u001b[0;32m    969\u001b[0m \u001b[43m    \u001b[49m\u001b[38;5;28;43;01myield\u001b[39;49;00m\u001b[43m \u001b[49m\u001b[43mp\u001b[49m\n",
      "File \u001b[1;32m~\\.pyenv\\pyenv-win\\versions\\3.11.3\\Lib\\pathlib.py:408\u001b[0m, in \u001b[0;36m_RecursiveWildcardSelector._select_from\u001b[1;34m(self, parent_path, is_dir, exists, scandir)\u001b[0m\n\u001b[0;32m    406\u001b[0m successor_select \u001b[38;5;241m=\u001b[39m \u001b[38;5;28mself\u001b[39m\u001b[38;5;241m.\u001b[39msuccessor\u001b[38;5;241m.\u001b[39m_select_from\n\u001b[0;32m    407\u001b[0m \u001b[38;5;28;01mfor\u001b[39;00m starting_point \u001b[38;5;129;01min\u001b[39;00m \u001b[38;5;28mself\u001b[39m\u001b[38;5;241m.\u001b[39m_iterate_directories(parent_path, is_dir, scandir):\n\u001b[1;32m--> 408\u001b[0m \u001b[43m    \u001b[49m\u001b[38;5;28;43;01mfor\u001b[39;49;00m\u001b[43m \u001b[49m\u001b[43mp\u001b[49m\u001b[43m \u001b[49m\u001b[38;5;129;43;01min\u001b[39;49;00m\u001b[43m \u001b[49m\u001b[43msuccessor_select\u001b[49m\u001b[43m(\u001b[49m\u001b[43mstarting_point\u001b[49m\u001b[43m,\u001b[49m\u001b[43m \u001b[49m\u001b[43mis_dir\u001b[49m\u001b[43m,\u001b[49m\u001b[43m \u001b[49m\u001b[43mexists\u001b[49m\u001b[43m,\u001b[49m\u001b[43m \u001b[49m\u001b[43mscandir\u001b[49m\u001b[43m)\u001b[49m\u001b[43m:\u001b[49m\n\u001b[0;32m    409\u001b[0m \u001b[43m        \u001b[49m\u001b[38;5;28;43;01mif\u001b[39;49;00m\u001b[43m \u001b[49m\u001b[43mp\u001b[49m\u001b[43m \u001b[49m\u001b[38;5;129;43;01mnot\u001b[39;49;00m\u001b[43m \u001b[49m\u001b[38;5;129;43;01min\u001b[39;49;00m\u001b[43m \u001b[49m\u001b[43myielded\u001b[49m\u001b[43m:\u001b[49m\n\u001b[0;32m    410\u001b[0m \u001b[43m            \u001b[49m\u001b[38;5;28;43;01myield\u001b[39;49;00m\u001b[43m \u001b[49m\u001b[43mp\u001b[49m\n",
      "File \u001b[1;32m~\\.pyenv\\pyenv-win\\versions\\3.11.3\\Lib\\pathlib.py:355\u001b[0m, in \u001b[0;36m_WildcardSelector._select_from\u001b[1;34m(self, parent_path, is_dir, exists, scandir)\u001b[0m\n\u001b[0;32m    353\u001b[0m \u001b[38;5;28;01mdef\u001b[39;00m \u001b[38;5;21m_select_from\u001b[39m(\u001b[38;5;28mself\u001b[39m, parent_path, is_dir, exists, scandir):\n\u001b[0;32m    354\u001b[0m     \u001b[38;5;28;01mtry\u001b[39;00m:\n\u001b[1;32m--> 355\u001b[0m         \u001b[38;5;28;01mwith\u001b[39;00m \u001b[43mscandir\u001b[49m\u001b[43m(\u001b[49m\u001b[43mparent_path\u001b[49m\u001b[43m)\u001b[49m \u001b[38;5;28;01mas\u001b[39;00m scandir_it:\n\u001b[0;32m    356\u001b[0m             entries \u001b[38;5;241m=\u001b[39m \u001b[38;5;28mlist\u001b[39m(scandir_it)\n\u001b[0;32m    357\u001b[0m         \u001b[38;5;28;01mfor\u001b[39;00m entry \u001b[38;5;129;01min\u001b[39;00m entries:\n",
      "File \u001b[1;32m~\\.pyenv\\pyenv-win\\versions\\3.11.3\\Lib\\pathlib.py:938\u001b[0m, in \u001b[0;36mPath._scandir\u001b[1;34m(self)\u001b[0m\n\u001b[0;32m    934\u001b[0m \u001b[38;5;28;01mdef\u001b[39;00m \u001b[38;5;21m_scandir\u001b[39m(\u001b[38;5;28mself\u001b[39m):\n\u001b[0;32m    935\u001b[0m     \u001b[38;5;66;03m# bpo-24132: a future version of pathlib will support subclassing of\u001b[39;00m\n\u001b[0;32m    936\u001b[0m     \u001b[38;5;66;03m# pathlib.Path to customize how the filesystem is accessed. This\u001b[39;00m\n\u001b[0;32m    937\u001b[0m     \u001b[38;5;66;03m# includes scandir(), which is used to implement glob().\u001b[39;00m\n\u001b[1;32m--> 938\u001b[0m     \u001b[38;5;28;01mreturn\u001b[39;00m os\u001b[38;5;241m.\u001b[39mscandir(\u001b[38;5;28mself\u001b[39m)\n",
      "\u001b[1;31mKeyboardInterrupt\u001b[0m: "
     ]
    }
   ],
   "source": [
    "import itertools\n",
    "\n",
    "\n",
    "total_bytes = 0  \n",
    "for npexp_path in NPEXP_ROOT.iterdir():\n",
    "    try:\n",
    "        session = np_session.PipelineSession(npexp_path)\n",
    "    except np_session.SessionError:\n",
    "        continue\n",
    "    \n",
    "    if not getattr(session, \"lims_path\", None):\n",
    "        continue\n",
    "    \n",
    "    for npexp_file in itertools.chain(npexp_path.rglob('*.npx2'), npexp_path.rglob('*.dat')):\n",
    "        if (\n",
    "            not npexp_file.is_symlink()\n",
    "            and (lims_copy := session.lims_path / npexp_file.relative_to(npexp_path)).exists()\n",
    "            and sizes_match(npexp_file, lims_copy)\n",
    "        ):\n",
    "            total_bytes += size(npexp_file)\n",
    "            unlink(npexp_file)\n",
    "            print(f\"{'Dryrun: ' if DRYRUN else ''}Cleared {total_bytes/1024**3:,.0f} GB\\r\", end='')"
   ]
  },
  {
   "cell_type": "code",
   "execution_count": null,
   "metadata": {},
   "outputs": [
    {
     "data": {
      "text/plain": [
       "True"
      ]
     },
     "execution_count": 10,
     "metadata": {},
     "output_type": "execute_result"
    }
   ],
   "source": [
    "unlinked_paths"
   ]
  },
  {
   "cell_type": "code",
   "execution_count": null,
   "metadata": {},
   "outputs": [],
   "source": []
  }
 ],
 "metadata": {
  "kernelspec": {
   "display_name": "Python 3.11.1 ('.venv': poetry)",
   "language": "python",
   "name": "python3"
  },
  "language_info": {
   "codemirror_mode": {
    "name": "ipython",
    "version": 3
   },
   "file_extension": ".py",
   "mimetype": "text/x-python",
   "name": "python",
   "nbconvert_exporter": "python",
   "pygments_lexer": "ipython3",
   "version": "3.11.3"
  },
  "orig_nbformat": 4,
  "vscode": {
   "interpreter": {
    "hash": "75a294dbf81199b26941ed5b32867c59e8bcc1170a51aebad9d5a69e8ca694a9"
   }
  }
 },
 "nbformat": 4,
 "nbformat_minor": 2
}
