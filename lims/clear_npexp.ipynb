{
 "cells": [
  {
   "cell_type": "markdown",
   "metadata": {},
   "source": [
    "# Clear raw and sorted .dat files on np-exp based on filesize comparison alone\n",
    "\n",
    "Assumes that transfers to lims have been performed with checksum validation at\n",
    "every stage.\n",
    "\n",
    "Does not touch npx2 files - some of which pre-date checksum validated transfers,\n",
    "and some are known to have bad copies"
   ]
  },
  {
   "cell_type": "code",
   "execution_count": 7,
   "metadata": {},
   "outputs": [],
   "source": [
    "import contextlib\n",
    "import pathlib\n",
    "\n",
    "import np_config\n",
    "import np_session\n",
    "\n",
    "NPEXP_ROOT = pathlib.Path(\n",
    "    \"//allen/programs/mindscope/workgroups/np-exp\"\n",
    ")\n",
    "assert NPEXP_ROOT.exists()\n",
    "\n",
    "DRYRUN = True\n",
    "unlinked_paths = []\n",
    "\n",
    "def size(path: pathlib.Path) -> int:\n",
    "    return sum(\n",
    "        f.stat().st_size\n",
    "        for f in path.rglob('*')\n",
    "        if f.is_file()\n",
    "    ) if path.is_dir() else path.stat().st_size\n",
    "    \n",
    "def sizes_match(p1, p2):\n",
    "    return size(p1) == size(p2)\n",
    "\n",
    "def unlink(path):\n",
    "    if DRYRUN:\n",
    "        unlinked_paths.append(path)\n",
    "        return\n",
    "    if path.is_dir():\n",
    "        while path.exists():\n",
    "            for _ in path.iterdir():\n",
    "                with contextlib.suppress(OSError):\n",
    "                    unlink(_)\n",
    "                    unlinked_paths.append(path)\n",
    "            path.rmdir()\n",
    "    else:\n",
    "        path.unlink()\n",
    "        unlinked_paths.append(path)"
   ]
  },
  {
   "cell_type": "markdown",
   "metadata": {},
   "source": [
    "Delete raw ephys data that's already on lims (judging by file size):"
   ]
  },
  {
   "cell_type": "code",
   "execution_count": 4,
   "metadata": {},
   "outputs": [],
   "source": [
    "import itertools\n",
    "\n",
    "\n",
    "total_bytes = 0  \n",
    "for npexp_path in NPEXP_ROOT.iterdir():\n",
    "    try:\n",
    "        session = np_session.PipelineSession(npexp_path)\n",
    "    except np_session.SessionError:\n",
    "        continue\n",
    "    \n",
    "    if not session.lims_path:\n",
    "        continue\n",
    "    \n",
    "    for npexp_file in itertools.chain(npexp_path.rglob('*.npx2'), npexp_path.rglob('*.dat')):\n",
    "        if (\n",
    "            not npexp_file.is_symlink()\n",
    "            and (lims_copy := session.lims_path / npexp_file.relative_to(npexp_path)).exists()\n",
    "            and sizes_match(npexp_file, lims_copy)\n",
    "        ):\n",
    "            total_bytes += size(npexp_file)\n",
    "            unlink(npexp_file)\n",
    "            print(f\"{'Dryrun: ' if DRYRUN else ''}Cleared {total_bytes/1024**3:,.0f} GB\\r\", end='')"
   ]
  },
  {
   "cell_type": "markdown",
   "metadata": {},
   "source": [
    "Delete sorted probe data that's already on lims (judging by file size and\n",
    "last-modified time, in case multiple probe uploads have been made):"
   ]
  },
  {
   "cell_type": "code",
   "execution_count": 13,
   "metadata": {},
   "outputs": [
    {
     "name": "stdout",
     "output_type": "stream",
     "text": [
      "Cleared 90 GB\r"
     ]
    },
    {
     "name": "stderr",
     "output_type": "stream",
     "text": [
      "Mismatch between session folder strings - file may be in the wrong folder: '\\\\\\\\allen\\\\programs\\\\mindscope\\\\workgroups\\\\np-exp\\\\1170937835_604910_20220415\\\\1170937835_366122_20220415_probeA_sorted'\n",
      "Mismatch between session folder strings - file may be in the wrong folder: '\\\\\\\\allen\\\\programs\\\\mindscope\\\\workgroups\\\\np-exp\\\\1170937835_604910_20220415\\\\1170937835_366122_20220415_probeA_sorted'\n"
     ]
    },
    {
     "name": "stdout",
     "output_type": "stream",
     "text": [
      "Cleared 195 GB\r"
     ]
    },
    {
     "name": "stderr",
     "output_type": "stream",
     "text": [
      "Mismatch between session folder strings - file may be in the wrong folder: '\\\\\\\\allen\\\\programs\\\\mindscope\\\\workgroups\\\\np-exp\\\\1170937835_604910_20220415\\\\1170937835_366122_20220415_probeB_sorted'\n",
      "Mismatch between session folder strings - file may be in the wrong folder: '\\\\\\\\allen\\\\programs\\\\mindscope\\\\workgroups\\\\np-exp\\\\1170937835_604910_20220415\\\\1170937835_366122_20220415_probeB_sorted'\n"
     ]
    },
    {
     "name": "stdout",
     "output_type": "stream",
     "text": [
      "Cleared 276 GB\r"
     ]
    },
    {
     "name": "stderr",
     "output_type": "stream",
     "text": [
      "Mismatch between session folder strings - file may be in the wrong folder: '\\\\\\\\allen\\\\programs\\\\mindscope\\\\workgroups\\\\np-exp\\\\1170937835_604910_20220415\\\\1170937835_366122_20220415_probeC_sorted'\n",
      "Mismatch between session folder strings - file may be in the wrong folder: '\\\\\\\\allen\\\\programs\\\\mindscope\\\\workgroups\\\\np-exp\\\\1170937835_604910_20220415\\\\1170937835_366122_20220415_probeC_sorted'\n"
     ]
    },
    {
     "name": "stdout",
     "output_type": "stream",
     "text": [
      "Cleared 362 GB\r"
     ]
    },
    {
     "name": "stderr",
     "output_type": "stream",
     "text": [
      "Mismatch between session folder strings - file may be in the wrong folder: '\\\\\\\\allen\\\\programs\\\\mindscope\\\\workgroups\\\\np-exp\\\\1170937835_604910_20220415\\\\1170937835_366122_20220415_probeD_sorted'\n",
      "Mismatch between session folder strings - file may be in the wrong folder: '\\\\\\\\allen\\\\programs\\\\mindscope\\\\workgroups\\\\np-exp\\\\1170937835_604910_20220415\\\\1170937835_366122_20220415_probeD_sorted'\n"
     ]
    },
    {
     "name": "stdout",
     "output_type": "stream",
     "text": [
      "Cleared 413 GB\r"
     ]
    },
    {
     "ename": "AttributeError",
     "evalue": "'DRPilotSession' object has no attribute 'lims_path'",
     "output_type": "error",
     "traceback": [
      "\u001b[1;31m---------------------------------------------------------------------------\u001b[0m",
      "\u001b[1;31mAttributeError\u001b[0m                            Traceback (most recent call last)",
      "Cell \u001b[1;32mIn[13], line 10\u001b[0m\n\u001b[0;32m      7\u001b[0m \u001b[38;5;28;01mexcept\u001b[39;00m np_session\u001b[38;5;241m.\u001b[39mSessionError:\n\u001b[0;32m      8\u001b[0m     \u001b[38;5;28;01mcontinue\u001b[39;00m\n\u001b[1;32m---> 10\u001b[0m \u001b[38;5;28;01mif\u001b[39;00m \u001b[38;5;129;01mnot\u001b[39;00m \u001b[43msession\u001b[49m\u001b[38;5;241;43m.\u001b[39;49m\u001b[43mlims_path\u001b[49m:\n\u001b[0;32m     11\u001b[0m     \u001b[38;5;28;01mcontinue\u001b[39;00m\n\u001b[0;32m     13\u001b[0m \u001b[38;5;28;01mfor\u001b[39;00m npexp_path \u001b[38;5;129;01min\u001b[39;00m probe_folder\u001b[38;5;241m.\u001b[39mrglob(\u001b[38;5;124m'\u001b[39m\u001b[38;5;124m*\u001b[39m\u001b[38;5;124m'\u001b[39m):\n",
      "\u001b[1;31mAttributeError\u001b[0m: 'DRPilotSession' object has no attribute 'lims_path'"
     ]
    }
   ],
   "source": [
    "total_bytes = 0  \n",
    "for probe in 'ABCDEF':\n",
    "    for probe_folder in NPEXP_ROOT.rglob(f'*probe{probe}_sorted'):\n",
    "        \n",
    "        try:\n",
    "            session = np_session.Session(probe_folder)\n",
    "        except np_session.SessionError:\n",
    "            continue\n",
    "        \n",
    "        if not session.lims_path:\n",
    "            continue\n",
    "        \n",
    "        for npexp_path in probe_folder.rglob('*'):\n",
    "            if npexp_path.is_dir():\n",
    "                continue\n",
    "            if (existing := tuple(session.lims_path.rglob(f'*/*_probe{probe}/{npexp_path.relative_to(probe_folder)}') )):\n",
    "                for lims_path in existing:\n",
    "                    if (\n",
    "                        not npexp_file.is_symlink()\n",
    "                        and sizes_match(lims_path, npexp_path) \n",
    "                        and lims_path.stat().st_mtime == npexp_path.stat().st_mtime\n",
    "                    ):\n",
    "                        total_bytes += size(npexp_path)\n",
    "                        unlink(npexp_path)\n",
    "                        print(f\"Cleared {total_bytes/1024**3:,.0f} GB\\r\", end='')\n",
    "                        break\n",
    "                        "
   ]
  },
  {
   "cell_type": "code",
   "execution_count": null,
   "metadata": {},
   "outputs": [
    {
     "data": {
      "text/plain": [
       "True"
      ]
     },
     "execution_count": 10,
     "metadata": {},
     "output_type": "execute_result"
    }
   ],
   "source": [
    "unlinked_paths"
   ]
  },
  {
   "cell_type": "code",
   "execution_count": null,
   "metadata": {},
   "outputs": [],
   "source": []
  }
 ],
 "metadata": {
  "kernelspec": {
   "display_name": "Python 3.11.1 ('.venv': poetry)",
   "language": "python",
   "name": "python3"
  },
  "language_info": {
   "codemirror_mode": {
    "name": "ipython",
    "version": 3
   },
   "file_extension": ".py",
   "mimetype": "text/x-python",
   "name": "python",
   "nbconvert_exporter": "python",
   "pygments_lexer": "ipython3",
   "version": "3.11.3"
  },
  "orig_nbformat": 4,
  "vscode": {
   "interpreter": {
    "hash": "75a294dbf81199b26941ed5b32867c59e8bcc1170a51aebad9d5a69e8ca694a9"
   }
  }
 },
 "nbformat": 4,
 "nbformat_minor": 2
}
