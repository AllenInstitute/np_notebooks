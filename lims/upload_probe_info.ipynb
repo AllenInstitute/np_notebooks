{
 "cells": [
  {
   "cell_type": "code",
   "execution_count": 8,
   "metadata": {},
   "outputs": [],
   "source": [
    "#     ('1170788301_607186_20220414', 'A, D'),\n",
    "#     ('1171915953_607191_20220420', 'E, F'),\n",
    "#     ('1173475008_610744_20220427', 'A, B'),\n",
    "#     ('1197726647_615864_20220810', 'D'),\n",
    "#     ('1199022469_634836_20220816', 'C, D'),\n",
    "#     ('1200879339_634837_20220825', 'D, E'),\n",
    "#     ('1164564592_614509_20220316', 'A'),\n",
    "#     ('1157125668_610746_20220209', 'F'),\t\n",
    "#     ('1135359471_594534_20211020', 'D'),\n",
    "#     ('1157378542_610746_20220210', 'F'),\n",
    "#     ('1158861600_610740_20220217', 'A, D, E'),\n",
    "#     ('1164802234_614509_20220317', 'A, C'),\n",
    "#     ('1167598137_615866_20220330', 'A'),\n",
    "#\n",
    "# ^ done\n",
    "\n",
    "session_probes = (\n",
    "\n",
    "    (\t'A',\t'//10.128.54.19/sd9/1145162697_599894_20211209/'),\n",
    "    (\t'C',\t'//10.128.54.19/sd9/1152624855_607187_20220119/'),\n",
    "    (\t'A',\t'//10.128.54.19/sd9/1155856098_607188_20220203/'),\n",
    "    (\t'E',\t'//10.128.54.19/sd9/1141231359_597505_20211117/'),\n",
    "    (\t'E',\t'//10.128.54.19/sd9/1143609565_597506_20211201/'),\n",
    "    (\t'D',\t'//10.128.54.20/sd8.3/1132753196_594585_20211007/'),\n",
    "    (\t'C, D',\t'//10.128.54.20/sd8.3/1132596756_594585_20211006/'),\n",
    "\n",
    ")"
   ]
  },
  {
   "cell_type": "code",
   "execution_count": 9,
   "metadata": {},
   "outputs": [
    {
     "name": "stdout",
     "output_type": "stream",
     "text": [
      "path=WindowsPath('//10.128.54.20/sd8.3/1132596756_594585_20211006')\n",
      "probes='CD'\n",
      "session=Session('1132596756_594585_20211006')\n",
      "\\\\10.128.54.20\\sd8.3\\1132596756_594585_20211006\\1132596756_594585_20211006_probeC_sorted\\probe_info.json\n",
      "> \\\\allen\\programs\\braintv\\production\\incoming\\neuralcoding\\1132596756_594585_20211006_probeC_sorted\\probe_info.json\n",
      "\n",
      "\\\\10.128.54.20\\sd8.3\\1132596756_594585_20211006\\1132596756_594585_20211006_probeD_sorted\\probe_info.json\n",
      "> \\\\allen\\programs\\braintv\\production\\incoming\\neuralcoding\\1132596756_594585_20211006_probeD_sorted\\probe_info.json\n",
      "\n"
     ]
    },
    {
     "name": "stderr",
     "output_type": "stream",
     "text": [
      "No platform json found for 1132596756 in incoming dir - lims upload job will fail when triggered: \\\\allen\\programs\\braintv\\production\\incoming\\neuralcoding\n",
      "No platform json found for 1141231359 in incoming dir - lims upload job will fail when triggered: \\\\allen\\programs\\braintv\\production\\incoming\\neuralcoding\n"
     ]
    },
    {
     "name": "stdout",
     "output_type": "stream",
     "text": [
      "path=WindowsPath('//10.128.54.19/sd9/1141231359_597505_20211117')\n",
      "probes='E'\n",
      "session=Session('1141231359_597505_20211117')\n",
      "\\\\10.128.54.19\\sd9\\1141231359_597505_20211117\\1141231359_597505_20211117_probeE_sorted\\probe_info.json\n",
      "> \\\\allen\\programs\\braintv\\production\\incoming\\neuralcoding\\1141231359_597505_20211117_probeE_sorted\\probe_info.json\n",
      "\n",
      "path=WindowsPath('//10.128.54.19/sd9/1143609565_597506_20211201')\n",
      "probes='E'\n",
      "session=Session('1143609565_597506_20211201')\n",
      "\\\\10.128.54.19\\sd9\\1143609565_597506_20211201\\1143609565_597506_20211201_probeE_sorted\\probe_info.json\n",
      "> \\\\allen\\programs\\braintv\\production\\incoming\\neuralcoding\\1143609565_597506_20211201_probeE_sorted\\probe_info.json\n",
      "\n"
     ]
    },
    {
     "name": "stderr",
     "output_type": "stream",
     "text": [
      "No platform json found for 1143609565 in incoming dir - lims upload job will fail when triggered: \\\\allen\\programs\\braintv\\production\\incoming\\neuralcoding\n",
      "No platform json found for 1145162697 in incoming dir - lims upload job will fail when triggered: \\\\allen\\programs\\braintv\\production\\incoming\\neuralcoding\n",
      "No platform json found for 1152624855 in incoming dir - lims upload job will fail when triggered: \\\\allen\\programs\\braintv\\production\\incoming\\neuralcoding\n"
     ]
    },
    {
     "name": "stdout",
     "output_type": "stream",
     "text": [
      "path=WindowsPath('//10.128.54.19/sd9/1145162697_599894_20211209')\n",
      "probes='A'\n",
      "session=Session('1145162697_599894_20211209')\n",
      "\\\\10.128.54.19\\sd9\\1145162697_599894_20211209\\1145162697_599894_20211209_probeA_sorted\\probe_info.json\n",
      "> \\\\allen\\programs\\braintv\\production\\incoming\\neuralcoding\\1145162697_599894_20211209_probeA_sorted\\probe_info.json\n",
      "\n",
      "path=WindowsPath('//10.128.54.19/sd9/1152624855_607187_20220119')\n",
      "probes='C'\n",
      "session=Session('1152624855_607187_20220119')\n",
      "\\\\10.128.54.19\\sd9\\1152624855_607187_20220119\\1152624855_607187_20220119_probeC_sorted\\probe_info.json\n",
      "> \\\\allen\\programs\\braintv\\production\\incoming\\neuralcoding\\1152624855_607187_20220119_probeC_sorted\\probe_info.json\n",
      "\n",
      "path=WindowsPath('//10.128.54.19/sd9/1155856098_607188_20220203')\n",
      "probes='A'\n",
      "session=Session('1155856098_607188_20220203')\n",
      "\\\\10.128.54.19\\sd9\\1155856098_607188_20220203\\1155856098_607188_20220203_probeA_sorted\\probe_info.json\n"
     ]
    },
    {
     "name": "stderr",
     "output_type": "stream",
     "text": [
      "No platform json found for 1155856098 in incoming dir - lims upload job will fail when triggered: \\\\allen\\programs\\braintv\\production\\incoming\\neuralcoding\n",
      "No platform json found for 1132753196 in incoming dir - lims upload job will fail when triggered: \\\\allen\\programs\\braintv\\production\\incoming\\neuralcoding\n"
     ]
    },
    {
     "name": "stdout",
     "output_type": "stream",
     "text": [
      "> \\\\allen\\programs\\braintv\\production\\incoming\\neuralcoding\\1155856098_607188_20220203_probeA_sorted\\probe_info.json\n",
      "\n",
      "path=WindowsPath('//10.128.54.20/sd8.3/1132753196_594585_20211007')\n",
      "probes='D'\n",
      "session=Session('1132753196_594585_20211007')\n",
      "\\\\10.128.54.20\\sd8.3\\1132753196_594585_20211007\\1132753196_594585_20211007_probeD_sorted\\probe_info.json\n",
      "> \\\\allen\\programs\\braintv\\production\\incoming\\neuralcoding\\1132753196_594585_20211007_probeD_sorted\\probe_info.json\n",
      "\n"
     ]
    }
   ],
   "source": [
    "import json\n",
    "import pathlib\n",
    "\n",
    "import np_session\n",
    "\n",
    "for s, p in session_probes:\n",
    "    session = np_session.Session(p)\n",
    "    path = pathlib.Path(p)\n",
    "    probes = ''.join(_ for _ in s.upper() if _ in 'ABCDEF')\n",
    "    \n",
    "    print(f'{path=}\\n{probes=}\\n{session=}')\n",
    "\n",
    "    root = next((_ for _ in (*path.parents, path) if _.name == session.folder), None)\n",
    "    if root is None:\n",
    "        raise ValueError(f'Could not find root for {session.folder}')\n",
    "    for probe in probes:\n",
    "        probe_info = next(root.glob(f'*_probe{probe}_sorted/probe_info.json'), None)\n",
    "        if probe_info is None:\n",
    "            raise ValueError(f'Could not find probe_info.json for {probe}')\n",
    "        print(probe_info)\n",
    "        (new := (np_session.INCOMING_ROOT / probe_info.parent.name)).mkdir(parents=True, exist_ok=True)\n",
    "        (new / probe_info.name).write_bytes(probe_info.read_bytes())\n",
    "        print(f'> {new / probe_info.name}\\n')\n",
    "\n",
    "    platformD2_files = dict(files={\n",
    "        f'ephys_raw_data_probe_{probe}_sorted': {\n",
    "            'directory_name': f'{session.folder}_probe{probe}_sorted'\n",
    "        }\n",
    "        for probe in probes\n",
    "    })\n",
    "    platformD2 = np_session.INCOMING_ROOT / f'{session.folder}_platformD2.json'\n",
    "    platformD2.write_bytes(json.dumps(platformD2_files, indent=4).encode());\n",
    "    \n",
    "    \n",
    "    np_session.write_trigger_file(session)"
   ]
  },
  {
   "cell_type": "code",
   "execution_count": 11,
   "metadata": {},
   "outputs": [],
   "source": [
    "import json\n",
    "import pathlib\n",
    "\n",
    "import np_session\n",
    "\n",
    "path = pathlib.Path(input('Session path:'))\n",
    "session = np_session.Session(path)\n",
    "probes = ''.join(_ for _ in input('Probes:').upper() if _ in 'ABCDEF')\n",
    "\n",
    "print(f'{path=}\\n{probes=}\\n{session=}')"
   ]
  },
  {
   "cell_type": "code",
   "execution_count": 35,
   "metadata": {},
   "outputs": [
    {
     "name": "stdout",
     "output_type": "stream",
     "text": [
      "\\\\allen\\programs\\mindscope\\workgroups\\np-exp\\1170788301_607186_20220414\\1170788301_607186_20220414_probeA_sorted\\probe_info.json\n",
      "> \\\\allen\\programs\\braintv\\production\\incoming\\neuralcoding\\1170788301_607186_20220414_probeA_sorted\\probe_info.json\n",
      "\n",
      "\\\\allen\\programs\\mindscope\\workgroups\\np-exp\\1170788301_607186_20220414\\1170788301_607186_20220414_probeD_sorted\\probe_info.json\n",
      "> \\\\allen\\programs\\braintv\\production\\incoming\\neuralcoding\\1170788301_607186_20220414_probeD_sorted\\probe_info.json\n",
      "\n"
     ]
    }
   ],
   "source": [
    "root = next(_ for _ in (*path.parents, path) if _.name == session.folder)\n",
    "\n",
    "for probe in probes:\n",
    "    probe_info = next(root.glob(f'*_probe{probe}_sorted/probe_info.json'))\n",
    "    print(probe_info)\n",
    "    (new := (np_session.INCOMING_ROOT / probe_info.parent.name)).mkdir(parents=True, exist_ok=True)\n",
    "    (new / probe_info.name).write_bytes(probe_info.read_bytes())\n",
    "    print(f'> {new / probe_info.name}\\n')\n",
    "\n",
    "platformD2_files = dict(files={\n",
    "    f'ephys_raw_data_probe_{probe}_sorted': {\n",
    "        'directory_name': f'{session.folder}_probe{probe}_sorted'\n",
    "    }\n",
    "    for probe in probes\n",
    "})\n",
    "platformD2 = np_session.INCOMING_ROOT / f'{session.folder}_platformD2.json'\n",
    "platformD2.write_bytes(json.dumps(platformD2_files, indent=4).encode());"
   ]
  },
  {
   "cell_type": "code",
   "execution_count": 36,
   "metadata": {},
   "outputs": [
    {
     "name": "stderr",
     "output_type": "stream",
     "text": [
      "No platform json found for 1170788301 in incoming dir - lims upload job will fail when triggered: \\\\allen\\programs\\braintv\\production\\incoming\\neuralcoding\n"
     ]
    }
   ],
   "source": [
    "np_session.write_trigger_file(session)"
   ]
  }
 ],
 "metadata": {
  "kernelspec": {
   "display_name": "Python 3.11.1 ('np-workflows-bIqIfclO-py3.11')",
   "language": "python",
   "name": "python3"
  },
  "language_info": {
   "codemirror_mode": {
    "name": "ipython",
    "version": 3
   },
   "file_extension": ".py",
   "mimetype": "text/x-python",
   "name": "python",
   "nbconvert_exporter": "python",
   "pygments_lexer": "ipython3",
   "version": "3.11.1"
  },
  "orig_nbformat": 4,
  "vscode": {
   "interpreter": {
    "hash": "8fff397ebb645a552faa9b4db0fa1ff7c1d22149c49b020c3e5e3edafcc58017"
   }
  }
 },
 "nbformat": 4,
 "nbformat_minor": 2
}
