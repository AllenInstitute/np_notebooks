{
 "cells": [
  {
   "cell_type": "code",
   "execution_count": null,
   "metadata": {},
   "outputs": [],
   "source": [
    "%env AIBS_RIG_ID=NP1"
   ]
  },
  {
   "cell_type": "code",
   "execution_count": null,
   "metadata": {},
   "outputs": [],
   "source": [
    "import contextlib\n",
    "import time\n",
    "import requests\n",
    "import yaml\n",
    "import os\n",
    "import pathlib\n",
    "from copy import deepcopy\n",
    "from uuid import uuid4\n",
    "\n",
    "import np_config\n",
    "import np_jobs\n",
    "import np_logging\n",
    "import np_services\n",
    "import np_session\n",
    "import typing\n",
    "import np_workflows\n",
    "from np_workflows import npxc\n",
    "import np_workflows.experiments.openscope_barcode as Barcode\n",
    "\n",
    "from np_services.resources.zro import ZroError \n",
    "import contextlib\n",
    "\n",
    "logger = np_logging.getLogger()\n",
    "\n",
    "np_workflows.elapsed_time_widget()"
   ]
  },
  {
   "cell_type": "code",
   "execution_count": null,
   "metadata": {},
   "outputs": [],
   "source": [
    "user, mouse = np_workflows.user_and_mouse_widget()"
   ]
  },
  {
   "cell_type": "code",
   "execution_count": null,
   "metadata": {},
   "outputs": [],
   "source": [
    "np_workflows.mtrain_widget(mouse)"
   ]
  },
  {
   "cell_type": "code",
   "execution_count": null,
   "metadata": {},
   "outputs": [],
   "source": [
    "# fetch required resources for running these things\n",
    "def wrapped_get(url: str, **kwargs) -> requests.Response:\n",
    "    \"\"\"Wrap requests.get to raise for non-200 status codes.\"\"\"\n",
    "    response = requests.get(url, **kwargs)\n",
    "    if response.status_code != 200:\n",
    "        response.raise_for_status()\n",
    "    return response\n",
    "\n",
    "\n",
    "def find_task_output(session: np_session.Session) -> pathlib.Path:\n",
    "    pass\n",
    "\n",
    "\n",
    "mtrain_regimen_response = wrapped_get(\n",
    "    \"https://raw.githubusercontent.com/AllenInstitute/mtrain_regimens/VisualBehaviorEPHYS_Task1G_v0.1.2/regimen.yml\",\n",
    ")\n",
    "mtrain_regimen = yaml.safe_load(mtrain_regimen_response.text)\n",
    "task_params = mtrain_regimen[\"stages\"][\"EPHYS_1_images_G_3uL_reward\"][\"parameters\"]\n",
    "\n",
    "commit_hash = '5adfa6e285774719135d0ebcba421f15f6f56168'\n",
    "# script content to be write to files\n",
    "behavior_script_content = requests.get(\n",
    "    f'http://stash.corp.alleninstitute.org/projects/VB/repos/visual_behavior_scripts/raw/replay_session/behavior_script.py?at={commit_hash}',\n",
    ").text\n",
    "\n",
    "mapping_script_content = requests.get(\n",
    "    f'http://stash.corp.alleninstitute.org/projects/VB/repos/visual_behavior_scripts/raw/replay_session/mapping_script.py?at={commit_hash}',\n",
    ").text\n",
    "\n",
    "replay_script_content = requests.get(\n",
    "    f'http://stash.corp.alleninstitute.org/projects/VB/repos/visual_behavior_scripts/raw/replay_session/replay_script.py?at={commit_hash}',\n",
    ").text\n",
    "\n",
    "optotagging_script_content = requests.get(\n",
    "    f'http://stash.corp.alleninstitute.org/projects/VB/repos/visual_behavior_scripts/raw/replay_session/optotagging_script.py?at={commit_hash}',\n",
    ").text\n",
    "\n",
    "# use braintv directory for testing\n",
    "local_behavior_script = pathlib.Path(\"//allen/programs/braintv/workgroups/nc-ophys/1022/behavior_script.py\")\n",
    "local_behavior_script.write_text(behavior_script_content)\n",
    "local_mapping_script = pathlib.Path(\"//allen/programs/braintv/workgroups/nc-ophys/1022/mapping_script.py\")\n",
    "local_mapping_script.write_text(mapping_script_content)\n",
    "local_replay_script = pathlib.Path(\"//allen/programs/braintv/workgroups/nc-ophys/1022/replay_script.py\")\n",
    "local_replay_script.write_text(replay_script_content)\n",
    "local_optotagging_script = pathlib.Path(\"//allen/programs/braintv/workgroups/nc-ophys/1022/optotagging_script.py\")\n",
    "local_optotagging_script.write_text(optotagging_script_content)\n",
    "\n",
    "gabor_path = task_params['mapping']['gabor_path']\n",
    "flash_path = task_params['mapping']['flash_path']\n",
    "\n",
    "assert os.path.exists(gabor_path) and os.path.exists(flash_path), \\\n",
    "    \"mapping stim should exist\"\n",
    "\n",
    "foraging_id = {\n",
    "    'value': uuid4().hex,\n",
    "    'inferrred': False,\n",
    "}\n",
    "TASK_ID = \"replay\"\n",
    "# add additional parameters that help us log better, link these scripts together\n",
    "task_params['replay_id'] = foraging_id['value']\n",
    "behavior_params = deepcopy(task_params)\n",
    "behavior_params['foraging_id'] = foraging_id\n",
    "behavior_params['task'] = {\n",
    "    \"id\": TASK_ID,\n",
    "    \"sub_id\": \"behavior\",\n",
    "    \"scripts_hash\": commit_hash,\n",
    "}\n",
    "\n",
    "default_levels  = [1.0, 1.2, 1.3] #TODO what should these be?\n",
    "config_path = r'C:/ProgramData/camstim/config/stim.cfg'  # TODO: make this work, this has probably moved\n",
    "\n",
    "opto_params = deepcopy(task_params.get(\"opto_params\"))\n",
    "# opto_params[\"mouseID\"] = task_params[\"mouse_id\"]\n",
    "# try:\n",
    "#     stim_cfg_opto_params = get_config(\n",
    "#         'Optogenetics',\n",
    "#         path=config_path,\n",
    "#     )\n",
    "#     opto_params[\"level_list\"] = stim_cfg_opto_params[\"level_list\"]\n",
    "#     logger.info(f'Reading opto level list from stim cfg ({config_path}): {stim_cfg_opto_params[\"level_list\"]}')\n",
    "# except Exception:\n",
    "#     logger.error(\n",
    "#         f'Could not get opto level list from stim cfg ({config_path}) using default levels: {default_levels}',\n",
    "#         exec_info=True,\n",
    "#     )\n",
    "opto_params[\"level_list\"] = default_levels\n",
    "\n",
    "\n",
    "class SevMixin:\n",
    "\n",
    "    def __init__(self, *args, **kwargs):\n",
    "        super().__init__(*args, **kwargs)\n",
    "        # self.imager = np_services.Imager()\n",
    "        self._camstim_script_path = local_behavior_script.as_posix()\n",
    "        self._logging_postfix = \"behavior\"\n",
    "        self._camstim_params = behavior_params\n",
    "        self._camstim_params[\"output_path\"] = self.session.folder\n",
    "\n",
    "    @property\n",
    "    def camstim_script_path(self) -> str:\n",
    "        return self._camstim_script_path\n",
    "    @camstim_script_path.setter\n",
    "    def camstim_script_path(self, path: str) -> None:\n",
    "        self.camstim_script_path = path\n",
    "\n",
    "    @property\n",
    "    def logging_postfix(self) -> str:\n",
    "        return self._logging_postfix\n",
    "    @logging_postfix.setter\n",
    "    def logging_postfix(self, value: str) -> None:\n",
    "        self._logging_postfix = value\n",
    "\n",
    "    @property\n",
    "    def camstim_params(self) -> dict[str, typing.Any]:\n",
    "        return self._camstim_params\n",
    "    @camstim_params.setter\n",
    "    def camstim_params(self, value: dict[str, typing.Any]) -> None:\n",
    "        self._camstim_params = value\n",
    "\n",
    "    @property\n",
    "    def recorders(self) -> tuple[np_services.Service, ...]:\n",
    "        \"\"\"Services to be started before stimuli run, and stopped after.\n",
    "         Session-dependent.\n",
    "        \"\"\"\n",
    "        return (np_services.Sync, np_services.VideoMVR, np_services.OpenEphys)\n",
    "\n",
    "    @property\n",
    "    def stims(self) -> tuple[np_services.Service, ...]:\n",
    "        return (np_services.ScriptCamstim, )\n",
    "\n",
    "    def initialize_and_test_services(self) -> None:\n",
    "        \"\"\"Configure, initialize (ie. reset), then test all services.\"\"\"\n",
    "        \n",
    "        np_services.MouseDirector.user = self.user.id\n",
    "        np_services.MouseDirector.mouse = self.mouse.id\n",
    "\n",
    "        np_services.OpenEphys.folder = self.session.folder\n",
    "\n",
    "        np_services.NewScaleCoordinateRecorder.log_root = self.session.npexp_path\n",
    "        np_services.NewScaleCoordinateRecorder.log_name = self.platform_json.path.name\n",
    "\n",
    "        assert pathlib.Path(self.camstim_script_path).exists(), f\"Filepath does not exist or is not accessible: {self.camstim_script_path=}\"\n",
    "        assert pathlib.Path(self.camstim_params_path).exists(), f\"Filepath does not exist or is not accessible: {self.camstim_params_path=}\"\n",
    "        \n",
    "        np_services.ScriptCamstim.script = self.camstim_script_path\n",
    "        np_services.ScriptCamstim.params = self.camstim_params\n",
    "        \n",
    "        self.configure_services()\n",
    "\n",
    "        super().initialize_and_test_services()\n",
    "\n",
    "    def update_state(self) -> None:\n",
    "        \"Store useful but non-essential info.\"\n",
    "        self.mouse.state['last_session'] = self.session.id\n",
    "        # self.mouse.state['last_vbn_session'] = str(self.workflow)\n",
    "        # self.mouse.state['last_ephys_day'] = self.ephys_day\n",
    "        today = self.session.date.strftime('%y%m%d')\n",
    "        # previous_run_date = self.mouse.state.setdefault(f'ephys_day_{self.ephys_day}', today)\n",
    "        # assert previous_run_date == today, f\"{self.ephys_day = } already ran on {previous_run_date}\"\n",
    "            \n",
    "        if self.mouse == 366122:\n",
    "            return\n",
    "        \n",
    "        self.session.project.state['latest_ephys'] = self.session.id\n",
    "        self.session.project.state['sessions'] = self.session.project.state.get('sessions', []) + [self.session.id]\n",
    "\n",
    "    def run_stim(self) -> None:\n",
    "        self.update_state()\n",
    "        \n",
    "        if not np_services.ScriptCamstim.is_ready_to_start():\n",
    "            raise RuntimeError(\"ScriptCamstim is not ready to start.\")\n",
    "        \n",
    "        np_services.ScriptCamstim.script = self.camstim_script_path\n",
    "        np_services.ScriptCamstim.params = self.camstim_params\n",
    "        np_logging.web(f'sev_dev_{self.logging_postfix}').info(f\"Started camstim script\")\n",
    "        np_services.ScriptCamstim.start()\n",
    "        \n",
    "        with contextlib.suppress(Exception):\n",
    "            while not np_services.ScriptCamstim.is_ready_to_start():\n",
    "                time.sleep(2.5)\n",
    "            \n",
    "        if isinstance(np_services.ScriptCamstim, np_services.Finalizable):\n",
    "            np_services.ScriptCamstim.finalize()\n",
    "\n",
    "        with contextlib.suppress(Exception):\n",
    "            np_logging.web(f'barcode_{self.logging_postfix}').info(f\"Finished session {self.mouse.mtrain.stage['name']}\")\n",
    "\n",
    "    def find_task_outputs(self) -> str:\n",
    "        if None == (stim_pkl := next(self.session.npexp_path.glob(f'{self.session.date:%y%m%d}*_{self.session.mouse}_*.pkl'), None)):\n",
    "            logger.warning('Did not find stim file on npexp matching the format `YYYYMMDDSSSS_mouseID_foragingID.pkl`')\n",
    "            return\n",
    "\n",
    "    def copy_data_files(self) -> None: \n",
    "        super().copy_data_files()\n",
    "        # When all processing completes, camstim Agent class passes data and uuid to\n",
    "        # /camstim/lims BehaviorSession class, and write_behavior_data() writes a\n",
    "        # final .pkl with default name YYYYMMDDSSSS_mouseID_foragingID.pkl\n",
    "        # - if we have a foraging ID, we can search for that\n",
    "        if None == (stim_pkl := next(self.session.npexp_path.glob(f'{self.session.date:%y%m%d}*_{self.session.mouse}_*.pkl'), None)):\n",
    "            logger.warning('Did not find stim file on npexp matching the format `YYYYMMDDSSSS_mouseID_foragingID.pkl`')\n",
    "            return\n",
    "        assert stim_pkl\n",
    "        if not self.session.platform_json.foraging_id:\n",
    "            self.session.platform_json.foraging_id = foraging_id[\"value\"]\n",
    "        new_stem = f'{self.session.folder}.stim'\n",
    "        logger.debug(f'Renaming stim file copied to npexp: {stim_pkl} -> {new_stem}')\n",
    "        stim_pkl = stim_pkl.rename(stim_pkl.with_stem(new_stem))\n",
    "        \n",
    "        # remove other stim pkl, which is nearly identical, if it was also copied\n",
    "        for pkl in self.session.npexp_path.glob('*.pkl'):\n",
    "            if (\n",
    "                self.session.folder not in pkl.stem\n",
    "                and \n",
    "                abs(pkl.stat().st_size - stim_pkl.stat().st_size) < 1e6\n",
    "            ):\n",
    "                logger.debug(f'Deleting extra stim pkl copied to npexp: {pkl.stem}')\n",
    "                pkl.unlink()\n",
    "\n",
    "\n",
    "class Sev(SevMixin, np_workflows.PipelineEphys):\n",
    "    def __init__(self, *args, **kwargs):\n",
    "        self.services = (\n",
    "            np_services.MouseDirector,\n",
    "            np_services.Sync,\n",
    "            np_services.VideoMVR,\n",
    "            self.imager,\n",
    "            np_services.NewScaleCoordinateRecorder,\n",
    "            np_services.SessionCamstim,\n",
    "            np_services.OpenEphys,\n",
    "        )\n",
    "        super().__init__(*args, **kwargs)"
   ]
  },
  {
   "cell_type": "code",
   "execution_count": null,
   "metadata": {},
   "outputs": [],
   "source": [
    "with contextlib.suppress(Exception):\n",
    "    np_services.start_rsc_apps()"
   ]
  },
  {
   "cell_type": "markdown",
   "metadata": {},
   "source": [
    "## Generate new session"
   ]
  },
  {
   "cell_type": "code",
   "execution_count": null,
   "metadata": {},
   "outputs": [],
   "source": [
    "experiment: np_workflows.PipelineExperiment = Sev(mouse, user)\n",
    "\n",
    "with contextlib.suppress(Exception):\n",
    "    np_logging.web(f'barcode_{experiment.workflow.name.lower()}').info(f\"{experiment} created\")\n",
    "\n",
    "session: np_session.PipelineSession = experiment.session\n",
    "platform_json: np_session.PlatformJson = experiment.session.platform_json\n",
    "\n",
    "platform_json.workflow_start_time = npxc.now()"
   ]
  },
  {
   "cell_type": "markdown",
   "metadata": {},
   "source": [
    "## Run behavior script"
   ]
  },
  {
   "cell_type": "markdown",
   "metadata": {},
   "source": [
    "### Extend lick spout before behavior"
   ]
  },
  {
   "cell_type": "code",
   "execution_count": null,
   "metadata": {},
   "outputs": [],
   "source": [
    "np_services.MouseDirector.get_proxy().extend_lick_spout()"
   ]
  },
  {
   "cell_type": "code",
   "execution_count": null,
   "metadata": {},
   "outputs": [],
   "source": [
    "# Params, script, logging for behavior set on init\n",
    "experiment.camstim_params[\"mouseID\"] = mouse.id\n",
    "experiment.camstim_params['max_task_duration_min'] = 1  # override max task duration for testing\n",
    "experiment.run_stim()"
   ]
  },
  {
   "cell_type": "markdown",
   "metadata": {},
   "source": [
    "## Run mapping script"
   ]
  },
  {
   "cell_type": "markdown",
   "metadata": {},
   "source": [
    "### Retract lick spout before mapping"
   ]
  },
  {
   "cell_type": "code",
   "execution_count": null,
   "metadata": {},
   "outputs": [],
   "source": [
    "np_services.MouseDirector.get_proxy().retract_lick_spout()"
   ]
  },
  {
   "cell_type": "markdown",
   "metadata": {},
   "source": [
    "Use task duration for testing"
   ]
  },
  {
   "cell_type": "code",
   "execution_count": null,
   "metadata": {},
   "outputs": [],
   "source": [
    "# max_mapping_duration = task_params.get(\"max_mapping_duration_min\")\n",
    "max_mapping_duration = task_params['max_task_duration_min']"
   ]
  },
  {
   "cell_type": "code",
   "execution_count": null,
   "metadata": {},
   "outputs": [],
   "source": [
    "experiment.camstim_script_path = local_mapping_script.as_posix()\n",
    "experiment.camstim_params = {\n",
    "    'foraging_id': foraging_id,\n",
    "    'gabor_path': gabor_path,\n",
    "    'flash_path': flash_path,\n",
    "    # \"output_path\": mapping_output_path,\n",
    "    \"mouseID\": mouse.id,\n",
    "    \"task\": {\n",
    "        \"id\": TASK_ID,\n",
    "        \"sub_id\": \"mapping\",\n",
    "        \"scripts_hash\": commit_hash,\n",
    "    },\n",
    "    \"regimen\": task_params.get(\"regimen\"),\n",
    "    \"stage\": task_params.get(\"stage\"),\n",
    "    \"mouse_id\": task_params.get(\"mouse_id\"),\n",
    "    \"max_mapping_duration_min\": max_mapping_duration,\n",
    "}\n",
    "experiment.logging_prefix = \"mapping\"\n",
    "experiment.run_stim()"
   ]
  },
  {
   "cell_type": "markdown",
   "metadata": {},
   "source": [
    "## Run replay script"
   ]
  },
  {
   "cell_type": "code",
   "execution_count": null,
   "metadata": {},
   "outputs": [],
   "source": [
    "# replace behavior script with replay script\n",
    "behavior_script_output_path = find_task_output()\n",
    "replay_params = deepcopy(task_params)\n",
    "replay_params.update({\n",
    "    'foraging_id': foraging_id,\n",
    "    \"mouseID\": mouse.id,\n",
    "    'previous_output_path': behavior_script_output_path,\n",
    "    \"task\": {\n",
    "        \"id\": TASK_ID,\n",
    "        \"sub_id\": \"replay\",\n",
    "        \"scripts_hash\": commit_hash,\n",
    "    },\n",
    "})\n",
    "experiment.camstim_script_path = local_replay_script.as_posix()\n",
    "experiment.camstim_params = replay_params\n",
    "experiment.logging_prefix = \"replay\"\n",
    "experiment.run_task()"
   ]
  },
  {
   "cell_type": "markdown",
   "metadata": {},
   "source": [
    "## Run optotagging script"
   ]
  },
  {
   "cell_type": "code",
   "execution_count": null,
   "metadata": {},
   "outputs": [],
   "source": [
    "experiment.camstim_script_path = local_optotagging_script.as_posix()\n",
    "opto_params[\"mouseID\"] = mouse.id\n",
    "experiment.camstim_params = opto_params\n",
    "experiment.logging_prefix = \"optotagging\"\n",
    "experiment.run_task()"
   ]
  },
  {
   "cell_type": "markdown",
   "metadata": {},
   "source": [
    "## Finalize"
   ]
  },
  {
   "cell_type": "code",
   "execution_count": null,
   "metadata": {},
   "outputs": [],
   "source": [
    "platform_json.workflow_complete_time = npxc.now()\n",
    "\n",
    "experiment.finalize_services(*experiment.recorders, *experiment.stims)\n",
    "experiment.validate_services(*experiment.recorders, *experiment.stims)"
   ]
  },
  {
   "cell_type": "markdown",
   "metadata": {},
   "source": [
    "## Copy data"
   ]
  },
  {
   "cell_type": "code",
   "execution_count": null,
   "metadata": {},
   "outputs": [],
   "source": [
    "experiment.copy_data_files()"
   ]
  }
 ],
 "metadata": {
  "language_info": {
   "name": "python"
  }
 },
 "nbformat": 4,
 "nbformat_minor": 2
}
