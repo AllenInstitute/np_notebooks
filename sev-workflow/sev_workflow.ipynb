{
 "cells": [
  {
   "cell_type": "code",
   "execution_count": null,
   "metadata": {},
   "outputs": [],
   "source": [
    "%env AIBS_RIG_ID=NP2"
   ]
  },
  {
   "cell_type": "code",
   "execution_count": null,
   "metadata": {},
   "outputs": [],
   "source": [
    "import contextlib\n",
    "import time\n",
    "import requests\n",
    "import yaml\n",
    "import pathlib\n",
    "\n",
    "import np_config\n",
    "import np_jobs\n",
    "import np_logging\n",
    "import np_services\n",
    "import np_session\n",
    "import typing\n",
    "import np_workflows\n",
    "from np_workflows import npxc\n",
    "import np_workflows.experiments.openscope_barcode as Barcode\n",
    "\n",
    "from np_services.resources.zro import ZroError \n",
    "import contextlib\n",
    "\n",
    "logger = np_logging.getLogger()\n",
    "\n",
    "np_workflows.elapsed_time_widget()"
   ]
  },
  {
   "cell_type": "code",
   "execution_count": null,
   "metadata": {},
   "outputs": [],
   "source": [
    "# fetch required resources for running these things\n",
    "def wrapped_get(url: str, **kwargs) -> requests.Response:\n",
    "    \"\"\"Wrap requests.get to raise for non-200 status codes.\"\"\"\n",
    "    response = requests.get(url, **kwargs)\n",
    "    if response.status_code != 200:\n",
    "        response.raise_for_status()\n",
    "    return response\n",
    "\n",
    "\n",
    "mtrain_regimen_response = wrapped_get(\n",
    "    \"https://raw.githubusercontent.com/AllenInstitute/mtrain_regimens/VisualBehaviorEPHYS_Task1G_v0.1.2/regimen.yml\",\n",
    ")\n",
    "mtrain_regimen = yaml.safe_load(mtrain_regimen_response.text)\n",
    "task_params = mtrain_regimen[\"stages\"][\"EPHYS_1_images_G_3uL_reward\"][\"parameters\"]\n",
    "\n",
    "commit_hash = '5adfa6e285774719135d0ebcba421f15f6f56168'\n",
    "# script content to be write to files\n",
    "behavior_script_content = requests.get(\n",
    "    f'http://stash.corp.alleninstitute.org/projects/VB/repos/visual_behavior_scripts/raw/replay_session/behavior_script.py?at={commit_hash}'\n",
    ").text.encode('utf8')\n",
    "\n",
    "replay_script_content = requests.get(\n",
    "    f'http://stash.corp.alleninstitute.org/projects/VB/repos/visual_behavior_scripts/raw/replay_session/replay_script.py?at={commit_hash}'\n",
    ").text.encode('utf8')\n",
    "\n",
    "local_behavior_script = pathlib.Path(\"./behavior_script.py\")\n",
    "local_behavior_script.write_text(behavior_script_content)\n",
    "local_replay_script = pathlib.Path(\"./replay_script.py\")\n",
    "local_replay_script.write_text(replay_script_content)\n",
    "\n",
    "\n",
    "class VBNMixin:\n",
    "\n",
    "    \"\"\"Multiple inheritance is a sin.\"\"\"\n",
    "\n",
    "    def __init__(self, *args, **kwargs):\n",
    "        super().__init__(*args, **kwargs)\n",
    "        self.imager = np_services.Imager()\n",
    "        self._camstim_script_path = local_behavior_script\n",
    "        self._is_behavior = True\n",
    "\n",
    "    @property\n",
    "    def camstim_script_path(self) -> str:\n",
    "        return self._camstim_script_path\n",
    "    @camstim_script_path.setter\n",
    "    def camstim_script_path(self, path: str) -> None:\n",
    "        self.c_amstim_script_path = path\n",
    "\n",
    "    @property\n",
    "    def is_behavior(self) -> bool:\n",
    "        return self._is_behavior\n",
    "    @is_behavior.setter\n",
    "    def is_behavior(self, value: bool) -> None:\n",
    "        self._is_behavior = value\n",
    "\n",
    "    @property\n",
    "    def camstim_params(self) -> dict[str, typing.Any]:\n",
    "        return task_params\n",
    "\n",
    "    def run_stim(self) -> None:\n",
    "        self.update_state()\n",
    "        \n",
    "        if not np_services.ScriptCamstim.is_ready_to_start():\n",
    "            raise RuntimeError(\"ScriptCamstim is not ready to start.\")\n",
    "        \n",
    "        np_services.ScriptCamstim.script = self.camstim_script_path\n",
    "        np_services.ScriptCamstim.params = self.camstim_params\n",
    "        postfix = \"behavior\" if self.is_behavior else \"replay\"\n",
    "        np_logging.web(f'sev_dev_{postfix}').info(f\"Started camstim script\")\n",
    "        np_services.ScriptCamstim.start()\n",
    "        \n",
    "        with contextlib.suppress(Exception):\n",
    "            while not np_services.ScriptCamstim.is_ready_to_start():\n",
    "                time.sleep(2.5)\n",
    "            \n",
    "        if isinstance(np_services.ScriptCamstim, np_services.Finalizable):\n",
    "            np_services.ScriptCamstim.finalize()\n",
    "\n",
    "        with contextlib.suppress(Exception):\n",
    "            np_logging.web(f'barcode_{postfix}').info(f\"Finished session {self.mouse.mtrain.stage['name']}\")\n",
    "\n",
    "\n",
    "    def copy_data_files(self) -> None: \n",
    "        super().copy_data_files()\n",
    "        # When all processing completes, camstim Agent class passes data and uuid to\n",
    "        # /camstim/lims BehaviorSession class, and write_behavior_data() writes a\n",
    "        # final .pkl with default name YYYYMMDDSSSS_mouseID_foragingID.pkl\n",
    "        # - if we have a foraging ID, we can search for that\n",
    "        if None == (stim_pkl := next(self.session.npexp_path.glob(f'{self.session.date:%y%m%d}*_{self.session.mouse}_*.pkl'), None)):\n",
    "            logger.warning('Did not find stim file on npexp matching the format `YYYYMMDDSSSS_mouseID_foragingID.pkl`')\n",
    "            return\n",
    "        assert stim_pkl\n",
    "        if not self.session.platform_json.foraging_id:\n",
    "            self.session.platform_json.foraging_id = stim_pkl.stem.split('_')[-1]\n",
    "        new_stem = f'{self.session.folder}.stim'\n",
    "        logger.debug(f'Renaming stim file copied to npexp: {stim_pkl} -> {new_stem}')\n",
    "        stim_pkl = stim_pkl.rename(stim_pkl.with_stem(new_stem))\n",
    "        \n",
    "        # remove other stim pkl, which is nearly identical, if it was also copied\n",
    "        for pkl in self.session.npexp_path.glob('*.pkl'):\n",
    "            if (\n",
    "                self.session.folder not in pkl.stem\n",
    "                and \n",
    "                abs(pkl.stat().st_size - stim_pkl.stat().st_size) < 1e6\n",
    "            ):\n",
    "                logger.debug(f'Deleting extra stim pkl copied to npexp: {pkl.stem}')\n",
    "                pkl.unlink()\n",
    "\n",
    "\n",
    "class Ephys(VBNMixin, np_workflows.PipelineEphys):\n",
    "    def __init__(self, *args, **kwargs):\n",
    "        self.services = (\n",
    "            np_services.MouseDirector,\n",
    "            np_services.Sync,\n",
    "            np_services.VideoMVR,\n",
    "            self.imager,\n",
    "            np_services.NewScaleCoordinateRecorder,\n",
    "            np_services.SessionCamstim,\n",
    "            np_services.OpenEphys,\n",
    "        )\n",
    "        super().__init__(*args, **kwargs)"
   ]
  },
  {
   "cell_type": "code",
   "execution_count": null,
   "metadata": {},
   "outputs": [],
   "source": [
    "with contextlib.suppress(Exception):\n",
    "    np_services.start_rsc_apps()"
   ]
  },
  {
   "cell_type": "markdown",
   "metadata": {},
   "source": [
    "## Select a trainer and mouse"
   ]
  },
  {
   "cell_type": "code",
   "execution_count": null,
   "metadata": {},
   "outputs": [],
   "source": [
    "user, mouse = np_workflows.user_and_mouse_widget()"
   ]
  },
  {
   "cell_type": "markdown",
   "metadata": {},
   "source": [
    "#### Run this is mouse id has changed"
   ]
  },
  {
   "cell_type": "code",
   "execution_count": null,
   "metadata": {},
   "outputs": [],
   "source": [
    "np_workflows.mtrain_widget(mouse)"
   ]
  },
  {
   "cell_type": "markdown",
   "metadata": {},
   "source": [
    "## Generate new session"
   ]
  },
  {
   "cell_type": "code",
   "execution_count": null,
   "metadata": {},
   "outputs": [],
   "source": [
    "experiment: np_workflows.PipelineExperiment = Ephys(mouse, user)\n",
    "\n",
    "with contextlib.suppress(Exception):\n",
    "    np_logging.web(f'barcode_{experiment.workflow.name.lower()}').info(f\"{experiment} created\")\n",
    "\n",
    "session: np_session.PipelineSession = experiment.session\n",
    "platform_json: np_session.PlatformJson = experiment.session.platform_json\n",
    "\n",
    "platform_json.workflow_start_time = npxc.now()"
   ]
  },
  {
   "cell_type": "markdown",
   "metadata": {},
   "source": [
    "## Run behavior script"
   ]
  },
  {
   "cell_type": "markdown",
   "metadata": {},
   "source": [
    "### Extend lick spout before behavior"
   ]
  },
  {
   "cell_type": "code",
   "execution_count": null,
   "metadata": {},
   "outputs": [],
   "source": [
    "np_services.MouseDirector.get_proxy().extend_lick_spout()"
   ]
  },
  {
   "cell_type": "code",
   "execution_count": null,
   "metadata": {},
   "outputs": [],
   "source": [
    "experiment.run_task()"
   ]
  },
  {
   "cell_type": "markdown",
   "metadata": {},
   "source": [
    "## Run mapping script"
   ]
  },
  {
   "cell_type": "markdown",
   "metadata": {},
   "source": [
    "### Retract lick spout before mapping"
   ]
  },
  {
   "cell_type": "code",
   "execution_count": null,
   "metadata": {},
   "outputs": [],
   "source": [
    "np_services.MouseDirector.get_proxy().retract_lick_spout()"
   ]
  },
  {
   "cell_type": "code",
   "execution_count": null,
   "metadata": {},
   "outputs": [],
   "source": [
    "experiment.run_mapping()"
   ]
  },
  {
   "cell_type": "markdown",
   "metadata": {},
   "source": [
    "## Run replay script"
   ]
  },
  {
   "cell_type": "markdown",
   "metadata": {},
   "source": [
    "### Extend lick spout before replay"
   ]
  },
  {
   "cell_type": "code",
   "execution_count": null,
   "metadata": {},
   "outputs": [],
   "source": [
    "np_services.MouseDirector.get_proxy().extend_lick_spout()"
   ]
  },
  {
   "cell_type": "code",
   "execution_count": null,
   "metadata": {},
   "outputs": [],
   "source": [
    "# replace behavior script with replay script\n",
    "experiment.camstim_script_path = local_replay_script\n",
    "experiment.is_behavior = False\n",
    "experiment.run_task()"
   ]
  },
  {
   "cell_type": "markdown",
   "metadata": {},
   "source": [
    "## Run optotagging script"
   ]
  },
  {
   "cell_type": "code",
   "execution_count": null,
   "metadata": {},
   "outputs": [],
   "source": [
    "experiment.run_optotagging()"
   ]
  },
  {
   "cell_type": "markdown",
   "metadata": {},
   "source": [
    "## Finalize"
   ]
  },
  {
   "cell_type": "code",
   "execution_count": null,
   "metadata": {},
   "outputs": [],
   "source": [
    "platform_json.workflow_complete_time = npxc.now()\n",
    "\n",
    "experiment.finalize_services(*experiment.recorders, *experiment.stims)\n",
    "experiment.validate_services(*experiment.recorders, *experiment.stims)"
   ]
  },
  {
   "cell_type": "markdown",
   "metadata": {},
   "source": [
    "## Copy data"
   ]
  },
  {
   "cell_type": "code",
   "execution_count": null,
   "metadata": {},
   "outputs": [],
   "source": [
    "experiment.copy_data_files()"
   ]
  }
 ],
 "metadata": {
  "language_info": {
   "name": "python"
  }
 },
 "nbformat": 4,
 "nbformat_minor": 2
}
