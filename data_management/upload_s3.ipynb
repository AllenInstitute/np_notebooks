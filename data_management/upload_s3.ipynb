{
 "cells": [
  {
   "cell_type": "code",
   "execution_count": 6,
   "metadata": {},
   "outputs": [],
   "source": [
    "import utils\n",
    "\n",
    "utils.ensure_credentials()"
   ]
  },
  {
   "cell_type": "markdown",
   "metadata": {},
   "source": [
    "---\n",
    "## Select sessions for upload"
   ]
  },
  {
   "cell_type": "code",
   "execution_count": 7,
   "metadata": {},
   "outputs": [
    {
     "data": {
      "application/vnd.jupyter.widget-view+json": {
       "model_id": "7fdf7b85ab8c42719204234f27a55c54",
       "version_major": 2,
       "version_minor": 0
      },
      "text/plain": [
       "BokehModel(combine_events=True, render_bundle={'docs_json': {'cbefef29-d7ac-4965-9889-f246e65ab939': {'version…"
      ]
     },
     "execution_count": 7,
     "metadata": {},
     "output_type": "execute_result"
    }
   ],
   "source": [
    "table = utils.get_folder_table()\n",
    "table"
   ]
  },
  {
   "cell_type": "markdown",
   "metadata": {},
   "source": [
    "---\n",
    "## Automatic check for missing data\n",
    "- if anything is marked as missing, make sure it's expected\n",
    "- if a session needs to be skipped, uncheck it in the table above "
   ]
  },
  {
   "cell_type": "code",
   "execution_count": 3,
   "metadata": {},
   "outputs": [
    {
     "name": "stdout",
     "output_type": "stream",
     "text": [
      "DRpilot_715706_20240626\n",
      "\tappears ready for upload\n",
      "\t\\\\allen\\programs\\mindscope\\workgroups\\dynamicrouting\\PilotEphys\\Task 2 pilot\\DRpilot_715706_20240626\n",
      "\n",
      "DRpilot_714753_20240703\n",
      "\tappears ready for upload\n",
      "\t\\\\allen\\programs\\mindscope\\workgroups\\dynamicrouting\\PilotEphys\\Task 2 pilot\\DRpilot_714753_20240703\n",
      "\n",
      "DRpilot_715710_20240719\n",
      "\tappears ready for upload\n",
      "\t\\\\allen\\programs\\mindscope\\workgroups\\dynamicrouting\\PilotEphys\\Task 2 pilot\\DRpilot_715710_20240719\n",
      "\n",
      "DRpilot_724612_20240725\n",
      "\tappears ready for upload\n",
      "\t\\\\allen\\programs\\mindscope\\workgroups\\dynamicrouting\\PilotEphys\\Task 2 pilot\\DRpilot_724612_20240725\n",
      "\n",
      "DRpilot_741148_20241015\n",
      "\tappears ready for upload\n",
      "\t\\\\allen\\programs\\mindscope\\workgroups\\dynamicrouting\\PilotEphys\\Task 2 pilot\\DRpilot_741148_20241015\n",
      "\n",
      "DRpilot_716718_20240802\n",
      "\tappears ready for upload\n",
      "\t\\\\allen\\programs\\mindscope\\workgroups\\dynamicrouting\\PilotEphys\\Task 2 pilot\\DRpilot_716718_20240802\n",
      "\n"
     ]
    }
   ],
   "source": [
    "utils.validate_folder_contents(table.selected_dataframe[\"folder\"].to_list())"
   ]
  },
  {
   "cell_type": "markdown",
   "metadata": {},
   "source": [
    "---\n",
    "## Manual check: size of files and folders\n",
    "- non-critical data not shown"
   ]
  },
  {
   "cell_type": "code",
   "execution_count": 4,
   "metadata": {},
   "outputs": [
    {
     "name": "stdout",
     "output_type": "stream",
     "text": [
      "\n",
      "\\\\allen\\programs\\mindscope\\workgroups\\dynamicrouting\\PilotEphys\\Task 2 pilot\\DRpilot_715706_20240626:\n"
     ]
    },
    {
     "data": {
      "text/html": [
       "<div><style>\n",
       ".dataframe > thead > tr,\n",
       ".dataframe > tbody > tr {\n",
       "  text-align: right;\n",
       "  white-space: pre-wrap;\n",
       "}\n",
       "</style>\n",
       "<small>shape: (10, 5)</small><table border=\"1\" class=\"dataframe\"><thead><tr><th>type</th><th>name</th><th>suffix</th><th>size MB</th><th>size GB</th></tr><tr><td>str</td><td>str</td><td>str</td><td>i64</td><td>f64</td></tr></thead><tbody><tr><td>&quot;ephys&quot;</td><td>&quot;Record Node 101&quot;</td><td>&quot;&quot;</td><td>264759</td><td>258.6</td></tr><tr><td>&quot;ephys&quot;</td><td>&quot;Record Node 103&quot;</td><td>&quot;&quot;</td><td>397137</td><td>387.8</td></tr><tr><td>null</td><td>&quot;exp&quot;</td><td>&quot;&quot;</td><td>1</td><td>0.0</td></tr><tr><td>&quot;sync&quot;</td><td>&quot;20240626T142427&quot;</td><td>&quot;.h5&quot;</td><td>36</td><td>0.0</td></tr><tr><td>&quot;stim&quot;</td><td>&quot;DynamicRouting1_715706_2024062…</td><td>&quot;.hdf5&quot;</td><td>47</td><td>0.0</td></tr><tr><td>&quot;stim&quot;</td><td>&quot;RFMapping_715706_20240626_1425…</td><td>&quot;.hdf5&quot;</td><td>40</td><td>0.0</td></tr><tr><td>&quot;stim&quot;</td><td>&quot;RFMapping_715706_20240626_1541…</td><td>&quot;.hdf5&quot;</td><td>40</td><td>0.0</td></tr><tr><td>&quot;video&quot;</td><td>&quot;Behavior_20240626T142440&quot;</td><td>&quot;.mp4&quot;</td><td>1308</td><td>1.3</td></tr><tr><td>&quot;video&quot;</td><td>&quot;Eye_20240626T142441&quot;</td><td>&quot;.mp4&quot;</td><td>1306</td><td>1.3</td></tr><tr><td>&quot;video&quot;</td><td>&quot;Face_20240626T142441&quot;</td><td>&quot;.mp4&quot;</td><td>1307</td><td>1.3</td></tr></tbody></table></div>"
      ],
      "text/plain": [
       "shape: (10, 5)\n",
       "┌───────┬─────────────────────────────────┬────────┬─────────┬─────────┐\n",
       "│ type  ┆ name                            ┆ suffix ┆ size MB ┆ size GB │\n",
       "│ ---   ┆ ---                             ┆ ---    ┆ ---     ┆ ---     │\n",
       "│ str   ┆ str                             ┆ str    ┆ i64     ┆ f64     │\n",
       "╞═══════╪═════════════════════════════════╪════════╪═════════╪═════════╡\n",
       "│ ephys ┆ Record Node 101                 ┆        ┆ 264759  ┆ 258.6   │\n",
       "│ ephys ┆ Record Node 103                 ┆        ┆ 397137  ┆ 387.8   │\n",
       "│ null  ┆ exp                             ┆        ┆ 1       ┆ 0.0     │\n",
       "│ sync  ┆ 20240626T142427                 ┆ .h5    ┆ 36      ┆ 0.0     │\n",
       "│ stim  ┆ DynamicRouting1_715706_2024062… ┆ .hdf5  ┆ 47      ┆ 0.0     │\n",
       "│ stim  ┆ RFMapping_715706_20240626_1425… ┆ .hdf5  ┆ 40      ┆ 0.0     │\n",
       "│ stim  ┆ RFMapping_715706_20240626_1541… ┆ .hdf5  ┆ 40      ┆ 0.0     │\n",
       "│ video ┆ Behavior_20240626T142440        ┆ .mp4   ┆ 1308    ┆ 1.3     │\n",
       "│ video ┆ Eye_20240626T142441             ┆ .mp4   ┆ 1306    ┆ 1.3     │\n",
       "│ video ┆ Face_20240626T142441            ┆ .mp4   ┆ 1307    ┆ 1.3     │\n",
       "└───────┴─────────────────────────────────┴────────┴─────────┴─────────┘"
      ]
     },
     "metadata": {},
     "output_type": "display_data"
    },
    {
     "name": "stdout",
     "output_type": "stream",
     "text": [
      "\n",
      "\\\\allen\\programs\\mindscope\\workgroups\\dynamicrouting\\PilotEphys\\Task 2 pilot\\DRpilot_714753_20240703:\n"
     ]
    },
    {
     "data": {
      "text/html": [
       "<div><style>\n",
       ".dataframe > thead > tr,\n",
       ".dataframe > tbody > tr {\n",
       "  text-align: right;\n",
       "  white-space: pre-wrap;\n",
       "}\n",
       "</style>\n",
       "<small>shape: (15, 5)</small><table border=\"1\" class=\"dataframe\"><thead><tr><th>type</th><th>name</th><th>suffix</th><th>size MB</th><th>size GB</th></tr><tr><td>str</td><td>str</td><td>str</td><td>i64</td><td>f64</td></tr></thead><tbody><tr><td>&quot;ephys&quot;</td><td>&quot;Record Node 103&quot;</td><td>&quot;&quot;</td><td>543235</td><td>530.5</td></tr><tr><td>&quot;ephys&quot;</td><td>&quot;Record Node 104&quot;</td><td>&quot;&quot;</td><td>536490</td><td>523.9</td></tr><tr><td>null</td><td>&quot;exp&quot;</td><td>&quot;&quot;</td><td>48</td><td>0.0</td></tr><tr><td>&quot;sync&quot;</td><td>&quot;20240703T110353&quot;</td><td>&quot;.h5&quot;</td><td>45</td><td>0.0</td></tr><tr><td>&quot;stim&quot;</td><td>&quot;DynamicRouting1_714753_2024070…</td><td>&quot;.hdf5&quot;</td><td>48</td><td>0.0</td></tr><tr><td>&quot;stim&quot;</td><td>&quot;OptoTagging_714753_20240703_11…</td><td>&quot;.hdf5&quot;</td><td>0</td><td>0.0</td></tr><tr><td>&quot;stim&quot;</td><td>&quot;OptoTagging_714753_20240703_13…</td><td>&quot;.hdf5&quot;</td><td>0</td><td>0.0</td></tr><tr><td>&quot;stim&quot;</td><td>&quot;RFMapping_714753_20240703_1104…</td><td>&quot;.hdf5&quot;</td><td>40</td><td>0.0</td></tr><tr><td>&quot;stim&quot;</td><td>&quot;SpontaneousRewards_714753_2024…</td><td>&quot;.hdf5&quot;</td><td>0</td><td>0.0</td></tr><tr><td>&quot;stim&quot;</td><td>&quot;SpontaneousRewards_714753_2024…</td><td>&quot;.hdf5&quot;</td><td>0</td><td>0.0</td></tr><tr><td>&quot;stim&quot;</td><td>&quot;Spontaneous_714753_20240703_11…</td><td>&quot;.hdf5&quot;</td><td>0</td><td>0.0</td></tr><tr><td>&quot;stim&quot;</td><td>&quot;Spontaneous_714753_20240703_12…</td><td>&quot;.hdf5&quot;</td><td>0</td><td>0.0</td></tr><tr><td>&quot;video&quot;</td><td>&quot;Behavior_20240703T110407&quot;</td><td>&quot;.mp4&quot;</td><td>1758</td><td>1.7</td></tr><tr><td>&quot;video&quot;</td><td>&quot;Eye_20240703T110408&quot;</td><td>&quot;.mp4&quot;</td><td>1757</td><td>1.7</td></tr><tr><td>&quot;video&quot;</td><td>&quot;Face_20240703T110408&quot;</td><td>&quot;.mp4&quot;</td><td>1758</td><td>1.7</td></tr></tbody></table></div>"
      ],
      "text/plain": [
       "shape: (15, 5)\n",
       "┌───────┬─────────────────────────────────┬────────┬─────────┬─────────┐\n",
       "│ type  ┆ name                            ┆ suffix ┆ size MB ┆ size GB │\n",
       "│ ---   ┆ ---                             ┆ ---    ┆ ---     ┆ ---     │\n",
       "│ str   ┆ str                             ┆ str    ┆ i64     ┆ f64     │\n",
       "╞═══════╪═════════════════════════════════╪════════╪═════════╪═════════╡\n",
       "│ ephys ┆ Record Node 103                 ┆        ┆ 543235  ┆ 530.5   │\n",
       "│ ephys ┆ Record Node 104                 ┆        ┆ 536490  ┆ 523.9   │\n",
       "│ null  ┆ exp                             ┆        ┆ 48      ┆ 0.0     │\n",
       "│ sync  ┆ 20240703T110353                 ┆ .h5    ┆ 45      ┆ 0.0     │\n",
       "│ stim  ┆ DynamicRouting1_714753_2024070… ┆ .hdf5  ┆ 48      ┆ 0.0     │\n",
       "│ stim  ┆ OptoTagging_714753_20240703_11… ┆ .hdf5  ┆ 0       ┆ 0.0     │\n",
       "│ stim  ┆ OptoTagging_714753_20240703_13… ┆ .hdf5  ┆ 0       ┆ 0.0     │\n",
       "│ stim  ┆ RFMapping_714753_20240703_1104… ┆ .hdf5  ┆ 40      ┆ 0.0     │\n",
       "│ stim  ┆ SpontaneousRewards_714753_2024… ┆ .hdf5  ┆ 0       ┆ 0.0     │\n",
       "│ stim  ┆ SpontaneousRewards_714753_2024… ┆ .hdf5  ┆ 0       ┆ 0.0     │\n",
       "│ stim  ┆ Spontaneous_714753_20240703_11… ┆ .hdf5  ┆ 0       ┆ 0.0     │\n",
       "│ stim  ┆ Spontaneous_714753_20240703_12… ┆ .hdf5  ┆ 0       ┆ 0.0     │\n",
       "│ video ┆ Behavior_20240703T110407        ┆ .mp4   ┆ 1758    ┆ 1.7     │\n",
       "│ video ┆ Eye_20240703T110408             ┆ .mp4   ┆ 1757    ┆ 1.7     │\n",
       "│ video ┆ Face_20240703T110408            ┆ .mp4   ┆ 1758    ┆ 1.7     │\n",
       "└───────┴─────────────────────────────────┴────────┴─────────┴─────────┘"
      ]
     },
     "metadata": {},
     "output_type": "display_data"
    },
    {
     "name": "stdout",
     "output_type": "stream",
     "text": [
      "\n",
      "\\\\allen\\programs\\mindscope\\workgroups\\dynamicrouting\\PilotEphys\\Task 2 pilot\\DRpilot_715710_20240719:\n"
     ]
    },
    {
     "data": {
      "text/html": [
       "<div><style>\n",
       ".dataframe > thead > tr,\n",
       ".dataframe > tbody > tr {\n",
       "  text-align: right;\n",
       "  white-space: pre-wrap;\n",
       "}\n",
       "</style>\n",
       "<small>shape: (15, 5)</small><table border=\"1\" class=\"dataframe\"><thead><tr><th>type</th><th>name</th><th>suffix</th><th>size MB</th><th>size GB</th></tr><tr><td>str</td><td>str</td><td>str</td><td>i64</td><td>f64</td></tr></thead><tbody><tr><td>&quot;ephys&quot;</td><td>&quot;Record Node 104&quot;</td><td>&quot;&quot;</td><td>560473</td><td>547.3</td></tr><tr><td>&quot;ephys&quot;</td><td>&quot;Record Node 108&quot;</td><td>&quot;&quot;</td><td>560474</td><td>547.3</td></tr><tr><td>null</td><td>&quot;exp&quot;</td><td>&quot;&quot;</td><td>41</td><td>0.0</td></tr><tr><td>&quot;sync&quot;</td><td>&quot;20240719T110007&quot;</td><td>&quot;.h5&quot;</td><td>47</td><td>0.0</td></tr><tr><td>&quot;stim&quot;</td><td>&quot;DynamicRouting1_715710_2024071…</td><td>&quot;.hdf5&quot;</td><td>47</td><td>0.0</td></tr><tr><td>&quot;stim&quot;</td><td>&quot;OptoTagging_715710_20240719_11…</td><td>&quot;.hdf5&quot;</td><td>0</td><td>0.0</td></tr><tr><td>&quot;stim&quot;</td><td>&quot;OptoTagging_715710_20240719_13…</td><td>&quot;.hdf5&quot;</td><td>0</td><td>0.0</td></tr><tr><td>&quot;stim&quot;</td><td>&quot;RFMapping_715710_20240719_1100…</td><td>&quot;.hdf5&quot;</td><td>40</td><td>0.0</td></tr><tr><td>&quot;stim&quot;</td><td>&quot;SpontaneousRewards_715710_2024…</td><td>&quot;.hdf5&quot;</td><td>0</td><td>0.0</td></tr><tr><td>&quot;stim&quot;</td><td>&quot;SpontaneousRewards_715710_2024…</td><td>&quot;.hdf5&quot;</td><td>0</td><td>0.0</td></tr><tr><td>&quot;stim&quot;</td><td>&quot;Spontaneous_715710_20240719_11…</td><td>&quot;.hdf5&quot;</td><td>0</td><td>0.0</td></tr><tr><td>&quot;stim&quot;</td><td>&quot;Spontaneous_715710_20240719_12…</td><td>&quot;.hdf5&quot;</td><td>0</td><td>0.0</td></tr><tr><td>&quot;video&quot;</td><td>&quot;Behavior_20240719T110021&quot;</td><td>&quot;.mp4&quot;</td><td>1814</td><td>1.8</td></tr><tr><td>&quot;video&quot;</td><td>&quot;Eye_20240719T110021&quot;</td><td>&quot;.mp4&quot;</td><td>1813</td><td>1.8</td></tr><tr><td>&quot;video&quot;</td><td>&quot;Face_20240719T110021&quot;</td><td>&quot;.mp4&quot;</td><td>1813</td><td>1.8</td></tr></tbody></table></div>"
      ],
      "text/plain": [
       "shape: (15, 5)\n",
       "┌───────┬─────────────────────────────────┬────────┬─────────┬─────────┐\n",
       "│ type  ┆ name                            ┆ suffix ┆ size MB ┆ size GB │\n",
       "│ ---   ┆ ---                             ┆ ---    ┆ ---     ┆ ---     │\n",
       "│ str   ┆ str                             ┆ str    ┆ i64     ┆ f64     │\n",
       "╞═══════╪═════════════════════════════════╪════════╪═════════╪═════════╡\n",
       "│ ephys ┆ Record Node 104                 ┆        ┆ 560473  ┆ 547.3   │\n",
       "│ ephys ┆ Record Node 108                 ┆        ┆ 560474  ┆ 547.3   │\n",
       "│ null  ┆ exp                             ┆        ┆ 41      ┆ 0.0     │\n",
       "│ sync  ┆ 20240719T110007                 ┆ .h5    ┆ 47      ┆ 0.0     │\n",
       "│ stim  ┆ DynamicRouting1_715710_2024071… ┆ .hdf5  ┆ 47      ┆ 0.0     │\n",
       "│ stim  ┆ OptoTagging_715710_20240719_11… ┆ .hdf5  ┆ 0       ┆ 0.0     │\n",
       "│ stim  ┆ OptoTagging_715710_20240719_13… ┆ .hdf5  ┆ 0       ┆ 0.0     │\n",
       "│ stim  ┆ RFMapping_715710_20240719_1100… ┆ .hdf5  ┆ 40      ┆ 0.0     │\n",
       "│ stim  ┆ SpontaneousRewards_715710_2024… ┆ .hdf5  ┆ 0       ┆ 0.0     │\n",
       "│ stim  ┆ SpontaneousRewards_715710_2024… ┆ .hdf5  ┆ 0       ┆ 0.0     │\n",
       "│ stim  ┆ Spontaneous_715710_20240719_11… ┆ .hdf5  ┆ 0       ┆ 0.0     │\n",
       "│ stim  ┆ Spontaneous_715710_20240719_12… ┆ .hdf5  ┆ 0       ┆ 0.0     │\n",
       "│ video ┆ Behavior_20240719T110021        ┆ .mp4   ┆ 1814    ┆ 1.8     │\n",
       "│ video ┆ Eye_20240719T110021             ┆ .mp4   ┆ 1813    ┆ 1.8     │\n",
       "│ video ┆ Face_20240719T110021            ┆ .mp4   ┆ 1813    ┆ 1.8     │\n",
       "└───────┴─────────────────────────────────┴────────┴─────────┴─────────┘"
      ]
     },
     "metadata": {},
     "output_type": "display_data"
    },
    {
     "name": "stdout",
     "output_type": "stream",
     "text": [
      "\n",
      "\\\\allen\\programs\\mindscope\\workgroups\\dynamicrouting\\PilotEphys\\Task 2 pilot\\DRpilot_724612_20240725:\n"
     ]
    },
    {
     "data": {
      "text/html": [
       "<div><style>\n",
       ".dataframe > thead > tr,\n",
       ".dataframe > tbody > tr {\n",
       "  text-align: right;\n",
       "  white-space: pre-wrap;\n",
       "}\n",
       "</style>\n",
       "<small>shape: (8, 5)</small><table border=\"1\" class=\"dataframe\"><thead><tr><th>type</th><th>name</th><th>suffix</th><th>size MB</th><th>size GB</th></tr><tr><td>str</td><td>str</td><td>str</td><td>i64</td><td>f64</td></tr></thead><tbody><tr><td>&quot;ephys&quot;</td><td>&quot;Record Node 104&quot;</td><td>&quot;&quot;</td><td>69513</td><td>67.9</td></tr><tr><td>&quot;ephys&quot;</td><td>&quot;Record Node 108&quot;</td><td>&quot;&quot;</td><td>69514</td><td>67.9</td></tr><tr><td>null</td><td>&quot;exp&quot;</td><td>&quot;&quot;</td><td>32</td><td>0.0</td></tr><tr><td>&quot;sync&quot;</td><td>&quot;20240725T162800&quot;</td><td>&quot;.h5&quot;</td><td>5</td><td>0.0</td></tr><tr><td>&quot;stim&quot;</td><td>&quot;RFMapping_724612_20240725_1628…</td><td>&quot;.hdf5&quot;</td><td>40</td><td>0.0</td></tr><tr><td>&quot;video&quot;</td><td>&quot;Behavior_20240725T162814&quot;</td><td>&quot;.mp4&quot;</td><td>226</td><td>0.2</td></tr><tr><td>&quot;video&quot;</td><td>&quot;Eye_20240725T162814&quot;</td><td>&quot;.mp4&quot;</td><td>227</td><td>0.2</td></tr><tr><td>&quot;video&quot;</td><td>&quot;Face_20240725T162814&quot;</td><td>&quot;.mp4&quot;</td><td>227</td><td>0.2</td></tr></tbody></table></div>"
      ],
      "text/plain": [
       "shape: (8, 5)\n",
       "┌───────┬─────────────────────────────────┬────────┬─────────┬─────────┐\n",
       "│ type  ┆ name                            ┆ suffix ┆ size MB ┆ size GB │\n",
       "│ ---   ┆ ---                             ┆ ---    ┆ ---     ┆ ---     │\n",
       "│ str   ┆ str                             ┆ str    ┆ i64     ┆ f64     │\n",
       "╞═══════╪═════════════════════════════════╪════════╪═════════╪═════════╡\n",
       "│ ephys ┆ Record Node 104                 ┆        ┆ 69513   ┆ 67.9    │\n",
       "│ ephys ┆ Record Node 108                 ┆        ┆ 69514   ┆ 67.9    │\n",
       "│ null  ┆ exp                             ┆        ┆ 32      ┆ 0.0     │\n",
       "│ sync  ┆ 20240725T162800                 ┆ .h5    ┆ 5       ┆ 0.0     │\n",
       "│ stim  ┆ RFMapping_724612_20240725_1628… ┆ .hdf5  ┆ 40      ┆ 0.0     │\n",
       "│ video ┆ Behavior_20240725T162814        ┆ .mp4   ┆ 226     ┆ 0.2     │\n",
       "│ video ┆ Eye_20240725T162814             ┆ .mp4   ┆ 227     ┆ 0.2     │\n",
       "│ video ┆ Face_20240725T162814            ┆ .mp4   ┆ 227     ┆ 0.2     │\n",
       "└───────┴─────────────────────────────────┴────────┴─────────┴─────────┘"
      ]
     },
     "metadata": {},
     "output_type": "display_data"
    },
    {
     "name": "stdout",
     "output_type": "stream",
     "text": [
      "\n",
      "\\\\allen\\programs\\mindscope\\workgroups\\dynamicrouting\\PilotEphys\\Task 2 pilot\\DRpilot_741148_20241015:\n"
     ]
    },
    {
     "data": {
      "text/html": [
       "<div><style>\n",
       ".dataframe > thead > tr,\n",
       ".dataframe > tbody > tr {\n",
       "  text-align: right;\n",
       "  white-space: pre-wrap;\n",
       "}\n",
       "</style>\n",
       "<small>shape: (15, 5)</small><table border=\"1\" class=\"dataframe\"><thead><tr><th>type</th><th>name</th><th>suffix</th><th>size MB</th><th>size GB</th></tr><tr><td>str</td><td>str</td><td>str</td><td>i64</td><td>f64</td></tr></thead><tbody><tr><td>&quot;ephys&quot;</td><td>&quot;Record Node 104&quot;</td><td>&quot;&quot;</td><td>515728</td><td>503.6</td></tr><tr><td>&quot;ephys&quot;</td><td>&quot;Record Node 108&quot;</td><td>&quot;&quot;</td><td>515730</td><td>503.6</td></tr><tr><td>null</td><td>&quot;exp&quot;</td><td>&quot;&quot;</td><td>35</td><td>0.0</td></tr><tr><td>&quot;sync&quot;</td><td>&quot;20241015T125742&quot;</td><td>&quot;.h5&quot;</td><td>44</td><td>0.0</td></tr><tr><td>&quot;stim&quot;</td><td>&quot;DynamicRouting1_741148_2024101…</td><td>&quot;.hdf5&quot;</td><td>48</td><td>0.0</td></tr><tr><td>&quot;stim&quot;</td><td>&quot;RFMapping_741148_20241015_1255…</td><td>&quot;.hdf5&quot;</td><td>0</td><td>0.0</td></tr><tr><td>&quot;stim&quot;</td><td>&quot;RFMapping_741148_20241015_1258…</td><td>&quot;.hdf5&quot;</td><td>40</td><td>0.0</td></tr><tr><td>&quot;stim&quot;</td><td>&quot;SpontaneousRewards_741148_2024…</td><td>&quot;.hdf5&quot;</td><td>0</td><td>0.0</td></tr><tr><td>&quot;stim&quot;</td><td>&quot;SpontaneousRewards_741148_2024…</td><td>&quot;.hdf5&quot;</td><td>0</td><td>0.0</td></tr><tr><td>&quot;stim&quot;</td><td>&quot;Spontaneous_741148_20241015_12…</td><td>&quot;.hdf5&quot;</td><td>0</td><td>0.0</td></tr><tr><td>&quot;stim&quot;</td><td>&quot;Spontaneous_741148_20241015_13…</td><td>&quot;.hdf5&quot;</td><td>0</td><td>0.0</td></tr><tr><td>&quot;stim&quot;</td><td>&quot;Spontaneous_741148_20241015_14…</td><td>&quot;.hdf5&quot;</td><td>0</td><td>0.0</td></tr><tr><td>&quot;video&quot;</td><td>&quot;Behavior_20241015T125756&quot;</td><td>&quot;.mp4&quot;</td><td>1670</td><td>1.6</td></tr><tr><td>&quot;video&quot;</td><td>&quot;Eye_20241015T125756&quot;</td><td>&quot;.mp4&quot;</td><td>1670</td><td>1.6</td></tr><tr><td>&quot;video&quot;</td><td>&quot;Face_20241015T125757&quot;</td><td>&quot;.mp4&quot;</td><td>1670</td><td>1.6</td></tr></tbody></table></div>"
      ],
      "text/plain": [
       "shape: (15, 5)\n",
       "┌───────┬─────────────────────────────────┬────────┬─────────┬─────────┐\n",
       "│ type  ┆ name                            ┆ suffix ┆ size MB ┆ size GB │\n",
       "│ ---   ┆ ---                             ┆ ---    ┆ ---     ┆ ---     │\n",
       "│ str   ┆ str                             ┆ str    ┆ i64     ┆ f64     │\n",
       "╞═══════╪═════════════════════════════════╪════════╪═════════╪═════════╡\n",
       "│ ephys ┆ Record Node 104                 ┆        ┆ 515728  ┆ 503.6   │\n",
       "│ ephys ┆ Record Node 108                 ┆        ┆ 515730  ┆ 503.6   │\n",
       "│ null  ┆ exp                             ┆        ┆ 35      ┆ 0.0     │\n",
       "│ sync  ┆ 20241015T125742                 ┆ .h5    ┆ 44      ┆ 0.0     │\n",
       "│ stim  ┆ DynamicRouting1_741148_2024101… ┆ .hdf5  ┆ 48      ┆ 0.0     │\n",
       "│ stim  ┆ RFMapping_741148_20241015_1255… ┆ .hdf5  ┆ 0       ┆ 0.0     │\n",
       "│ stim  ┆ RFMapping_741148_20241015_1258… ┆ .hdf5  ┆ 40      ┆ 0.0     │\n",
       "│ stim  ┆ SpontaneousRewards_741148_2024… ┆ .hdf5  ┆ 0       ┆ 0.0     │\n",
       "│ stim  ┆ SpontaneousRewards_741148_2024… ┆ .hdf5  ┆ 0       ┆ 0.0     │\n",
       "│ stim  ┆ Spontaneous_741148_20241015_12… ┆ .hdf5  ┆ 0       ┆ 0.0     │\n",
       "│ stim  ┆ Spontaneous_741148_20241015_13… ┆ .hdf5  ┆ 0       ┆ 0.0     │\n",
       "│ stim  ┆ Spontaneous_741148_20241015_14… ┆ .hdf5  ┆ 0       ┆ 0.0     │\n",
       "│ video ┆ Behavior_20241015T125756        ┆ .mp4   ┆ 1670    ┆ 1.6     │\n",
       "│ video ┆ Eye_20241015T125756             ┆ .mp4   ┆ 1670    ┆ 1.6     │\n",
       "│ video ┆ Face_20241015T125757            ┆ .mp4   ┆ 1670    ┆ 1.6     │\n",
       "└───────┴─────────────────────────────────┴────────┴─────────┴─────────┘"
      ]
     },
     "metadata": {},
     "output_type": "display_data"
    },
    {
     "name": "stdout",
     "output_type": "stream",
     "text": [
      "\n",
      "\\\\allen\\programs\\mindscope\\workgroups\\dynamicrouting\\PilotEphys\\Task 2 pilot\\DRpilot_716718_20240802:\n"
     ]
    },
    {
     "data": {
      "text/html": [
       "<div><style>\n",
       ".dataframe > thead > tr,\n",
       ".dataframe > tbody > tr {\n",
       "  text-align: right;\n",
       "  white-space: pre-wrap;\n",
       "}\n",
       "</style>\n",
       "<small>shape: (8, 5)</small><table border=\"1\" class=\"dataframe\"><thead><tr><th>type</th><th>name</th><th>suffix</th><th>size MB</th><th>size GB</th></tr><tr><td>str</td><td>str</td><td>str</td><td>i64</td><td>f64</td></tr></thead><tbody><tr><td>&quot;ephys&quot;</td><td>&quot;Record Node 104&quot;</td><td>&quot;&quot;</td><td>271017</td><td>264.7</td></tr><tr><td>&quot;ephys&quot;</td><td>&quot;Record Node 108&quot;</td><td>&quot;&quot;</td><td>271018</td><td>264.7</td></tr><tr><td>null</td><td>&quot;exp&quot;</td><td>&quot;&quot;</td><td>12</td><td>0.0</td></tr><tr><td>&quot;sync&quot;</td><td>&quot;20240802T123423&quot;</td><td>&quot;.h5&quot;</td><td>22</td><td>0.0</td></tr><tr><td>&quot;stim&quot;</td><td>&quot;DynamicRouting1_716718_2024080…</td><td>&quot;.hdf5&quot;</td><td>48</td><td>0.0</td></tr><tr><td>&quot;video&quot;</td><td>&quot;Behavior_20240802T123437&quot;</td><td>&quot;.mp4&quot;</td><td>876</td><td>0.9</td></tr><tr><td>&quot;video&quot;</td><td>&quot;Eye_20240802T123437&quot;</td><td>&quot;.mp4&quot;</td><td>879</td><td>0.9</td></tr><tr><td>&quot;video&quot;</td><td>&quot;Face_20240802T123437&quot;</td><td>&quot;.mp4&quot;</td><td>878</td><td>0.9</td></tr></tbody></table></div>"
      ],
      "text/plain": [
       "shape: (8, 5)\n",
       "┌───────┬─────────────────────────────────┬────────┬─────────┬─────────┐\n",
       "│ type  ┆ name                            ┆ suffix ┆ size MB ┆ size GB │\n",
       "│ ---   ┆ ---                             ┆ ---    ┆ ---     ┆ ---     │\n",
       "│ str   ┆ str                             ┆ str    ┆ i64     ┆ f64     │\n",
       "╞═══════╪═════════════════════════════════╪════════╪═════════╪═════════╡\n",
       "│ ephys ┆ Record Node 104                 ┆        ┆ 271017  ┆ 264.7   │\n",
       "│ ephys ┆ Record Node 108                 ┆        ┆ 271018  ┆ 264.7   │\n",
       "│ null  ┆ exp                             ┆        ┆ 12      ┆ 0.0     │\n",
       "│ sync  ┆ 20240802T123423                 ┆ .h5    ┆ 22      ┆ 0.0     │\n",
       "│ stim  ┆ DynamicRouting1_716718_2024080… ┆ .hdf5  ┆ 48      ┆ 0.0     │\n",
       "│ video ┆ Behavior_20240802T123437        ┆ .mp4   ┆ 876     ┆ 0.9     │\n",
       "│ video ┆ Eye_20240802T123437             ┆ .mp4   ┆ 879     ┆ 0.9     │\n",
       "│ video ┆ Face_20240802T123437            ┆ .mp4   ┆ 878     ┆ 0.9     │\n",
       "└───────┴─────────────────────────────────┴────────┴─────────┴─────────┘"
      ]
     },
     "metadata": {},
     "output_type": "display_data"
    }
   ],
   "source": [
    "for folder in table.selected_dataframe[\"folder\"].to_list():\n",
    "    print(f\"\\n{utils.EPHYS / folder}:\")\n",
    "    display(utils.get_folder_contents_df(folder).drop('folder'))"
   ]
  },
  {
   "cell_type": "markdown",
   "metadata": {},
   "source": [
    "---\n",
    "## Create bat file on desktop"
   ]
  },
  {
   "cell_type": "code",
   "execution_count": null,
   "metadata": {},
   "outputs": [],
   "source": [
    "utils.create_bat_file(table.selected_dataframe[\"folder\"].to_list())"
   ]
  },
  {
   "cell_type": "markdown",
   "metadata": {},
   "source": [
    "## Find `upload_s3.bat` on Desktop, right-click and `Run as administrator`\n",
    "- a command window should open\n",
    "- sessions will start processing one at a time (~2 minutes each to arrange files\n",
    "  and create metadata for upload)\n",
    "- each session is then submitted to the hpc for actual upload - progress can be\n",
    "  checked here: http://aind-data-transfer-service/jobs\n",
    "- if a session upload fails on the `check_s3_folder_exist` task, open the .bat\n",
    "  file and add `--force` to the end of its line"
   ]
  },
  {
   "cell_type": "markdown",
   "metadata": {},
   "source": [
    "---\n",
    "## While uploads are running, save config for each session uploaded"
   ]
  },
  {
   "cell_type": "code",
   "execution_count": null,
   "metadata": {},
   "outputs": [],
   "source": [
    "import importlib\n",
    "importlib.reload(utils)"
   ]
  },
  {
   "cell_type": "code",
   "execution_count": null,
   "metadata": {},
   "outputs": [],
   "source": [
    "utils.display_config_widgets(table.selected_dataframe[\"folder\"].to_list())"
   ]
  },
  {
   "cell_type": "markdown",
   "metadata": {},
   "source": [
    "# Add metadata for any other sessions that need it "
   ]
  },
  {
   "cell_type": "code",
   "execution_count": null,
   "metadata": {},
   "outputs": [],
   "source": [
    "utils.display_config_widgets(utils.get_folders_with_no_metadata())"
   ]
  },
  {
   "cell_type": "code",
   "execution_count": null,
   "metadata": {},
   "outputs": [],
   "source": [
    "%debug"
   ]
  }
 ],
 "metadata": {
  "kernelspec": {
   "display_name": ".venv",
   "language": "python",
   "name": "python3"
  },
  "language_info": {
   "codemirror_mode": {
    "name": "ipython",
    "version": 3
   },
   "file_extension": ".py",
   "mimetype": "text/x-python",
   "name": "python",
   "nbconvert_exporter": "python",
   "pygments_lexer": "ipython3",
   "version": "3.11.3"
  }
 },
 "nbformat": 4,
 "nbformat_minor": 2
}
