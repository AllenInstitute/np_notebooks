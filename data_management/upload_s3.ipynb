{
 "cells": [
  {
   "cell_type": "code",
   "execution_count": 5,
   "metadata": {},
   "outputs": [],
   "source": [
    "%load_ext autoreload\n",
    "%autoreload 2\n",
    "\n",
    "import os\n",
    "import np_codeocean\n",
    "os.environ['CODEOCEAN_API'] = np_codeocean.CODEOCEAN_CONFIG['token']\n",
    "\n",
    "import numpy as np\n",
    "import np_tools\n",
    "import pandas as pd\n",
    "import polars as pl\n",
    "import panel as pn\n",
    "import IPython\n",
    "\n",
    "import utils\n",
    "\n",
    "pl.Config.set_tbl_rows(-1);\n",
    "\n",
    "# utils.hide_tracebacks(); # show_tracebacks() to toggle on"
   ]
  },
  {
   "cell_type": "markdown",
   "metadata": {},
   "source": [
    "## Select sessions for upload"
   ]
  },
  {
   "cell_type": "code",
   "execution_count": 2,
   "metadata": {},
   "outputs": [
    {
     "name": "stderr",
     "output_type": "stream",
     "text": [
      "No records found for 'ecephys_644864_2023-01-30_16-39-35' in DocumentDB\n",
      "Found 2 raw data assets for ecephys_664851_2023-11-14_12-44-33: latest asset will be used (created='2023-12-14T21:10:42')\n",
      "Found 2 raw data assets for ecephys_716718_2024-08-02_12-34-23: latest asset will be used (created='2024-08-19T14:37:40')\n",
      "Found 2 raw data assets for ecephys_716718_2024-07-30_17-06-33: latest asset will be used (created='2024-08-19T14:27:33')\n",
      "Found 2 raw data assets for ecephys_708016_2024-04-30_12-58-28: latest asset will be used (created='2024-06-13T18:28:56')\n",
      "Found 3 raw data assets for ecephys_715710_2024-07-15_13-41-08: latest asset will be used (created='2024-07-17T23:08:50')\n",
      "Found 2 raw data assets for ecephys_686176_2023-12-06_13-03-34: latest asset will be used (created='2023-12-17T22:35:56')\n",
      "Multiple records found for 'ecephys_702131_2024-02-26_15-36-14' in DocumentDB: returning most-recently created\n",
      "Found 2 raw data assets for ecephys_708016_2024-04-29_12-59-12: latest asset will be used (created='2024-07-17T23:14:37')\n",
      "Found 2 raw data assets for ecephys_716718_2024-07-31_15-21-30: latest asset will be used (created='2024-08-19T13:35:02')\n",
      "Found 2 raw data assets for ecephys_715709_2024-08-09_10-39-36: latest asset will be used (created='2024-08-19T13:18:16')\n",
      "Multiple records found for 'ecephys_702136_2024-03-04_13-21-35' in DocumentDB: returning most-recently created\n",
      "Found 2 raw data assets for ecephys_703333_2024-04-09_13-06-44: latest asset will be used (created='2024-04-24T21:59:12')\n",
      "Found 2 raw data assets for ecephys_702136_2024-03-04_13-21-35: latest asset will be used (created='2024-06-26T23:20:16')\n",
      "Found 3 raw data assets for ecephys_712141_2024-06-11_11-50-06: latest asset will be used (created='2024-07-02T19:36:16')\n",
      "Found 3 raw data assets for ecephys_674562_2023-10-02_14-53-25: latest asset will be used (created='2024-03-09T08:17:23')\n",
      "Found 2 raw data assets for ecephys_644866_2023-02-08_16-01-11: latest asset will be used (created='2023-10-11T22:11:49')\n",
      "Found 2 raw data assets for ecephys_714753_2024-07-02_12-45-32: latest asset will be used (created='2024-07-03T22:29:10')\n",
      "No records found for 'ecephys_699847_2024-04-18_15-51-34' in DocumentDB\n",
      "Found 3 raw data assets for ecephys_703880_2024-04-16_14-33-57: latest asset will be used (created='2024-07-02T22:46:10')\n",
      "Found 2 raw data assets for ecephys_708016_2024-05-02_12-19-12: latest asset will be used (created='2024-07-02T21:58:18')\n",
      "Multiple records found for 'ecephys_644866_2023-02-07_17-08-15' in DocumentDB: returning most-recently created\n",
      "Found 2 raw data assets for ecephys_644866_2023-02-07_17-08-15: latest asset will be used (created='2024-03-28T16:34:11')\n"
     ]
    },
    {
     "data": {
      "application/vnd.jupyter.widget-view+json": {
       "model_id": "e7befb750bff47319209b6903d8e9d25",
       "version_major": 2,
       "version_minor": 0
      },
      "text/plain": [
       "BokehModel(combine_events=True, render_bundle={'docs_json': {'5444e4bd-26b6-43e6-a9c8-96c7aaa5dd4c': {'version…"
      ]
     },
     "execution_count": 2,
     "metadata": {},
     "output_type": "execute_result"
    }
   ],
   "source": [
    "table = utils.get_folder_table()\n",
    "table"
   ]
  },
  {
   "cell_type": "markdown",
   "metadata": {},
   "source": [
    "## Automatic check for missing data\n",
    "- if anything is marked as missing, make sure it's expected \n",
    "- uncheck any sessions that need to be skipped"
   ]
  },
  {
   "cell_type": "code",
   "execution_count": 12,
   "metadata": {},
   "outputs": [
    {
     "name": "stdout",
     "output_type": "stream",
     "text": [
      "DRpilot_728916_20240830 missing data:\n",
      "\t['ephys']\n",
      "\\\\allen\\programs\\mindscope\\workgroups\\dynamicrouting\\PilotEphys\\Task 2 pilot\\DRpilot_728916_20240830\n",
      "DRpilot_733780_20240903_surface_channels missing data:\n",
      "\t['ephys']\n",
      "\\\\allen\\programs\\mindscope\\workgroups\\dynamicrouting\\PilotEphys\\Task 2 pilot\\DRpilot_733780_20240903_surface_channels\n",
      "DRpilot_736208_20240903 appears ready for upload\n"
     ]
    }
   ],
   "source": [
    "utils.validate_folder_contents(table.selected_dataframe[\"folder\"].to_list())"
   ]
  },
  {
   "cell_type": "markdown",
   "metadata": {},
   "source": [
    "## Manual check session folder contents\n",
    "- non-critical data not shown"
   ]
  },
  {
   "cell_type": "code",
   "execution_count": 25,
   "metadata": {},
   "outputs": [
    {
     "name": "stdout",
     "output_type": "stream",
     "text": [
      "\\\\allen\\programs\\mindscope\\workgroups\\dynamicrouting\\PilotEphys\\Task 2 pilot\\DRpilot_733780_20240903_surface_channels :\n"
     ]
    },
    {
     "data": {
      "text/html": [
       "<div><style>\n",
       ".dataframe > thead > tr,\n",
       ".dataframe > tbody > tr {\n",
       "  text-align: right;\n",
       "  white-space: pre-wrap;\n",
       "}\n",
       "</style>\n",
       "<small>shape: (2, 5)</small><table border=\"1\" class=\"dataframe\"><thead><tr><th>type</th><th>name</th><th>suffix</th><th>size MB</th><th>size GB</th></tr><tr><td>str</td><td>str</td><td>str</td><td>i64</td><td>f64</td></tr></thead><tbody><tr><td>&quot;ephys&quot;</td><td>&quot;Record Node 104&quot;</td><td>null</td><td>22153</td><td>21.6</td></tr><tr><td>&quot;ephys&quot;</td><td>&quot;Record Node 108&quot;</td><td>null</td><td>22155</td><td>21.6</td></tr></tbody></table></div>"
      ],
      "text/plain": [
       "shape: (2, 5)\n",
       "┌───────┬─────────────────┬────────┬─────────┬─────────┐\n",
       "│ type  ┆ name            ┆ suffix ┆ size MB ┆ size GB │\n",
       "│ ---   ┆ ---             ┆ ---    ┆ ---     ┆ ---     │\n",
       "│ str   ┆ str             ┆ str    ┆ i64     ┆ f64     │\n",
       "╞═══════╪═════════════════╪════════╪═════════╪═════════╡\n",
       "│ ephys ┆ Record Node 104 ┆ null   ┆ 22153   ┆ 21.6    │\n",
       "│ ephys ┆ Record Node 108 ┆ null   ┆ 22155   ┆ 21.6    │\n",
       "└───────┴─────────────────┴────────┴─────────┴─────────┘"
      ]
     },
     "metadata": {},
     "output_type": "display_data"
    },
    {
     "name": "stdout",
     "output_type": "stream",
     "text": [
      "\\\\allen\\programs\\mindscope\\workgroups\\dynamicrouting\\PilotEphys\\Task 2 pilot\\DRpilot_728916_20240830 :\n"
     ]
    },
    {
     "data": {
      "text/html": [
       "<div><style>\n",
       ".dataframe > thead > tr,\n",
       ".dataframe > tbody > tr {\n",
       "  text-align: right;\n",
       "  white-space: pre-wrap;\n",
       "}\n",
       "</style>\n",
       "<small>shape: (5, 5)</small><table border=\"1\" class=\"dataframe\"><thead><tr><th>type</th><th>name</th><th>suffix</th><th>size MB</th><th>size GB</th></tr><tr><td>str</td><td>str</td><td>str</td><td>i64</td><td>f64</td></tr></thead><tbody><tr><td>&quot;sync&quot;</td><td>&quot;20240830T134640&quot;</td><td>&quot;.h5&quot;</td><td>23</td><td>0.0</td></tr><tr><td>&quot;stim&quot;</td><td>&quot;DynamicRouting1_728916_2024083…</td><td>&quot;.hdf5&quot;</td><td>52</td><td>0.1</td></tr><tr><td>&quot;video&quot;</td><td>&quot;Behavior_20240830T134654&quot;</td><td>&quot;.mp4&quot;</td><td>872</td><td>0.9</td></tr><tr><td>&quot;video&quot;</td><td>&quot;Eye_20240830T134654&quot;</td><td>&quot;.mp4&quot;</td><td>871</td><td>0.9</td></tr><tr><td>&quot;video&quot;</td><td>&quot;Face_20240830T134654&quot;</td><td>&quot;.mp4&quot;</td><td>873</td><td>0.9</td></tr></tbody></table></div>"
      ],
      "text/plain": [
       "shape: (5, 5)\n",
       "┌───────┬─────────────────────────────────┬────────┬─────────┬─────────┐\n",
       "│ type  ┆ name                            ┆ suffix ┆ size MB ┆ size GB │\n",
       "│ ---   ┆ ---                             ┆ ---    ┆ ---     ┆ ---     │\n",
       "│ str   ┆ str                             ┆ str    ┆ i64     ┆ f64     │\n",
       "╞═══════╪═════════════════════════════════╪════════╪═════════╪═════════╡\n",
       "│ sync  ┆ 20240830T134640                 ┆ .h5    ┆ 23      ┆ 0.0     │\n",
       "│ stim  ┆ DynamicRouting1_728916_2024083… ┆ .hdf5  ┆ 52      ┆ 0.1     │\n",
       "│ video ┆ Behavior_20240830T134654        ┆ .mp4   ┆ 872     ┆ 0.9     │\n",
       "│ video ┆ Eye_20240830T134654             ┆ .mp4   ┆ 871     ┆ 0.9     │\n",
       "│ video ┆ Face_20240830T134654            ┆ .mp4   ┆ 873     ┆ 0.9     │\n",
       "└───────┴─────────────────────────────────┴────────┴─────────┴─────────┘"
      ]
     },
     "metadata": {},
     "output_type": "display_data"
    },
    {
     "name": "stdout",
     "output_type": "stream",
     "text": [
      "\\\\allen\\programs\\mindscope\\workgroups\\dynamicrouting\\PilotEphys\\Task 2 pilot\\DRpilot_736208_20240903 :\n"
     ]
    },
    {
     "data": {
      "text/html": [
       "<div><style>\n",
       ".dataframe > thead > tr,\n",
       ".dataframe > tbody > tr {\n",
       "  text-align: right;\n",
       "  white-space: pre-wrap;\n",
       "}\n",
       "</style>\n",
       "<small>shape: (10, 5)</small><table border=\"1\" class=\"dataframe\"><thead><tr><th>type</th><th>name</th><th>suffix</th><th>size MB</th><th>size GB</th></tr><tr><td>str</td><td>str</td><td>str</td><td>i64</td><td>f64</td></tr></thead><tbody><tr><td>&quot;ephys&quot;</td><td>&quot;Record Node 101&quot;</td><td>null</td><td>357893</td><td>349.5</td></tr><tr><td>&quot;ephys&quot;</td><td>&quot;Record Node 103&quot;</td><td>null</td><td>357893</td><td>349.5</td></tr><tr><td>&quot;folder&quot;</td><td>&quot;exp&quot;</td><td>null</td><td>1</td><td>0.0</td></tr><tr><td>&quot;sync&quot;</td><td>&quot;20240903T152907&quot;</td><td>&quot;.h5&quot;</td><td>33</td><td>0.0</td></tr><tr><td>&quot;stim&quot;</td><td>&quot;DynamicRouting1_736208_2024090…</td><td>&quot;.hdf5&quot;</td><td>47</td><td>0.0</td></tr><tr><td>&quot;stim&quot;</td><td>&quot;SpontaneousRewards_736208_2024…</td><td>&quot;.hdf5&quot;</td><td>0</td><td>0.0</td></tr><tr><td>&quot;stim&quot;</td><td>&quot;SpontaneousRewards_736208_2024…</td><td>&quot;.hdf5&quot;</td><td>0</td><td>0.0</td></tr><tr><td>&quot;video&quot;</td><td>&quot;Behavior_20240903T152920&quot;</td><td>&quot;.mp4&quot;</td><td>1174</td><td>1.1</td></tr><tr><td>&quot;video&quot;</td><td>&quot;Eye_20240903T152921&quot;</td><td>&quot;.mp4&quot;</td><td>1174</td><td>1.1</td></tr><tr><td>&quot;video&quot;</td><td>&quot;Face_20240903T152921&quot;</td><td>&quot;.mp4&quot;</td><td>1174</td><td>1.1</td></tr></tbody></table></div>"
      ],
      "text/plain": [
       "shape: (10, 5)\n",
       "┌────────┬─────────────────────────────────┬────────┬─────────┬─────────┐\n",
       "│ type   ┆ name                            ┆ suffix ┆ size MB ┆ size GB │\n",
       "│ ---    ┆ ---                             ┆ ---    ┆ ---     ┆ ---     │\n",
       "│ str    ┆ str                             ┆ str    ┆ i64     ┆ f64     │\n",
       "╞════════╪═════════════════════════════════╪════════╪═════════╪═════════╡\n",
       "│ ephys  ┆ Record Node 101                 ┆ null   ┆ 357893  ┆ 349.5   │\n",
       "│ ephys  ┆ Record Node 103                 ┆ null   ┆ 357893  ┆ 349.5   │\n",
       "│ folder ┆ exp                             ┆ null   ┆ 1       ┆ 0.0     │\n",
       "│ sync   ┆ 20240903T152907                 ┆ .h5    ┆ 33      ┆ 0.0     │\n",
       "│ stim   ┆ DynamicRouting1_736208_2024090… ┆ .hdf5  ┆ 47      ┆ 0.0     │\n",
       "│ stim   ┆ SpontaneousRewards_736208_2024… ┆ .hdf5  ┆ 0       ┆ 0.0     │\n",
       "│ stim   ┆ SpontaneousRewards_736208_2024… ┆ .hdf5  ┆ 0       ┆ 0.0     │\n",
       "│ video  ┆ Behavior_20240903T152920        ┆ .mp4   ┆ 1174    ┆ 1.1     │\n",
       "│ video  ┆ Eye_20240903T152921             ┆ .mp4   ┆ 1174    ┆ 1.1     │\n",
       "│ video  ┆ Face_20240903T152921            ┆ .mp4   ┆ 1174    ┆ 1.1     │\n",
       "└────────┴─────────────────────────────────┴────────┴─────────┴─────────┘"
      ]
     },
     "metadata": {},
     "output_type": "display_data"
    }
   ],
   "source": [
    "for groups, session_df in utils.get_folder_contents_df(table.selected_dataframe[\"folder\"].to_list()).group_by([\"folder\"]):\n",
    "    print(utils.EPHYS / groups[0], ':')\n",
    "    display(session_df.drop(\"folder\"))"
   ]
  },
  {
   "cell_type": "markdown",
   "metadata": {},
   "source": [
    "Add metadata (with read from np_codeocean)\n",
    "- probes to skip\n",
    "- day of experiment (starting at 1)\n",
    "- is_production\n",
    "- is_injection_perturbation\n",
    "- is_opto_perturbation\n",
    "- session type\n",
    "    - ephys\n",
    "    - behavior with sync\n",
    "- project\n",
    "    - TempletonPilotSession\n",
    "    - DynamicRouting"
   ]
  },
  {
   "cell_type": "markdown",
   "metadata": {},
   "source": [
    "Export yaml data to np_codeocean"
   ]
  },
  {
   "cell_type": "code",
   "execution_count": 106,
   "metadata": {},
   "outputs": [
    {
     "data": {
      "application/vnd.jupyter.widget-view+json": {
       "model_id": "9f719403b7144f81a745b6a5af2aa329",
       "version_major": 2,
       "version_minor": 0
      },
      "text/plain": [
       "ConfigWidget(children=(HBox(children=(GridBox(children=(Text(value='DRpilot_728916_20240830', description='fol…"
      ]
     },
     "metadata": {},
     "output_type": "display_data"
    },
    {
     "data": {
      "application/vnd.jupyter.widget-view+json": {
       "model_id": "19ee6b9eed3e44a8b369026f10dd7d3a",
       "version_major": 2,
       "version_minor": 0
      },
      "text/plain": [
       "ConfigWidget(children=(HBox(children=(GridBox(children=(Text(value='DRpilot_736208_20240903', description='fol…"
      ]
     },
     "metadata": {},
     "output_type": "display_data"
    }
   ],
   "source": [
    "\n",
    "\n",
    "from logging import config\n",
    "import pathlib\n",
    "from turtle import width\n",
    "from typing import Any, Literal, Optional, Self\n",
    "import ipywidgets as ipw\n",
    "import yaml\n",
    "import pydantic\n",
    "\n",
    "class Config(pydantic.BaseModel):\n",
    "    folder: str\n",
    "    ephys_day: Optional[int] = pydantic.Field(default=None, description=\"Day of ephys recording (starting at 1)\", gt=0)\n",
    "    probe_letters_to_skip: Optional[str] = pydantic.Field(default=None, description=\"Probe letters that weren't inserted or had issues; will be skipped from all further processing (e.g. 'ABC')\")\n",
    "    surface_recording_probe_letters_to_skip: Optional[str] = pydantic.Field(default=None, description=\"Probe letters that weren't deep insertions; will be skipped from surface channel processing (e.g. 'ABC')\")\n",
    "    is_production: Optional[bool] = pydantic.Field(default=None, description=\"Set to false if this is a test/dev session\")\n",
    "    is_injection_perturbation: Optional[bool] = pydantic.Field(default=None, description=\"Injection perturbation or control session\")\n",
    "    is_opto_perturbation: Optional[bool] = pydantic.Field(default=None, description=\"Optogenetic perturbation or control session\")\n",
    "    session_type: Literal[\"ephys\", \"behavior_with_sync\"] = pydantic.Field(default=\"ephys\", description=\"Type of session: ephys or behavior_with_sync\")\n",
    "    project: Literal[\"DynamicRouting\", \"TempletonPilotSession\"] = pydantic.Field(default=\"DynamicRouting\", description=\"Project name: DynamicRouting or TempletonPilotSession\")\n",
    "    \n",
    "    @pydantic.field_validator('probe_letters_to_skip', 'surface_recording_probe_letters_to_skip', mode=\"before\")\n",
    "    def cast_to_upper_case(cls, v):\n",
    "        return v.upper() if isinstance(v, str) else v\n",
    "    \n",
    "    def to_yaml(self) -> str:\n",
    "        data = self.model_dump()\n",
    "        return yaml.dump(\n",
    "            {\n",
    "                data.pop(\"session_type\"): \n",
    "                    {\n",
    "                        data.pop(\"project\"): [\n",
    "                            {\n",
    "                                f\"//allen/programs/mindscope/workgroups/dynamicrouting/PilotEphys/Task 2 pilot/{data.pop('folder')}\":\n",
    "                                {k: v for k, v in data.items() if v is not None}\n",
    "                            }\n",
    "                        ]\n",
    "                    }\n",
    "            }\n",
    "        )\n",
    "    \n",
    "    @classmethod\n",
    "    def from_yaml(cls, data: str) -> Self:\n",
    "        session_type, project_to_data = next(iter(yaml.safe_load(data).items()))\n",
    "        project, data = next(iter(project_to_data.items()))\n",
    "        path, data = next(iter(data[0].items()))\n",
    "        config = {}\n",
    "        config.update({\"session_type\": session_type, \"project\": project, \"folder\": pathlib.Path(path).name, **data})\n",
    "        return cls(**config)\n",
    "        \n",
    "class ConfigWidget(ipw.VBox):\n",
    "    \n",
    "    config: Config\n",
    "\n",
    "    def __init__(self, data: dict[str, Any], **vbox_kwargs):\n",
    "        self.session_folder = data[\"folder\"]\n",
    "        self.config = Config(**data)\n",
    "        self.console = ipw.Output()\n",
    "        self.update_with_previous_data()\n",
    "        \n",
    "        self.text_entry_boxes = {\n",
    "            name: ipw.Text(\n",
    "                description=name,\n",
    "                placeholder=self.get_hint(name, field),\n",
    "                tooltip=field.description or name,\n",
    "                continuous_update=True,\n",
    "                layout=ipw.Layout(width=\"100%\"),\n",
    "                value=str(getattr(self.config, name)) if getattr(self.config, name) is not None else \"\",\n",
    "            )\n",
    "            for name, field in self.config.model_fields.items()\n",
    "        }\n",
    "        self.text_entry_grid = ipw.GridBox(\n",
    "            list(self.text_entry_boxes.values()),\n",
    "        )\n",
    "        self.save_button = ipw.Button(\n",
    "            description=\"Save\",\n",
    "            button_style=\"warning\",\n",
    "            layout=ipw.Layout(width=\"30%\"),\n",
    "            tooltip=\"Save yaml config for this session\",\n",
    "        )\n",
    "        def on_save_click(widget):\n",
    "            self.save()\n",
    "            widget.button_style = \"success\"\n",
    "        self.save_button.on_click(on_save_click)\n",
    "\n",
    "        super().__init__(\n",
    "            [ipw.HBox([self.text_entry_grid]), self.save_button, self.console],\n",
    "            **vbox_kwargs,\n",
    "        )\n",
    "        \n",
    "    @property\n",
    "    def yaml_path(self):\n",
    "        return utils.UPLOAD / self.session_folder / \"tracked_sessions.yaml\"\n",
    "    \n",
    "    @staticmethod\n",
    "    def get_hint(name: str, field: pydantic.Field) -> str:\n",
    "        if name == \"start_time\":\n",
    "            return \"[required] YYYY-MM-DD HH:MM\"\n",
    "        return f\"{'[required]' if field.is_required() else ''}\"\n",
    "    \n",
    "    \n",
    "    def update_with_previous_data(self) -> None:\n",
    "        if self.yaml_path.exists():\n",
    "            self.config = Config.from_yaml(self.yaml_path.read_text())\n",
    "    \n",
    "    def save(self) -> None:\n",
    "        with self.console:\n",
    "            data = Config(\n",
    "                **{\n",
    "                    name: box.value if box.value != \"\" else None\n",
    "                    for name, box in self.text_entry_boxes.items()\n",
    "                },\n",
    "            )\n",
    "            if self.yaml_path.exists():\n",
    "                print(f\"Overwriting {self.yaml_path}\")\n",
    "            else:\n",
    "                self.yaml_path.parent.mkdir(parents=True, exist_ok=True)\n",
    "                print(f\"Saving to {self.yaml_path}\")\n",
    "            self.yaml_path.write_text(data.to_yaml())\n",
    "            print(\"Done\")\n",
    "    \n",
    "df_with_day = (\n",
    "    pl.DataFrame(table._get_data()[0])\n",
    "    .sort(\"date\", descending=False)\n",
    "    # .filter(pl.col(\"ephys\"))\n",
    "    .with_columns(\n",
    "        pl.when(pl.col(\"ephys\").eq(True))\n",
    "        .then(pl.col(\"date\").cum_count().over(pl.col(\"ephys\"), pl.col(\"subject\")))\n",
    "        .otherwise(pl.lit(None))\n",
    "        .alias(\"ephys day\")\n",
    "    )\n",
    "    .sort(\"date\", \"subject\", descending=True)\n",
    ")\n",
    "\n",
    "\n",
    "records = []\n",
    "for folder in table.selected_dataframe[\"folder\"].to_list():\n",
    "    if \"surface_channel\" in folder:\n",
    "        continue # metadata for surface channel is same as main session folder\n",
    "    row = df_with_day.filter(pl.col(\"folder\") == folder)\n",
    "    display(\n",
    "        ConfigWidget(\n",
    "            dict(\n",
    "                folder=folder,\n",
    "                ephys_day=row[\"ephys day\"][0],\n",
    "                probe_letters_to_skip=\"\",\n",
    "                surface_recording_probe_letters_to_skip=\"\",\n",
    "                is_production=True,\n",
    "                is_injection_perturbation=False,\n",
    "                is_opto_perturbation=False,\n",
    "                session_type=\"ephys\" if row[\"ephys\"][0] else \"behavior_with_sync\",\n",
    "                project=\"DynamicRouting\",\n",
    "            )\n",
    "        )\n",
    "    );"
   ]
  }
 ],
 "metadata": {
  "kernelspec": {
   "display_name": ".venv",
   "language": "python",
   "name": "python3"
  },
  "language_info": {
   "codemirror_mode": {
    "name": "ipython",
    "version": 3
   },
   "file_extension": ".py",
   "mimetype": "text/x-python",
   "name": "python",
   "nbconvert_exporter": "python",
   "pygments_lexer": "ipython3",
   "version": "3.11.3"
  }
 },
 "nbformat": 4,
 "nbformat_minor": 2
}
