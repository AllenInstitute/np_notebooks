{
 "cells": [
  {
   "cell_type": "code",
   "execution_count": 2,
   "metadata": {},
   "outputs": [],
   "source": [
    "import np_tools\n",
    "import pathlib\n",
    "import npc_lims\n",
    "import npc_session"
   ]
  },
  {
   "cell_type": "code",
   "execution_count": 3,
   "metadata": {},
   "outputs": [],
   "source": [
    "SRC = pathlib.Path(\n",
    "    '//allen/programs/mindscope/workgroups/dynamicrouting/PilotEphys/Task 2 pilot'\n",
    ")\n",
    "\n",
    "MIN_TB_TO_MOVE = 20\n",
    "\n",
    "sessions_to_skip = sorted(\n",
    "    s.id for s in npc_lims.get_session_info()\n",
    "    if \"https://github.com/AllenInstitute/npc_lims/issues/5\" in s.issues\n",
    ")"
   ]
  },
  {
   "cell_type": "code",
   "execution_count": 8,
   "metadata": {},
   "outputs": [
    {
     "data": {
      "text/plain": [
       "['628801_2022-09-20',\n",
       " '670180_2023-07-25',\n",
       " '670181_2023-07-20',\n",
       " '681532_2023-10-19',\n",
       " '686176_2023-12-06',\n",
       " '702131_2024-02-27']"
      ]
     },
     "execution_count": 8,
     "metadata": {},
     "output_type": "execute_result"
    }
   ],
   "source": [
    "sessions_to_skip"
   ]
  },
  {
   "cell_type": "code",
   "execution_count": 4,
   "metadata": {},
   "outputs": [],
   "source": [
    "import concurrent.futures    \n",
    "import dataclasses\n",
    "\n",
    "@dataclasses.dataclass\n",
    "class Info:\n",
    "    size: float\n",
    "    path: pathlib.Path\n",
    "    date: str\n",
    "    session: npc_session.SessionRecord\n",
    "    \n",
    "def get_session_dir_info(session_dir):\n",
    "    if not session_dir.is_dir():\n",
    "        return None\n",
    "    try:\n",
    "        session = npc_session.SessionRecord(session_dir)\n",
    "    except:\n",
    "        return None\n",
    "    if session in sessions_to_skip:\n",
    "        return None\n",
    "    return Info(\n",
    "        size=np_tools.dir_size_gb(session_dir),\n",
    "        path=session_dir,\n",
    "        date=session.date,\n",
    "        session=session,\n",
    "    )\n",
    "    \n",
    "dirs = []\n",
    "with concurrent.futures.ThreadPoolExecutor() as executor:\n",
    "    for session in executor.map(get_session_dir_info, SRC.iterdir()):\n",
    "        if session:\n",
    "            dirs.append(session)"
   ]
  },
  {
   "cell_type": "code",
   "execution_count": 5,
   "metadata": {},
   "outputs": [
    {
     "data": {
      "text/plain": [
       "7628.800000000002"
      ]
     },
     "execution_count": 5,
     "metadata": {},
     "output_type": "execute_result"
    }
   ],
   "source": [
    "test_ephys_sessions = [d for d in dirs if d.size >= 10 and d.size <= 200]\n",
    "sum(t.size for t in test_ephys_sessions)"
   ]
  },
  {
   "cell_type": "code",
   "execution_count": 6,
   "metadata": {},
   "outputs": [
    {
     "name": "stdout",
     "output_type": "stream",
     "text": [
      "Submitted batch job 21568333\n",
      "Submitted batch job 21568337\n",
      "Submitted batch job 21568343\n",
      "Submitted batch job 21568345\n",
      "Submitted batch job 21568349\n",
      "Submitted batch job 21568350\n",
      "Submitted batch job 21568354\n",
      "Submitted batch job 21568355\n",
      "Submitted batch job 21568357\n",
      "Submitted batch job 21568360\n",
      "Submitted batch job 21568363\n",
      "Submitted batch job 21568365\n",
      "Submitted batch job 21568367\n",
      "Submitted batch job 21568376\n",
      "Submitted batch job 21568378\n",
      "Submitted batch job 21568382\n",
      "Submitted batch job 21568383\n",
      "Submitted batch job 21568384\n",
      "Submitted batch job 21568385\n",
      "Submitted batch job 21568388\n",
      "Submitted batch job 21568389\n",
      "Submitted batch job 21568390\n",
      "Submitted batch job 21568394\n",
      "Submitted batch job 21568403\n",
      "Submitted batch job 21568410\n",
      "Submitted batch job 21568417\n",
      "Submitted batch job 21568425\n",
      "Submitted batch job 21568432\n",
      "Submitted batch job 21568440\n",
      "Submitted batch job 21568447\n",
      "Submitted batch job 21568452\n",
      "Submitted batch job 21568485\n",
      "Submitted batch job 21568492\n",
      "Submitted batch job 21568498\n",
      "Submitted batch job 21568504\n",
      "Submitted batch job 21568513\n",
      "Submitted batch job 21568515\n",
      "Submitted batch job 21568516\n",
      "Submitted batch job 21568518\n",
      "Submitted batch job 21568519\n",
      "Submitted batch job 21568522\n",
      "Submitted batch job 21568525\n",
      "Submitted batch job 21568527\n",
      "Submitted batch job 21568537\n",
      "Submitted batch job 21568544\n",
      "Submitted batch job 21568552\n",
      "Submitted batch job 21568559\n",
      "Submitted batch job 21568567\n",
      "Submitted batch job 21568575\n",
      "Submitted batch job 21568591\n",
      "Submitted batch job 21568592\n",
      "Submitted batch job 21568593\n",
      "Submitted batch job 21568596\n",
      "Submitted batch job 21568598\n",
      "Submitted batch job 21568599\n",
      "Submitted batch job 21568602\n",
      "Submitted batch job 21568604\n",
      "Submitted batch job 21568607\n",
      "Submitted batch job 21568609\n",
      "Submitted batch job 21568610\n",
      "Submitted batch job 21568611\n",
      "Submitted batch job 21568612\n",
      "Submitted batch job 21568613\n",
      "Submitted batch job 21568614\n",
      "Submitted batch job 21568615\n",
      "Submitted batch job 21568616\n",
      "Submitted batch job 21568620\n",
      "Submitted batch job 21568628\n",
      "Submitted batch job 21568629\n",
      "Submitted batch job 21568631\n",
      "Submitted batch job 21568633\n",
      "Submitted batch job 21568634\n",
      "Submitted batch job 21568635\n",
      "Submitted batch job 21568637\n",
      "Submitted batch job 21568639\n",
      "Submitted batch job 21568642\n",
      "Submitted batch job 21568643\n",
      "Submitted batch job 21568645\n",
      "Submitted batch job 21568648\n",
      "Submitted batch job 21568650\n",
      "Submitted batch job 21568653\n",
      "Submitted batch job 21568656\n",
      "Submitted batch job 21568659\n",
      "Submitted batch job 21568661\n",
      "Submitted batch job 21568662\n",
      "Submitted batch job 21568675\n",
      "Submitted batch job 21568680\n",
      "Submitted batch job 21568683\n",
      "Submitted batch job 21568690\n",
      "Submitted batch job 21568698\n",
      "Submitted batch job 21568699\n",
      "Submitted batch job 21568702\n",
      "Submitted batch job 21568706\n",
      "Submitted batch job 21568707\n",
      "Submitted batch job 21568708\n",
      "Submitted batch job 21568710\n",
      "Submitted batch job 21568711\n",
      "Submitted batch job 21568712\n",
      "Submitted batch job 21568714\n",
      "Submitted batch job 21568715\n",
      "Submitted batch job 21568718\n",
      "Submitted batch job 21568719\n",
      "Submitted batch job 21568720\n",
      "Submitted batch job 21568722\n",
      "Submitted batch job 21568723\n",
      "Submitted batch job 21568724\n",
      "Submitted batch job 21568726\n",
      "Submitted batch job 21568728\n",
      "Submitted batch job 21568738\n",
      "Submitted batch job 21568747\n",
      "Submitted batch job 21568755\n",
      "Submitted batch job 21568762\n",
      "Submitted batch job 21568769\n",
      "Submitted batch job 21568777\n",
      "Submitted batch job 21568784\n",
      "Submitted batch job 21568790\n",
      "Submitted batch job 21568791\n",
      "Submitted batch job 21568793\n",
      "Submitted batch job 21568795\n",
      "Submitted batch job 21568797\n",
      "Submitted batch job 21568806\n",
      "Submitted batch job 21568808\n",
      "Submitted batch job 21568812\n",
      "Submitted batch job 21568813\n",
      "Submitted batch job 21568815\n",
      "Submitted batch job 21568816\n",
      "Submitted batch job 21568818\n",
      "Submitted batch job 21568819\n",
      "Submitted batch job 21568821\n",
      "Submitted batch job 21568822\n",
      "Submitted batch job 21568823\n",
      "Submitted batch job 21568824\n",
      "Submitted batch job 21568826\n",
      "Submitted batch job 21568827\n",
      "Submitted batch job 21568828\n",
      "Submitted batch job 21568829\n",
      "Submitted batch job 21568830\n",
      "Submitted batch job 21568831\n",
      "Submitted batch job 21568835\n",
      "Submitted batch job 21568836\n",
      "Submitted batch job 21568837\n"
     ]
    }
   ],
   "source": [
    "import datetime\n",
    "\n",
    "scratch = pathlib.Path('//allen/programs/mindscope/workgroups/dynamicrouting/ben/vast_transfers')\n",
    "scratch.mkdir(parents=True, exist_ok=True)\n",
    "dt = datetime.datetime.now()\n",
    "DEST = pathlib.Path('//allen/aind/scratch/dynamic-routing/Task 2 pilot')\n",
    "\n",
    "def get_file_manifest(info: Info) -> list[pathlib.Path]:\n",
    "    return list(info.path.rglob('*'))\n",
    "\n",
    "def write_manifest(info: Info) -> None:   \n",
    "    get_manifest_path(info).write_text(\n",
    "        '\\n'.join(p.relative_to(SRC).as_posix() for p in get_file_manifest(info)),\n",
    "        newline='\\n',\n",
    "    )\n",
    "\n",
    "def get_hpc_output_path(info: Info) -> pathlib.Path:\n",
    "    return scratch / f'{info.session}_{dt:%Y-%m-%d_%H%M}.log'\n",
    "\n",
    "def get_manifest_path(info: Info) -> pathlib.Path:   \n",
    "    p = get_hpc_output_path(info).with_suffix('.txt')\n",
    "    p.touch(exist_ok=True)\n",
    "    return p\n",
    "\n",
    "def get_log_path(info: Info) -> pathlib.Path:\n",
    "    p = get_hpc_output_path(info)\n",
    "    p.touch(exist_ok=True)\n",
    "    return p\n",
    "\n",
    "def get_shell_script_path(info: Info) -> pathlib.Path:\n",
    "    p = get_hpc_output_path(info).with_suffix('.sh')\n",
    "    p.touch(exist_ok=True)\n",
    "    return p\n",
    "\n",
    "def get_rsync_cmd(info: Info) -> str:\n",
    "    src = info.path.as_posix()\n",
    "    dest = DEST.as_posix()\n",
    "    rsync_cmd = f'rsync -Larv --remove-source-files --log-file={get_log_path(info).as_posix()} --files-from={get_manifest_path(info).as_posix()} \"{src}\" \"{dest}\"'\n",
    "    # -a archive mode\n",
    "    # -r recursive (for dirs)\n",
    "    # -v verbose\n",
    "    # -L copy the data that symlinks point to\n",
    "    # --remove-source-files deletes source files after copying, but not dirs\n",
    "    return rsync_cmd\n",
    "\n",
    "def get_shell_script_cmd(info: Info) -> str:\n",
    "    script = f\"\"\"#!/bin/bash\n",
    "#SBATCH --job-name=npexp_to_incoming                        # Job name\n",
    "#SBATCH --mail-type=FAIL                                    # Mail events (NONE, BEGIN, END, FAIL, ALL)\n",
    "#SBATCH --mail-user=ben.hardcastle@alleninstitute.org       # Where to send mail  \n",
    "#SBATCH --ntasks=1                                          # Run on a single CPU\n",
    "#SBATCH --mem=4gb                                           # Job memory request (per node)\n",
    "#SBATCH --time=20:00:00                                     # Time limit hrs:min:sec\n",
    "#SBATCH --output=dynamicrouting_to_vast%j.log               # Standard output and error log\n",
    "#SBATCH --partition braintv                                 # Partition used for processing\n",
    "#SBATCH --tmp=100M                                          # Request the amount of space your jobs needs on /scratch/fast\n",
    "\n",
    "pwd; hostname; date\n",
    "\n",
    "echo 'Running rsync job on a single thread'\n",
    "\n",
    "{get_rsync_cmd(info)}\n",
    "\n",
    "date\n",
    "\"\"\"\n",
    "    return script\n",
    "\n",
    "def write_shell_script(info: Info) -> None:\n",
    "    get_shell_script_path(info).write_text(get_shell_script_cmd(info), newline='\\n') \n",
    "    # if writing on Windows, newline==\\r\\n by default, which isn't compatible with bash on linux\n",
    "\n",
    "def submit_job(info: Info) -> None:\n",
    "    with np_tools.hpc as ssh:\n",
    "        ssh.run(f'sbatch {get_shell_script_path(info).as_posix()}')\n",
    "\n",
    "def process(info: Info) -> None:\n",
    "    write_manifest(info)\n",
    "    write_shell_script(info)\n",
    "\n",
    "with concurrent.futures.ThreadPoolExecutor() as executor:\n",
    "    for future in concurrent.futures.as_completed([executor.submit(process, t) for t in test_ephys_sessions]):\n",
    "        _ = future.result() # wait for completion / handle exceptions\n",
    "\n",
    "for info in test_ephys_sessions:\n",
    "    submit_job(info) # submit jobs to HPC in series to avoid overloading the scheduler"
   ]
  },
  {
   "cell_type": "code",
   "execution_count": 63,
   "metadata": {},
   "outputs": [
    {
     "data": {
      "text/plain": [
       "'#!/bin/bash\\n#SBATCH --job-name=npexp_to_incoming                        # Job name\\n#SBATCH --mail-type=END,FAIL                                # Mail events (NONE, BEGIN, END, FAIL, ALL)\\n#SBATCH --mail-user=ben.hardcastle@alleninstitute.org       # Where to send mail  \\n#SBATCH --ntasks=1                                          # Run on a single CPU\\n#SBATCH --mem=4gb                                           # Job memory request (per node)\\n#SBATCH --time=20:00:00                                     # Time limit hrs:min:sec\\n#SBATCH --output=dynamicrouting_to_vast%j.log               # Standard output and error log\\n#SBATCH --partition braintv                                 # Partition used for processing\\n#SBATCH --tmp=100M                                          # Request the amount of space your jobs needs on /scratch/fast\\n\\npwd; hostname; date\\n\\necho \\'Running rsync job on a single thread\\'\\n\\nrsync -Larv --remove-source-files --log-file=//allen/programs/mindscope/workgroups/dynamicrouting/ben/vast_transfers/649943_2023-02-13_2024-10-23_2031.log --files-from=//allen/programs/mindscope/workgroups/dynamicrouting/ben/vast_transfers/649943_2023-02-13_2024-10-23_2031.txt \"//allen/programs/mindscope/workgroups/dynamicrouting/PilotEphys/Task 2 pilot/DRpilot_649943_20230213\" \"//allen/aind/scratch/dynamic-routing/Task 2 pilot\"\\n\\ndate\\n'"
      ]
     },
     "execution_count": 63,
     "metadata": {},
     "output_type": "execute_result"
    }
   ],
   "source": [
    "get_shell_script_cmd(info)"
   ]
  },
  {
   "cell_type": "code",
   "execution_count": 44,
   "metadata": {},
   "outputs": [
    {
     "data": {
      "text/plain": [
       "'rsync -Larv --remove-source-files --log-file=//allen/programs/mindscope/workgroups/dynamicrouting/ben/vast_transfers/2024-10-23_1907.log --files-from=//allen/programs/mindscope/workgroups/dynamicrouting/ben/vast_transfers/2024-10-23_1907.txt \"//allen/programs/mindscope/workgroups/dynamicrouting/PilotEphys/Task 2 pilot\" \"//allen/aind/scratch/dynamic-routing/Task 2 pilot\"'"
      ]
     },
     "execution_count": 44,
     "metadata": {},
     "output_type": "execute_result"
    }
   ],
   "source": []
  },
  {
   "cell_type": "code",
   "execution_count": 45,
   "metadata": {},
   "outputs": [
    {
     "data": {
      "text/plain": [
       "1285"
      ]
     },
     "execution_count": 45,
     "metadata": {},
     "output_type": "execute_result"
    }
   ],
   "source": []
  },
  {
   "cell_type": "code",
   "execution_count": 46,
   "metadata": {},
   "outputs": [
    {
     "name": "stdout",
     "output_type": "stream",
     "text": [
      "Submitted batch job 21567168\n"
     ]
    }
   ],
   "source": []
  },
  {
   "cell_type": "code",
   "execution_count": null,
   "metadata": {},
   "outputs": [],
   "source": []
  }
 ],
 "metadata": {
  "kernelspec": {
   "display_name": ".venv",
   "language": "python",
   "name": "python3"
  },
  "language_info": {
   "codemirror_mode": {
    "name": "ipython",
    "version": 3
   },
   "file_extension": ".py",
   "mimetype": "text/x-python",
   "name": "python",
   "nbconvert_exporter": "python",
   "pygments_lexer": "ipython3",
   "version": "3.11.3"
  }
 },
 "nbformat": 4,
 "nbformat_minor": 2
}
