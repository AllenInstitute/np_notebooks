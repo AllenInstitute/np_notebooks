{
 "cells": [
  {
   "cell_type": "code",
   "execution_count": 11,
   "metadata": {},
   "outputs": [
    {
     "name": "stdout",
     "output_type": "stream",
     "text": [
      "Cleared 18,490 GB\r"
     ]
    }
   ],
   "source": [
    "import contextlib\n",
    "import pathlib\n",
    "\n",
    "import np_config\n",
    "import np_session\n",
    "\n",
    "def size(path: pathlib.Path) -> int:\n",
    "    return sum(\n",
    "        f.stat().st_size\n",
    "        for f in path.rglob('*')\n",
    "        if f.is_file()\n",
    "    ) if path.is_dir() else path.stat().st_size\n",
    "    \n",
    "def sizes_match(p1, p2):\n",
    "    return size(p1) == size(p2)\n",
    "\n",
    "def unlink(path):\n",
    "    if path.is_dir():\n",
    "        while path.exists():\n",
    "            for _ in path.iterdir():\n",
    "                with contextlib.suppress(OSError):\n",
    "                    unlink(_)\n",
    "            path.rmdir()\n",
    "    else:\n",
    "        path.unlink()\n",
    "    \n",
    "total_bytes = 0  \n",
    "for _ in np_session.INCOMING_ROOT.iterdir():\n",
    "    \n",
    "    try:\n",
    "        session = np_session.Session(_)\n",
    "    except np_session.SessionError:\n",
    "        continue\n",
    "    \n",
    "    if not session.lims_path:\n",
    "        continue\n",
    "    \n",
    "    if (\n",
    "        (existing := (session.lims_path / _.name)).exists()\n",
    "        and sizes_match(existing, _)\n",
    "    ):\n",
    "        total_bytes += size(_)\n",
    "        unlink(_)\n",
    "        print(f\"Cleared {total_bytes/1024**3:,.0f} GB\\r\", end='')\n"
   ]
  },
  {
   "cell_type": "code",
   "execution_count": 17,
   "metadata": {},
   "outputs": [
    {
     "name": "stdout",
     "output_type": "stream",
     "text": [
      "Cleared 1,262 GB\r"
     ]
    }
   ],
   "source": [
    "total_bytes = 0  \n",
    "for probe in 'ABCDEF':\n",
    "    for probe_folder in np_session.INCOMING_ROOT.glob(f'*probe{probe}_sorted'):\n",
    "        \n",
    "        try:\n",
    "            session = np_session.Session(probe_folder)\n",
    "        except np_session.SessionError:\n",
    "            continue\n",
    "        \n",
    "        if not session.lims_path:\n",
    "            continue\n",
    "        \n",
    "        for path in probe_folder.rglob('*'):\n",
    "            if path.is_dir():\n",
    "                continue\n",
    "            if (existing := tuple(session.lims_path.rglob(f'*/*_probe{probe}/{path.relative_to(probe_folder)}') )):\n",
    "                for _ in existing:\n",
    "                    if sizes_match(_, path) and _.stat().st_mtime == path.stat().st_mtime:\n",
    "                        total_bytes += size(path)\n",
    "                        unlink(path)\n",
    "                        print(f\"Cleared {total_bytes/1024**3:,.0f} GB\\r\", end='')\n",
    "                        break\n",
    "                        "
   ]
  }
 ],
 "metadata": {
  "kernelspec": {
   "display_name": "Python 3.11.1 ('.venv': poetry)",
   "language": "python",
   "name": "python3"
  },
  "language_info": {
   "codemirror_mode": {
    "name": "ipython",
    "version": 3
   },
   "file_extension": ".py",
   "mimetype": "text/x-python",
   "name": "python",
   "nbconvert_exporter": "python",
   "pygments_lexer": "ipython3",
   "version": "3.11.1"
  },
  "orig_nbformat": 4,
  "vscode": {
   "interpreter": {
    "hash": "75a294dbf81199b26941ed5b32867c59e8bcc1170a51aebad9d5a69e8ca694a9"
   }
  }
 },
 "nbformat": 4,
 "nbformat_minor": 2
}
