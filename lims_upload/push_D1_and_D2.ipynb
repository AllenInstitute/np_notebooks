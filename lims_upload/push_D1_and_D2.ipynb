{
 "cells": [
  {
   "cell_type": "code",
   "execution_count": 25,
   "metadata": {},
   "outputs": [],
   "source": [
    "import IPython.display\n",
    "import pandas\n",
    "import np_session"
   ]
  },
  {
   "cell_type": "code",
   "execution_count": 26,
   "metadata": {},
   "outputs": [],
   "source": [
    "session = np_session.Session('1226010097_636740_20221114_platformD1')"
   ]
  },
  {
   "cell_type": "markdown",
   "metadata": {},
   "source": [
    "Cleanup files before transfer"
   ]
  },
  {
   "cell_type": "code",
   "execution_count": 27,
   "metadata": {},
   "outputs": [],
   "source": [
    "if session.project.parent.name == 'DR':\n",
    "    for _ in session.npexp_path.glob('*surface-image*'):\n",
    "        for replace in ('-right', '-left'):\n",
    "            if replace in _.name:\n",
    "                _.replace(_.parent / _.name.replace(replace, ''))\n",
    "for _ in session.npexp_path.glob('*platform*.bak'):\n",
    "    _.unlink()\n",
    "for _ in session.npexp_path.glob('*platform*D0*json'):\n",
    "    _.unlink()"
   ]
  },
  {
   "cell_type": "code",
   "execution_count": 28,
   "metadata": {},
   "outputs": [
    {
     "name": "stdout",
     "output_type": "stream",
     "text": [
      "\\\\allen\\programs\\mindscope\\workgroups\\np-exp\\1226010097_636740_20221114\n"
     ]
    },
    {
     "data": {
      "text/html": [
       "<div>\n",
       "<style scoped>\n",
       "    .dataframe tbody tr th:only-of-type {\n",
       "        vertical-align: middle;\n",
       "    }\n",
       "\n",
       "    .dataframe tbody tr th {\n",
       "        vertical-align: top;\n",
       "    }\n",
       "\n",
       "    .dataframe thead th {\n",
       "        text-align: right;\n",
       "    }\n",
       "</style>\n",
       "<table border=\"1\" class=\"dataframe\">\n",
       "  <thead>\n",
       "    <tr style=\"text-align: right;\">\n",
       "      <th></th>\n",
       "      <th>glob</th>\n",
       "      <th>exists</th>\n",
       "    </tr>\n",
       "  </thead>\n",
       "  <tbody>\n",
       "    <tr>\n",
       "      <th>ephys_raw_data_probe_A</th>\n",
       "      <td>*_probeABC</td>\n",
       "      <td>1226010097_636740_20221114_probeABC</td>\n",
       "    </tr>\n",
       "    <tr>\n",
       "      <th>ephys_raw_data_probe_B</th>\n",
       "      <td>*_probeABC</td>\n",
       "      <td>1226010097_636740_20221114_probeABC</td>\n",
       "    </tr>\n",
       "    <tr>\n",
       "      <th>ephys_raw_data_probe_C</th>\n",
       "      <td>*_probeABC</td>\n",
       "      <td>1226010097_636740_20221114_probeABC</td>\n",
       "    </tr>\n",
       "    <tr>\n",
       "      <th>ephys_raw_data_probe_D</th>\n",
       "      <td>*_probeDEF</td>\n",
       "      <td>1226010097_636740_20221114_probeDEF</td>\n",
       "    </tr>\n",
       "    <tr>\n",
       "      <th>ephys_raw_data_probe_E</th>\n",
       "      <td>*_probeDEF</td>\n",
       "      <td>1226010097_636740_20221114_probeDEF</td>\n",
       "    </tr>\n",
       "    <tr>\n",
       "      <th>ephys_raw_data_probe_F</th>\n",
       "      <td>*_probeDEF</td>\n",
       "      <td>1226010097_636740_20221114_probeDEF</td>\n",
       "    </tr>\n",
       "    <tr>\n",
       "      <th>synchronization_data</th>\n",
       "      <td>*.sync</td>\n",
       "      <td>1226010097_636740_20221114.sync</td>\n",
       "    </tr>\n",
       "    <tr>\n",
       "      <th>behavior_tracking</th>\n",
       "      <td>*.behavior.mp4</td>\n",
       "      <td>1226010097_636740_20221114.behavior.mp4</td>\n",
       "    </tr>\n",
       "    <tr>\n",
       "      <th>beh_cam_json</th>\n",
       "      <td>*.behavior.json</td>\n",
       "      <td>1226010097_636740_20221114.behavior.json</td>\n",
       "    </tr>\n",
       "    <tr>\n",
       "      <th>eye_tracking</th>\n",
       "      <td>*.eye.mp4</td>\n",
       "      <td>1226010097_636740_20221114.eye.mp4</td>\n",
       "    </tr>\n",
       "    <tr>\n",
       "      <th>eye_cam_json</th>\n",
       "      <td>*.eye.json</td>\n",
       "      <td>1226010097_636740_20221114.eye.json</td>\n",
       "    </tr>\n",
       "    <tr>\n",
       "      <th>face_cam_json</th>\n",
       "      <td>*.face.json</td>\n",
       "      <td>1226010097_636740_20221114.face.json</td>\n",
       "    </tr>\n",
       "    <tr>\n",
       "      <th>face_tracking</th>\n",
       "      <td>*.face.mp4</td>\n",
       "      <td>1226010097_636740_20221114.face.mp4</td>\n",
       "    </tr>\n",
       "    <tr>\n",
       "      <th>newstep_csv</th>\n",
       "      <td>*.motor-locs.csv</td>\n",
       "      <td>1226010097_636740_20221114.motor-locs.csv</td>\n",
       "    </tr>\n",
       "    <tr>\n",
       "      <th>pre_experiment_surface_image_left</th>\n",
       "      <td>*_surface-image1*.png</td>\n",
       "      <td>1226010097_636740_20221114_surface-image1.png</td>\n",
       "    </tr>\n",
       "    <tr>\n",
       "      <th>brain_surface_image_left</th>\n",
       "      <td>*_surface-image2*.png</td>\n",
       "      <td>1226010097_636740_20221114_surface-image2.png</td>\n",
       "    </tr>\n",
       "    <tr>\n",
       "      <th>pre_insertion_surface_image_left</th>\n",
       "      <td>*_surface-image3*.png</td>\n",
       "      <td>1226010097_636740_20221114_surface-image3.png</td>\n",
       "    </tr>\n",
       "    <tr>\n",
       "      <th>post_insertion_surface_image_left</th>\n",
       "      <td>*_surface-image4*.png</td>\n",
       "      <td>1226010097_636740_20221114_surface-image4.png</td>\n",
       "    </tr>\n",
       "    <tr>\n",
       "      <th>post_stimulus_surface_image_left</th>\n",
       "      <td>*_surface-image5*.png</td>\n",
       "      <td>1226010097_636740_20221114_surface-image5.png</td>\n",
       "    </tr>\n",
       "    <tr>\n",
       "      <th>post_experiment_surface_image_left</th>\n",
       "      <td>*_surface-image6*.png</td>\n",
       "      <td>1226010097_636740_20221114_surface-image6.png</td>\n",
       "    </tr>\n",
       "    <tr>\n",
       "      <th>pre_experiment_surface_image_right</th>\n",
       "      <td>*_surface-image1*.png</td>\n",
       "      <td>1226010097_636740_20221114_surface-image1.png</td>\n",
       "    </tr>\n",
       "    <tr>\n",
       "      <th>brain_surface_image_right</th>\n",
       "      <td>*_surface-image2*.png</td>\n",
       "      <td>1226010097_636740_20221114_surface-image2.png</td>\n",
       "    </tr>\n",
       "    <tr>\n",
       "      <th>pre_insertion_surface_image_right</th>\n",
       "      <td>*_surface-image3*.png</td>\n",
       "      <td>1226010097_636740_20221114_surface-image3.png</td>\n",
       "    </tr>\n",
       "    <tr>\n",
       "      <th>post_insertion_surface_image_right</th>\n",
       "      <td>*_surface-image4*.png</td>\n",
       "      <td>1226010097_636740_20221114_surface-image4.png</td>\n",
       "    </tr>\n",
       "    <tr>\n",
       "      <th>post_stimulus_surface_image_right</th>\n",
       "      <td>*_surface-image5*.png</td>\n",
       "      <td>1226010097_636740_20221114_surface-image5.png</td>\n",
       "    </tr>\n",
       "    <tr>\n",
       "      <th>post_experiment_surface_image_right</th>\n",
       "      <td>*_surface-image6*.png</td>\n",
       "      <td>1226010097_636740_20221114_surface-image6.png</td>\n",
       "    </tr>\n",
       "    <tr>\n",
       "      <th>optogenetic_stimulus</th>\n",
       "      <td>*.opto.pkl</td>\n",
       "      <td>1226010097_636740_20221114.opto.pkl</td>\n",
       "    </tr>\n",
       "    <tr>\n",
       "      <th>visual_stimulus</th>\n",
       "      <td>*.mapping.pkl</td>\n",
       "      <td>1226010097_636740_20221114.mapping.pkl</td>\n",
       "    </tr>\n",
       "    <tr>\n",
       "      <th>behavior_stimulus</th>\n",
       "      <td>*.behavior.pkl</td>\n",
       "      <td>1226010097_636740_20221114.behavior.pkl</td>\n",
       "    </tr>\n",
       "    <tr>\n",
       "      <th>area_classifications</th>\n",
       "      <td>*.areaClassifications.csv</td>\n",
       "      <td>1226010097_636740_20221114.areaClassifications...</td>\n",
       "    </tr>\n",
       "    <tr>\n",
       "      <th>fiducial_image</th>\n",
       "      <td>*.fiducial.png</td>\n",
       "      <td>1226010097_636740_20221114.fiducial.png</td>\n",
       "    </tr>\n",
       "    <tr>\n",
       "      <th>overlay_image</th>\n",
       "      <td>*.overlay.png</td>\n",
       "      <td>1226010097_636740_20221114.overlay.png</td>\n",
       "    </tr>\n",
       "    <tr>\n",
       "      <th>insertion_location_image</th>\n",
       "      <td>*.insertionLocation.png</td>\n",
       "      <td>1226010097_636740_20221114.insertionLocation.png</td>\n",
       "    </tr>\n",
       "    <tr>\n",
       "      <th>isi_registration_coordinates</th>\n",
       "      <td>*.ISIregistration.npz</td>\n",
       "      <td>1226010097_636740_20221114.ISIregistration.npz</td>\n",
       "    </tr>\n",
       "    <tr>\n",
       "      <th>isi _registration_coordinates</th>\n",
       "      <td>*.ISIregistration.npz</td>\n",
       "      <td>1226010097_636740_20221114.ISIregistration.npz</td>\n",
       "    </tr>\n",
       "    <tr>\n",
       "      <th>probelocator_insertions_in_vasculature_image_space</th>\n",
       "      <td>*probelocator*insertions_in_vasculature_image_...</td>\n",
       "      <td>probelocator_1226010097_636740_20221114_insert...</td>\n",
       "    </tr>\n",
       "    <tr>\n",
       "      <th>probelocator_insertions_in_rig_image_space</th>\n",
       "      <td>*probelocator*insertions_in_rig_image_space.csv</td>\n",
       "      <td>probelocator_1226010097_636740_20221114_insert...</td>\n",
       "    </tr>\n",
       "    <tr>\n",
       "      <th>ephys_raw_data_probe_A_sorted</th>\n",
       "      <td>*_probeA_sorted</td>\n",
       "      <td>1226010097_636740_20221114_probeA_sorted</td>\n",
       "    </tr>\n",
       "    <tr>\n",
       "      <th>ephys_raw_data_probe_B_sorted</th>\n",
       "      <td>*_probeB_sorted</td>\n",
       "      <td>1226010097_636740_20221114_probeB_sorted</td>\n",
       "    </tr>\n",
       "    <tr>\n",
       "      <th>ephys_raw_data_probe_C_sorted</th>\n",
       "      <td>*_probeC_sorted</td>\n",
       "      <td>1226010097_636740_20221114_probeC_sorted</td>\n",
       "    </tr>\n",
       "    <tr>\n",
       "      <th>ephys_raw_data_probe_D_sorted</th>\n",
       "      <td>*_probeD_sorted</td>\n",
       "      <td>1226010097_636740_20221114_probeD_sorted</td>\n",
       "    </tr>\n",
       "    <tr>\n",
       "      <th>ephys_raw_data_probe_E_sorted</th>\n",
       "      <td>*_probeE_sorted</td>\n",
       "      <td>1226010097_636740_20221114_probeE_sorted</td>\n",
       "    </tr>\n",
       "    <tr>\n",
       "      <th>ephys_raw_data_probe_F_sorted</th>\n",
       "      <td>*_probeF_sorted</td>\n",
       "      <td>1226010097_636740_20221114_probeF_sorted</td>\n",
       "    </tr>\n",
       "  </tbody>\n",
       "</table>\n",
       "</div>"
      ],
      "text/plain": [
       "                                                                                                 glob  \\\n",
       "ephys_raw_data_probe_A                                                                     *_probeABC   \n",
       "ephys_raw_data_probe_B                                                                     *_probeABC   \n",
       "ephys_raw_data_probe_C                                                                     *_probeABC   \n",
       "ephys_raw_data_probe_D                                                                     *_probeDEF   \n",
       "ephys_raw_data_probe_E                                                                     *_probeDEF   \n",
       "ephys_raw_data_probe_F                                                                     *_probeDEF   \n",
       "synchronization_data                                                                           *.sync   \n",
       "behavior_tracking                                                                      *.behavior.mp4   \n",
       "beh_cam_json                                                                          *.behavior.json   \n",
       "eye_tracking                                                                                *.eye.mp4   \n",
       "eye_cam_json                                                                               *.eye.json   \n",
       "face_cam_json                                                                             *.face.json   \n",
       "face_tracking                                                                              *.face.mp4   \n",
       "newstep_csv                                                                          *.motor-locs.csv   \n",
       "pre_experiment_surface_image_left                                               *_surface-image1*.png   \n",
       "brain_surface_image_left                                                        *_surface-image2*.png   \n",
       "pre_insertion_surface_image_left                                                *_surface-image3*.png   \n",
       "post_insertion_surface_image_left                                               *_surface-image4*.png   \n",
       "post_stimulus_surface_image_left                                                *_surface-image5*.png   \n",
       "post_experiment_surface_image_left                                              *_surface-image6*.png   \n",
       "pre_experiment_surface_image_right                                              *_surface-image1*.png   \n",
       "brain_surface_image_right                                                       *_surface-image2*.png   \n",
       "pre_insertion_surface_image_right                                               *_surface-image3*.png   \n",
       "post_insertion_surface_image_right                                              *_surface-image4*.png   \n",
       "post_stimulus_surface_image_right                                               *_surface-image5*.png   \n",
       "post_experiment_surface_image_right                                             *_surface-image6*.png   \n",
       "optogenetic_stimulus                                                                       *.opto.pkl   \n",
       "visual_stimulus                                                                         *.mapping.pkl   \n",
       "behavior_stimulus                                                                      *.behavior.pkl   \n",
       "area_classifications                                                        *.areaClassifications.csv   \n",
       "fiducial_image                                                                         *.fiducial.png   \n",
       "overlay_image                                                                           *.overlay.png   \n",
       "insertion_location_image                                                      *.insertionLocation.png   \n",
       "isi_registration_coordinates                                                    *.ISIregistration.npz   \n",
       "isi _registration_coordinates                                                   *.ISIregistration.npz   \n",
       "probelocator_insertions_in_vasculature_image_space  *probelocator*insertions_in_vasculature_image_...   \n",
       "probelocator_insertions_in_rig_image_space            *probelocator*insertions_in_rig_image_space.csv   \n",
       "ephys_raw_data_probe_A_sorted                                                         *_probeA_sorted   \n",
       "ephys_raw_data_probe_B_sorted                                                         *_probeB_sorted   \n",
       "ephys_raw_data_probe_C_sorted                                                         *_probeC_sorted   \n",
       "ephys_raw_data_probe_D_sorted                                                         *_probeD_sorted   \n",
       "ephys_raw_data_probe_E_sorted                                                         *_probeE_sorted   \n",
       "ephys_raw_data_probe_F_sorted                                                         *_probeF_sorted   \n",
       "\n",
       "                                                                                               exists  \n",
       "ephys_raw_data_probe_A                                            1226010097_636740_20221114_probeABC  \n",
       "ephys_raw_data_probe_B                                            1226010097_636740_20221114_probeABC  \n",
       "ephys_raw_data_probe_C                                            1226010097_636740_20221114_probeABC  \n",
       "ephys_raw_data_probe_D                                            1226010097_636740_20221114_probeDEF  \n",
       "ephys_raw_data_probe_E                                            1226010097_636740_20221114_probeDEF  \n",
       "ephys_raw_data_probe_F                                            1226010097_636740_20221114_probeDEF  \n",
       "synchronization_data                                                  1226010097_636740_20221114.sync  \n",
       "behavior_tracking                                             1226010097_636740_20221114.behavior.mp4  \n",
       "beh_cam_json                                                 1226010097_636740_20221114.behavior.json  \n",
       "eye_tracking                                                       1226010097_636740_20221114.eye.mp4  \n",
       "eye_cam_json                                                      1226010097_636740_20221114.eye.json  \n",
       "face_cam_json                                                    1226010097_636740_20221114.face.json  \n",
       "face_tracking                                                     1226010097_636740_20221114.face.mp4  \n",
       "newstep_csv                                                 1226010097_636740_20221114.motor-locs.csv  \n",
       "pre_experiment_surface_image_left                       1226010097_636740_20221114_surface-image1.png  \n",
       "brain_surface_image_left                                1226010097_636740_20221114_surface-image2.png  \n",
       "pre_insertion_surface_image_left                        1226010097_636740_20221114_surface-image3.png  \n",
       "post_insertion_surface_image_left                       1226010097_636740_20221114_surface-image4.png  \n",
       "post_stimulus_surface_image_left                        1226010097_636740_20221114_surface-image5.png  \n",
       "post_experiment_surface_image_left                      1226010097_636740_20221114_surface-image6.png  \n",
       "pre_experiment_surface_image_right                      1226010097_636740_20221114_surface-image1.png  \n",
       "brain_surface_image_right                               1226010097_636740_20221114_surface-image2.png  \n",
       "pre_insertion_surface_image_right                       1226010097_636740_20221114_surface-image3.png  \n",
       "post_insertion_surface_image_right                      1226010097_636740_20221114_surface-image4.png  \n",
       "post_stimulus_surface_image_right                       1226010097_636740_20221114_surface-image5.png  \n",
       "post_experiment_surface_image_right                     1226010097_636740_20221114_surface-image6.png  \n",
       "optogenetic_stimulus                                              1226010097_636740_20221114.opto.pkl  \n",
       "visual_stimulus                                                1226010097_636740_20221114.mapping.pkl  \n",
       "behavior_stimulus                                             1226010097_636740_20221114.behavior.pkl  \n",
       "area_classifications                                1226010097_636740_20221114.areaClassifications...  \n",
       "fiducial_image                                                1226010097_636740_20221114.fiducial.png  \n",
       "overlay_image                                                  1226010097_636740_20221114.overlay.png  \n",
       "insertion_location_image                             1226010097_636740_20221114.insertionLocation.png  \n",
       "isi_registration_coordinates                           1226010097_636740_20221114.ISIregistration.npz  \n",
       "isi _registration_coordinates                          1226010097_636740_20221114.ISIregistration.npz  \n",
       "probelocator_insertions_in_vasculature_image_space  probelocator_1226010097_636740_20221114_insert...  \n",
       "probelocator_insertions_in_rig_image_space          probelocator_1226010097_636740_20221114_insert...  \n",
       "ephys_raw_data_probe_A_sorted                                1226010097_636740_20221114_probeA_sorted  \n",
       "ephys_raw_data_probe_B_sorted                                1226010097_636740_20221114_probeB_sorted  \n",
       "ephys_raw_data_probe_C_sorted                                1226010097_636740_20221114_probeC_sorted  \n",
       "ephys_raw_data_probe_D_sorted                                1226010097_636740_20221114_probeD_sorted  \n",
       "ephys_raw_data_probe_E_sorted                                1226010097_636740_20221114_probeE_sorted  \n",
       "ephys_raw_data_probe_F_sorted                                1226010097_636740_20221114_probeF_sorted  "
      ]
     },
     "metadata": {},
     "output_type": "display_data"
    }
   ],
   "source": [
    "names = (*session.D1.names, *session.D2.names)\n",
    "globs = (*session.D1.globs, *session.D2.globs)\n",
    "paths = (*session.D1.paths, *session.D2.paths)\n",
    "types = (*session.D1.types, *session.D2.types)\n",
    "\n",
    "print(session.npexp_path)\n",
    "display(df := pandas.DataFrame(({'glob': glob, 'exists': path.name if path else None} for glob, path in zip(globs, paths)), index=names))"
   ]
  },
  {
   "cell_type": "code",
   "execution_count": 29,
   "metadata": {},
   "outputs": [
    {
     "name": "stdout",
     "output_type": "stream",
     "text": [
      "All files exist\n"
     ]
    }
   ],
   "source": [
    "if not all(paths) or not all(df['exists'].values):\n",
    "    raise Warning('Some files are missing - continue with upload at your own risk!')\n",
    "else:\n",
    "    print('All files exist')"
   ]
  },
  {
   "cell_type": "code",
   "execution_count": 30,
   "metadata": {},
   "outputs": [
    {
     "name": "stdout",
     "output_type": "stream",
     "text": [
      "All filenames contain session id\n"
     ]
    }
   ],
   "source": [
    "for _ in paths:\n",
    "    if _ and str(session.id) not in _.name:\n",
    "        print(f'Warning! File name does not contain session id: {_.name}')\n",
    "else:\n",
    "    print('All filenames contain session id')\n"
   ]
  },
  {
   "cell_type": "markdown",
   "metadata": {},
   "source": [
    "Add D1 & D2 files to platform json"
   ]
  },
  {
   "cell_type": "code",
   "execution_count": 31,
   "metadata": {},
   "outputs": [],
   "source": [
    "session.platform_json.files = (session.D1.files | session.D2.files)"
   ]
  },
  {
   "cell_type": "markdown",
   "metadata": {},
   "source": [
    "If a file or dir has already been uploaded to lims, the upload job can fail. \n",
    "\n",
    "Remove from the upload manifest:"
   ]
  },
  {
   "cell_type": "code",
   "execution_count": 32,
   "metadata": {},
   "outputs": [
    {
     "name": "stdout",
     "output_type": "stream",
     "text": [
      "File or dir has already been uploaded:\n",
      "\t \\\\allen\\programs\\mindscope\\production\\dynamicrouting\\prod0\\specimen_1192695912\\ecephys_session_1226010097\\1226010097_636740_20221114_probeABC \n",
      "\n",
      "\tRemoved from upload manifest\n",
      "\n",
      "File or dir has already been uploaded:\n",
      "\t \\\\allen\\programs\\mindscope\\production\\dynamicrouting\\prod0\\specimen_1192695912\\ecephys_session_1226010097\\1226010097_636740_20221114_probeABC \n",
      "\n",
      "\tRemoved from upload manifest\n",
      "\n",
      "File or dir has already been uploaded:\n",
      "\t \\\\allen\\programs\\mindscope\\production\\dynamicrouting\\prod0\\specimen_1192695912\\ecephys_session_1226010097\\1226010097_636740_20221114_probeABC \n",
      "\n",
      "\tRemoved from upload manifest\n",
      "\n",
      "File or dir has already been uploaded:\n",
      "\t \\\\allen\\programs\\mindscope\\production\\dynamicrouting\\prod0\\specimen_1192695912\\ecephys_session_1226010097\\1226010097_636740_20221114_probeDEF \n",
      "\n",
      "\tRemoved from upload manifest\n",
      "\n",
      "File or dir has already been uploaded:\n",
      "\t \\\\allen\\programs\\mindscope\\production\\dynamicrouting\\prod0\\specimen_1192695912\\ecephys_session_1226010097\\1226010097_636740_20221114_probeDEF \n",
      "\n",
      "\tRemoved from upload manifest\n",
      "\n",
      "File or dir has already been uploaded:\n",
      "\t \\\\allen\\programs\\mindscope\\production\\dynamicrouting\\prod0\\specimen_1192695912\\ecephys_session_1226010097\\1226010097_636740_20221114_probeDEF \n",
      "\n",
      "\tRemoved from upload manifest\n",
      "\n"
     ]
    }
   ],
   "source": [
    "for name, path in zip(names, paths):\n",
    "    \n",
    "    if (file_on_lims := (session.lims_path / path.name)).exists():\n",
    "        \n",
    "        print(f'File or dir has already been uploaded:\\n\\t', file_on_lims, '\\n')\n",
    "        \n",
    "        if name in (files := session.platform_json.files):\n",
    "            del files[name]\n",
    "            session.platform_json.files = files\n",
    "            print(f'\\tRemoved from upload manifest\\n')\n",
    "        "
   ]
  },
  {
   "cell_type": "code",
   "execution_count": 33,
   "metadata": {},
   "outputs": [
    {
     "data": {
      "application/json": {
       "CartridgeLowerTime": "20221114124643",
       "DiINotes": {
        "EndTime": "20221114122435",
        "StartTime": "20221114121105",
        "dii_description": "CM-DiI 100%",
        "times_dipped": "7"
       },
       "ExperimentCompleteTime": "20221114151146",
       "ExperimentNotes": {
        "BleedingOnInsertion": {},
        "BleedingOnRemoval": {}
       },
       "ExperimentStartTime": "20221114132925",
       "HardwareConfiguration": {
        "behavior_camera_position": {
         "center_x_mm": -214.9,
         "center_y_mm": -41.2,
         "center_z_mm": -20.8,
         "rotation_x_deg": 5.3,
         "rotation_y_deg": -10.9,
         "rotation_z_deg": 0
        },
        "behavior_led_position": {
         "center_x_mm": -229.7,
         "center_y_mm": 8.9,
         "center_z_mm": -10.3,
         "rotation_x_deg": 0,
         "rotation_y_deg": 0,
         "rotation_z_deg": 0
        },
        "eye_camera_position": {
         "center_x_mm": 102.8,
         "center_y_mm": 74.7,
         "center_z_mm": 31.6,
         "rotation_x_deg": 0,
         "rotation_y_deg": 0,
         "rotation_z_deg": 2.8
        },
        "eye_led_position": {
         "center_x_mm": 246,
         "center_y_mm": 92.3,
         "center_z_mm": 52.6,
         "rotation_x_deg": 0,
         "rotation_y_deg": 0,
         "rotation_z_deg": 0
        },
        "face_camera_position": {
         "center_x_mm": -31,
         "center_y_mm": 124.7,
         "center_z_mm": 55.5,
         "rotation_x_deg": 3.6,
         "rotation_y_deg": -3.7,
         "rotation_z_deg": 0
        },
        "face_led_position": {
         "center_x_mm": -65.1,
         "center_y_mm": 115.8,
         "center_z_mm": 54.4,
         "rotation_x_deg": 0,
         "rotation_y_deg": 0,
         "rotation_z_deg": 0
        },
        "led_position": {
         "center_x_mm": 246,
         "center_y_mm": 92.3,
         "center_z_mm": 52.6,
         "rotation_x_deg": 0,
         "rotation_y_deg": 0,
         "rotation_z_deg": 0
        },
        "newscale_controller_serial_numbers": {
         "A": 34027,
         "B": 31056,
         "C": 32141,
         "D": 32146,
         "E": 32139,
         "F": 32145
        },
        "screen_position": {
         "center_x_mm": 118.6,
         "center_y_mm": 86.2,
         "center_z_mm": 31.6,
         "rotation_x_deg": 0,
         "rotation_y_deg": 0,
         "rotation_z_deg": 0
        }
       },
       "HeadFrameEntryTime": "20221114124504",
       "HeadFrameExitTime": "20221114152258",
       "InsertionNotes": {},
       "ProbeInsertionCompleteTime": "20221114131817",
       "ProbeInsertionStartTime": "20221114130151",
       "files": {
        "area_classifications": {
         "filename": "1226010097_636740_20221114.areaClassifications.csv"
        },
        "beh_cam_json": {
         "filename": "1226010097_636740_20221114.behavior.json"
        },
        "behavior_stimulus": {
         "filename": "1226010097_636740_20221114.behavior.pkl"
        },
        "behavior_tracking": {
         "filename": "1226010097_636740_20221114.behavior.mp4"
        },
        "brain_surface_image_left": {
         "filename": "1226010097_636740_20221114_surface-image2.png"
        },
        "brain_surface_image_right": {
         "filename": "1226010097_636740_20221114_surface-image2.png"
        },
        "ephys_raw_data_probe_A_sorted": {
         "directory_name": "1226010097_636740_20221114_probeA_sorted"
        },
        "ephys_raw_data_probe_B_sorted": {
         "directory_name": "1226010097_636740_20221114_probeB_sorted"
        },
        "ephys_raw_data_probe_C_sorted": {
         "directory_name": "1226010097_636740_20221114_probeC_sorted"
        },
        "ephys_raw_data_probe_D_sorted": {
         "directory_name": "1226010097_636740_20221114_probeD_sorted"
        },
        "ephys_raw_data_probe_E_sorted": {
         "directory_name": "1226010097_636740_20221114_probeE_sorted"
        },
        "ephys_raw_data_probe_F_sorted": {
         "directory_name": "1226010097_636740_20221114_probeF_sorted"
        },
        "eye_cam_json": {
         "filename": "1226010097_636740_20221114.eye.json"
        },
        "eye_tracking": {
         "filename": "1226010097_636740_20221114.eye.mp4"
        },
        "face_cam_json": {
         "filename": "1226010097_636740_20221114.face.json"
        },
        "face_tracking": {
         "filename": "1226010097_636740_20221114.face.mp4"
        },
        "fiducial_image": {
         "filename": "1226010097_636740_20221114.fiducial.png"
        },
        "insertion_location_image": {
         "filename": "1226010097_636740_20221114.insertionLocation.png"
        },
        "isi _registration_coordinates": {
         "filename": "1226010097_636740_20221114.ISIregistration.npz"
        },
        "isi_registration_coordinates": {
         "filename": "1226010097_636740_20221114.ISIregistration.npz"
        },
        "newstep_csv": {
         "filename": "1226010097_636740_20221114.motor-locs.csv"
        },
        "optogenetic_stimulus": {
         "filename": "1226010097_636740_20221114.opto.pkl"
        },
        "overlay_image": {
         "filename": "1226010097_636740_20221114.overlay.png"
        },
        "post_experiment_surface_image_left": {
         "filename": "1226010097_636740_20221114_surface-image6.png"
        },
        "post_experiment_surface_image_right": {
         "filename": "1226010097_636740_20221114_surface-image6.png"
        },
        "post_insertion_surface_image_left": {
         "filename": "1226010097_636740_20221114_surface-image4.png"
        },
        "post_insertion_surface_image_right": {
         "filename": "1226010097_636740_20221114_surface-image4.png"
        },
        "post_stimulus_surface_image_left": {
         "filename": "1226010097_636740_20221114_surface-image5.png"
        },
        "post_stimulus_surface_image_right": {
         "filename": "1226010097_636740_20221114_surface-image5.png"
        },
        "pre_experiment_surface_image_left": {
         "filename": "1226010097_636740_20221114_surface-image1.png"
        },
        "pre_experiment_surface_image_right": {
         "filename": "1226010097_636740_20221114_surface-image1.png"
        },
        "pre_insertion_surface_image_left": {
         "filename": "1226010097_636740_20221114_surface-image3.png"
        },
        "pre_insertion_surface_image_right": {
         "filename": "1226010097_636740_20221114_surface-image3.png"
        },
        "probelocator_insertions_in_rig_image_space": {
         "filename": "probelocator_1226010097_636740_20221114_insertions_in_rig_image_space.csv"
        },
        "probelocator_insertions_in_vasculature_image_space": {
         "filename": "probelocator_1226010097_636740_20221114_insertions_in_vasculature_image_space.csv"
        },
        "synchronization_data": {
         "filename": "1226010097_636740_20221114.sync"
        },
        "visual_stimulus": {
         "filename": "1226010097_636740_20221114.mapping.pkl"
        }
       },
       "foraging_id": "025fb153-35dd-4f63-ada2-44c238bd9ed4",
       "foraging_id_list": [
        "0973905b-b697-4b5c-8388-5af115e37176"
       ],
       "hab": false,
       "manifest_creation_time": "20221114153401",
       "manipulator_coordinates": {},
       "mouseID": "636740",
       "mouse_weight_post": "20.2",
       "mouse_weight_pre": "0",
       "mouse_weight_pre_float": 0,
       "operatorID": "henry.loeffler",
       "platform_json_creation_time": "",
       "platform_json_save_time": "20230318225347",
       "probe_A_DiI_depth": "6000",
       "probe_B_DiI_depth": "6000",
       "probe_C_DiI_depth": "6000",
       "probe_D_DiI_depth": "6000",
       "probe_E_DiI_depth": "6000",
       "probe_F_DiI_depth": "6000",
       "project": "DynamicRoutingTask1Production",
       "rig_id": "NP.1",
       "script_name": "\\\\W10DT713942\\C\\ProgramData\\AIBS_MPE\\camstim\\logs\\221114132944\\EPHYS_1_221114132944.py",
       "sessionID": "1226010097",
       "stimulus_name": "EPHYS_1",
       "water_calibration_heights": [
        50
       ],
       "water_calibration_volumes": [
        0.03
       ],
       "water_supplement": 0.94,
       "wfl_version": 1,
       "wheel_height": "0",
       "workflow": "np.workflows.behavior.neuropixel_workflow_remaster",
       "workflow_complete_time": "20221114153856",
       "workflow_start_time": "20221114120225"
      },
      "text/plain": [
       "<IPython.core.display.JSON object>"
      ]
     },
     "execution_count": 33,
     "metadata": {
      "application/json": {
       "expanded": false,
       "root": "root"
      }
     },
     "output_type": "execute_result"
    }
   ],
   "source": [
    "IPython.display.JSON(session.platform_json.path)"
   ]
  },
  {
   "cell_type": "markdown",
   "metadata": {},
   "source": [
    "Set up files required for transfer in scratch space"
   ]
  },
  {
   "cell_type": "code",
   "execution_count": 34,
   "metadata": {},
   "outputs": [],
   "source": [
    "import datetime\n",
    "import pathlib\n",
    "\n",
    "scratch = pathlib.Path('//allen/scratch/aibstemp/svc_neuropix/lims_uploads')\n",
    "scratch.mkdir(parents=True, exist_ok=True)\n",
    "\n",
    "file_manifest = scratch / f'{session.id}_{datetime.datetime.now():%Y-%m-%d_%H%M}.txt'\n",
    "file_manifest.touch(exist_ok=True)\n",
    "\n",
    "log = file_manifest.with_suffix('.log')\n",
    "log.touch(exist_ok=True)\n",
    "\n",
    "shell_script = file_manifest.with_suffix('.sh')\n",
    "shell_script.touch(exist_ok=True)"
   ]
  },
  {
   "cell_type": "markdown",
   "metadata": {},
   "source": [
    "Write manifest of relative file paths"
   ]
  },
  {
   "cell_type": "code",
   "execution_count": 35,
   "metadata": {},
   "outputs": [
    {
     "name": "stdout",
     "output_type": "stream",
     "text": [
      "1226010097_636740_20221114.sync\n",
      "1226010097_636740_20221114.behavior.mp4\n",
      "1226010097_636740_20221114.behavior.json\n",
      "1226010097_636740_20221114.eye.mp4\n",
      "1226010097_636740_20221114.eye.json\n",
      "1226010097_636740_20221114.face.json\n",
      "1226010097_636740_20221114.face.mp4\n",
      "1226010097_636740_20221114.motor-locs.csv\n",
      "1226010097_636740_20221114_surface-image1.png\n",
      "1226010097_636740_20221114_surface-image2.png\n",
      "1226010097_636740_20221114_surface-image3.png\n",
      "1226010097_636740_20221114_surface-image4.png\n",
      "1226010097_636740_20221114_surface-image5.png\n",
      "1226010097_636740_20221114_surface-image6.png\n",
      "1226010097_636740_20221114_surface-image1.png\n",
      "1226010097_636740_20221114_surface-image2.png\n",
      "1226010097_636740_20221114_surface-image3.png\n",
      "1226010097_636740_20221114_surface-image4.png\n",
      "1226010097_636740_20221114_surface-image5.png\n",
      "1226010097_636740_20221114_surface-image6.png\n",
      "1226010097_636740_20221114.opto.pkl\n",
      "1226010097_636740_20221114.mapping.pkl\n",
      "1226010097_636740_20221114.behavior.pkl\n",
      "1226010097_636740_20221114.areaClassifications.csv\n",
      "1226010097_636740_20221114.fiducial.png\n",
      "1226010097_636740_20221114.overlay.png\n",
      "1226010097_636740_20221114.insertionLocation.png\n",
      "1226010097_636740_20221114.ISIregistration.npz\n",
      "1226010097_636740_20221114.ISIregistration.npz\n",
      "probelocator_1226010097_636740_20221114_insertions_in_vasculature_image_space.csv\n",
      "probelocator_1226010097_636740_20221114_insertions_in_rig_image_space.csv\n",
      "1226010097_636740_20221114_probeA_sorted/probe_info.json\n",
      "1226010097_636740_20221114_probeA_sorted/probe_depth_A.png\n",
      "1226010097_636740_20221114_probeA_sorted/events/Neuropix-PXI-100.0/TTL_1/channel_states.npy\n",
      "1226010097_636740_20221114_probeA_sorted/events/Neuropix-PXI-100.0/TTL_1/event_timestamps.npy\n",
      "1226010097_636740_20221114_probeA_sorted/continuous/Neuropix-PXI-100.1/continuous.dat\n",
      "1226010097_636740_20221114_probeA_sorted/continuous/Neuropix-PXI-100.1/lfp_timestamps.npy\n",
      "1226010097_636740_20221114_probeA_sorted/continuous/Neuropix-PXI-100.0/amplitudes.npy\n",
      "1226010097_636740_20221114_probeA_sorted/continuous/Neuropix-PXI-100.0/spike_times.npy\n",
      "1226010097_636740_20221114_probeA_sorted/continuous/Neuropix-PXI-100.0/mean_waveforms.npy\n",
      "1226010097_636740_20221114_probeA_sorted/continuous/Neuropix-PXI-100.0/spike_clusters.npy\n",
      "1226010097_636740_20221114_probeA_sorted/continuous/Neuropix-PXI-100.0/spike_templates.npy\n",
      "1226010097_636740_20221114_probeA_sorted/continuous/Neuropix-PXI-100.0/templates.npy\n",
      "1226010097_636740_20221114_probeA_sorted/continuous/Neuropix-PXI-100.0/whitening_mat.npy\n",
      "1226010097_636740_20221114_probeA_sorted/continuous/Neuropix-PXI-100.0/whitening_mat_inv.npy\n",
      "1226010097_636740_20221114_probeA_sorted/continuous/Neuropix-PXI-100.0/templates_ind.npy\n",
      "1226010097_636740_20221114_probeA_sorted/continuous/Neuropix-PXI-100.0/similar_templates.npy\n",
      "1226010097_636740_20221114_probeA_sorted/continuous/Neuropix-PXI-100.0/channel_positions.npy\n",
      "1226010097_636740_20221114_probeA_sorted/continuous/Neuropix-PXI-100.0/channel_map.npy\n",
      "1226010097_636740_20221114_probeA_sorted/continuous/Neuropix-PXI-100.0/params.py\n",
      "1226010097_636740_20221114_probeA_sorted/continuous/Neuropix-PXI-100.0/metrics.csv\n",
      "1226010097_636740_20221114_probeB_sorted/probe_info.json\n",
      "1226010097_636740_20221114_probeB_sorted/probe_depth_B.png\n",
      "1226010097_636740_20221114_probeB_sorted/events/Neuropix-PXI-100.0/TTL_1/channel_states.npy\n",
      "1226010097_636740_20221114_probeB_sorted/events/Neuropix-PXI-100.0/TTL_1/event_timestamps.npy\n",
      "1226010097_636740_20221114_probeB_sorted/continuous/Neuropix-PXI-100.1/continuous.dat\n",
      "1226010097_636740_20221114_probeB_sorted/continuous/Neuropix-PXI-100.1/lfp_timestamps.npy\n",
      "1226010097_636740_20221114_probeB_sorted/continuous/Neuropix-PXI-100.0/amplitudes.npy\n",
      "1226010097_636740_20221114_probeB_sorted/continuous/Neuropix-PXI-100.0/spike_times.npy\n",
      "1226010097_636740_20221114_probeB_sorted/continuous/Neuropix-PXI-100.0/mean_waveforms.npy\n",
      "1226010097_636740_20221114_probeB_sorted/continuous/Neuropix-PXI-100.0/spike_clusters.npy\n",
      "1226010097_636740_20221114_probeB_sorted/continuous/Neuropix-PXI-100.0/spike_templates.npy\n",
      "1226010097_636740_20221114_probeB_sorted/continuous/Neuropix-PXI-100.0/templates.npy\n",
      "1226010097_636740_20221114_probeB_sorted/continuous/Neuropix-PXI-100.0/whitening_mat.npy\n",
      "1226010097_636740_20221114_probeB_sorted/continuous/Neuropix-PXI-100.0/whitening_mat_inv.npy\n",
      "1226010097_636740_20221114_probeB_sorted/continuous/Neuropix-PXI-100.0/templates_ind.npy\n",
      "1226010097_636740_20221114_probeB_sorted/continuous/Neuropix-PXI-100.0/similar_templates.npy\n",
      "1226010097_636740_20221114_probeB_sorted/continuous/Neuropix-PXI-100.0/channel_positions.npy\n",
      "1226010097_636740_20221114_probeB_sorted/continuous/Neuropix-PXI-100.0/channel_map.npy\n",
      "1226010097_636740_20221114_probeB_sorted/continuous/Neuropix-PXI-100.0/params.py\n",
      "1226010097_636740_20221114_probeB_sorted/continuous/Neuropix-PXI-100.0/metrics.csv\n",
      "1226010097_636740_20221114_probeC_sorted/probe_info.json\n",
      "1226010097_636740_20221114_probeC_sorted/probe_depth_C.png\n",
      "1226010097_636740_20221114_probeC_sorted/events/Neuropix-PXI-100.0/TTL_1/channel_states.npy\n",
      "1226010097_636740_20221114_probeC_sorted/events/Neuropix-PXI-100.0/TTL_1/event_timestamps.npy\n",
      "1226010097_636740_20221114_probeC_sorted/continuous/Neuropix-PXI-100.1/continuous.dat\n",
      "1226010097_636740_20221114_probeC_sorted/continuous/Neuropix-PXI-100.1/lfp_timestamps.npy\n",
      "1226010097_636740_20221114_probeC_sorted/continuous/Neuropix-PXI-100.0/amplitudes.npy\n",
      "1226010097_636740_20221114_probeC_sorted/continuous/Neuropix-PXI-100.0/spike_times.npy\n",
      "1226010097_636740_20221114_probeC_sorted/continuous/Neuropix-PXI-100.0/mean_waveforms.npy\n",
      "1226010097_636740_20221114_probeC_sorted/continuous/Neuropix-PXI-100.0/spike_clusters.npy\n",
      "1226010097_636740_20221114_probeC_sorted/continuous/Neuropix-PXI-100.0/spike_templates.npy\n",
      "1226010097_636740_20221114_probeC_sorted/continuous/Neuropix-PXI-100.0/templates.npy\n",
      "1226010097_636740_20221114_probeC_sorted/continuous/Neuropix-PXI-100.0/whitening_mat.npy\n",
      "1226010097_636740_20221114_probeC_sorted/continuous/Neuropix-PXI-100.0/whitening_mat_inv.npy\n",
      "1226010097_636740_20221114_probeC_sorted/continuous/Neuropix-PXI-100.0/templates_ind.npy\n",
      "1226010097_636740_20221114_probeC_sorted/continuous/Neuropix-PXI-100.0/similar_templates.npy\n",
      "1226010097_636740_20221114_probeC_sorted/continuous/Neuropix-PXI-100.0/channel_positions.npy\n",
      "1226010097_636740_20221114_probeC_sorted/continuous/Neuropix-PXI-100.0/channel_map.npy\n",
      "1226010097_636740_20221114_probeC_sorted/continuous/Neuropix-PXI-100.0/params.py\n",
      "1226010097_636740_20221114_probeC_sorted/continuous/Neuropix-PXI-100.0/metrics.csv\n",
      "1226010097_636740_20221114_probeD_sorted/probe_info.json\n",
      "1226010097_636740_20221114_probeD_sorted/probe_depth_D.png\n",
      "1226010097_636740_20221114_probeD_sorted/events/Neuropix-PXI-100.0/TTL_1/channel_states.npy\n",
      "1226010097_636740_20221114_probeD_sorted/events/Neuropix-PXI-100.0/TTL_1/event_timestamps.npy\n",
      "1226010097_636740_20221114_probeD_sorted/continuous/Neuropix-PXI-100.1/continuous.dat\n",
      "1226010097_636740_20221114_probeD_sorted/continuous/Neuropix-PXI-100.1/lfp_timestamps.npy\n",
      "1226010097_636740_20221114_probeD_sorted/continuous/Neuropix-PXI-100.0/amplitudes.npy\n",
      "1226010097_636740_20221114_probeD_sorted/continuous/Neuropix-PXI-100.0/spike_times.npy\n",
      "1226010097_636740_20221114_probeD_sorted/continuous/Neuropix-PXI-100.0/mean_waveforms.npy\n",
      "1226010097_636740_20221114_probeD_sorted/continuous/Neuropix-PXI-100.0/spike_clusters.npy\n",
      "1226010097_636740_20221114_probeD_sorted/continuous/Neuropix-PXI-100.0/spike_templates.npy\n",
      "1226010097_636740_20221114_probeD_sorted/continuous/Neuropix-PXI-100.0/templates.npy\n",
      "1226010097_636740_20221114_probeD_sorted/continuous/Neuropix-PXI-100.0/whitening_mat.npy\n",
      "1226010097_636740_20221114_probeD_sorted/continuous/Neuropix-PXI-100.0/whitening_mat_inv.npy\n",
      "1226010097_636740_20221114_probeD_sorted/continuous/Neuropix-PXI-100.0/templates_ind.npy\n",
      "1226010097_636740_20221114_probeD_sorted/continuous/Neuropix-PXI-100.0/similar_templates.npy\n",
      "1226010097_636740_20221114_probeD_sorted/continuous/Neuropix-PXI-100.0/channel_positions.npy\n",
      "1226010097_636740_20221114_probeD_sorted/continuous/Neuropix-PXI-100.0/channel_map.npy\n",
      "1226010097_636740_20221114_probeD_sorted/continuous/Neuropix-PXI-100.0/params.py\n",
      "1226010097_636740_20221114_probeD_sorted/continuous/Neuropix-PXI-100.0/metrics.csv\n",
      "1226010097_636740_20221114_probeE_sorted/probe_info.json\n",
      "1226010097_636740_20221114_probeE_sorted/probe_depth_E.png\n",
      "1226010097_636740_20221114_probeE_sorted/events/Neuropix-PXI-100.0/TTL_1/channel_states.npy\n",
      "1226010097_636740_20221114_probeE_sorted/events/Neuropix-PXI-100.0/TTL_1/event_timestamps.npy\n",
      "1226010097_636740_20221114_probeE_sorted/continuous/Neuropix-PXI-100.1/continuous.dat\n",
      "1226010097_636740_20221114_probeE_sorted/continuous/Neuropix-PXI-100.1/lfp_timestamps.npy\n",
      "1226010097_636740_20221114_probeE_sorted/continuous/Neuropix-PXI-100.0/amplitudes.npy\n",
      "1226010097_636740_20221114_probeE_sorted/continuous/Neuropix-PXI-100.0/spike_times.npy\n",
      "1226010097_636740_20221114_probeE_sorted/continuous/Neuropix-PXI-100.0/mean_waveforms.npy\n",
      "1226010097_636740_20221114_probeE_sorted/continuous/Neuropix-PXI-100.0/spike_clusters.npy\n",
      "1226010097_636740_20221114_probeE_sorted/continuous/Neuropix-PXI-100.0/spike_templates.npy\n",
      "1226010097_636740_20221114_probeE_sorted/continuous/Neuropix-PXI-100.0/templates.npy\n",
      "1226010097_636740_20221114_probeE_sorted/continuous/Neuropix-PXI-100.0/whitening_mat.npy\n",
      "1226010097_636740_20221114_probeE_sorted/continuous/Neuropix-PXI-100.0/whitening_mat_inv.npy\n",
      "1226010097_636740_20221114_probeE_sorted/continuous/Neuropix-PXI-100.0/templates_ind.npy\n",
      "1226010097_636740_20221114_probeE_sorted/continuous/Neuropix-PXI-100.0/similar_templates.npy\n",
      "1226010097_636740_20221114_probeE_sorted/continuous/Neuropix-PXI-100.0/channel_positions.npy\n",
      "1226010097_636740_20221114_probeE_sorted/continuous/Neuropix-PXI-100.0/channel_map.npy\n",
      "1226010097_636740_20221114_probeE_sorted/continuous/Neuropix-PXI-100.0/params.py\n",
      "1226010097_636740_20221114_probeE_sorted/continuous/Neuropix-PXI-100.0/metrics.csv\n",
      "1226010097_636740_20221114_probeF_sorted/probe_info.json\n",
      "1226010097_636740_20221114_probeF_sorted/probe_depth_F.png\n",
      "1226010097_636740_20221114_probeF_sorted/events/Neuropix-PXI-100.0/TTL_1/channel_states.npy\n",
      "1226010097_636740_20221114_probeF_sorted/events/Neuropix-PXI-100.0/TTL_1/event_timestamps.npy\n",
      "1226010097_636740_20221114_probeF_sorted/continuous/Neuropix-PXI-100.1/continuous.dat\n",
      "1226010097_636740_20221114_probeF_sorted/continuous/Neuropix-PXI-100.1/lfp_timestamps.npy\n",
      "1226010097_636740_20221114_probeF_sorted/continuous/Neuropix-PXI-100.0/amplitudes.npy\n",
      "1226010097_636740_20221114_probeF_sorted/continuous/Neuropix-PXI-100.0/spike_times.npy\n",
      "1226010097_636740_20221114_probeF_sorted/continuous/Neuropix-PXI-100.0/mean_waveforms.npy\n",
      "1226010097_636740_20221114_probeF_sorted/continuous/Neuropix-PXI-100.0/spike_clusters.npy\n",
      "1226010097_636740_20221114_probeF_sorted/continuous/Neuropix-PXI-100.0/spike_templates.npy\n",
      "1226010097_636740_20221114_probeF_sorted/continuous/Neuropix-PXI-100.0/templates.npy\n",
      "1226010097_636740_20221114_probeF_sorted/continuous/Neuropix-PXI-100.0/whitening_mat.npy\n",
      "1226010097_636740_20221114_probeF_sorted/continuous/Neuropix-PXI-100.0/whitening_mat_inv.npy\n",
      "1226010097_636740_20221114_probeF_sorted/continuous/Neuropix-PXI-100.0/templates_ind.npy\n",
      "1226010097_636740_20221114_probeF_sorted/continuous/Neuropix-PXI-100.0/similar_templates.npy\n",
      "1226010097_636740_20221114_probeF_sorted/continuous/Neuropix-PXI-100.0/channel_positions.npy\n",
      "1226010097_636740_20221114_probeF_sorted/continuous/Neuropix-PXI-100.0/channel_map.npy\n",
      "1226010097_636740_20221114_probeF_sorted/continuous/Neuropix-PXI-100.0/params.py\n",
      "1226010097_636740_20221114_probeF_sorted/continuous/Neuropix-PXI-100.0/metrics.csv\n",
      "1226010097_636740_20221114_platformD1.json\n"
     ]
    }
   ],
   "source": [
    "src_file_list = []\n",
    "sorted_files = []\n",
    "for name, path in zip(names, paths):\n",
    "    \n",
    "    if path is None or name not in session.platform_json.files:\n",
    "        continue    \n",
    "    \n",
    "    # specify selection of sorted data files to transfer (excl. AP continuous.dat)\n",
    "    if name in tuple(f'ephys_raw_data_probe_{_}_sorted' for _ in 'ABCDEF'):\n",
    "        sorted_files = session.D2.paths_sorted_data if not sorted_files else sorted_files\n",
    "        src_file_list.extend(_ for _ in sorted_files if path in _.parents) #if path is None this should raise \n",
    "        continue\n",
    "    \n",
    "    src_file_list.append(path)\n",
    "    \n",
    "# add platform json last as a sentinel for successful transfer \n",
    "src_file_list.append(session.platform_json.path)\n",
    "\n",
    "if any(missing := tuple(_ for _ in src_file_list if not _.exists())):\n",
    "    raise FileNotFoundError('Some files do not exist: ', missing)\n",
    "\n",
    "file_manifest.write_text(\n",
    "    '\\n'.join(_.relative_to(session.npexp_path).as_posix() for _ in src_file_list),\n",
    "    newline='\\n'\n",
    "    )\n",
    "print(file_manifest.read_text())"
   ]
  },
  {
   "cell_type": "code",
   "execution_count": 36,
   "metadata": {},
   "outputs": [
    {
     "data": {
      "text/plain": [
       "'rsync -arv --log-file=//allen/scratch/aibstemp/svc_neuropix/lims_uploads/1226010097_2023-03-18_2253.log --files-from=//allen/scratch/aibstemp/svc_neuropix/lims_uploads/1226010097_2023-03-18_2253.txt //allen/programs/mindscope/workgroups/np-exp/1226010097_636740_20221114 //allen/programs/braintv/production/incoming/neuralcoding'"
      ]
     },
     "execution_count": 36,
     "metadata": {},
     "output_type": "execute_result"
    }
   ],
   "source": [
    "rsync_cmd = f'rsync -arv --log-file={file_manifest.with_suffix(\".log\").as_posix()} --files-from={file_manifest.as_posix()} {session.npexp_path.as_posix()} {np_session.INCOMING_ROOT.as_posix()}'\n",
    "rsync_cmd"
   ]
  },
  {
   "cell_type": "markdown",
   "metadata": {},
   "source": [
    "Write shell script for the transfer"
   ]
  },
  {
   "cell_type": "code",
   "execution_count": 37,
   "metadata": {},
   "outputs": [
    {
     "data": {
      "text/plain": [
       "1241"
      ]
     },
     "execution_count": 37,
     "metadata": {},
     "output_type": "execute_result"
    }
   ],
   "source": [
    "shell_script_cmd = f\"\"\"#!/bin/bash\n",
    "#SBATCH --job-name=npexp_to_incoming                        # Job name\n",
    "#SBATCH --mail-type=END,FAIL                                # Mail events (NONE, BEGIN, END, FAIL, ALL)\n",
    "#SBATCH --mail-user=ben.hardcaslt@alleninstitute.org        # Where to send mail  \n",
    "#SBATCH --ntasks=1                                          # Run on a single CPU\n",
    "#SBATCH --mem=4gb                                           # Job memory request (per node)\n",
    "#SBATCH --time=02:00:00                                     # Time limit hrs:min:sec\n",
    "#SBATCH --output=npexp_to_incoming_%j.log                   # Standard output and error log\n",
    "#SBATCH --partition braintv                                 # Partition used for processing\n",
    "#SBATCH --tmp=100M                                          # Request the amount of space your jobs needs on /scratch/fast\n",
    " \n",
    "pwd; hostname; date\n",
    " \n",
    "echo 'Running rsync job on a single thread'\n",
    "\n",
    "{rsync_cmd}\n",
    " \n",
    "date\n",
    "\"\"\"\n",
    "\n",
    "shell_script.write_text(shell_script_cmd, newline='\\n') \n",
    "# if writing on Windows, newline=\\r\\n by default, which isn't compatible with bash on linux"
   ]
  },
  {
   "cell_type": "code",
   "execution_count": 38,
   "metadata": {},
   "outputs": [
    {
     "name": "stdout",
     "output_type": "stream",
     "text": [
      "Submitted batch job 8389951\n"
     ]
    }
   ],
   "source": [
    "import fabric\n",
    "import np_config\n",
    "\n",
    "login = np_config.fetch('/logins')['svc_neuropix']\n",
    "with fabric.Connection(\n",
    "        host='svc_neuropix@hpc-login',\n",
    "        connect_kwargs={'password': login['password']},\n",
    "    ) as ssh:\n",
    "    ssh.run(f'sbatch {shell_script.as_posix()}')"
   ]
  },
  {
   "cell_type": "code",
   "execution_count": 39,
   "metadata": {},
   "outputs": [
    {
     "name": "stdout",
     "output_type": "stream",
     "text": [
      "Waiting for transfer to complete...\n",
      "Transfer complete\n"
     ]
    }
   ],
   "source": [
    "import time\n",
    "\n",
    "destination_file_list = [np_session.INCOMING_ROOT / _.relative_to(session.npexp_path) for _ in src_file_list]\n",
    "\n",
    "while not all(_.exists() for _ in destination_file_list):\n",
    "    print('Waiting for transfer to complete...\\r', end='', flush=True)\n",
    "    time.sleep(10)\n",
    "    \n",
    "print('\\nTransfer complete')"
   ]
  },
  {
   "cell_type": "markdown",
   "metadata": {},
   "source": [
    "Check platform json for upload"
   ]
  },
  {
   "cell_type": "code",
   "execution_count": 40,
   "metadata": {},
   "outputs": [
    {
     "data": {
      "application/json": {
       "CartridgeLowerTime": "20221114124643",
       "DiINotes": {
        "EndTime": "20221114122435",
        "StartTime": "20221114121105",
        "dii_description": "CM-DiI 100%",
        "times_dipped": "7"
       },
       "ExperimentCompleteTime": "20221114151146",
       "ExperimentNotes": {
        "BleedingOnInsertion": {},
        "BleedingOnRemoval": {}
       },
       "ExperimentStartTime": "20221114132925",
       "HardwareConfiguration": {
        "behavior_camera_position": {
         "center_x_mm": -214.9,
         "center_y_mm": -41.2,
         "center_z_mm": -20.8,
         "rotation_x_deg": 5.3,
         "rotation_y_deg": -10.9,
         "rotation_z_deg": 0
        },
        "behavior_led_position": {
         "center_x_mm": -229.7,
         "center_y_mm": 8.9,
         "center_z_mm": -10.3,
         "rotation_x_deg": 0,
         "rotation_y_deg": 0,
         "rotation_z_deg": 0
        },
        "eye_camera_position": {
         "center_x_mm": 102.8,
         "center_y_mm": 74.7,
         "center_z_mm": 31.6,
         "rotation_x_deg": 0,
         "rotation_y_deg": 0,
         "rotation_z_deg": 2.8
        },
        "eye_led_position": {
         "center_x_mm": 246,
         "center_y_mm": 92.3,
         "center_z_mm": 52.6,
         "rotation_x_deg": 0,
         "rotation_y_deg": 0,
         "rotation_z_deg": 0
        },
        "face_camera_position": {
         "center_x_mm": -31,
         "center_y_mm": 124.7,
         "center_z_mm": 55.5,
         "rotation_x_deg": 3.6,
         "rotation_y_deg": -3.7,
         "rotation_z_deg": 0
        },
        "face_led_position": {
         "center_x_mm": -65.1,
         "center_y_mm": 115.8,
         "center_z_mm": 54.4,
         "rotation_x_deg": 0,
         "rotation_y_deg": 0,
         "rotation_z_deg": 0
        },
        "led_position": {
         "center_x_mm": 246,
         "center_y_mm": 92.3,
         "center_z_mm": 52.6,
         "rotation_x_deg": 0,
         "rotation_y_deg": 0,
         "rotation_z_deg": 0
        },
        "newscale_controller_serial_numbers": {
         "A": 34027,
         "B": 31056,
         "C": 32141,
         "D": 32146,
         "E": 32139,
         "F": 32145
        },
        "screen_position": {
         "center_x_mm": 118.6,
         "center_y_mm": 86.2,
         "center_z_mm": 31.6,
         "rotation_x_deg": 0,
         "rotation_y_deg": 0,
         "rotation_z_deg": 0
        }
       },
       "HeadFrameEntryTime": "20221114124504",
       "HeadFrameExitTime": "20221114152258",
       "InsertionNotes": {},
       "ProbeInsertionCompleteTime": "20221114131817",
       "ProbeInsertionStartTime": "20221114130151",
       "files": {
        "area_classifications": {
         "filename": "1226010097_636740_20221114.areaClassifications.csv"
        },
        "beh_cam_json": {
         "filename": "1226010097_636740_20221114.behavior.json"
        },
        "behavior_stimulus": {
         "filename": "1226010097_636740_20221114.behavior.pkl"
        },
        "behavior_tracking": {
         "filename": "1226010097_636740_20221114.behavior.mp4"
        },
        "brain_surface_image_left": {
         "filename": "1226010097_636740_20221114_surface-image2.png"
        },
        "brain_surface_image_right": {
         "filename": "1226010097_636740_20221114_surface-image2.png"
        },
        "ephys_raw_data_probe_A_sorted": {
         "directory_name": "1226010097_636740_20221114_probeA_sorted"
        },
        "ephys_raw_data_probe_B_sorted": {
         "directory_name": "1226010097_636740_20221114_probeB_sorted"
        },
        "ephys_raw_data_probe_C_sorted": {
         "directory_name": "1226010097_636740_20221114_probeC_sorted"
        },
        "ephys_raw_data_probe_D_sorted": {
         "directory_name": "1226010097_636740_20221114_probeD_sorted"
        },
        "ephys_raw_data_probe_E_sorted": {
         "directory_name": "1226010097_636740_20221114_probeE_sorted"
        },
        "ephys_raw_data_probe_F_sorted": {
         "directory_name": "1226010097_636740_20221114_probeF_sorted"
        },
        "eye_cam_json": {
         "filename": "1226010097_636740_20221114.eye.json"
        },
        "eye_tracking": {
         "filename": "1226010097_636740_20221114.eye.mp4"
        },
        "face_cam_json": {
         "filename": "1226010097_636740_20221114.face.json"
        },
        "face_tracking": {
         "filename": "1226010097_636740_20221114.face.mp4"
        },
        "fiducial_image": {
         "filename": "1226010097_636740_20221114.fiducial.png"
        },
        "insertion_location_image": {
         "filename": "1226010097_636740_20221114.insertionLocation.png"
        },
        "isi _registration_coordinates": {
         "filename": "1226010097_636740_20221114.ISIregistration.npz"
        },
        "isi_registration_coordinates": {
         "filename": "1226010097_636740_20221114.ISIregistration.npz"
        },
        "newstep_csv": {
         "filename": "1226010097_636740_20221114.motor-locs.csv"
        },
        "optogenetic_stimulus": {
         "filename": "1226010097_636740_20221114.opto.pkl"
        },
        "overlay_image": {
         "filename": "1226010097_636740_20221114.overlay.png"
        },
        "post_experiment_surface_image_left": {
         "filename": "1226010097_636740_20221114_surface-image6.png"
        },
        "post_experiment_surface_image_right": {
         "filename": "1226010097_636740_20221114_surface-image6.png"
        },
        "post_insertion_surface_image_left": {
         "filename": "1226010097_636740_20221114_surface-image4.png"
        },
        "post_insertion_surface_image_right": {
         "filename": "1226010097_636740_20221114_surface-image4.png"
        },
        "post_stimulus_surface_image_left": {
         "filename": "1226010097_636740_20221114_surface-image5.png"
        },
        "post_stimulus_surface_image_right": {
         "filename": "1226010097_636740_20221114_surface-image5.png"
        },
        "pre_experiment_surface_image_left": {
         "filename": "1226010097_636740_20221114_surface-image1.png"
        },
        "pre_experiment_surface_image_right": {
         "filename": "1226010097_636740_20221114_surface-image1.png"
        },
        "pre_insertion_surface_image_left": {
         "filename": "1226010097_636740_20221114_surface-image3.png"
        },
        "pre_insertion_surface_image_right": {
         "filename": "1226010097_636740_20221114_surface-image3.png"
        },
        "probelocator_insertions_in_rig_image_space": {
         "filename": "probelocator_1226010097_636740_20221114_insertions_in_rig_image_space.csv"
        },
        "probelocator_insertions_in_vasculature_image_space": {
         "filename": "probelocator_1226010097_636740_20221114_insertions_in_vasculature_image_space.csv"
        },
        "synchronization_data": {
         "filename": "1226010097_636740_20221114.sync"
        },
        "visual_stimulus": {
         "filename": "1226010097_636740_20221114.mapping.pkl"
        }
       },
       "foraging_id": "025fb153-35dd-4f63-ada2-44c238bd9ed4",
       "foraging_id_list": [
        "0973905b-b697-4b5c-8388-5af115e37176"
       ],
       "hab": false,
       "manifest_creation_time": "20221114153401",
       "manipulator_coordinates": {},
       "mouseID": "636740",
       "mouse_weight_post": "20.2",
       "mouse_weight_pre": "0",
       "mouse_weight_pre_float": 0,
       "operatorID": "henry.loeffler",
       "platform_json_creation_time": "",
       "platform_json_save_time": "20230318225347",
       "probe_A_DiI_depth": "6000",
       "probe_B_DiI_depth": "6000",
       "probe_C_DiI_depth": "6000",
       "probe_D_DiI_depth": "6000",
       "probe_E_DiI_depth": "6000",
       "probe_F_DiI_depth": "6000",
       "project": "DynamicRoutingTask1Production",
       "rig_id": "NP.1",
       "script_name": "\\\\W10DT713942\\C\\ProgramData\\AIBS_MPE\\camstim\\logs\\221114132944\\EPHYS_1_221114132944.py",
       "sessionID": "1226010097",
       "stimulus_name": "EPHYS_1",
       "water_calibration_heights": [
        50
       ],
       "water_calibration_volumes": [
        0.03
       ],
       "water_supplement": 0.94,
       "wfl_version": 1,
       "wheel_height": "0",
       "workflow": "np.workflows.behavior.neuropixel_workflow_remaster",
       "workflow_complete_time": "20221114153856",
       "workflow_start_time": "20221114120225"
      },
      "text/plain": [
       "<IPython.core.display.JSON object>"
      ]
     },
     "execution_count": 40,
     "metadata": {
      "application/json": {
       "expanded": false,
       "root": "root"
      }
     },
     "output_type": "execute_result"
    }
   ],
   "source": [
    "import shutil\n",
    "dest_platform_json = np_session.INCOMING_ROOT / session.platform_json.path.name\n",
    "shutil.copy2(session.platform_json.path, dest_platform_json)\n",
    "IPython.display.JSON(np_session.INCOMING_ROOT / session.platform_json.path.name)"
   ]
  },
  {
   "cell_type": "code",
   "execution_count": 41,
   "metadata": {},
   "outputs": [
    {
     "name": "stderr",
     "output_type": "stream",
     "text": [
      "No platform json found for 1226010097 in incoming dir - lims upload job will fail when triggered: \\\\allen\\programs\\braintv\\production\\incoming\\neuralcoding\n"
     ]
    },
    {
     "name": "stdout",
     "output_type": "stream",
     "text": [
      "Trigger file written\n"
     ]
    }
   ],
   "source": [
    "np_session.write_trigger_file(session)\n",
    "print('Trigger file written')"
   ]
  }
 ],
 "metadata": {
  "kernelspec": {
   "display_name": "Python 3.11.1 ('.venv': poetry)",
   "language": "python",
   "name": "python3"
  },
  "language_info": {
   "codemirror_mode": {
    "name": "ipython",
    "version": 3
   },
   "file_extension": ".py",
   "mimetype": "text/x-python",
   "name": "python",
   "nbconvert_exporter": "python",
   "pygments_lexer": "ipython3",
   "version": "3.11.1"
  },
  "orig_nbformat": 4,
  "vscode": {
   "interpreter": {
    "hash": "75a294dbf81199b26941ed5b32867c59e8bcc1170a51aebad9d5a69e8ca694a9"
   }
  }
 },
 "nbformat": 4,
 "nbformat_minor": 2
}
