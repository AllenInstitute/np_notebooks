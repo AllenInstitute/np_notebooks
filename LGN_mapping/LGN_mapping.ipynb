{
 "cells": [
  {
   "attachments": {},
   "cell_type": "markdown",
   "metadata": {},
   "source": [
    "# *Mapping-only experiment for test experiments to find LGN*"
   ]
  },
  {
   "cell_type": "markdown",
   "metadata": {},
   "source": [
    "## Run the update/reset shortcut on the desktop before each experiment\n",
    "***\n",
    "***\n",
    "# **Without mouse on stage**"
   ]
  },
  {
   "cell_type": "code",
   "execution_count": 8,
   "metadata": {
    "tags": []
   },
   "outputs": [
    {
     "data": {
      "application/vnd.jupyter.widget-view+json": {
       "model_id": "d286d8be2f664adda5844d5e767f6d0d",
       "version_major": 2,
       "version_minor": 0
      },
      "text/plain": [
       "VBox(children=(Label(value='Elapsed time: 43h 04m 52s'), Label(value='Remember to restart JupyterLab and run u…"
      ]
     },
     "metadata": {},
     "output_type": "display_data"
    }
   ],
   "source": [
    "import contextlib\n",
    "import time\n",
    "\n",
    "import np_config\n",
    "import np_jobs\n",
    "import np_logging\n",
    "import np_services\n",
    "import np_workflows\n",
    "from np_workflows import npxc\n",
    "import np_workflows.experiments.task_trained_network as TTN\n",
    "\n",
    "np_logging.getLogger()\n",
    "\n",
    "np_workflows.elapsed_time_widget()"
   ]
  },
  {
   "cell_type": "markdown",
   "metadata": {},
   "source": [
    "***\n",
    "## Quiet mode\n",
    "**on**  [*default*]\n",
    "- error details are hidden\n",
    "- regular messages displayed (log level = INFO)\n",
    "\n",
    "**off**\n",
    "- full error details (with traceback)\n",
    "- extra messages displayed (log level = DEBUG)"
   ]
  },
  {
   "cell_type": "code",
   "execution_count": 9,
   "metadata": {
    "tags": []
   },
   "outputs": [
    {
     "data": {
      "application/vnd.jupyter.widget-view+json": {
       "model_id": "7cada9c49984469394ad49aa28549ff2",
       "version_major": 2,
       "version_minor": 0
      },
      "text/plain": [
       "ToggleButton(value=True, button_style='info', description='Quiet mode is on', icon='check', tooltip='Quiet mod…"
      ]
     },
     "metadata": {},
     "output_type": "display_data"
    }
   ],
   "source": [
    "np_workflows.quiet_mode_widget()"
   ]
  },
  {
   "cell_type": "markdown",
   "metadata": {},
   "source": [
    "***\n",
    "## Launch apps via RSC\n",
    "[optional]"
   ]
  },
  {
   "cell_type": "code",
   "execution_count": null,
   "metadata": {
    "tags": []
   },
   "outputs": [],
   "source": [
    "with contextlib.suppress(Exception):\n",
    "    np_services.start_rsc_apps()"
   ]
  },
  {
   "cell_type": "markdown",
   "metadata": {},
   "source": [
    "***\n",
    "## Select mouse and user"
   ]
  },
  {
   "cell_type": "code",
   "execution_count": null,
   "metadata": {
    "tags": []
   },
   "outputs": [],
   "source": [
    "user, mouse = np_workflows.user_and_mouse_widget()"
   ]
  },
  {
   "attachments": {},
   "cell_type": "markdown",
   "metadata": {},
   "source": [
    "***\n",
    "## Select `EPHYS`\n",
    "Re-run cell this cell if mouse ID is changed"
   ]
  },
  {
   "cell_type": "code",
   "execution_count": null,
   "metadata": {
    "tags": []
   },
   "outputs": [],
   "source": [
    "selected_session = TTN.stim_session_select_widget(mouse)"
   ]
  },
  {
   "cell_type": "markdown",
   "metadata": {},
   "source": [
    "***\n",
    "## Generate new session\n",
    "Check mouse ID and session are correct: this cell will lock them in!"
   ]
  },
  {
   "cell_type": "code",
   "execution_count": null,
   "metadata": {
    "tags": []
   },
   "outputs": [],
   "source": [
    "experiment: TTN.Ephys | TTN.Hab = TTN.new_experiment(mouse, user, selected_session.session)\n",
    "\n",
    "session, platform_json = experiment.session, experiment.session.platform_json\n",
    "\n",
    "platform_json.workflow_start_time = npxc.now()\n",
    "hab: bool = isinstance(experiment, TTN.Hab)"
   ]
  },
  {
   "cell_type": "markdown",
   "metadata": {},
   "source": [
    "***\n",
    "## Checks before starting"
   ]
  },
  {
   "cell_type": "markdown",
   "metadata": {},
   "source": [
    "### **Ephys day 2?** \n",
    "Don't forget to adjust probe targeting!"
   ]
  },
  {
   "cell_type": "code",
   "execution_count": null,
   "metadata": {
    "tags": []
   },
   "outputs": [],
   "source": [
    "np_workflows.check_hardware_widget()"
   ]
  },
  {
   "cell_type": "code",
   "execution_count": null,
   "metadata": {
    "tags": []
   },
   "outputs": [],
   "source": [
    "if not hab:\n",
    "    np_workflows.check_openephys_widget()"
   ]
  },
  {
   "cell_type": "markdown",
   "metadata": {
    "tags": []
   },
   "source": [
    "***\n",
    "## Setup, test, reset all components\n",
    "*This cell must not be skipped!*"
   ]
  },
  {
   "cell_type": "code",
   "execution_count": null,
   "metadata": {},
   "outputs": [],
   "source": [
    "experiment.initialize_and_test_services()"
   ]
  },
  {
   "cell_type": "markdown",
   "metadata": {},
   "source": [
    "***\n",
    "## Dip probes"
   ]
  },
  {
   "cell_type": "code",
   "execution_count": null,
   "metadata": {
    "tags": []
   },
   "outputs": [],
   "source": [
    "if not hab:\n",
    "    print(np_workflows.dye_info_widget.__doc__)\n",
    "    np_workflows.dye_info_widget(session)"
   ]
  },
  {
   "cell_type": "markdown",
   "metadata": {},
   "source": [
    "## Photodoc of probes in dye"
   ]
  },
  {
   "cell_type": "code",
   "execution_count": null,
   "metadata": {},
   "outputs": [],
   "source": [
    "if not hab:\n",
    "    np_workflows.photodoc_widget('pre_experiment_surface_image')"
   ]
  },
  {
   "cell_type": "markdown",
   "metadata": {},
   "source": [
    "## Probe depths in dye"
   ]
  },
  {
   "cell_type": "code",
   "execution_count": null,
   "metadata": {},
   "outputs": [],
   "source": [
    "if not hab:\n",
    "    np_workflows.probe_depth_widget(session)"
   ]
  },
  {
   "cell_type": "markdown",
   "metadata": {},
   "source": [
    "***\n",
    "***\n",
    "# **With mouse on stage**\n",
    "## Before lowering cartridge"
   ]
  },
  {
   "cell_type": "code",
   "execution_count": null,
   "metadata": {
    "tags": []
   },
   "outputs": [],
   "source": [
    "platform_json.HeadFrameEntryTime = npxc.now()\n",
    "np_workflows.wheel_height_widget(session)\n",
    "np_workflows.check_mouse_widget()"
   ]
  },
  {
   "cell_type": "markdown",
   "metadata": {},
   "source": [
    "***\n",
    "## When cartridge is lowered\n",
    "\n",
    "### Set zoom to 4.0 for photodocs of brain\n",
    "- focus on the brain surface\n",
    "\n",
    "## Photodoc of brain (tap probes if hab Day1 or Day2)"
   ]
  },
  {
   "cell_type": "code",
   "execution_count": null,
   "metadata": {
    "tags": []
   },
   "outputs": [],
   "source": [
    "platform_json.CartridgeLowerTime = npxc.now()\n",
    "np_workflows.photodoc_widget('brain_surface_image')"
   ]
  },
  {
   "cell_type": "markdown",
   "metadata": {},
   "source": [
    "***\n",
    "## ISI map"
   ]
  },
  {
   "cell_type": "code",
   "execution_count": null,
   "metadata": {},
   "outputs": [],
   "source": [
    "np_workflows.isi_widget(mouse.lims)"
   ]
  },
  {
   "cell_type": "markdown",
   "metadata": {},
   "source": [
    "***\n",
    "## Probe insertion"
   ]
  },
  {
   "cell_type": "code",
   "execution_count": null,
   "metadata": {
    "tags": []
   },
   "outputs": [],
   "source": [
    "if not hab:\n",
    "    platform_json.ProbeInsertionStartTime = npxc.now()"
   ]
  },
  {
   "cell_type": "markdown",
   "metadata": {},
   "source": [
    "***\n",
    "## Photodoc before advancing probes"
   ]
  },
  {
   "cell_type": "code",
   "execution_count": null,
   "metadata": {
    "tags": []
   },
   "outputs": [],
   "source": [
    "if not hab:\n",
    "    np_workflows.photodoc_widget('pre_insertion_surface_image')"
   ]
  },
  {
   "cell_type": "markdown",
   "metadata": {},
   "source": [
    "***\n",
    "## Settle timer & insertion notes\n",
    "\n",
    "- run both cells now: settle timer will start\n",
    "\n",
    "- fill out probe notes while waiting\n",
    "\n",
    "- press Save once\n",
    "\n",
    "- notes are saved when the timer finishes (button will turn green to confirm)"
   ]
  },
  {
   "cell_type": "code",
   "execution_count": null,
   "metadata": {},
   "outputs": [],
   "source": [
    "if not hab:\n",
    "    np_workflows.insertion_notes_widget(session)"
   ]
  },
  {
   "cell_type": "code",
   "execution_count": null,
   "metadata": {
    "tags": []
   },
   "outputs": [],
   "source": [
    "np_workflows.print_countdown_timer(minutes=40)"
   ]
  },
  {
   "cell_type": "markdown",
   "metadata": {},
   "source": [
    "***\n",
    "## Photodoc after probes settled, before experiment"
   ]
  },
  {
   "cell_type": "code",
   "execution_count": null,
   "metadata": {
    "tags": []
   },
   "outputs": [],
   "source": [
    "if not hab:\n",
    "    np_workflows.photodoc_widget('post_insertion_surface_image')"
   ]
  },
  {
   "cell_type": "code",
   "execution_count": null,
   "metadata": {},
   "outputs": [],
   "source": [
    "np_workflows.pre_stim_check_widget()"
   ]
  },
  {
   "cell_type": "markdown",
   "metadata": {},
   "source": [
    "***\n",
    "## Start devices recording"
   ]
  },
  {
   "cell_type": "code",
   "execution_count": null,
   "metadata": {
    "tags": []
   },
   "outputs": [],
   "source": [
    "last_exception = Exception()\n",
    "attempts = 3\n",
    "while attempts:\n",
    "    np_logging.getLogger().info('Waiting for recorders to finish processing') \n",
    "    while not all(r.is_ready_to_start() for r in experiment.recorders):\n",
    "        time.sleep(1)\n",
    "    np_logging.getLogger().info('Recorders ready')     \n",
    "    try:\n",
    "        experiment.start_recording()\n",
    "    except AssertionError as exc:\n",
    "        np_logging.getLogger().info('`experiment.start_recording` failed: trying again')\n",
    "        attempts -= 1\n",
    "        last_exception = exc              # exc only exists within the try block\n",
    "    \n",
    "    else:\n",
    "        break\n",
    "else:\n",
    "    np_logging.getLogger().error(f'`experiment.start_recording` failed after multiple attempts', exc_info=last_exception)\n",
    "    raise last_exception"
   ]
  },
  {
   "attachments": {},
   "cell_type": "markdown",
   "metadata": {},
   "source": [
    "***\n",
    "# Make mapping stimulus longer than usual\n",
    "Gabors only, remove plain flash stims (which aren't used for QC RFs)"
   ]
  },
  {
   "cell_type": "code",
   "execution_count": null,
   "metadata": {},
   "outputs": [],
   "source": [
    "stim = 'mapping'\n",
    "params = experiment.params\n",
    "params[stim]['max_total_duration_minutes'] = 21\n",
    "params[stim]['default_gabor_duration_seconds'] = 20 * 60\n",
    "params[stim]['default_flash_duration_seconds'] = 10"
   ]
  },
  {
   "attachments": {},
   "cell_type": "markdown",
   "metadata": {},
   "source": [
    "***\n",
    "## Start stimulus script\n",
    "| mapping |"
   ]
  },
  {
   "cell_type": "code",
   "execution_count": null,
   "metadata": {},
   "outputs": [],
   "source": [
    "\n",
    "np_services.ScriptCamstim.params = params[stim]\n",
    "np_services.ScriptCamstim.script = experiment.scripts[stim]\n",
    "\n",
    "np_services.ScriptCamstim.start()\n",
    "\n",
    "with contextlib.suppress(Exception):\n",
    "    np_logging.web(f'lgn_test_{experiment.ttn_session.name.lower()}').info(f\"{stim.capitalize()} {stim} started\")\n",
    "\n",
    "with contextlib.suppress(Exception):\n",
    "    while not np_services.ScriptCamstim.is_ready_to_start():\n",
    "        time.sleep(2.5)\n",
    "    \n",
    "if isinstance(np_services.ScriptCamstim, np_services.Finalizable):\n",
    "    np_services.ScriptCamstim.finalize()\n",
    "\n",
    "with contextlib.suppress(Exception):\n",
    "    np_logging.web(f'lgn_test_{experiment.ttn_session.name.lower()}').info(f\"{stim.capitalize()} {stim} finished\")"
   ]
  },
  {
   "cell_type": "markdown",
   "metadata": {},
   "source": [
    "***\n",
    "## Stop recording"
   ]
  },
  {
   "cell_type": "code",
   "execution_count": null,
   "metadata": {
    "tags": []
   },
   "outputs": [],
   "source": [
    "experiment.stop_recording_after_stim_finished()"
   ]
  },
  {
   "cell_type": "markdown",
   "metadata": {},
   "source": [
    "***\n",
    "## Before removing probes"
   ]
  },
  {
   "cell_type": "code",
   "execution_count": null,
   "metadata": {
    "tags": []
   },
   "outputs": [],
   "source": [
    "if not hab:\n",
    "    np_workflows.photodoc_widget('post_stimulus_surface_image')"
   ]
  },
  {
   "cell_type": "markdown",
   "metadata": {},
   "source": [
    "***\n",
    "## After fully retracting probes"
   ]
  },
  {
   "cell_type": "code",
   "execution_count": null,
   "metadata": {
    "tags": []
   },
   "outputs": [],
   "source": [
    "if not hab:\n",
    "    np_workflows.photodoc_widget('post_experiment_surface_image')"
   ]
  },
  {
   "cell_type": "markdown",
   "metadata": {},
   "source": [
    "***\n",
    "## After raising cartridge"
   ]
  },
  {
   "cell_type": "code",
   "execution_count": null,
   "metadata": {
    "notebookRunGroups": {
     "groupValue": "1"
    },
    "tags": []
   },
   "outputs": [],
   "source": [
    "platform_json.HeadFrameExitTime = npxc.now()"
   ]
  },
  {
   "cell_type": "markdown",
   "metadata": {},
   "source": [
    "---\n",
    "## Save notebook and allow workflow to finish while removing mouse\n",
    "\n",
    "First, save the notebook:\n",
    "- `Ctrl + S`\n",
    "- or `File > Save Notebook` \n",
    "\n",
    "Apart from `finishing_checks`, the remaining cells require no input.\n",
    "\n",
    "They will take a while, so set them running now, then deal with the finishing checks:\n",
    "- `Shift + Enter` until you reach the end \n",
    "- or `Run > Run Selected Cell and Below`"
   ]
  },
  {
   "cell_type": "code",
   "execution_count": null,
   "metadata": {},
   "outputs": [],
   "source": [
    "np_workflows.finishing_checks_widget()"
   ]
  },
  {
   "cell_type": "markdown",
   "metadata": {},
   "source": [
    "## Finalize"
   ]
  },
  {
   "cell_type": "code",
   "execution_count": null,
   "metadata": {},
   "outputs": [],
   "source": [
    "platform_json.workflow_complete_time = npxc.now()\n",
    "\n",
    "experiment.finalize_services(*experiment.recorders, *experiment.stims)\n",
    "experiment.validate_services(*experiment.recorders, *experiment.stims)"
   ]
  },
  {
   "cell_type": "markdown",
   "metadata": {},
   "source": [
    "## Copy data"
   ]
  },
  {
   "cell_type": "code",
   "execution_count": null,
   "metadata": {},
   "outputs": [],
   "source": [
    "experiment.copy_files()"
   ]
  },
  {
   "cell_type": "markdown",
   "metadata": {},
   "source": [
    "# Add to post-experiment pipeline\n",
    "\n",
    "**hab**\n",
    "- add session to QC queue\n",
    "\n",
    "**ephys**\n",
    "- add session to np-exp upload queue, specifying this rig's Acq as `hostname`\n",
    "    - ensures checksum-validated copy of ephys data on np-exp\n",
    "    - then adds session to spike-sorting queue\n",
    "    - then adds session to QC queue"
   ]
  },
  {
   "cell_type": "code",
   "execution_count": null,
   "metadata": {},
   "outputs": [],
   "source": [
    "if hab:\n",
    "    np_jobs.PipelineQCQueue().add_or_update(session, priority=99)\n",
    "else:\n",
    "    np_jobs.PipelineNpexpUploadQueue().add_or_update(session, hostname=np_config.Rig().Acq, priority=99)"
   ]
  }
 ],
 "metadata": {
  "kernelspec": {
   "display_name": "Python 3.11.1 ('.venv': poetry)",
   "language": "python",
   "name": "python3"
  },
  "language_info": {
   "codemirror_mode": {
    "name": "ipython",
    "version": 3
   },
   "file_extension": ".py",
   "mimetype": "text/x-python",
   "name": "python",
   "nbconvert_exporter": "python",
   "pygments_lexer": "ipython3",
   "version": "3.11.3"
  },
  "toc-autonumbering": true,
  "vscode": {
   "interpreter": {
    "hash": "75a294dbf81199b26941ed5b32867c59e8bcc1170a51aebad9d5a69e8ca694a9"
   }
  }
 },
 "nbformat": 4,
 "nbformat_minor": 4
}
