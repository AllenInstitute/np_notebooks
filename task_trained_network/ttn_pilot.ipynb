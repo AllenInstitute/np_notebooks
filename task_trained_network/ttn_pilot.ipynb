{
 "cells": [
  {
   "cell_type": "markdown",
   "metadata": {},
   "source": [
    "# FOR TESTING: Remove before use"
   ]
  },
  {
   "cell_type": "code",
   "execution_count": 1,
   "metadata": {},
   "outputs": [
    {
     "name": "stdout",
     "output_type": "stream",
     "text": [
      "env: AIBS_RIG_ID=NP.0\n"
     ]
    }
   ],
   "source": [
    "%env AIBS_RIG_ID = NP.0"
   ]
  },
  {
   "cell_type": "markdown",
   "metadata": {},
   "source": [
    "***\n",
    "# **Without mouse on stage**\n",
    "## Restart kernel before running this cell"
   ]
  },
  {
   "cell_type": "code",
   "execution_count": 2,
   "metadata": {},
   "outputs": [
    {
     "data": {
      "application/vnd.jupyter.widget-view+json": {
       "model_id": "be96c5b4fab440c99e024ca8769af026",
       "version_major": 2,
       "version_minor": 0
      },
      "text/plain": [
       "VBox(children=(Label(value='Elapsed time: 00h 00m 00s'), Label(value='Remember to restart the kernel for every…"
      ]
     },
     "metadata": {},
     "output_type": "display_data"
    }
   ],
   "source": [
    "# %run pip install --extra-index-url https://pypi.org/simple  --upgrade --quiet np_workflows\n",
    "# %load_ext autoreload\n",
    "# %autoreload 2\n",
    "\n",
    "import datetime\n",
    "import pathlib\n",
    "import time\n",
    "\n",
    "import IPython\n",
    "import ipywidgets as widgets\n",
    "\n",
    "import np_logging\n",
    "import np_services\n",
    "import np_session\n",
    "import np_workflows\n",
    "import np_workflows.npxc as npxc\n",
    "\n",
    "from np_services import (\n",
    "    Sync, VideoMVR, Cam3d, ScriptCamstim, NewScaleCoordinateRecorder, OpenEphys\n",
    ")\n",
    "from np_services.protocols import (\n",
    "    Pretestable, Initializable, Startable, Testable, Stoppable, Finalizable, Pretestable, Verifiable, Validatable,\n",
    "    TestError,\n",
    "    )\n",
    "\n",
    "import ttn_widgets\n",
    "\n",
    "logger = np_logging.getLogger()\n",
    "logger.setLevel('INFO')\n",
    "\n",
    "np_workflows.elapsed_time_widget()"
   ]
  },
  {
   "cell_type": "markdown",
   "metadata": {},
   "source": [
    "***\n",
    "## \"Quiet mode\"\n",
    "on  \n",
    "*default*\n",
    "- exception details are hidden\n",
    "- regular messages displayed (log level = INFO)\n",
    "\n",
    "off\n",
    "- full exception details with traceback\n",
    "- extra messages displayed (log level = DEBUG)"
   ]
  },
  {
   "cell_type": "code",
   "execution_count": 3,
   "metadata": {},
   "outputs": [
    {
     "data": {
      "application/vnd.jupyter.widget-view+json": {
       "model_id": "4e2dbc0ecaf2447db15aabae514ace8e",
       "version_major": 2,
       "version_minor": 0
      },
      "text/plain": [
       "ToggleButton(value=True, button_style='info', description='Quiet mode is on', icon='check', tooltip='Quiet mod…"
      ]
     },
     "metadata": {},
     "output_type": "display_data"
    }
   ],
   "source": [
    "np_workflows.quiet_mode_widget()"
   ]
  },
  {
   "cell_type": "markdown",
   "metadata": {},
   "source": [
    "***\n",
    "## Launch apps via RSC\n",
    "[optional]"
   ]
  },
  {
   "cell_type": "code",
   "execution_count": 4,
   "metadata": {},
   "outputs": [],
   "source": [
    "np_services.start_rsc_apps()"
   ]
  },
  {
   "cell_type": "markdown",
   "metadata": {},
   "source": [
    "***\n",
    "## Select mouse and user"
   ]
  },
  {
   "cell_type": "code",
   "execution_count": 5,
   "metadata": {},
   "outputs": [
    {
     "data": {
      "application/vnd.jupyter.widget-view+json": {
       "model_id": "c91d489af23748219945869bbd31e98c",
       "version_major": 2,
       "version_minor": 0
      },
      "text/plain": [
       "VBox(children=(Select(description='User:', options=('hannah.belski', 'hannah.cabasco', 'henry.loeffler', 'ryan…"
      ]
     },
     "metadata": {},
     "output_type": "display_data"
    }
   ],
   "source": [
    "user, mouse = np_workflows.user_and_mouse_widget()"
   ]
  },
  {
   "cell_type": "markdown",
   "metadata": {},
   "source": [
    "***\n",
    "## Check MTrain for mouse\n",
    "[optional]"
   ]
  },
  {
   "cell_type": "code",
   "execution_count": 6,
   "metadata": {},
   "outputs": [
    {
     "data": {
      "application/vnd.jupyter.widget-view+json": {
       "model_id": "b272cd87d348421aa84089f77a8a43dd",
       "version_major": 2,
       "version_minor": 0
      },
      "text/plain": [
       "VBox(children=(GridspecLayout(children=(Label(value='Mouse: 366122', layout=Layout(grid_area='widget001')), La…"
      ]
     },
     "metadata": {},
     "output_type": "display_data"
    }
   ],
   "source": [
    "np_workflows.mtrain_widget(mouse)"
   ]
  },
  {
   "cell_type": "markdown",
   "metadata": {},
   "source": [
    "***\n",
    "## Generate new session and folder "
   ]
  },
  {
   "cell_type": "code",
   "execution_count": 7,
   "metadata": {},
   "outputs": [],
   "source": [
    "#! for testing\n",
    "session = np_session.Session('1246096278_366122_20230209')\n",
    "session_folder = session.npexp_path"
   ]
  },
  {
   "cell_type": "code",
   "execution_count": null,
   "metadata": {},
   "outputs": [],
   "source": [
    "session: np_session.Session = np_session.generate_session(mouse, user, session_type='ecephys')\n",
    "display(session)\n",
    "session_folder = session.npexp_path\n",
    "session_folder.mkdir(parents=True, exist_ok=True)"
   ]
  },
  {
   "cell_type": "markdown",
   "metadata": {},
   "source": [
    "***\n",
    "## Create platform json"
   ]
  },
  {
   "cell_type": "code",
   "execution_count": 8,
   "metadata": {},
   "outputs": [],
   "source": [
    "platform_json = np_services.PlatformJsonWriter(path=session_folder)\n",
    "\n",
    "platform_json.operatorID = user.id\n",
    "platform_json.mouseID = mouse.id\n",
    "platform_json.sessionID = session.id"
   ]
  },
  {
   "cell_type": "markdown",
   "metadata": {},
   "source": [
    "***\n",
    "## Setup components for the experiment"
   ]
  },
  {
   "cell_type": "code",
   "execution_count": 9,
   "metadata": {},
   "outputs": [],
   "source": [
    "services = (Sync, VideoMVR, Cam3d, OpenEphys, NewScaleCoordinateRecorder, ScriptCamstim)"
   ]
  },
  {
   "cell_type": "markdown",
   "metadata": {},
   "source": [
    "***\n",
    "## Select stimulus session"
   ]
  },
  {
   "cell_type": "code",
   "execution_count": 10,
   "metadata": {},
   "outputs": [
    {
     "data": {
      "application/vnd.jupyter.widget-view+json": {
       "model_id": "edbf911818084ea3bd4ac5e910e2c7af",
       "version_major": 2,
       "version_minor": 0
      },
      "text/plain": [
       "VBox(children=(Select(description='Session', options=('pretest', 'hab 60', 'hab 90', 'hab 120', 'ecephys'), va…"
      ]
     },
     "metadata": {},
     "output_type": "display_data"
    }
   ],
   "source": [
    "selected_stim = ttn_widgets.stim_session_select_widget()"
   ]
  },
  {
   "cell_type": "markdown",
   "metadata": {},
   "source": [
    "***\n",
    "## Pretest\n",
    "### Checks before running"
   ]
  },
  {
   "cell_type": "code",
   "execution_count": 11,
   "metadata": {},
   "outputs": [
    {
     "data": {
      "application/vnd.jupyter.widget-view+json": {
       "model_id": "0531b952c18846d89b3568062b56748c",
       "version_major": 2,
       "version_minor": 0
      },
      "text/plain": [
       "VBox(children=(Label(value='Stage checks before pretest:', layout=Layout(min_width='600px')), Checkbox(value=F…"
      ]
     },
     "metadata": {},
     "output_type": "display_data"
    }
   ],
   "source": [
    "np_workflows.check_hardware_widget()"
   ]
  },
  {
   "cell_type": "code",
   "execution_count": 12,
   "metadata": {},
   "outputs": [
    {
     "data": {
      "application/vnd.jupyter.widget-view+json": {
       "model_id": "0c0bb3da83934392abbd0d669d46b5fe",
       "version_major": 2,
       "version_minor": 0
      },
      "text/plain": [
       "VBox(children=(Label(value='OpenEphys checks before pretest:', layout=Layout(min_width='600px')), Checkbox(val…"
      ]
     },
     "metadata": {},
     "output_type": "display_data"
    }
   ],
   "source": [
    "np_workflows.check_openephys_widget()"
   ]
  },
  {
   "cell_type": "markdown",
   "metadata": {},
   "source": [
    "### Pretest critical components individually\n",
    "Only proceed if all pretests pass!"
   ]
  },
  {
   "cell_type": "code",
   "execution_count": null,
   "metadata": {},
   "outputs": [],
   "source": [
    "OpenEphys.pretest()"
   ]
  },
  {
   "cell_type": "code",
   "execution_count": null,
   "metadata": {},
   "outputs": [],
   "source": [
    "VideoMVR.pretest()"
   ]
  },
  {
   "cell_type": "code",
   "execution_count": null,
   "metadata": {},
   "outputs": [],
   "source": [
    "Cam3d.pretest()"
   ]
  },
  {
   "cell_type": "code",
   "execution_count": null,
   "metadata": {},
   "outputs": [],
   "source": [
    "Sync.pretest()"
   ]
  },
  {
   "cell_type": "code",
   "execution_count": null,
   "metadata": {},
   "outputs": [],
   "source": [
    "ScriptCamstim.pretest()"
   ]
  },
  {
   "cell_type": "markdown",
   "metadata": {},
   "source": [
    "***\n",
    "## Setup and reset all services"
   ]
  },
  {
   "cell_type": "code",
   "execution_count": 12,
   "metadata": {},
   "outputs": [
    {
     "name": "stdout",
     "output_type": "stream",
     "text": [
      "09:43 | ttn_widgets | WARNING | Using hard-coded script in notebooks directory for testing\n",
      "09:43 | np_services.utils | INFO | sync_device is running on W10DTSM112719\n",
      "09:43 | np_services.proxies | INFO | Sync initialized: ready for use\n",
      "09:43 | np_services.proxies | INFO | VideoMVR initialized: ready for use\n",
      "09:43 | np_services.utils | INFO | camviewer3d is running on W10DTSM112722\n",
      "09:43 | np_services.proxies | INFO | Cam3d initialized: ready for use\n",
      "09:44 | np_services.open_ephys | INFO | OpenEphys | Initializing\n",
      "09:44 | np_services.utils | INFO | open-ephys is running on W10DT713842\n",
      "09:44 | np_services.open_ephys | INFO | OpenEphys | Testing\n",
      "09:44 | np_services.open_ephys | INFO | OpenEphys free disk space on \\\\W10DT713842\\A: 1904.0 GB\n",
      "09:44 | np_services.open_ephys | INFO | OpenEphys free disk space on \\\\W10DT713842\\B: 1810.5 GB\n",
      "09:44 | np_services.proxies | INFO | NewScaleCoordinateRecorder test passed\n",
      "09:44 | np_services.proxies | INFO | NewScaleCoordinateRecorder test passed\n",
      "09:44 | np_services.utils | INFO | camstim_agent is running on W10DT713938\n",
      "09:44 | np_services.utils | INFO | phidget_server is running on W10DT713938\n",
      "09:44 | np_services.proxies | ERROR | Error accessing ScriptCamstim data path: \\\\W10DT713938\\c$\\ProgramData\\AIBS_MPE\\camstim\\data\n",
      "Traceback (most recent call last):\n",
      "  File \"c:\\Users\\ben.hardcastle\\AppData\\Local\\pypoetry\\Cache\\virtualenvs\\np-workflows-bIqIfclO-py3.11\\Lib\\site-packages\\np_services\\proxies.py\", line 518, in ensure_config\n",
      "    _ = root.exists()\n",
      "        ^^^^^^^^^^^^^\n",
      "  File \"C:\\Users\\ben.hardcastle\\AppData\\Local\\Programs\\Python\\Python311\\Lib\\pathlib.py\", line 1235, in exists\n",
      "    self.stat()\n",
      "  File \"C:\\Users\\ben.hardcastle\\AppData\\Local\\Programs\\Python\\Python311\\Lib\\pathlib.py\", line 1013, in stat\n",
      "    return os.stat(self, follow_symlinks=follow_symlinks)\n",
      "           ^^^^^^^^^^^^^^^^^^^^^^^^^^^^^^^^^^^^^^^^^^^^^^\n",
      "PermissionError: [WinError 5] Access is denied: '\\\\\\\\W10DT713938\\\\c$\\\\ProgramData\\\\AIBS_MPE\\\\camstim\\\\data'\n"
     ]
    }
   ],
   "source": [
    "ScriptCamstim.script = selected_stim.script #! update after testing\n",
    "ScriptCamstim.params = selected_stim.params\n",
    "\n",
    "opto_script: str = selected_stim.opto_script\n",
    "opto_params: dict = selected_stim.params.get('opto', {})\n",
    "if opto_params:\n",
    "    opto_params.update({'mouseID': str(mouse)})\n",
    "\n",
    "OpenEphys.folder = session_folder.name\n",
    "\n",
    "NewScaleCoordinateRecorder.log_root = session_folder\n",
    "\n",
    "for service in services:\n",
    "    if isinstance(service, Initializable):\n",
    "        service.initialize()\n",
    "    if isinstance(service, Testable):\n",
    "        service.test()"
   ]
  },
  {
   "cell_type": "markdown",
   "metadata": {},
   "source": [
    "***\n",
    "## Dip probes"
   ]
  },
  {
   "cell_type": "code",
   "execution_count": 3,
   "metadata": {},
   "outputs": [
    {
     "ename": "NameError",
     "evalue": "name 'platform_json' is not defined",
     "output_type": "error",
     "traceback": [
      "\u001b[1;31mNameError\u001b[0m\u001b[1;31m:\u001b[0m name 'platform_json' is not defined\n"
     ]
    }
   ],
   "source": [
    "np_workflows.di_widget(platform_json)\n",
    "np_workflows.photodoc_widget('pre_experiment_surface_image')"
   ]
  },
  {
   "cell_type": "markdown",
   "metadata": {},
   "source": [
    "***\n",
    "***\n",
    "# **With mouse on stage**"
   ]
  },
  {
   "cell_type": "code",
   "execution_count": 13,
   "metadata": {},
   "outputs": [
    {
     "name": "stdout",
     "output_type": "stream",
     "text": [
      "ERROR! Session/line number was not unique in database. History logging moved to new session 1608\n"
     ]
    }
   ],
   "source": [
    "platform_json.HeadFrameEntryTime = npxc.now()"
   ]
  },
  {
   "cell_type": "code",
   "execution_count": 8,
   "metadata": {},
   "outputs": [
    {
     "data": {
      "application/vnd.jupyter.widget-view+json": {
       "model_id": "1fd4683a3f274f39aa543d1fce904e90",
       "version_major": 2,
       "version_minor": 0
      },
      "text/plain": [
       "VBox(children=(Label(value='Mouse checks before lowering cartridge:', layout=Layout(min_width='600px')), Check…"
      ]
     },
     "metadata": {},
     "output_type": "display_data"
    }
   ],
   "source": [
    "np_workflows.check_mouse_widget()"
   ]
  },
  {
   "cell_type": "markdown",
   "metadata": {},
   "source": [
    "***\n",
    "## When cartridge is lowered"
   ]
  },
  {
   "cell_type": "code",
   "execution_count": null,
   "metadata": {},
   "outputs": [],
   "source": [
    "platform_json.CartridgeLowerTime = npxc.now()\n",
    "np_workflows.photodoc_widget('brain_surface_image')"
   ]
  },
  {
   "cell_type": "markdown",
   "metadata": {},
   "source": [
    "***\n",
    "## Probe insertion"
   ]
  },
  {
   "cell_type": "code",
   "execution_count": 10,
   "metadata": {},
   "outputs": [
    {
     "ename": "OSError",
     "evalue": "[Errno 22] Invalid argument",
     "output_type": "error",
     "traceback": [
      "\u001b[1;31mOSError\u001b[0m\u001b[1;31m:\u001b[0m [Errno 22] Invalid argument\n"
     ]
    }
   ],
   "source": [
    "platform_json.ProbeInsertionStartTime = npxc.now()\n",
    "np_workflows.isi_widget(mouse.lims, colormap=False)"
   ]
  },
  {
   "cell_type": "markdown",
   "metadata": {},
   "source": [
    "***\n",
    "## Photodoc before advancing probes"
   ]
  },
  {
   "cell_type": "code",
   "execution_count": null,
   "metadata": {},
   "outputs": [],
   "source": [
    "np_workflows.photodoc_widget('pre_insertion_surface_image')"
   ]
  },
  {
   "cell_type": "markdown",
   "metadata": {},
   "source": [
    "***\n",
    "## Settle timer"
   ]
  },
  {
   "cell_type": "code",
   "execution_count": null,
   "metadata": {},
   "outputs": [],
   "source": [
    "np_workflows.print_countdown_timer(minutes=10)"
   ]
  },
  {
   "cell_type": "markdown",
   "metadata": {},
   "source": [
    "***\n",
    "## Start devices recording"
   ]
  },
  {
   "cell_type": "code",
   "execution_count": null,
   "metadata": {},
   "outputs": [],
   "source": [
    "for service in (Sync, VideoMVR, OpenEphys):\n",
    "    service.start()\n",
    "    if isinstance(service, Verifiable):\n",
    "        time.sleep(1)\n",
    "        service.verify()\n",
    "        \n",
    "platform_json.ExperimentStartTime = npxc.now()\n",
    "platform_json.write()"
   ]
  },
  {
   "cell_type": "markdown",
   "metadata": {},
   "source": [
    "## Start experiment"
   ]
  },
  {
   "cell_type": "code",
   "execution_count": 13,
   "metadata": {},
   "outputs": [
    {
     "name": "stdout",
     "output_type": "stream",
     "text": [
      "09:47 | root | INFO | Starting Camstim script\n",
      "09:47 | np_services.proxies | ERROR | Error accessing ScriptCamstim data path: \\\\W10DT713938\\c$\\ProgramData\\AIBS_MPE\\camstim\\data\n",
      "Traceback (most recent call last):\n",
      "  File \"c:\\Users\\ben.hardcastle\\AppData\\Local\\pypoetry\\Cache\\virtualenvs\\np-workflows-bIqIfclO-py3.11\\Lib\\site-packages\\np_services\\proxies.py\", line 518, in ensure_config\n",
      "    _ = root.exists()\n",
      "        ^^^^^^^^^^^^^\n",
      "  File \"C:\\Users\\ben.hardcastle\\AppData\\Local\\Programs\\Python\\Python311\\Lib\\pathlib.py\", line 1235, in exists\n",
      "    self.stat()\n",
      "  File \"C:\\Users\\ben.hardcastle\\AppData\\Local\\Programs\\Python\\Python311\\Lib\\pathlib.py\", line 1013, in stat\n",
      "    return os.stat(self, follow_symlinks=follow_symlinks)\n",
      "           ^^^^^^^^^^^^^^^^^^^^^^^^^^^^^^^^^^^^^^^^^^^^^^\n",
      "PermissionError: [WinError 5] Access is denied: '\\\\\\\\W10DT713938\\\\c$\\\\ProgramData\\\\AIBS_MPE\\\\camstim\\\\data'\n"
     ]
    }
   ],
   "source": [
    "logger.info('Starting Camstim script')\n",
    "\n",
    "ScriptCamstim.start()\n",
    "\n",
    "while not ScriptCamstim.is_ready_to_start():\n",
    "    time.sleep(10)\n",
    "\n",
    "if isinstance(ScriptCamstim, Finalizable):\n",
    "    ScriptCamstim.finalize()\n",
    "\n",
    "logger.info('Camstim script complete')\n",
    "\n",
    "# opto --------------------------------------------------------------------------------- #\n",
    "ScriptCamstim.script = opto_script\n",
    "ScriptCamstim.params = opto_params\n",
    "logger.info('Starting opto-tagging script')\n",
    "ScriptCamstim.start()\n",
    "\n",
    "while not ScriptCamstim.is_ready_to_start():\n",
    "    time.sleep(10)\n",
    "\n",
    "if isinstance(ScriptCamstim, Finalizable):\n",
    "    ScriptCamstim.finalize()\n",
    "\n",
    "logger.info('Opto-tagging script complete')"
   ]
  },
  {
   "cell_type": "markdown",
   "metadata": {},
   "source": [
    "***\n",
    "## Stop recording"
   ]
  },
  {
   "cell_type": "code",
   "execution_count": null,
   "metadata": {},
   "outputs": [],
   "source": [
    "while not ScriptCamstim.is_ready_to_start():\n",
    "    time.sleep(10)\n",
    "\n",
    "for service in (_ for _ in (Sync, VideoMVR, OpenEphys) if isinstance(_, Stoppable)):\n",
    "    service.stop()\n",
    "\n",
    "for service in (_ for _ in (VideoMVR, OpenEphys, ScriptCamstim) if isinstance(_, Finalizable)): # Sync will be finalized later to avoid waiting on processing\n",
    "    service.finalize()\n",
    "\n",
    "for service in (_ for _ in (VideoMVR, OpenEphys, ScriptCamstim) if isinstance(_, Validatable)):\n",
    "    service.validate()\n",
    "    \n",
    "platform_json.ExperimentCompleteTime = npxc.now()"
   ]
  },
  {
   "cell_type": "markdown",
   "metadata": {},
   "source": [
    "***\n",
    "## Before removing probes"
   ]
  },
  {
   "cell_type": "code",
   "execution_count": null,
   "metadata": {},
   "outputs": [],
   "source": [
    "np_workflows.photodoc_widget('post_stimulus_surface_image')"
   ]
  },
  {
   "cell_type": "markdown",
   "metadata": {},
   "source": [
    "***\n",
    "## After fully retracting probes"
   ]
  },
  {
   "cell_type": "code",
   "execution_count": null,
   "metadata": {},
   "outputs": [],
   "source": [
    "np_workflows.photodoc_widget('post_experiment_surface_image')"
   ]
  },
  {
   "cell_type": "markdown",
   "metadata": {},
   "source": [
    "***\n",
    "## After raising cartridge"
   ]
  },
  {
   "cell_type": "code",
   "execution_count": null,
   "metadata": {},
   "outputs": [],
   "source": [
    "platform_json.HeadFrameExitTime = npxc.now()\n",
    "platform_json.write()\n",
    "\n",
    "np_workflows.finishing_checks_widget()\n",
    "np_workflows.copy_files(services, session_folder)"
   ]
  }
 ],
 "metadata": {
  "kernelspec": {
   "display_name": "Python 3.11.1 ('np-workflows-bIqIfclO-py3.11')",
   "language": "python",
   "name": "python3"
  },
  "language_info": {
   "codemirror_mode": {
    "name": "ipython",
    "version": 3
   },
   "file_extension": ".py",
   "mimetype": "text/x-python",
   "name": "python",
   "nbconvert_exporter": "python",
   "pygments_lexer": "ipython3",
   "version": "3.11.1"
  },
  "toc-autonumbering": true,
  "vscode": {
   "interpreter": {
    "hash": "8fff397ebb645a552faa9b4db0fa1ff7c1d22149c49b020c3e5e3edafcc58017"
   }
  }
 },
 "nbformat": 4,
 "nbformat_minor": 4
}
