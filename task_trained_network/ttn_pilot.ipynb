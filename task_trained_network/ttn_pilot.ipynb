{
 "cells": [
  {
   "cell_type": "markdown",
   "metadata": {},
   "source": [
    "# FOR TESTING: Remove before use"
   ]
  },
  {
   "cell_type": "code",
   "execution_count": 1,
   "metadata": {},
   "outputs": [
    {
     "name": "stdout",
     "output_type": "stream",
     "text": [
      "env: AIBS_RIG_ID=NP.1\n"
     ]
    }
   ],
   "source": [
    "%env AIBS_RIG_ID = NP.0"
   ]
  },
  {
   "cell_type": "markdown",
   "metadata": {},
   "source": [
    "***\n",
    "# **Without mouse on stage**\n",
    "## Restart kernel before running this cell"
   ]
  },
  {
   "cell_type": "code",
   "execution_count": 2,
   "metadata": {},
   "outputs": [
    {
     "ename": "ModuleNotFoundError",
     "evalue": "No module named 'np_config'",
     "output_type": "error",
     "traceback": [
      "\u001b[1;31m---------------------------------------------------------------------------\u001b[0m",
      "\u001b[1;31mModuleNotFoundError\u001b[0m                       Traceback (most recent call last)",
      "Cell \u001b[1;32mIn[2], line 12\u001b[0m\n\u001b[0;32m      9\u001b[0m \u001b[38;5;28;01mimport\u001b[39;00m \u001b[38;5;21;01mIPython\u001b[39;00m\n\u001b[0;32m     10\u001b[0m \u001b[38;5;28;01mimport\u001b[39;00m \u001b[38;5;21;01mipywidgets\u001b[39;00m \u001b[38;5;28;01mas\u001b[39;00m \u001b[38;5;21;01mwidgets\u001b[39;00m\n\u001b[1;32m---> 12\u001b[0m \u001b[38;5;28;01mimport\u001b[39;00m \u001b[38;5;21;01mnp_logging\u001b[39;00m\n\u001b[0;32m     13\u001b[0m \u001b[38;5;28;01mimport\u001b[39;00m \u001b[38;5;21;01mnp_services\u001b[39;00m\n\u001b[0;32m     14\u001b[0m \u001b[38;5;28;01mimport\u001b[39;00m \u001b[38;5;21;01mnp_session\u001b[39;00m\n",
      "File \u001b[1;32mc:\\Users\\ben.hardcastle\\AppData\\Local\\pypoetry\\Cache\\virtualenvs\\np-workflows-bIqIfclO-py3.11\\Lib\\site-packages\\np_logging\\__init__.py:1\u001b[0m\n\u001b[1;32m----> 1\u001b[0m \u001b[39mfrom\u001b[39;00m \u001b[39mnp_logging\u001b[39;00m\u001b[39m.\u001b[39;00m\u001b[39mnp_logging\u001b[39;00m \u001b[39mimport\u001b[39;00m email, get_logger, getLogger, setup, web\n",
      "File \u001b[1;32mc:\\Users\\ben.hardcastle\\AppData\\Local\\pypoetry\\Cache\\virtualenvs\\np-workflows-bIqIfclO-py3.11\\Lib\\site-packages\\np_logging\\np_logging.py:9\u001b[0m\n\u001b[0;32m      6\u001b[0m \u001b[39mimport\u001b[39;00m \u001b[39mpathlib\u001b[39;00m\n\u001b[0;32m      7\u001b[0m \u001b[39mfrom\u001b[39;00m \u001b[39mtyping\u001b[39;00m \u001b[39mimport\u001b[39;00m Optional, Sequence, Union\n\u001b[1;32m----> 9\u001b[0m \u001b[39mimport\u001b[39;00m \u001b[39mnp_logging\u001b[39;00m\u001b[39m.\u001b[39;00m\u001b[39mhandlers\u001b[39;00m \u001b[39mas\u001b[39;00m \u001b[39mhandlers\u001b[39;00m\n\u001b[0;32m     10\u001b[0m \u001b[39mimport\u001b[39;00m \u001b[39mnp_logging\u001b[39;00m\u001b[39m.\u001b[39;00m\u001b[39mutils\u001b[39;00m \u001b[39mas\u001b[39;00m \u001b[39mutils\u001b[39;00m\n\u001b[0;32m     11\u001b[0m \u001b[39mimport\u001b[39;00m \u001b[39mnp_logging\u001b[39;00m\u001b[39m.\u001b[39;00m\u001b[39mconfig\u001b[39;00m \u001b[39mas\u001b[39;00m \u001b[39mconfig\u001b[39;00m\n",
      "File \u001b[1;32mc:\\Users\\ben.hardcastle\\AppData\\Local\\pypoetry\\Cache\\virtualenvs\\np-workflows-bIqIfclO-py3.11\\Lib\\site-packages\\np_logging\\handlers.py:21\u001b[0m\n\u001b[0;32m     18\u001b[0m \u001b[39mimport\u001b[39;00m \u001b[39msys\u001b[39;00m\n\u001b[0;32m     19\u001b[0m \u001b[39mfrom\u001b[39;00m \u001b[39mtyping\u001b[39;00m \u001b[39mimport\u001b[39;00m Any, Callable, Optional, Union\n\u001b[1;32m---> 21\u001b[0m \u001b[39mimport\u001b[39;00m \u001b[39mnp_logging\u001b[39;00m\u001b[39m.\u001b[39;00m\u001b[39mconfig\u001b[39;00m\n\u001b[0;32m     23\u001b[0m PKG_CONFIG \u001b[39m=\u001b[39m np_logging\u001b[39m.\u001b[39mconfig\u001b[39m.\u001b[39mPKG_CONFIG\n\u001b[0;32m     25\u001b[0m SERVER_BACKUP: \u001b[39mdict\u001b[39m[\u001b[39mstr\u001b[39m, Any] \u001b[39m=\u001b[39m PKG_CONFIG[\u001b[39m\"\u001b[39m\u001b[39mhandlers\u001b[39m\u001b[39m\"\u001b[39m][\u001b[39m\"\u001b[39m\u001b[39mlog_server_file_backup\u001b[39m\u001b[39m\"\u001b[39m]\n",
      "File \u001b[1;32mc:\\Users\\ben.hardcastle\\AppData\\Local\\pypoetry\\Cache\\virtualenvs\\np-workflows-bIqIfclO-py3.11\\Lib\\site-packages\\np_logging\\config.py:10\u001b[0m\n\u001b[0;32m      8\u001b[0m \u001b[39mexcept\u001b[39;00m \u001b[39mImportError\u001b[39;00m:\n\u001b[0;32m      9\u001b[0m     \u001b[39mimport\u001b[39;00m \u001b[39mimportlib_resources\u001b[39;00m\n\u001b[1;32m---> 10\u001b[0m \u001b[39mimport\u001b[39;00m \u001b[39mnp_config\u001b[39;00m\n\u001b[0;32m     12\u001b[0m logger \u001b[39m=\u001b[39m logging\u001b[39m.\u001b[39mgetLogger(\u001b[39m__name__\u001b[39m)\n\u001b[0;32m     13\u001b[0m logger\u001b[39m.\u001b[39msetLevel(logging\u001b[39m.\u001b[39mNOTSET)\n",
      "\u001b[1;31mModuleNotFoundError\u001b[0m: No module named 'np_config'"
     ]
    }
   ],
   "source": [
    "# %run pip install --extra-index-url https://pypi.org/simple  --upgrade --quiet np_workflows\n",
    "%load_ext autoreload\n",
    "%autoreload 2\n",
    "\n",
    "import datetime\n",
    "import pathlib\n",
    "import time\n",
    "\n",
    "import IPython\n",
    "import ipywidgets as widgets\n",
    "\n",
    "import np_logging\n",
    "import np_services\n",
    "import np_session\n",
    "import np_workflows\n",
    "\n",
    "from np_services import (\n",
    "    Sync, VideoMVR, Cam3d, ScriptCamstim, NewScaleCoordinateRecorder, OpenEphys\n",
    ")\n",
    "from np_services.protocols import (\n",
    "    Pretestable, Initializable, Startable, Testable, Stoppable, Finalizable, Pretestable, Verifiable, Validatable,\n",
    "    TestError,\n",
    "    )\n",
    "\n",
    "logger = np_logging.getLogger()\n",
    "logger.setLevel('INFO')\n",
    "\n",
    "np_workflows.elapsed_time_widget()"
   ]
  },
  {
   "cell_type": "markdown",
   "metadata": {},
   "source": [
    "***\n",
    "## Launch apps via RSC\n",
    "[optional]"
   ]
  },
  {
   "cell_type": "code",
   "execution_count": 3,
   "metadata": {},
   "outputs": [
    {
     "name": "stdout",
     "output_type": "stream",
     "text": [
      "16:24 | np_config.np_config | DEBUG | Updated local config file C:\\ProgramData\\np\\np_config\\config_logs\\zk_config-task_trained_network.2023-02-09_162420.yaml\n",
      "16:24 | np_config.np_config | DEBUG | '/np_defaults/configuration' updated in local config file C:\\ProgramData\\np\\np_config\\config_logs\\zk_config-task_trained_network.2023-02-09_162420.yaml\n",
      "16:24 | np_config.np_config | DEBUG | Updated local config file C:\\ProgramData\\np\\np_config\\config_logs\\zk_config-task_trained_network.2023-02-09_162420.yaml\n",
      "16:24 | np_config.np_config | DEBUG | '/rigs/NP.1' updated in local config file C:\\ProgramData\\np\\np_config\\config_logs\\zk_config-task_trained_network.2023-02-09_162420.yaml\n",
      "16:24 | np_config.np_config | DEBUG | Updated local config file C:\\ProgramData\\np\\np_config\\config_logs\\zk_config-task_trained_network.2023-02-09_162420.yaml\n",
      "16:24 | np_config.np_config | DEBUG | '/projects/np_logging/defaults/configuration' updated in local config file C:\\ProgramData\\np\\np_config\\config_logs\\zk_config-task_trained_network.2023-02-09_162420.yaml\n",
      "16:24 | np_config.np_config | DEBUG | Updated local config file C:\\ProgramData\\np\\np_config\\config_logs\\zk_config-task_trained_network.2023-02-09_162420.yaml\n",
      "16:24 | np_config.np_config | DEBUG | '/projects/np_logging/defaults/logging' updated in local config file C:\\ProgramData\\np\\np_config\\config_logs\\zk_config-task_trained_network.2023-02-09_162420.yaml\n",
      "16:24 | np_config.np_config | DEBUG | Updated local config file C:\\ProgramData\\np\\np_config\\config_logs\\zk_config-task_trained_network.2023-02-09_162420.yaml\n",
      "16:24 | np_config.np_config | DEBUG | '/projects/np_workflows/defaults/configuration' updated in local config file C:\\ProgramData\\np\\np_config\\config_logs\\zk_config-task_trained_network.2023-02-09_162420.yaml\n",
      "16:24 | np_config.np_config | DEBUG | Temporarily pausing record keeping <class 'np_config.np_config.RecordedZK'>.\n",
      "16:24 | np_config.np_config | DEBUG | Resuming record keeping <class 'np_config.np_config.RecordedZK'>.\n",
      "16:24 | kazoo.client | INFO | Connecting to eng-mindscope(10.128.140.238):2181, use_ssl: False\n",
      "16:24 | kazoo.client | INFO | Zookeeper connection established, state: CONNECTED\n",
      "16:24 | np_config.np_config | DEBUG | Updated local config file C:\\ProgramData\\np\\np_config\\config_logs\\zk_config-task_trained_network.2023-02-09_162420.yaml\n",
      "16:24 | np_config.np_config | DEBUG | '/np_defaults/configuration' updated in local config file C:\\ProgramData\\np\\np_config\\config_logs\\zk_config-task_trained_network.2023-02-09_162420.yaml\n",
      "16:24 | kazoo.client | INFO | Closing connection to eng-mindscope:2181\n",
      "16:24 | kazoo.client | INFO | Zookeeper session closed, state: CLOSED\n",
      "16:24 | np_config.np_config | DEBUG | Updated local config file C:\\ProgramData\\np\\np_config\\config_logs\\zk_config-task_trained_network.2023-02-09_162420.yaml\n",
      "16:24 | np_config.np_config | DEBUG | '/np_defaults/configuration' updated in local config file C:\\ProgramData\\np\\np_config\\config_logs\\zk_config-task_trained_network.2023-02-09_162420.yaml\n",
      "16:24 | np_config.np_config | DEBUG | Updated local config file C:\\ProgramData\\np\\np_config\\config_logs\\zk_config-task_trained_network.2023-02-09_162420.yaml\n",
      "16:24 | np_config.np_config | DEBUG | '/rigs/NP.1' updated in local config file C:\\ProgramData\\np\\np_config\\config_logs\\zk_config-task_trained_network.2023-02-09_162420.yaml\n",
      "16:24 | np_config.np_config | DEBUG | Updated local config file C:\\ProgramData\\np\\np_config\\config_logs\\zk_config-task_trained_network.2023-02-09_162420.yaml\n",
      "16:24 | np_config.np_config | DEBUG | '/projects/np_logging/defaults/configuration' updated in local config file C:\\ProgramData\\np\\np_config\\config_logs\\zk_config-task_trained_network.2023-02-09_162420.yaml\n",
      "16:24 | np_config.np_config | DEBUG | Updated local config file C:\\ProgramData\\np\\np_config\\config_logs\\zk_config-task_trained_network.2023-02-09_162420.yaml\n",
      "16:24 | np_config.np_config | DEBUG | '/projects/np_logging/defaults/logging' updated in local config file C:\\ProgramData\\np\\np_config\\config_logs\\zk_config-task_trained_network.2023-02-09_162420.yaml\n",
      "16:24 | np_config.np_config | DEBUG | Updated local config file C:\\ProgramData\\np\\np_config\\config_logs\\zk_config-task_trained_network.2023-02-09_162420.yaml\n",
      "16:24 | np_config.np_config | DEBUG | '/projects/np_workflows/defaults/configuration' updated in local config file C:\\ProgramData\\np\\np_config\\config_logs\\zk_config-task_trained_network.2023-02-09_162420.yaml\n",
      "16:24 | np_config.np_config | DEBUG | Temporarily pausing record keeping <class 'np_config.np_config.RecordedZK'>.\n",
      "16:24 | np_config.np_config | DEBUG | Resuming record keeping <class 'np_config.np_config.RecordedZK'>.\n",
      "16:24 | kazoo.client | INFO | Connecting to eng-mindscope(10.128.140.238):2181, use_ssl: False\n",
      "16:24 | kazoo.client | INFO | Zookeeper connection established, state: CONNECTED\n",
      "16:24 | np_config.np_config | DEBUG | Updated local config file C:\\ProgramData\\np\\np_config\\config_logs\\zk_config-task_trained_network.2023-02-09_162420.yaml\n",
      "16:24 | np_config.np_config | DEBUG | '/rigs/NP.1' updated in local config file C:\\ProgramData\\np\\np_config\\config_logs\\zk_config-task_trained_network.2023-02-09_162420.yaml\n",
      "16:24 | kazoo.client | INFO | Closing connection to eng-mindscope:2181\n",
      "16:24 | kazoo.client | INFO | Zookeeper session closed, state: CLOSED\n"
     ]
    }
   ],
   "source": [
    "np_services.start_rsc_apps()"
   ]
  },
  {
   "cell_type": "markdown",
   "metadata": {},
   "source": [
    "***\n",
    "## Select mouse and user"
   ]
  },
  {
   "cell_type": "code",
   "execution_count": 4,
   "metadata": {},
   "outputs": [
    {
     "data": {
      "application/vnd.jupyter.widget-view+json": {
       "model_id": "430939374cd94181864a8f444e71c15f",
       "version_major": 2,
       "version_minor": 0
      },
      "text/plain": [
       "VBox(children=(Select(description='User:', options=('hannah.belski', 'hannah.cabasco', 'henry.loeffler', 'ryan…"
      ]
     },
     "metadata": {},
     "output_type": "display_data"
    }
   ],
   "source": [
    "user, mouse = np_workflows.user_and_mouse_widget()"
   ]
  },
  {
   "cell_type": "markdown",
   "metadata": {},
   "source": [
    "***\n",
    "## Check MTrain for mouse\n",
    "[optional]"
   ]
  },
  {
   "cell_type": "code",
   "execution_count": 5,
   "metadata": {},
   "outputs": [
    {
     "data": {
      "application/vnd.jupyter.widget-view+json": {
       "model_id": "4bf0c00bbcab4470bd4ef2ff7c4a800a",
       "version_major": 2,
       "version_minor": 0
      },
      "text/plain": [
       "VBox(children=(GridspecLayout(children=(Label(value='Mouse: 366122', layout=Layout(grid_area='widget001')), La…"
      ]
     },
     "metadata": {},
     "output_type": "display_data"
    }
   ],
   "source": [
    "np_workflows.mtrain_widget(mouse)"
   ]
  },
  {
   "cell_type": "markdown",
   "metadata": {},
   "source": [
    "***\n",
    "## Generate new session and folder "
   ]
  },
  {
   "cell_type": "code",
   "execution_count": 4,
   "metadata": {},
   "outputs": [],
   "source": [
    "#! for testing\n",
    "session = np_session.Session('1246096278_366122_20230209')\n",
    "session_folder = session.npexp_path"
   ]
  },
  {
   "cell_type": "code",
   "execution_count": 6,
   "metadata": {},
   "outputs": [
    {
     "data": {
      "text/plain": [
       "Session('1246096278_366122_20230209')"
      ]
     },
     "metadata": {},
     "output_type": "display_data"
    }
   ],
   "source": [
    "session: np_session.Session = np_session.generate_session(mouse, user, session_type='ecephys')\n",
    "display(session)\n",
    "session_folder = session.npexp_path\n",
    "session_folder.mkdir(parents=True, exist_ok=True)"
   ]
  },
  {
   "cell_type": "markdown",
   "metadata": {},
   "source": [
    "***\n",
    "## Setup components for the experiment"
   ]
  },
  {
   "cell_type": "code",
   "execution_count": null,
   "metadata": {},
   "outputs": [],
   "source": [
    "services = (Sync, VideoMVR, Cam3d, OpenEphys, NewScaleCoordinateRecorder, ScriptCamstim)"
   ]
  },
  {
   "cell_type": "markdown",
   "metadata": {},
   "source": [
    "***\n",
    "## Pretest\n",
    "### Checks before running"
   ]
  },
  {
   "cell_type": "code",
   "execution_count": 4,
   "metadata": {},
   "outputs": [
    {
     "data": {
      "application/vnd.jupyter.widget-view+json": {
       "model_id": "d3b3f8e7f798480984562b703ca925db",
       "version_major": 2,
       "version_minor": 0
      },
      "text/plain": [
       "VBox(children=(Label(value='Stage checks before pretest:', layout=Layout(min_width='600px')), Checkbox(value=F…"
      ]
     },
     "metadata": {},
     "output_type": "display_data"
    }
   ],
   "source": [
    "np_workflows.check_hardware_widget()"
   ]
  },
  {
   "cell_type": "code",
   "execution_count": 5,
   "metadata": {},
   "outputs": [
    {
     "data": {
      "application/vnd.jupyter.widget-view+json": {
       "model_id": "12dbf924dbd041978b7f776ab851ae35",
       "version_major": 2,
       "version_minor": 0
      },
      "text/plain": [
       "VBox(children=(Label(value='OpenEphys checks before pretest:', layout=Layout(min_width='600px')), Checkbox(val…"
      ]
     },
     "metadata": {},
     "output_type": "display_data"
    }
   ],
   "source": [
    "np_workflows.check_openephys_widget()"
   ]
  },
  {
   "cell_type": "markdown",
   "metadata": {},
   "source": [
    "### Pretest critical components individually\n",
    "Only proceed if all pretests pass!"
   ]
  },
  {
   "cell_type": "code",
   "execution_count": null,
   "metadata": {},
   "outputs": [],
   "source": [
    "OpenEphys.pretest()"
   ]
  },
  {
   "cell_type": "code",
   "execution_count": null,
   "metadata": {},
   "outputs": [],
   "source": [
    "VideoMVR.pretest()"
   ]
  },
  {
   "cell_type": "code",
   "execution_count": null,
   "metadata": {},
   "outputs": [],
   "source": [
    "Cam3d.pretest()"
   ]
  },
  {
   "cell_type": "code",
   "execution_count": null,
   "metadata": {},
   "outputs": [],
   "source": [
    "Sync.pretest()"
   ]
  },
  {
   "cell_type": "code",
   "execution_count": null,
   "metadata": {},
   "outputs": [],
   "source": [
    "ScriptCamstim.pretest()"
   ]
  },
  {
   "cell_type": "markdown",
   "metadata": {},
   "source": [
    "***\n",
    "## Setup and reset all services"
   ]
  },
  {
   "cell_type": "code",
   "execution_count": null,
   "metadata": {},
   "outputs": [],
   "source": [
    "ScriptCamstim.script = 'C:/ProgramData/StimulusFiles/dev/oct22_tt_stim_script.py'\n",
    "ScriptCamstim.script = 'oct22_tt_stim_script.py' #! testing from notebook directory\n",
    "ScriptCamstim.params = dict(\n",
    ")\n",
    "\n",
    "OpenEphys.folder = session_folder.name\n",
    "\n",
    "NewScaleCoordinateRecorder.log_root = session_folder\n",
    "\n",
    "for service in services:\n",
    "    if isinstance(service, Initializable):\n",
    "        service.initialize()\n",
    "    if isinstance(service, Testable):\n",
    "        service.test()"
   ]
  },
  {
   "cell_type": "markdown",
   "metadata": {},
   "source": [
    "***\n",
    "## Dip probes"
   ]
  },
  {
   "cell_type": "code",
   "execution_count": 8,
   "metadata": {},
   "outputs": [
    {
     "data": {
      "application/vnd.jupyter.widget-view+json": {
       "model_id": "637bab8504524d1e8c2e371f6c52dc80",
       "version_major": 2,
       "version_minor": 0
      },
      "text/plain": [
       "VBox(children=(Dropdown(options=('DiI', 'DiO'), value='DiI'), Button(description='Save', style=ButtonStyle()))…"
      ]
     },
     "metadata": {},
     "output_type": "display_data"
    }
   ],
   "source": [
    "np_workflows.dye_widget(session_folder)"
   ]
  },
  {
   "cell_type": "code",
   "execution_count": null,
   "metadata": {},
   "outputs": [],
   "source": [
    "np_workflows.photodoc_widget('pre_experiment_surface_image')"
   ]
  },
  {
   "cell_type": "markdown",
   "metadata": {},
   "source": [
    "***\n",
    "***\n",
    "# **With mouse on stage**"
   ]
  },
  {
   "cell_type": "code",
   "execution_count": null,
   "metadata": {},
   "outputs": [
    {
     "ename": "NameError",
     "evalue": "name 'np_workflows' is not defined",
     "output_type": "error",
     "traceback": [
      "\u001b[1;31m---------------------------------------------------------------------------\u001b[0m\n",
      "\u001b[1;31mNameError\u001b[0m                                 Traceback (most recent call last)\n",
      "Cell \u001b[1;32mIn[1], line 1\u001b[0m\n",
      "\u001b[1;32m----> 1\u001b[0m \u001b[43mnp_workflows\u001b[49m\u001b[38;5;241m.\u001b[39mcheck_mouse_widget()\n",
      "\n",
      "\u001b[1;31mNameError\u001b[0m: name 'np_workflows' is not defined"
     ]
    }
   ],
   "source": [
    "np_workflows.check_mouse_widget()"
   ]
  },
  {
   "cell_type": "markdown",
   "metadata": {},
   "source": [
    "***\n",
    "## Lower cartridge"
   ]
  },
  {
   "cell_type": "code",
   "execution_count": null,
   "metadata": {},
   "outputs": [],
   "source": [
    "np_workflows.photodoc_widget('brain_surface_image')"
   ]
  },
  {
   "cell_type": "markdown",
   "metadata": {},
   "source": [
    "***\n",
    "## Insert probes"
   ]
  },
  {
   "cell_type": "code",
   "execution_count": null,
   "metadata": {},
   "outputs": [],
   "source": [
    "np_workflows.isi_widget(mouse.lims, colormap=False)"
   ]
  },
  {
   "cell_type": "markdown",
   "metadata": {},
   "source": [
    "***\n",
    "## Photodoc before advancing probes"
   ]
  },
  {
   "cell_type": "code",
   "execution_count": null,
   "metadata": {},
   "outputs": [],
   "source": [
    "np_workflows.photodoc_widget('pre_insertion_surface_image')"
   ]
  },
  {
   "cell_type": "markdown",
   "metadata": {},
   "source": [
    "***\n",
    "## Settle timer"
   ]
  },
  {
   "cell_type": "code",
   "execution_count": null,
   "metadata": {},
   "outputs": [],
   "source": [
    "np_workflows.print_countdown_timer(minutes=10)"
   ]
  },
  {
   "cell_type": "markdown",
   "metadata": {},
   "source": [
    "***\n",
    "## Start devices recording"
   ]
  },
  {
   "cell_type": "code",
   "execution_count": null,
   "metadata": {},
   "outputs": [],
   "source": [
    "for service in (Sync, VideoMVR, OpenEphys):\n",
    "    service.start()\n",
    "    if isinstance(service, Verifiable):\n",
    "        time.sleep(1)\n",
    "        service.verify()"
   ]
  },
  {
   "cell_type": "markdown",
   "metadata": {},
   "source": [
    "## Start experiment"
   ]
  },
  {
   "cell_type": "code",
   "execution_count": null,
   "metadata": {},
   "outputs": [],
   "source": [
    "logger.info('Starting Camstim script')\n",
    "\n",
    "ScriptCamstim.start()\n",
    "\n",
    "# time.sleep(10)\n",
    "# ScriptCamstim.verify() # needs updating to not check filesize\n",
    "\n",
    "while not ScriptCamstim.is_ready_to_start():\n",
    "    time.sleep(10)\n",
    "\n",
    "if isinstance(ScriptCamstim, Finalizable):\n",
    "    ScriptCamstim.finalize()\n",
    "\n",
    "logger.info('Camstim script complete')"
   ]
  },
  {
   "cell_type": "markdown",
   "metadata": {},
   "source": [
    "***\n",
    "## Stop recording"
   ]
  },
  {
   "cell_type": "code",
   "execution_count": null,
   "metadata": {},
   "outputs": [],
   "source": [
    "while not ScriptCamstim.is_ready_to_start():\n",
    "    time.sleep(10)\n",
    "\n",
    "for service in (_ for _ in (Sync, VideoMVR, OpenEphys) if isinstance(_, Stoppable)):\n",
    "    service.stop()\n",
    "\n",
    "for service in (_ for _ in (VideoMVR, OpenEphys, ScriptCamstim) if isinstance(_, Finalizable)): # Sync will be finalized later to avoid waiting on processing\n",
    "    service.finalize()\n",
    "\n",
    "for service in (_ for _ in (VideoMVR, OpenEphys, ScriptCamstim) if isinstance(_, Validatable)):\n",
    "    service.validate()"
   ]
  },
  {
   "cell_type": "markdown",
   "metadata": {},
   "source": [
    "***\n",
    "## Before removing probes"
   ]
  },
  {
   "cell_type": "code",
   "execution_count": null,
   "metadata": {},
   "outputs": [],
   "source": [
    "np_workflows.photodoc_widget('post_stimulus_surface_image')"
   ]
  },
  {
   "cell_type": "markdown",
   "metadata": {},
   "source": [
    "***\n",
    "## After fully retracting probes"
   ]
  },
  {
   "cell_type": "code",
   "execution_count": null,
   "metadata": {},
   "outputs": [],
   "source": [
    "np_workflows.photodoc_widget('post_experiment_surface_image')"
   ]
  },
  {
   "cell_type": "markdown",
   "metadata": {},
   "source": [
    "***\n",
    "## After raising cartridge"
   ]
  },
  {
   "cell_type": "code",
   "execution_count": null,
   "metadata": {},
   "outputs": [],
   "source": [
    "np_workflows.finishing_checks_widget()\n",
    "np_workflows.copy_files(services, session_folder)"
   ]
  }
 ],
 "metadata": {
  "kernelspec": {
   "display_name": "Python 3.11.1 ('np-workflows-bIqIfclO-py3.11')",
   "language": "python",
   "name": "python3"
  },
  "language_info": {
   "codemirror_mode": {
    "name": "ipython",
    "version": 3
   },
   "file_extension": ".py",
   "mimetype": "text/x-python",
   "name": "python",
   "nbconvert_exporter": "python",
   "pygments_lexer": "ipython3",
   "version": "3.11.1"
  },
  "toc-autonumbering": true,
  "vscode": {
   "interpreter": {
    "hash": "8fff397ebb645a552faa9b4db0fa1ff7c1d22149c49b020c3e5e3edafcc58017"
   }
  }
 },
 "nbformat": 4,
 "nbformat_minor": 4
}
