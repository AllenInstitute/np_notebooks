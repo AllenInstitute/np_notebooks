{
 "cells": [
  {
   "cell_type": "code",
   "execution_count": null,
   "metadata": {},
   "outputs": [],
   "source": [
    "%env AIBS_RIG_ID = NP.1\n",
    "# for testing"
   ]
  },
  {
   "cell_type": "code",
   "execution_count": null,
   "metadata": {},
   "outputs": [],
   "source": [
    "%pip install --extra-index-url https://pypi.org/simple  --upgrade --quiet np_workflows\n",
    "%load_ext autoreload\n",
    "%autoreload 2\n",
    "from __future__ import annotations\n",
    "\n",
    "import datetime\n",
    "import logging\n",
    "import os\n",
    "import pathlib\n",
    "import time\n",
    "import IPython\n",
    "import ipywidgets as widgets\n",
    "\n",
    "import np_logging\n",
    "logger = np_logging.getLogger()\n",
    "logger.setLevel(logging.INFO)\n",
    "\n",
    "import np_session\n",
    "import np_config\n",
    "import np_workflows\n",
    "\n",
    "# from np_workflows.services import utils\n",
    "# from np_workflows.services import open_ephys as OpenEphys\n",
    "# from np_workflows.services.proxies import (\n",
    "#     Sync, VideoMVR, Cam3d, ScriptCamstim, NewScaleCoordinateRecorder, \n",
    "# )\n",
    "# from np_workflows.services.protocols import (\n",
    "#     Pretestable, Initializable, Startable, Testable, Stoppable, Finalizable, Pretestable, Verifiable, Validatable,\n",
    "#     TestFailure,\n",
    "#     )\n",
    "\n",
    "workflow_start_time = time.time() #! move to first cell"
   ]
  },
  {
   "cell_type": "code",
   "execution_count": null,
   "metadata": {},
   "outputs": [],
   "source": [
    "display(np_workflows.elapsed_time_widget())"
   ]
  },
  {
   "cell_type": "markdown",
   "metadata": {},
   "source": [
    "## Launch apps via RSC"
   ]
  },
  {
   "cell_type": "code",
   "execution_count": null,
   "metadata": {},
   "outputs": [],
   "source": [
    "npxc.start_rsc_apps()"
   ]
  },
  {
   "cell_type": "code",
   "execution_count": null,
   "metadata": {},
   "outputs": [],
   "source": [
    "display(user_widget :=  widgets.Select(options=npxc.lims_user_ids, description='User ID:'))\n",
    "display(mouse_widget := widgets.Text(value='366122', description='Mouse ID:'))"
   ]
  },
  {
   "cell_type": "code",
   "execution_count": null,
   "metadata": {},
   "outputs": [],
   "source": [
    "user = np_session.lims.UserInfo(user_widget.value)\n",
    "mouse = np_session.lims.MouseInfo(mouse_widget.value)\n",
    "mtrain = np_session.mtrain.MTrain(mouse)\n",
    "\n",
    "display(\n",
    "    dict(\n",
    "        user=str(user), mouse=str(mouse), project=mouse.project_name,\n",
    "        regimen=mtrain.regimen['name'], stage=mtrain.stage['name'],\n",
    "        )\n",
    "    )"
   ]
  },
  {
   "cell_type": "code",
   "execution_count": null,
   "metadata": {},
   "outputs": [],
   "source": [
    "session = np_session.Session(np_session.lims.generate_ecephys_session(mouse, user))\n",
    "display(session)\n",
    "\n",
    "session_folder = session.npexp_path\n",
    "session_folder.mkdir(parents=True, exist_ok=True)\n",
    "\n",
    "services = (Sync, VideoMVR, Cam3d, OpenEphys, NewScaleCoordinateRecorder, ScriptCamstim)"
   ]
  },
  {
   "cell_type": "markdown",
   "metadata": {},
   "source": [
    "# *Pretest*"
   ]
  },
  {
   "cell_type": "code",
   "execution_count": null,
   "metadata": {},
   "outputs": [],
   "source": [
    "OpenEphys.pretest()"
   ]
  },
  {
   "cell_type": "code",
   "execution_count": null,
   "metadata": {},
   "outputs": [],
   "source": [
    "Cam3d.pretest()"
   ]
  },
  {
   "cell_type": "code",
   "execution_count": null,
   "metadata": {},
   "outputs": [],
   "source": [
    "VideoMVR.pretest()"
   ]
  },
  {
   "cell_type": "code",
   "execution_count": null,
   "metadata": {},
   "outputs": [],
   "source": [
    "NewScaleCoordinateRecorder.pretest()"
   ]
  },
  {
   "cell_type": "code",
   "execution_count": null,
   "metadata": {},
   "outputs": [],
   "source": [
    "Sync.pretest()"
   ]
  },
  {
   "cell_type": "code",
   "execution_count": null,
   "metadata": {},
   "outputs": [],
   "source": [
    "ScriptCamstim.pretest() #! needs biscript_pretest_v2 on np3"
   ]
  },
  {
   "cell_type": "markdown",
   "metadata": {},
   "source": [
    "# *Experiment*"
   ]
  },
  {
   "cell_type": "markdown",
   "metadata": {},
   "source": [
    "#  **Before putting mouse on stage**\n",
    "\n",
    "**Open Ephys**\n",
    "* Record Nodes set to A:/B: (or E:/G: on NP.3)\n",
    "* Disk space on each Record Node (single long vertical bar)\n",
    "* 50/50 channels on each Record Node (shorter vertical bars) #!\n",
    "* Tip-reference on all probes\n",
    "* Barcodes displaying\n",
    "\n",
    "**Stage**\n",
    "* Probes fully retracted, cartridge raised\n",
    "* Water lines flushed"
   ]
  },
  {
   "cell_type": "code",
   "execution_count": null,
   "metadata": {},
   "outputs": [],
   "source": [
    "ScriptCamstim.script = 'C:/ProgramData/StimulusFiles/dev/oct22_tt_stim_script.py'\n",
    "\n",
    "ScriptCamstim.params = dict(\n",
    ")\n",
    "\n",
    "OpenEphys.folder = session_folder.name\n",
    "\n",
    "NewScaleCoordinateRecorder.log_root = session_folder"
   ]
  },
  {
   "cell_type": "markdown",
   "metadata": {},
   "source": [
    "## **Initialize & test services**"
   ]
  },
  {
   "cell_type": "code",
   "execution_count": null,
   "metadata": {},
   "outputs": [],
   "source": [
    "for service in services:\n",
    "    if isinstance(service, Initializable):\n",
    "        service.initialize()\n",
    "    if isinstance(service, Testable):\n",
    "        service.test()"
   ]
  },
  {
   "cell_type": "markdown",
   "metadata": {},
   "source": [
    "## **Run sound test**"
   ]
  },
  {
   "cell_type": "code",
   "execution_count": null,
   "metadata": {},
   "outputs": [],
   "source": [
    "ScriptCamstim.params = sound_test_params\n",
    "ScriptCamstim.start()\n",
    "\n",
    "while not ScriptCamstim.is_ready_to_start():\n",
    "    time.sleep(1)\n",
    "\n",
    "# re-initialize in case sound test produces pkl files that we don't want:\n",
    "ScriptCamstim.initialize()"
   ]
  },
  {
   "cell_type": "markdown",
   "metadata": {},
   "source": [
    "# **Dip probes**"
   ]
  },
  {
   "cell_type": "markdown",
   "metadata": {},
   "source": [
    "## **Photodoc of probes in dye**"
   ]
  },
  {
   "cell_type": "code",
   "execution_count": null,
   "metadata": {},
   "outputs": [],
   "source": [
    "def photodoc(label: str | None) -> pathlib.Path:\n",
    "    ImageMVR.label = label\n",
    "    ImageMVR.start()\n",
    "    ImageMVR.finalize()\n",
    "    NewScaleCoordinateRecorder.start()\n",
    "    return ImageMVR.data_files[-1]\n",
    "\n",
    "IPython.display.Image(photodoc('pre_experiment_surface_image'))"
   ]
  },
  {
   "cell_type": "markdown",
   "metadata": {},
   "source": [
    "# **Load mouse onto stage**\n",
    "\n",
    "Before lowering cartridge, check:\n",
    "* Stabilization screw\n",
    "* quickcast, agarose/silicon oil\n",
    "* Tail cone down\n",
    "* Continuity check\n"
   ]
  },
  {
   "cell_type": "markdown",
   "metadata": {},
   "source": [
    "# **Lower cartridge**"
   ]
  },
  {
   "cell_type": "markdown",
   "metadata": {},
   "source": [
    "## **Photodoc of brain surface**\n",
    "\n",
    "Turn on light and focus on brain surface"
   ]
  },
  {
   "cell_type": "code",
   "execution_count": null,
   "metadata": {},
   "outputs": [],
   "source": [
    " IPython.display.Image(photodoc('brain_surface_image'))"
   ]
  },
  {
   "cell_type": "markdown",
   "metadata": {},
   "source": [
    "# **Insert probes**"
   ]
  },
  {
   "cell_type": "markdown",
   "metadata": {},
   "source": [
    "## **Photodoc before advancing probes**\n",
    "\n",
    "Turn on light and focus on brain surface"
   ]
  },
  {
   "cell_type": "code",
   "execution_count": null,
   "metadata": {},
   "outputs": [],
   "source": [
    "IPython.display.Image(photodoc('pre_insertion_surface_image'))"
   ]
  },
  {
   "cell_type": "markdown",
   "metadata": {},
   "source": [
    "## **Record probe locations and notes**"
   ]
  },
  {
   "cell_type": "code",
   "execution_count": null,
   "metadata": {},
   "outputs": [],
   "source": [
    "from np_probe_targets.implant_drawing import ProbeInsertionsTS5, ProbeTargetInsertionRecordWidget\n",
    "ProbeInsertionsTS5.save_dir = session_folder\n",
    "targets = ProbeInsertionsTS5([None] * 6)\n",
    "IPython.display.display(ProbeTargetInsertionRecordWidget(targets))"
   ]
  },
  {
   "cell_type": "markdown",
   "metadata": {},
   "source": [
    "## **Photodoc after probes reach target depth**\n",
    "\n",
    "Turn on light and focus on brain surface"
   ]
  },
  {
   "cell_type": "code",
   "execution_count": null,
   "metadata": {},
   "outputs": [],
   "source": [
    "IPython.display.Image(photodoc('post_insertion_surface_image'))"
   ]
  },
  {
   "cell_type": "markdown",
   "metadata": {},
   "source": [
    "## **Start settle timer**"
   ]
  },
  {
   "cell_type": "code",
   "execution_count": null,
   "metadata": {},
   "outputs": [],
   "source": [
    "wait_sec = 10 * 60\n",
    "\n",
    "time_0 = time.time()\n",
    "time_remaining = lambda: datetime.timedelta(seconds = wait_sec - (time.time() - time_0))\n",
    "while time_remaining().total_seconds() > 0:\n",
    "    print(f'{time_remaining()}', end='\\r', flush=True)\n",
    "    time.sleep(.1)"
   ]
  },
  {
   "cell_type": "markdown",
   "metadata": {},
   "source": [
    "# **Start recording**"
   ]
  },
  {
   "cell_type": "code",
   "execution_count": null,
   "metadata": {},
   "outputs": [],
   "source": [
    "for service in (Sync, VideoMVR, OpenEphys):\n",
    "    service.start()\n",
    "    if isinstance(service, Verifiable):\n",
    "        time.sleep(1)\n",
    "        service.verify()"
   ]
  },
  {
   "cell_type": "markdown",
   "metadata": {},
   "source": [
    "# **Start mapping**"
   ]
  },
  {
   "cell_type": "code",
   "execution_count": null,
   "metadata": {},
   "outputs": [],
   "source": [
    "ScriptCamstim.params = mapping_params \n",
    "\n",
    "logger.info('Starting mapping')\n",
    "\n",
    "ScriptCamstim.start()\n",
    "\n",
    "# time.sleep(10)\n",
    "# ScriptCamstim.verify() # needs updating to not check filesize\n",
    "\n",
    "while not ScriptCamstim.is_ready_to_start():\n",
    "    time.sleep(10)\n",
    "\n",
    "if isinstance(ScriptCamstim, Finalizable):\n",
    "    ScriptCamstim.finalize()\n",
    "\n",
    "logger.info('Mapping complete')"
   ]
  },
  {
   "cell_type": "markdown",
   "metadata": {},
   "source": [
    "Give mousey a reward to test water delivery\n",
    "\n",
    "# **Start task**"
   ]
  },
  {
   "cell_type": "code",
   "execution_count": null,
   "metadata": {},
   "outputs": [],
   "source": [
    "ScriptCamstim.initialize()\n",
    "ScriptCamstim.test()"
   ]
  },
  {
   "cell_type": "code",
   "execution_count": null,
   "metadata": {},
   "outputs": [],
   "source": [
    "ScriptCamstim.script = 'C:/ProgramData/StimulusFiles/dev/oct22_tt_stim_script.py'\n",
    "\n",
    "ScriptCamstim.params = dict(\n",
    ")\n",
    "\n",
    "logger.info('Starting script')\n",
    "\n",
    "ScriptCamstim.start()\n",
    "\n",
    "while not ScriptCamstim.is_ready_to_start():\n",
    "    time.sleep(10)\n",
    "\n",
    "if isinstance(ScriptCamstim, Finalizable):\n",
    "    ScriptCamstim.finalize()"
   ]
  },
  {
   "cell_type": "markdown",
   "metadata": {},
   "source": [
    "## **Stop recording**"
   ]
  },
  {
   "cell_type": "code",
   "execution_count": null,
   "metadata": {},
   "outputs": [],
   "source": [
    "while not ScriptCamstim.is_ready_to_start():\n",
    "    time.sleep(10)\n",
    "\n",
    "for service in (_ for _ in (Sync, VideoMVR, OpenEphys) if isinstance(_, Stoppable)):\n",
    "    service.stop()\n",
    "\n",
    "for service in (_ for _ in (Sync, VideoMVR, OpenEphys) if isinstance(_, Finalizable)):\n",
    "    service.finalize()\n",
    "\n",
    "for service in (_ for _ in (Sync, VideoMVR, OpenEphys) if isinstance(_, Validatable)):\n",
    "    service.validate()"
   ]
  },
  {
   "cell_type": "markdown",
   "metadata": {},
   "source": [
    "## **Photodoc post-experiment, before removing probes**\n",
    "\n",
    "Turn on light and focus on brain surface"
   ]
  },
  {
   "cell_type": "code",
   "execution_count": null,
   "metadata": {},
   "outputs": [],
   "source": [
    "IPython.display.Image(photodoc('post_stimulus_surface_image'))"
   ]
  },
  {
   "cell_type": "markdown",
   "metadata": {},
   "source": [
    "## **Fully retract probes**"
   ]
  },
  {
   "cell_type": "markdown",
   "metadata": {},
   "source": [
    "## **Final photodoc of brain surface without probes**\n",
    "\n",
    "Turn on light and focus on brain surface"
   ]
  },
  {
   "cell_type": "code",
   "execution_count": null,
   "metadata": {},
   "outputs": [],
   "source": [
    "IPython.display.Image(photodoc('post_experiment_surface_image'))"
   ]
  },
  {
   "cell_type": "markdown",
   "metadata": {},
   "source": [
    "## **Finish up**\n",
    "\n",
    "* raise cartridge\n",
    "* add quickcast\n",
    "* remove and water mouse"
   ]
  },
  {
   "cell_type": "markdown",
   "metadata": {},
   "source": [
    "## **Copy files**"
   ]
  },
  {
   "cell_type": "code",
   "execution_count": null,
   "metadata": {},
   "outputs": [],
   "source": [
    "import shutil\n",
    "import contextlib\n",
    "for service in (Sync, VideoMVR, ImageMVR, ScriptCamstim):\n",
    "    with contextlib.suppress(AttributeError):\n",
    "        for file in service.data_files:\n",
    "            print(service.data_files)\n",
    "            shutil.copy2(file, session_folder)"
   ]
  },
  {
   "cell_type": "code",
   "execution_count": null,
   "metadata": {},
   "outputs": [],
   "source": [
    "import fabric\n",
    "password = input(f'Enter password for svc_neuropix:')\n",
    "for ephys_folder in OpenEphys.data_files:\n",
    "    fabric.Connection(OpenEphys.host, 'svc_neuropix', password).run(\n",
    "        f'robocopy {ephys_folder} {session_folder} /j'\n",
    "    )"
   ]
  }
 ],
 "metadata": {
  "kernelspec": {
   "display_name": "Python 3.11.1 ('np-workflows-bIqIfclO-py3.11')",
   "language": "python",
   "name": "python3"
  },
  "language_info": {
   "codemirror_mode": {
    "name": "ipython",
    "version": 3
   },
   "file_extension": ".py",
   "mimetype": "text/x-python",
   "name": "python",
   "nbconvert_exporter": "python",
   "pygments_lexer": "ipython3",
   "version": "3.11.1"
  },
  "toc-autonumbering": true,
  "vscode": {
   "interpreter": {
    "hash": "8fff397ebb645a552faa9b4db0fa1ff7c1d22149c49b020c3e5e3edafcc58017"
   }
  }
 },
 "nbformat": 4,
 "nbformat_minor": 4
}
