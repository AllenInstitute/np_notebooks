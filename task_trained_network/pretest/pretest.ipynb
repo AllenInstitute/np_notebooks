{
 "cells": [
  {
   "cell_type": "markdown",
   "metadata": {},
   "source": [
    "# Pretest can only be run from a rig\n",
    "Or with environment variable set: `%env AIBS_RIG_ID = NP.x`"
   ]
  },
  {
   "cell_type": "code",
   "execution_count": 1,
   "metadata": {},
   "outputs": [
    {
     "name": "stdout",
     "output_type": "stream",
     "text": [
      "env: AIBS_RIG_ID=NP.0\n"
     ]
    }
   ],
   "source": [
    "%env AIBS_RIG_ID=NP.0"
   ]
  },
  {
   "cell_type": "code",
   "execution_count": 2,
   "metadata": {},
   "outputs": [],
   "source": [
    "import np_config\n",
    "import np_logging\n",
    "import np_services\n",
    "import np_workflows\n",
    "\n",
    "logger = np_logging.getLogger()\n",
    "\n",
    "np_services.start_rsc_apps()\n",
    "\n",
    "def pretest(service: np_services.Pretestable) -> None:\n",
    "    try:\n",
    "        service.pretest()\n",
    "    except Exception as exc:\n",
    "        np_logging.web(f'{np_config.Rig()}_pretest').warning(\"%s | Pretest failed: \", service.__name__, exc_info=exc)\n",
    "    else:\n",
    "        np_logging.web(f'{np_config.Rig()}_pretest').info(\"%s | Pretest passed\", service.__name__)\n"
   ]
  },
  {
   "cell_type": "code",
   "execution_count": 6,
   "metadata": {},
   "outputs": [
    {
     "name": "stdout",
     "output_type": "stream",
     "text": [
      "18:16 | root | INFO | test\n",
      "10\n"
     ]
    }
   ],
   "source": [
    "logger.info('test')\n",
    "with np_services.debug_logging():\n",
    "    print(logger.level)\n",
    "    logger.debug('test')"
   ]
  },
  {
   "cell_type": "markdown",
   "metadata": {},
   "source": [
    "***\n",
    "## Checks before starting"
   ]
  },
  {
   "cell_type": "code",
   "execution_count": 15,
   "metadata": {
    "tags": []
   },
   "outputs": [
    {
     "data": {
      "application/vnd.jupyter.widget-view+json": {
       "model_id": "7c3184d4f0904ecfa62e3886edc27889",
       "version_major": 2,
       "version_minor": 0
      },
      "text/plain": [
       "VBox(children=(Label(value='OpenEphys checks before pretest:', layout=Layout(min_width='600px')), Checkbox(val…"
      ]
     },
     "metadata": {},
     "output_type": "display_data"
    }
   ],
   "source": [
    "np_workflows.check_openephys_widget()"
   ]
  },
  {
   "cell_type": "markdown",
   "metadata": {},
   "source": [
    "***\n",
    "## Pretest components individually"
   ]
  },
  {
   "cell_type": "code",
   "execution_count": 16,
   "metadata": {
    "tags": []
   },
   "outputs": [
    {
     "name": "stdout",
     "output_type": "stream",
     "text": [
      "18:12 | np_services.utils | INFO | mousedirector is running on W10DTSM112722\n",
      "18:12 | np_services.proxies | INFO | MouseDirector initialized: ready for use\n",
      "18:12 | np_services.proxies | INFO | MouseDirector | Pretest passed\n",
      "18:12 | web | INFO | ABCMeta | Pretest passed\n"
     ]
    }
   ],
   "source": [
    "pretest(np_services.MouseDirector)"
   ]
  },
  {
   "cell_type": "code",
   "execution_count": 17,
   "metadata": {
    "tags": []
   },
   "outputs": [
    {
     "name": "stdout",
     "output_type": "stream",
     "text": [
      "18:12 | np_services.open_ephys | INFO | OpenEphys | Starting pretest\n",
      "18:12 | np_services.open_ephys | INFO | OpenEphys | Initializing\n",
      "18:12 | np_services.utils | INFO | open-ephys is running on W10DT713842\n",
      "18:12 | np_services.open_ephys | INFO | OpenEphys | Testing\n",
      "18:12 | np_services.open_ephys | INFO | OpenEphys free disk space on \\\\W10DT713842\\A: 1644.0 GB\n",
      "18:12 | np_services.open_ephys | INFO | OpenEphys free disk space on \\\\W10DT713842\\B: 1527.7 GB\n",
      "18:12 | np_services.open_ephys | INFO | OpenEphys | Starting recording\n",
      "18:12 | np_services.open_ephys | INFO | OpenEphys | Verifying\n",
      "18:12 | np_services.open_ephys | INFO | OpenEphys | Verified files are increasing in size for all Record Nodes\n",
      "18:12 | np_services.open_ephys | INFO | OpenEphys | Stopping recording\n",
      "18:12 | np_services.open_ephys | INFO | OpenEphys | Finalizing\n",
      "18:12 | np_services.open_ephys | INFO | OpenEphys | Starting recording\n",
      "18:12 | np_services.open_ephys | INFO | OpenEphys | Stopping recording\n",
      "18:12 | np_services.open_ephys | WARNING | OpenEphys | validate() not implemented\n",
      "18:12 | np_services.open_ephys | INFO | OpenEphys | Pretest passed\n",
      "18:12 | web | INFO | module | Pretest passed\n"
     ]
    }
   ],
   "source": [
    "pretest(np_services.OpenEphys)"
   ]
  },
  {
   "cell_type": "code",
   "execution_count": 18,
   "metadata": {
    "tags": []
   },
   "outputs": [
    {
     "name": "stdout",
     "output_type": "stream",
     "text": [
      "18:12 | np_services.proxies | INFO | VideoMVR initialized: ready for use\n",
      "18:13 | np_services.proxies | ERROR | Could not get camera status from W10DTSM112722\n",
      "18:13 | np_services.proxies | WARNING | VideoMVR.validate() not implemented\n",
      "18:13 | np_services.proxies | INFO | VideoMVR pretest complete\n",
      "18:13 | web | INFO | ABCMeta | Pretest passed\n"
     ]
    }
   ],
   "source": [
    "pretest(np_services.VideoMVR)"
   ]
  },
  {
   "cell_type": "code",
   "execution_count": 19,
   "metadata": {
    "tags": []
   },
   "outputs": [
    {
     "name": "stdout",
     "output_type": "stream",
     "text": [
      "18:13 | np_services.utils | INFO | camviewer3d is running on W10DTSM112722\n",
      "18:13 | np_services.proxies | INFO | Cam3d initialized: ready for use\n",
      "18:15 | np_services.proxies | INFO | Cam3d | Pretest passed\n",
      "18:15 | web | INFO | ABCMeta | Pretest passed\n"
     ]
    }
   ],
   "source": [
    "if np_config.Rig().idx == 0:\n",
    "    pretest(np_services.Cam3d)\n",
    "else:\n",
    "    pretest(np_services.ImageMVR)"
   ]
  },
  {
   "cell_type": "code",
   "execution_count": 3,
   "metadata": {
    "tags": []
   },
   "outputs": [
    {
     "name": "stdout",
     "output_type": "stream",
     "text": [
      "18:28 | np_services.utils | INFO | sync_device is running on W10DTSM112719\n",
      "18:28 | np_services.proxies | INFO | Sync initialized: ready for use\n",
      "18:28 | np_services.proxies | INFO | Sync pretest complete\n",
      "18:28 | web | INFO | Sync | Pretest passed\n"
     ]
    }
   ],
   "source": [
    "pretest(np_services.Sync)"
   ]
  },
  {
   "cell_type": "code",
   "execution_count": 5,
   "metadata": {
    "tags": []
   },
   "outputs": [
    {
     "name": "stdout",
     "output_type": "stream",
     "text": [
      "18:27 | np_services.proxies | INFO | NewScaleCoordinateRecorder test passed\n",
      "18:27 | web | INFO | NewScaleCoordinateRecorder | Pretest passed\n"
     ]
    }
   ],
   "source": [
    "pretest(np_services.NewScaleCoordinateRecorder)"
   ]
  },
  {
   "cell_type": "code",
   "execution_count": 22,
   "metadata": {
    "tags": []
   },
   "outputs": [
    {
     "name": "stdout",
     "output_type": "stream",
     "text": [
      "18:15 | np_services.proxies | INFO | ScriptCamstim | Pretest: running C:/ProgramData/StimulusFiles/dev/bi_script_pretest_v2.py with MTrain stage params for mouse 599657\n",
      "18:15 | np_services.utils | INFO | camstim_agent is running on W10DT713938\n",
      "18:15 | np_services.utils | INFO | phidget_server is running on W10DT713938\n",
      "18:15 | np_services.proxies | ERROR | Error accessing ScriptCamstim data path: \\\\W10DT713938\\c$\\ProgramData\\AIBS_MPE\\camstim\\data\n",
      "Traceback (most recent call last):\n",
      "  File \"c:\\Users\\ben.hardcastle\\AppData\\Local\\pypoetry\\Cache\\virtualenvs\\np-workflows-bIqIfclO-py3.11\\Lib\\site-packages\\np_services\\proxies.py\", line 523, in ensure_config\n",
      "    _ = root.exists()\n",
      "        ^^^^^^^^^^^^^\n",
      "  File \"C:\\Users\\ben.hardcastle\\AppData\\Local\\Programs\\Python\\Python311\\Lib\\pathlib.py\", line 1235, in exists\n",
      "    self.stat()\n",
      "  File \"C:\\Users\\ben.hardcastle\\AppData\\Local\\Programs\\Python\\Python311\\Lib\\pathlib.py\", line 1013, in stat\n",
      "    return os.stat(self, follow_symlinks=follow_symlinks)\n",
      "           ^^^^^^^^^^^^^^^^^^^^^^^^^^^^^^^^^^^^^^^^^^^^^^\n",
      "PermissionError: [WinError 5] Access is denied: '\\\\\\\\W10DT713938\\\\c$\\\\ProgramData\\\\AIBS_MPE\\\\camstim\\\\data'\n",
      "18:15 | web | WARNING | ABCMeta | Pretest failed: \n",
      "Traceback (most recent call last):\n",
      "  File \"c:\\Users\\ben.hardcastle\\AppData\\Local\\pypoetry\\Cache\\virtualenvs\\np-workflows-bIqIfclO-py3.11\\Lib\\site-packages\\np_services\\proxies.py\", line 523, in ensure_config\n",
      "    _ = root.exists()\n",
      "        ^^^^^^^^^^^^^\n",
      "  File \"C:\\Users\\ben.hardcastle\\AppData\\Local\\Programs\\Python\\Python311\\Lib\\pathlib.py\", line 1235, in exists\n",
      "    self.stat()\n",
      "  File \"C:\\Users\\ben.hardcastle\\AppData\\Local\\Programs\\Python\\Python311\\Lib\\pathlib.py\", line 1013, in stat\n",
      "    return os.stat(self, follow_symlinks=follow_symlinks)\n",
      "           ^^^^^^^^^^^^^^^^^^^^^^^^^^^^^^^^^^^^^^^^^^^^^^\n",
      "PermissionError: [WinError 5] Access is denied: '\\\\\\\\W10DT713938\\\\c$\\\\ProgramData\\\\AIBS_MPE\\\\camstim\\\\data'\n",
      "\n",
      "The above exception was the direct cause of the following exception:\n",
      "\n",
      "Traceback (most recent call last):\n",
      "  File \"C:\\Users\\ben.hardcastle\\AppData\\Local\\Temp\\ipykernel_49988\\3097838720.py\", line 12, in pretest\n",
      "    service.pretest()\n",
      "  File \"c:\\Users\\ben.hardcastle\\AppData\\Local\\pypoetry\\Cache\\virtualenvs\\np-workflows-bIqIfclO-py3.11\\Lib\\site-packages\\np_services\\proxies.py\", line 572, in pretest\n",
      "    cls.initialize()\n",
      "  File \"c:\\Users\\ben.hardcastle\\AppData\\Local\\pypoetry\\Cache\\virtualenvs\\np-workflows-bIqIfclO-py3.11\\Lib\\site-packages\\np_services\\proxies.py\", line 126, in initialize\n",
      "    cls.proxy = cls.get_proxy()\n",
      "                ^^^^^^^^^^^^^^^\n",
      "  File \"c:\\Users\\ben.hardcastle\\AppData\\Local\\pypoetry\\Cache\\virtualenvs\\np-workflows-bIqIfclO-py3.11\\Lib\\site-packages\\np_services\\proxies.py\", line 163, in get_proxy\n",
      "    cls.ensure_config()\n",
      "  File \"c:\\Users\\ben.hardcastle\\AppData\\Local\\pypoetry\\Cache\\virtualenvs\\np-workflows-bIqIfclO-py3.11\\Lib\\site-packages\\np_services\\proxies.py\", line 529, in ensure_config\n",
      "    raise FileNotFoundError(\n",
      "FileNotFoundError: ScriptCamstim data path is not accessible: \\\\W10DT713938\\c$\\ProgramData\\AIBS_MPE\\camstim\\data\n"
     ]
    }
   ],
   "source": [
    "pretest(np_services.ScriptCamstim)"
   ]
  }
 ],
 "metadata": {
  "kernelspec": {
   "display_name": "Python 3.11.1 ('np-workflows-bIqIfclO-py3.11')",
   "language": "python",
   "name": "python3"
  },
  "language_info": {
   "codemirror_mode": {
    "name": "ipython",
    "version": 3
   },
   "file_extension": ".py",
   "mimetype": "text/x-python",
   "name": "python",
   "nbconvert_exporter": "python",
   "pygments_lexer": "ipython3",
   "version": "3.11.1"
  },
  "orig_nbformat": 4,
  "vscode": {
   "interpreter": {
    "hash": "8fff397ebb645a552faa9b4db0fa1ff7c1d22149c49b020c3e5e3edafcc58017"
   }
  }
 },
 "nbformat": 4,
 "nbformat_minor": 2
}
